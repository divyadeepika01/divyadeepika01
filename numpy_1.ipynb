{
 "cells": [
  {
   "cell_type": "markdown",
   "id": "6ce0a6e3",
   "metadata": {},
   "source": [
    "# ---> NumPy\n",
    "\n",
    "   NumPy is a Linear Algebra Library in Python and it is the holy grail and the main building block of Data Science using Python. Almost all the libraries in the PyData Ecosystem rely on NumPy as one of their main building blocks.\n",
    "\n",
    "It is bound to several C libraries which makes NumPy one of the fastest libraries in Python.\n",
    "\n"
   ]
  },
  {
   "cell_type": "code",
   "execution_count": 2,
   "id": "ac10ce5c",
   "metadata": {},
   "outputs": [],
   "source": [
    "import numpy as np"
   ]
  },
  {
   "cell_type": "markdown",
   "id": "641b148e",
   "metadata": {},
   "source": [
    "# NumPy Arrays :-\n",
    "\n",
    "Numpy arrays essentially of two types: vectors and matrices. Vectors are strictly 1-D arrays and matrices are 2-D (Note: A matrix can still have only one row or one column).\n",
    "\n",
    "For 3-D or higher dimensional arrays, the term tensor is also commonly used.\n",
    "The elements are all of the same type, referred to as the array dtype.\n",
    "    \n",
    "Arrays are the homogeneous collection of elements.\n",
    "By homogeneous we means the elements of the same datatype."
   ]
  },
  {
   "cell_type": "markdown",
   "id": "70c03825",
   "metadata": {},
   "source": [
    "###  1-D Array :-"
   ]
  },
  {
   "cell_type": "code",
   "execution_count": 2,
   "id": "a1bc109d",
   "metadata": {},
   "outputs": [
    {
     "data": {
      "text/plain": [
       "array([1, 2, 3, 4, 5, 6])"
      ]
     },
     "execution_count": 2,
     "metadata": {},
     "output_type": "execute_result"
    }
   ],
   "source": [
    "l1=[1,2,3,4,5,6]\n",
    "a=np.array(l1)\n",
    "a"
   ]
  },
  {
   "cell_type": "code",
   "execution_count": 3,
   "id": "8f1fcc7e",
   "metadata": {},
   "outputs": [
    {
     "name": "stdout",
     "output_type": "stream",
     "text": [
      "The shape of the array 'a' : (6,)\n"
     ]
    }
   ],
   "source": [
    "print(\"The shape of the array 'a' :\",a.shape)"
   ]
  },
  {
   "cell_type": "code",
   "execution_count": 4,
   "id": "244c1f7f",
   "metadata": {},
   "outputs": [
    {
     "name": "stdout",
     "output_type": "stream",
     "text": [
      "The dimension of the array'a' : 1\n"
     ]
    }
   ],
   "source": [
    "print(\"The dimension of the array'a' :\",a.ndim)"
   ]
  },
  {
   "cell_type": "code",
   "execution_count": 5,
   "id": "fae12e60",
   "metadata": {},
   "outputs": [
    {
     "name": "stdout",
     "output_type": "stream",
     "text": [
      "The type of the array: <class 'numpy.ndarray'>\n"
     ]
    }
   ],
   "source": [
    "print(\"The type of the array:\",type(a))"
   ]
  },
  {
   "cell_type": "code",
   "execution_count": 6,
   "id": "373d548b",
   "metadata": {},
   "outputs": [
    {
     "name": "stdout",
     "output_type": "stream",
     "text": [
      "The type of the elements : int32\n"
     ]
    }
   ],
   "source": [
    "print(\"The type of the elements :\",a.dtype)"
   ]
  },
  {
   "cell_type": "markdown",
   "id": "e7ee8fda",
   "metadata": {},
   "source": [
    "### 2-D Array :-"
   ]
  },
  {
   "cell_type": "code",
   "execution_count": 7,
   "id": "b9bc6151",
   "metadata": {},
   "outputs": [
    {
     "data": {
      "text/plain": [
       "[[1, 2, 3], [4, 5, 6], [7, 8, 9]]"
      ]
     },
     "execution_count": 7,
     "metadata": {},
     "output_type": "execute_result"
    }
   ],
   "source": [
    "#  numpy array in the form of matrix -->\n",
    "\n",
    "my_matrix=[[1,2,3],[4,5,6],[7,8,9]]\n",
    "my_matrix"
   ]
  },
  {
   "cell_type": "code",
   "execution_count": 8,
   "id": "925e1910",
   "metadata": {},
   "outputs": [],
   "source": [
    "b=np.array(my_matrix)"
   ]
  },
  {
   "cell_type": "code",
   "execution_count": 9,
   "id": "3fc88358",
   "metadata": {},
   "outputs": [
    {
     "data": {
      "text/plain": [
       "array([[1, 2, 3],\n",
       "       [4, 5, 6],\n",
       "       [7, 8, 9]])"
      ]
     },
     "execution_count": 9,
     "metadata": {},
     "output_type": "execute_result"
    }
   ],
   "source": [
    "b"
   ]
  },
  {
   "cell_type": "markdown",
   "id": "4ad9aa3f",
   "metadata": {},
   "source": [
    "### Array summary :- \n",
    "*check the brackets over the array to check the dimension of the array:-\n",
    "1. if the brackets are two then it's a 2-D array\n",
    "2. if the brackets are three then it's a 3-D rray"
   ]
  },
  {
   "cell_type": "code",
   "execution_count": 10,
   "id": "5fcb32f2",
   "metadata": {},
   "outputs": [
    {
     "name": "stdout",
     "output_type": "stream",
     "text": [
      "The dimension of array 2\n"
     ]
    }
   ],
   "source": [
    "print(\"The dimension of array\",b.ndim)"
   ]
  },
  {
   "cell_type": "code",
   "execution_count": 11,
   "id": "36e45a68",
   "metadata": {},
   "outputs": [
    {
     "name": "stdout",
     "output_type": "stream",
     "text": [
      "The size of the array: 9\n"
     ]
    }
   ],
   "source": [
    "# Number of elements in the array ->\n",
    "#  size - overall elements in the array , it doesn't count the elements dimension wise of bracket wise.\n",
    "\n",
    "print(\"The size of the array:\",b.size)"
   ]
  },
  {
   "cell_type": "markdown",
   "id": "b0bd8e75",
   "metadata": {},
   "source": [
    "###  ---> dtype will tell us the type of the elements present in the python object :-"
   ]
  },
  {
   "cell_type": "code",
   "execution_count": 12,
   "id": "ae6a07c9",
   "metadata": {},
   "outputs": [
    {
     "name": "stdout",
     "output_type": "stream",
     "text": [
      "The datatype of elements present in the array: int32\n"
     ]
    }
   ],
   "source": [
    "print('The datatype of elements present in the array:',b.dtype)"
   ]
  },
  {
   "cell_type": "markdown",
   "id": "262f62bc",
   "metadata": {},
   "source": [
    "###  ---> Type will tell us the type of python object like array below :-"
   ]
  },
  {
   "cell_type": "code",
   "execution_count": 13,
   "id": "124b980e",
   "metadata": {},
   "outputs": [
    {
     "name": "stdout",
     "output_type": "stream",
     "text": [
      "The datatype of the array: <class 'numpy.ndarray'>\n"
     ]
    }
   ],
   "source": [
    "print(\"The datatype of the array:\",type(b))"
   ]
  },
  {
   "cell_type": "code",
   "execution_count": 14,
   "id": "2942a2fc",
   "metadata": {},
   "outputs": [
    {
     "name": "stdout",
     "output_type": "stream",
     "text": [
      "The shape of the array 'b' is : (3, 3)\n"
     ]
    }
   ],
   "source": [
    "print(\"The shape of the array 'b' is :\",b.shape)"
   ]
  },
  {
   "cell_type": "markdown",
   "id": "56cb0cc4",
   "metadata": {},
   "source": [
    "### 3-D Array :-"
   ]
  },
  {
   "cell_type": "code",
   "execution_count": 15,
   "id": "fb57ca32",
   "metadata": {},
   "outputs": [],
   "source": [
    "l2=[[[1,2,3],[4,5,6],[7,8,9]]]"
   ]
  },
  {
   "cell_type": "code",
   "execution_count": 16,
   "id": "730928a4",
   "metadata": {},
   "outputs": [],
   "source": [
    "c=np.array(l2)"
   ]
  },
  {
   "cell_type": "code",
   "execution_count": 17,
   "id": "f49ac76d",
   "metadata": {},
   "outputs": [
    {
     "data": {
      "text/plain": [
       "array([[[1, 2, 3],\n",
       "        [4, 5, 6],\n",
       "        [7, 8, 9]]])"
      ]
     },
     "execution_count": 17,
     "metadata": {},
     "output_type": "execute_result"
    }
   ],
   "source": [
    "c"
   ]
  },
  {
   "cell_type": "code",
   "execution_count": 18,
   "id": "0c9c93d8",
   "metadata": {},
   "outputs": [
    {
     "data": {
      "text/plain": [
       "3"
      ]
     },
     "execution_count": 18,
     "metadata": {},
     "output_type": "execute_result"
    }
   ],
   "source": [
    "c.ndim"
   ]
  },
  {
   "cell_type": "code",
   "execution_count": 19,
   "id": "eddba9d8",
   "metadata": {},
   "outputs": [
    {
     "data": {
      "text/plain": [
       "(1, 3, 3)"
      ]
     },
     "execution_count": 19,
     "metadata": {},
     "output_type": "execute_result"
    }
   ],
   "source": [
    "c.shape"
   ]
  },
  {
   "cell_type": "code",
   "execution_count": 20,
   "id": "42a7d270",
   "metadata": {},
   "outputs": [
    {
     "data": {
      "text/plain": [
       "9"
      ]
     },
     "execution_count": 20,
     "metadata": {},
     "output_type": "execute_result"
    }
   ],
   "source": [
    "c.size"
   ]
  },
  {
   "cell_type": "markdown",
   "id": "32ec8574",
   "metadata": {},
   "source": [
    "### 4-D Array :-"
   ]
  },
  {
   "cell_type": "code",
   "execution_count": 21,
   "id": "04d7abbc",
   "metadata": {},
   "outputs": [
    {
     "data": {
      "text/plain": [
       "array([[[[1, 2, 3, 4, 5],\n",
       "         [6, 7, 8, 9, 0]]]])"
      ]
     },
     "execution_count": 21,
     "metadata": {},
     "output_type": "execute_result"
    }
   ],
   "source": [
    "l=[[[[1,2,3,4,5],[6,7,8,9,0]]]]\n",
    "d=np.array(l)\n",
    "d"
   ]
  },
  {
   "cell_type": "code",
   "execution_count": 22,
   "id": "c6f01de7",
   "metadata": {},
   "outputs": [
    {
     "data": {
      "text/plain": [
       "(1, 1, 2, 5)"
      ]
     },
     "execution_count": 22,
     "metadata": {},
     "output_type": "execute_result"
    }
   ],
   "source": [
    "d.shape"
   ]
  },
  {
   "cell_type": "code",
   "execution_count": 23,
   "id": "c18df35f",
   "metadata": {},
   "outputs": [
    {
     "data": {
      "text/plain": [
       "10"
      ]
     },
     "execution_count": 23,
     "metadata": {},
     "output_type": "execute_result"
    }
   ],
   "source": [
    "d.size"
   ]
  },
  {
   "cell_type": "code",
   "execution_count": 24,
   "id": "d6483c61",
   "metadata": {},
   "outputs": [
    {
     "data": {
      "text/plain": [
       "4"
      ]
     },
     "execution_count": 24,
     "metadata": {},
     "output_type": "execute_result"
    }
   ],
   "source": [
    "d.ndim"
   ]
  },
  {
   "cell_type": "markdown",
   "id": "474175a9",
   "metadata": {},
   "source": [
    "# Built-In methods :- "
   ]
  },
  {
   "cell_type": "markdown",
   "id": "2bb8411e",
   "metadata": {},
   "source": [
    "### 1. arange()\n",
    " \n",
    " Return evenly spaced values within a given interval."
   ]
  },
  {
   "cell_type": "code",
   "execution_count": 25,
   "id": "e702e4c4",
   "metadata": {},
   "outputs": [
    {
     "data": {
      "text/plain": [
       "array([ 0,  1,  2,  3,  4,  5,  6,  7,  8,  9, 10, 11, 12, 13, 14])"
      ]
     },
     "execution_count": 25,
     "metadata": {},
     "output_type": "execute_result"
    }
   ],
   "source": [
    "np.arange(15) # end"
   ]
  },
  {
   "cell_type": "code",
   "execution_count": 26,
   "id": "6a8c688d",
   "metadata": {},
   "outputs": [
    {
     "data": {
      "text/plain": [
       "array([ 0,  1,  2,  3,  4,  5,  6,  7,  8,  9, 10, 11, 12, 13, 14])"
      ]
     },
     "execution_count": 26,
     "metadata": {},
     "output_type": "execute_result"
    }
   ],
   "source": [
    "np.arange(0,15)    # start,end"
   ]
  },
  {
   "cell_type": "code",
   "execution_count": 27,
   "id": "f34ecee8",
   "metadata": {},
   "outputs": [
    {
     "data": {
      "text/plain": [
       "array([ 0,  3,  6,  9, 12])"
      ]
     },
     "execution_count": 27,
     "metadata": {},
     "output_type": "execute_result"
    }
   ],
   "source": [
    "np.arange(0,15,3)  # start,end,step"
   ]
  },
  {
   "cell_type": "markdown",
   "id": "ec6f6d26",
   "metadata": {},
   "source": [
    "### 2. reshape function"
   ]
  },
  {
   "cell_type": "code",
   "execution_count": 28,
   "id": "377056eb",
   "metadata": {},
   "outputs": [],
   "source": [
    "r=np.arange(1,16)"
   ]
  },
  {
   "cell_type": "code",
   "execution_count": 29,
   "id": "241a7561",
   "metadata": {},
   "outputs": [
    {
     "data": {
      "text/plain": [
       "(15,)"
      ]
     },
     "execution_count": 29,
     "metadata": {},
     "output_type": "execute_result"
    }
   ],
   "source": [
    "r.shape"
   ]
  },
  {
   "cell_type": "code",
   "execution_count": 30,
   "id": "3504ce31",
   "metadata": {},
   "outputs": [
    {
     "data": {
      "text/plain": [
       "array([[ 1],\n",
       "       [ 2],\n",
       "       [ 3],\n",
       "       [ 4],\n",
       "       [ 5],\n",
       "       [ 6],\n",
       "       [ 7],\n",
       "       [ 8],\n",
       "       [ 9],\n",
       "       [10],\n",
       "       [11],\n",
       "       [12],\n",
       "       [13],\n",
       "       [14],\n",
       "       [15]])"
      ]
     },
     "execution_count": 30,
     "metadata": {},
     "output_type": "execute_result"
    }
   ],
   "source": [
    "r.reshape(15,1)"
   ]
  },
  {
   "cell_type": "code",
   "execution_count": 31,
   "id": "fe22ac88",
   "metadata": {},
   "outputs": [
    {
     "data": {
      "text/plain": [
       "array([[ 1,  2,  3,  4,  5],\n",
       "       [ 6,  7,  8,  9, 10],\n",
       "       [11, 12, 13, 14, 15]])"
      ]
     },
     "execution_count": 31,
     "metadata": {},
     "output_type": "execute_result"
    }
   ],
   "source": [
    "r.reshape(3,5)"
   ]
  },
  {
   "cell_type": "code",
   "execution_count": 32,
   "id": "eceb6350",
   "metadata": {},
   "outputs": [
    {
     "data": {
      "text/plain": [
       "array([[ 1,  2,  3],\n",
       "       [ 4,  5,  6],\n",
       "       [ 7,  8,  9],\n",
       "       [10, 11, 12],\n",
       "       [13, 14, 15]])"
      ]
     },
     "execution_count": 32,
     "metadata": {},
     "output_type": "execute_result"
    }
   ],
   "source": [
    "r.reshape(5,3)"
   ]
  },
  {
   "cell_type": "code",
   "execution_count": 33,
   "id": "94e9b002",
   "metadata": {},
   "outputs": [
    {
     "data": {
      "text/plain": [
       "array([[ 1,  2,  3],\n",
       "       [ 4,  5,  6],\n",
       "       [ 7,  8,  9],\n",
       "       [10, 11, 12],\n",
       "       [13, 14, 15]])"
      ]
     },
     "execution_count": 33,
     "metadata": {},
     "output_type": "execute_result"
    }
   ],
   "source": [
    "np.resize(r,(5,3))  # same as reshape but it takes an object as 1st parameter"
   ]
  },
  {
   "cell_type": "markdown",
   "id": "7369fa26",
   "metadata": {},
   "source": [
    "###  reshaping for the higher dimensions -->"
   ]
  },
  {
   "cell_type": "code",
   "execution_count": 34,
   "id": "23ce577e",
   "metadata": {},
   "outputs": [
    {
     "data": {
      "text/plain": [
       "array([[[ 1],\n",
       "        [ 2],\n",
       "        [ 3]],\n",
       "\n",
       "       [[ 4],\n",
       "        [ 5],\n",
       "        [ 6]],\n",
       "\n",
       "       [[ 7],\n",
       "        [ 8],\n",
       "        [ 9]],\n",
       "\n",
       "       [[10],\n",
       "        [11],\n",
       "        [12]],\n",
       "\n",
       "       [[13],\n",
       "        [14],\n",
       "        [15]]])"
      ]
     },
     "execution_count": 34,
     "metadata": {},
     "output_type": "execute_result"
    }
   ],
   "source": [
    "np.arange(1,16).reshape(5,3,1)  # 3-D "
   ]
  },
  {
   "cell_type": "code",
   "execution_count": 35,
   "id": "4193e9e7",
   "metadata": {},
   "outputs": [
    {
     "data": {
      "text/plain": [
       "array([[[[ 1]],\n",
       "\n",
       "        [[ 2]],\n",
       "\n",
       "        [[ 3]]],\n",
       "\n",
       "\n",
       "       [[[ 4]],\n",
       "\n",
       "        [[ 5]],\n",
       "\n",
       "        [[ 6]]],\n",
       "\n",
       "\n",
       "       [[[ 7]],\n",
       "\n",
       "        [[ 8]],\n",
       "\n",
       "        [[ 9]]],\n",
       "\n",
       "\n",
       "       [[[10]],\n",
       "\n",
       "        [[11]],\n",
       "\n",
       "        [[12]]],\n",
       "\n",
       "\n",
       "       [[[13]],\n",
       "\n",
       "        [[14]],\n",
       "\n",
       "        [[15]]]])"
      ]
     },
     "execution_count": 35,
     "metadata": {},
     "output_type": "execute_result"
    }
   ],
   "source": [
    "np.arange(1,16).reshape(5,3,1,1)   # 4-D"
   ]
  },
  {
   "cell_type": "markdown",
   "id": "37d1c221",
   "metadata": {},
   "source": [
    "# 3.  Zeros :-"
   ]
  },
  {
   "cell_type": "code",
   "execution_count": 36,
   "id": "b5a56484",
   "metadata": {},
   "outputs": [
    {
     "data": {
      "text/plain": [
       "array([0., 0., 0.])"
      ]
     },
     "execution_count": 36,
     "metadata": {},
     "output_type": "execute_result"
    }
   ],
   "source": [
    "np.zeros(3) # Generates array in 1-D "
   ]
  },
  {
   "cell_type": "code",
   "execution_count": 37,
   "id": "2f8ffd41",
   "metadata": {},
   "outputs": [
    {
     "data": {
      "text/plain": [
       "array([[0., 0., 0., 0., 0.],\n",
       "       [0., 0., 0., 0., 0.],\n",
       "       [0., 0., 0., 0., 0.],\n",
       "       [0., 0., 0., 0., 0.],\n",
       "       [0., 0., 0., 0., 0.]])"
      ]
     },
     "execution_count": 37,
     "metadata": {},
     "output_type": "execute_result"
    }
   ],
   "source": [
    "np.zeros((5,5))   # Generates array in 2-D with all elements 'zeros'"
   ]
  },
  {
   "cell_type": "code",
   "execution_count": 38,
   "id": "07f2273b",
   "metadata": {},
   "outputs": [
    {
     "data": {
      "text/plain": [
       "array([[[0.],\n",
       "        [0.],\n",
       "        [0.],\n",
       "        [0.],\n",
       "        [0.]],\n",
       "\n",
       "       [[0.],\n",
       "        [0.],\n",
       "        [0.],\n",
       "        [0.],\n",
       "        [0.]],\n",
       "\n",
       "       [[0.],\n",
       "        [0.],\n",
       "        [0.],\n",
       "        [0.],\n",
       "        [0.]],\n",
       "\n",
       "       [[0.],\n",
       "        [0.],\n",
       "        [0.],\n",
       "        [0.],\n",
       "        [0.]],\n",
       "\n",
       "       [[0.],\n",
       "        [0.],\n",
       "        [0.],\n",
       "        [0.],\n",
       "        [0.]]])"
      ]
     },
     "execution_count": 38,
     "metadata": {},
     "output_type": "execute_result"
    }
   ],
   "source": [
    "np.zeros((5,5,1)) # Generates array in 3-D"
   ]
  },
  {
   "cell_type": "code",
   "execution_count": 27,
   "id": "93f46cf6",
   "metadata": {},
   "outputs": [
    {
     "data": {
      "text/plain": [
       "array([0, 0, 0, 0, 0], dtype=int16)"
      ]
     },
     "execution_count": 27,
     "metadata": {},
     "output_type": "execute_result"
    }
   ],
   "source": [
    "z1=np.zeros(5,\"int16\")        \n",
    "z2=np.zeros_like(z1)\n",
    "z2     #z2 is the copy of z1"
   ]
  },
  {
   "cell_type": "code",
   "execution_count": 39,
   "id": "542c641a",
   "metadata": {},
   "outputs": [
    {
     "data": {
      "text/plain": [
       "array([[[0., 0., 0., 0., 0.],\n",
       "        [0., 0., 0., 0., 0.],\n",
       "        [0., 0., 0., 0., 0.]],\n",
       "\n",
       "       [[0., 0., 0., 0., 0.],\n",
       "        [0., 0., 0., 0., 0.],\n",
       "        [0., 0., 0., 0., 0.]],\n",
       "\n",
       "       [[0., 0., 0., 0., 0.],\n",
       "        [0., 0., 0., 0., 0.],\n",
       "        [0., 0., 0., 0., 0.]],\n",
       "\n",
       "       [[0., 0., 0., 0., 0.],\n",
       "        [0., 0., 0., 0., 0.],\n",
       "        [0., 0., 0., 0., 0.]]])"
      ]
     },
     "execution_count": 39,
     "metadata": {},
     "output_type": "execute_result"
    }
   ],
   "source": [
    "np.zeros((4,3,5))"
   ]
  },
  {
   "cell_type": "markdown",
   "id": "b0c692c0",
   "metadata": {},
   "source": [
    "# 4. Ones :-"
   ]
  },
  {
   "cell_type": "code",
   "execution_count": 40,
   "id": "f5b35ad3",
   "metadata": {},
   "outputs": [
    {
     "data": {
      "text/plain": [
       "array([1., 1., 1.])"
      ]
     },
     "execution_count": 40,
     "metadata": {},
     "output_type": "execute_result"
    }
   ],
   "source": [
    "np.ones(3)"
   ]
  },
  {
   "cell_type": "code",
   "execution_count": 41,
   "id": "1eb3da73",
   "metadata": {},
   "outputs": [
    {
     "data": {
      "text/plain": [
       "array([[1., 1., 1., 1., 1.],\n",
       "       [1., 1., 1., 1., 1.],\n",
       "       [1., 1., 1., 1., 1.],\n",
       "       [1., 1., 1., 1., 1.],\n",
       "       [1., 1., 1., 1., 1.]])"
      ]
     },
     "execution_count": 41,
     "metadata": {},
     "output_type": "execute_result"
    }
   ],
   "source": [
    "np.ones((5,5))"
   ]
  },
  {
   "cell_type": "code",
   "execution_count": 28,
   "id": "3fd4f578",
   "metadata": {},
   "outputs": [
    {
     "data": {
      "text/plain": [
       "array([1., 1., 1., 1., 1.])"
      ]
     },
     "execution_count": 28,
     "metadata": {},
     "output_type": "execute_result"
    }
   ],
   "source": [
    "one1=np.ones(5)\n",
    "ones2=np.ones_like(one1,order=\"C\")\n",
    "ones2"
   ]
  },
  {
   "cell_type": "markdown",
   "id": "4691e3e6",
   "metadata": {},
   "source": [
    "### Reading the brackets :-\n",
    "1. the outer most bracket (3-D) - takes four elements as whole\n",
    "2.  the inner bracket(2-D) - takes 3 elements\n",
    "3. the inner most bracket(1-D) - takes 5 elements "
   ]
  },
  {
   "cell_type": "code",
   "execution_count": 42,
   "id": "ea59961b",
   "metadata": {},
   "outputs": [
    {
     "data": {
      "text/plain": [
       "array([[[1., 1., 1., 1., 1.],\n",
       "        [1., 1., 1., 1., 1.],\n",
       "        [1., 1., 1., 1., 1.]],\n",
       "\n",
       "       [[1., 1., 1., 1., 1.],\n",
       "        [1., 1., 1., 1., 1.],\n",
       "        [1., 1., 1., 1., 1.]],\n",
       "\n",
       "       [[1., 1., 1., 1., 1.],\n",
       "        [1., 1., 1., 1., 1.],\n",
       "        [1., 1., 1., 1., 1.]],\n",
       "\n",
       "       [[1., 1., 1., 1., 1.],\n",
       "        [1., 1., 1., 1., 1.],\n",
       "        [1., 1., 1., 1., 1.]]])"
      ]
     },
     "execution_count": 42,
     "metadata": {},
     "output_type": "execute_result"
    }
   ],
   "source": [
    "np.ones((4,3,5))"
   ]
  },
  {
   "cell_type": "markdown",
   "id": "1ec8afd3",
   "metadata": {},
   "source": [
    "# Linspace :-  \n",
    "\n",
    "  * Equidistant numbers"
   ]
  },
  {
   "cell_type": "code",
   "execution_count": 43,
   "id": "dccfcffa",
   "metadata": {},
   "outputs": [
    {
     "data": {
      "text/plain": [
       "array([ 0.        ,  0.51020408,  1.02040816,  1.53061224,  2.04081633,\n",
       "        2.55102041,  3.06122449,  3.57142857,  4.08163265,  4.59183673,\n",
       "        5.10204082,  5.6122449 ,  6.12244898,  6.63265306,  7.14285714,\n",
       "        7.65306122,  8.16326531,  8.67346939,  9.18367347,  9.69387755,\n",
       "       10.20408163, 10.71428571, 11.2244898 , 11.73469388, 12.24489796,\n",
       "       12.75510204, 13.26530612, 13.7755102 , 14.28571429, 14.79591837,\n",
       "       15.30612245, 15.81632653, 16.32653061, 16.83673469, 17.34693878,\n",
       "       17.85714286, 18.36734694, 18.87755102, 19.3877551 , 19.89795918,\n",
       "       20.40816327, 20.91836735, 21.42857143, 21.93877551, 22.44897959,\n",
       "       22.95918367, 23.46938776, 23.97959184, 24.48979592, 25.        ])"
      ]
     },
     "execution_count": 43,
     "metadata": {},
     "output_type": "execute_result"
    }
   ],
   "source": [
    "np.linspace(0,25) # by default num=50"
   ]
  },
  {
   "cell_type": "code",
   "execution_count": 44,
   "id": "52c6646b",
   "metadata": {},
   "outputs": [
    {
     "data": {
      "text/plain": [
       "array([ 0.        ,  1.04166667,  2.08333333,  3.125     ,  4.16666667,\n",
       "        5.20833333,  6.25      ,  7.29166667,  8.33333333,  9.375     ,\n",
       "       10.41666667, 11.45833333, 12.5       , 13.54166667, 14.58333333,\n",
       "       15.625     , 16.66666667, 17.70833333, 18.75      , 19.79166667,\n",
       "       20.83333333, 21.875     , 22.91666667, 23.95833333, 25.        ])"
      ]
     },
     "execution_count": 44,
     "metadata": {},
     "output_type": "execute_result"
    }
   ],
   "source": [
    "np.linspace(0,25,num=25)   # but we can change the numbers we want "
   ]
  },
  {
   "cell_type": "markdown",
   "id": "ba921bee",
   "metadata": {},
   "source": [
    "### ---->  This is how we get the stepsize(distance) between equidistant numbers --->"
   ]
  },
  {
   "cell_type": "code",
   "execution_count": 45,
   "id": "4768d459",
   "metadata": {},
   "outputs": [
    {
     "data": {
      "text/plain": [
       "(array([  0.        ,  22.22222222,  44.44444444,  66.66666667,\n",
       "         88.88888889, 111.11111111, 133.33333333, 155.55555556,\n",
       "        177.77777778, 200.        ]),\n",
       " 22.22222222222222)"
      ]
     },
     "execution_count": 45,
     "metadata": {},
     "output_type": "execute_result"
    }
   ],
   "source": [
    "np.linspace(0,200,10,retstep=True)     "
   ]
  },
  {
   "cell_type": "code",
   "execution_count": 46,
   "id": "2a64304f",
   "metadata": {},
   "outputs": [
    {
     "data": {
      "text/plain": [
       "(array([  0.,  20.,  40.,  60.,  80., 100., 120., 140., 160., 180.]), 20.0)"
      ]
     },
     "execution_count": 46,
     "metadata": {},
     "output_type": "execute_result"
    }
   ],
   "source": [
    "np.linspace(0,200,10,retstep=True,endpoint=False)  "
   ]
  },
  {
   "cell_type": "markdown",
   "id": "a7846d46",
   "metadata": {},
   "source": [
    "# eye \n",
    " \n",
    " Creates an identity matrix"
   ]
  },
  {
   "cell_type": "code",
   "execution_count": 47,
   "id": "529c76aa",
   "metadata": {},
   "outputs": [
    {
     "data": {
      "text/plain": [
       "array([[1., 0., 0., 0., 0.],\n",
       "       [0., 1., 0., 0., 0.],\n",
       "       [0., 0., 1., 0., 0.],\n",
       "       [0., 0., 0., 1., 0.],\n",
       "       [0., 0., 0., 0., 1.]])"
      ]
     },
     "execution_count": 47,
     "metadata": {},
     "output_type": "execute_result"
    }
   ],
   "source": [
    "np.eye(5)"
   ]
  },
  {
   "cell_type": "markdown",
   "id": "1bf7c264",
   "metadata": {},
   "source": [
    "# Random \n",
    "\n",
    "     Numpy also has lots of ways to create random number arrays:\n",
    "     \n",
    " 1. random numbers--\n",
    " 2. random_integers\n",
    " 3. randint\n",
    " 4. randn    \n",
    "   \n",
    "   "
   ]
  },
  {
   "cell_type": "markdown",
   "id": "0fa5d671",
   "metadata": {},
   "source": [
    "### rand\n",
    "\n",
    " Create an array of the given shape and populate it with random samples from a uniform distribution over '''[0,1]'''."
   ]
  },
  {
   "cell_type": "code",
   "execution_count": 48,
   "id": "c38538cf",
   "metadata": {},
   "outputs": [
    {
     "data": {
      "text/plain": [
       "array([[0.30976262, 0.2132866 , 0.42018508],\n",
       "       [0.66832846, 0.89761048, 0.47712783],\n",
       "       [0.31912134, 0.60972092, 0.40451875],\n",
       "       [0.82178524, 0.61314027, 0.07073807],\n",
       "       [0.39359138, 0.23848591, 0.21389444]])"
      ]
     },
     "execution_count": 48,
     "metadata": {},
     "output_type": "execute_result"
    }
   ],
   "source": [
    "np.random.rand(5,3)"
   ]
  },
  {
   "cell_type": "markdown",
   "id": "b3d84739",
   "metadata": {},
   "source": [
    "### randn\n",
    "\n",
    "  Return a sample (or samples) from the [\"standard normal\" Bell Curve(mean=o and standard deviation=1)] distribution. Unlike rand which is uniform distribution."
   ]
  },
  {
   "cell_type": "code",
   "execution_count": 49,
   "id": "d86e2eb2",
   "metadata": {},
   "outputs": [
    {
     "data": {
      "text/plain": [
       "array([-1.10148757,  0.1889705 ,  1.35801958, -1.28991726])"
      ]
     },
     "execution_count": 49,
     "metadata": {},
     "output_type": "execute_result"
    }
   ],
   "source": [
    "np.random.randn(4)"
   ]
  },
  {
   "cell_type": "code",
   "execution_count": 50,
   "id": "d83211cd",
   "metadata": {},
   "outputs": [
    {
     "data": {
      "text/plain": [
       "array([[ 0.67503194, -0.96616913,  0.00394972, -0.32833937],\n",
       "       [ 0.44590487,  1.19854325, -0.12772018, -1.30756174],\n",
       "       [ 0.22270565,  2.51469894, -0.71324879,  1.14984101],\n",
       "       [-0.01229795, -2.06074177, -0.05953376,  0.95187151]])"
      ]
     },
     "execution_count": 50,
     "metadata": {},
     "output_type": "execute_result"
    }
   ],
   "source": [
    "np.random.randn(4,4)"
   ]
  },
  {
   "cell_type": "markdown",
   "id": "6349abd1",
   "metadata": {},
   "source": [
    "### randint\n",
    "\n",
    "  Return random integers from low (inclusive) to high (exclusive)."
   ]
  },
  {
   "cell_type": "code",
   "execution_count": 51,
   "id": "a14ecb8f",
   "metadata": {},
   "outputs": [
    {
     "data": {
      "text/plain": [
       "24"
      ]
     },
     "execution_count": 51,
     "metadata": {},
     "output_type": "execute_result"
    }
   ],
   "source": [
    "np.random.randint(1,100)"
   ]
  },
  {
   "cell_type": "code",
   "execution_count": 53,
   "id": "c2205a33",
   "metadata": {},
   "outputs": [
    {
     "data": {
      "text/plain": [
       "array([53, 30, 67, 15, 18, 13, 96, 43, 54, 84])"
      ]
     },
     "execution_count": 53,
     "metadata": {},
     "output_type": "execute_result"
    }
   ],
   "source": [
    "np.random.randint(1,100,10)      # start, stop, how many numbers we have to print"
   ]
  },
  {
   "cell_type": "code",
   "execution_count": 5,
   "id": "2894bc96",
   "metadata": {},
   "outputs": [
    {
     "data": {
      "text/plain": [
       "array([10,  1,  2,  9,  1])"
      ]
     },
     "execution_count": 5,
     "metadata": {},
     "output_type": "execute_result"
    }
   ],
   "source": [
    "import warnings\n",
    "warnings.filterwarnings(\"ignore\")                #filterning the warnings\n",
    "np.random.random_integers(0,10,5)"
   ]
  },
  {
   "cell_type": "markdown",
   "id": "f58210d7",
   "metadata": {},
   "source": [
    "# Array Attributes and Methods :-"
   ]
  },
  {
   "cell_type": "code",
   "execution_count": 56,
   "id": "9a18c237",
   "metadata": {},
   "outputs": [
    {
     "name": "stdout",
     "output_type": "stream",
     "text": [
      "Array1: [ 0  1  2  3  4  5  6  7  8  9 10 11 12 13 14 15 16 17 18 19]\n",
      "\n",
      "Array2: [70 41 88  5 70 40 62 51 87 73]\n"
     ]
    }
   ],
   "source": [
    "arr1=np.arange(20)\n",
    "arr2=np.random.randint(0,100,10)\n",
    "\n",
    "print(\"Array1:\",arr1)\n",
    "print()\n",
    "print(\"Array2:\",arr2)"
   ]
  },
  {
   "cell_type": "markdown",
   "id": "4f867dc0",
   "metadata": {},
   "source": [
    "### max , min , argmax , argmin :-"
   ]
  },
  {
   "cell_type": "code",
   "execution_count": 60,
   "id": "203f8bf1",
   "metadata": {},
   "outputs": [
    {
     "name": "stdout",
     "output_type": "stream",
     "text": [
      "maximum element in arr1 : 19\n",
      "maximum element in arr2 : 88\n"
     ]
    }
   ],
   "source": [
    "print(\"Greatest element in arr1 :\",arr1.max())\n",
    "print(\"Greatest element in arr2 :\",arr2.max())"
   ]
  },
  {
   "cell_type": "code",
   "execution_count": 63,
   "id": "b70fcc9d",
   "metadata": {},
   "outputs": [
    {
     "name": "stdout",
     "output_type": "stream",
     "text": [
      "Lowest element in arr1 : 0\n",
      "Lowest element in arr2 : 5\n"
     ]
    }
   ],
   "source": [
    "print(\"Lowest element in arr1 :\",arr1.min())\n",
    "print(\"Lowest element in arr2 :\",arr2.min())"
   ]
  },
  {
   "cell_type": "code",
   "execution_count": 66,
   "id": "9b3de914",
   "metadata": {},
   "outputs": [
    {
     "data": {
      "text/plain": [
       "19"
      ]
     },
     "execution_count": 66,
     "metadata": {},
     "output_type": "execute_result"
    }
   ],
   "source": [
    "#  argmax  -->  tells the index location of greatest element.\n",
    "\n",
    "arr1.argmax()"
   ]
  },
  {
   "cell_type": "code",
   "execution_count": 67,
   "id": "37850d7e",
   "metadata": {},
   "outputs": [
    {
     "data": {
      "text/plain": [
       "2"
      ]
     },
     "execution_count": 67,
     "metadata": {},
     "output_type": "execute_result"
    }
   ],
   "source": [
    "arr2.argmax()"
   ]
  },
  {
   "cell_type": "code",
   "execution_count": 68,
   "id": "f460c139",
   "metadata": {},
   "outputs": [
    {
     "data": {
      "text/plain": [
       "3"
      ]
     },
     "execution_count": 68,
     "metadata": {},
     "output_type": "execute_result"
    }
   ],
   "source": [
    "#  argmin  --> tells the index location of the lowest element.\n",
    "\n",
    "arr2.argmin()"
   ]
  },
  {
   "cell_type": "code",
   "execution_count": 69,
   "id": "442dfe2c",
   "metadata": {},
   "outputs": [
    {
     "data": {
      "text/plain": [
       "0"
      ]
     },
     "execution_count": 69,
     "metadata": {},
     "output_type": "execute_result"
    }
   ],
   "source": [
    "arr1.argmin()"
   ]
  },
  {
   "cell_type": "markdown",
   "id": "6cbb54a0",
   "metadata": {},
   "source": [
    "# More on numpy --->"
   ]
  },
  {
   "cell_type": "markdown",
   "id": "e2aa972c",
   "metadata": {},
   "source": [
    "### Array using tuple :-"
   ]
  },
  {
   "cell_type": "code",
   "execution_count": 3,
   "id": "6d796de5",
   "metadata": {},
   "outputs": [
    {
     "data": {
      "text/plain": [
       "array([1, 2, 3, 4])"
      ]
     },
     "execution_count": 3,
     "metadata": {},
     "output_type": "execute_result"
    }
   ],
   "source": [
    "t1=(1,2,3,4)\n",
    "arr2=np.array(t1)\n",
    "arr2"
   ]
  },
  {
   "cell_type": "code",
   "execution_count": 4,
   "id": "73a847d3",
   "metadata": {},
   "outputs": [
    {
     "data": {
      "text/plain": [
       "dtype('int32')"
      ]
     },
     "execution_count": 4,
     "metadata": {},
     "output_type": "execute_result"
    }
   ],
   "source": [
    "arr2.dtype"
   ]
  },
  {
   "cell_type": "code",
   "execution_count": 6,
   "id": "6dd0c6b3",
   "metadata": {},
   "outputs": [
    {
     "data": {
      "text/plain": [
       "<seaborn.axisgrid.FacetGrid at 0x16e1a7c6f40>"
      ]
     },
     "execution_count": 6,
     "metadata": {},
     "output_type": "execute_result"
    },
    {
     "data": {
      "image/png": "[encoded data removed]",
      "text/plain": [
       "<Figure size 360x360 with 1 Axes>"
      ]
     },
     "metadata": {
      "needs_background": "light"
     },
     "output_type": "display_data"
    }
   ],
   "source": [
    "s1=np.random.randn(100)\n",
    "import seaborn as sns\n",
    "sns.displot(s1)"
   ]
  },
  {
   "cell_type": "code",
   "execution_count": 7,
   "id": "77915ce8",
   "metadata": {},
   "outputs": [
    {
     "data": {
      "text/plain": [
       "<AxesSubplot:ylabel='Density'>"
      ]
     },
     "execution_count": 7,
     "metadata": {},
     "output_type": "execute_result"
    },
    {
     "data": {
      "image/png": "[encoded data removed]",
      "text/plain": [
       "<Figure size 432x288 with 1 Axes>"
      ]
     },
     "metadata": {
      "needs_background": "light"
     },
     "output_type": "display_data"
    }
   ],
   "source": [
    "sns.distplot(s1)"
   ]
  },
  {
   "cell_type": "code",
   "execution_count": 9,
   "id": "69c307d2",
   "metadata": {},
   "outputs": [],
   "source": [
    "dim1=np.arange(10)\n",
    "dim1\n",
    "dim2=dim1.reshape(2,5)"
   ]
  },
  {
   "cell_type": "code",
   "execution_count": 10,
   "id": "15d52fdf",
   "metadata": {},
   "outputs": [
    {
     "data": {
      "text/plain": [
       "array([0, 1, 2, 3, 4, 5, 6, 7, 8, 9])"
      ]
     },
     "execution_count": 10,
     "metadata": {},
     "output_type": "execute_result"
    }
   ],
   "source": [
    "# Ravel function--- is used to convert high dimension to low dimension\n",
    "dim3=dim2.ravel()\n",
    "dim3"
   ]
  },
  {
   "cell_type": "code",
   "execution_count": 11,
   "id": "94fe6ea8",
   "metadata": {},
   "outputs": [
    {
     "data": {
      "text/plain": [
       "array([[[1, 2, 3],\n",
       "        [4, 5, 6]]])"
      ]
     },
     "execution_count": 11,
     "metadata": {},
     "output_type": "execute_result"
    }
   ],
   "source": [
    "# 3-D Array----\n",
    "l3=[[[1,2,3],[4,5,6]]]         #In the outer bracket 3-D we have only one element,then in 2-D we have 2 elements,& in \n",
    "                                #1-D we have3 elements\n",
    "dim3=np.array(l3)\n",
    "dim3"
   ]
  },
  {
   "cell_type": "code",
   "execution_count": 12,
   "id": "7165aeb6",
   "metadata": {},
   "outputs": [
    {
     "data": {
      "text/plain": [
       "array([1, 2, 3, 4, 5, 6])"
      ]
     },
     "execution_count": 12,
     "metadata": {},
     "output_type": "execute_result"
    }
   ],
   "source": [
    "dim3.ravel()"
   ]
  },
  {
   "cell_type": "code",
   "execution_count": 13,
   "id": "69b4e32d",
   "metadata": {},
   "outputs": [
    {
     "name": "stdout",
     "output_type": "stream",
     "text": [
      "[0 1 2 3 4 5 6 7 8 9]\n",
      "[0 1 2 3 4 5 6 7 8 9]\n",
      "[ 0  2  4  6  8 10 12 14 16 18] [0 0 0 0 0 0 0 0 0 0]\n",
      "[ 0  1  4  9 16 25 36 49 64 81] [nan  1.  1.  1.  1.  1.  1.  1.  1.  1.]\n"
     ]
    }
   ],
   "source": [
    "x=np.arange(10)\n",
    "y=np.arange(10)\n",
    "print(x)\n",
    "print(y)\n",
    "print(x+y,x-y)\n",
    "print(x*y,x/y)          #nan stands for not a number."
   ]
  },
  {
   "cell_type": "code",
   "execution_count": 15,
   "id": "3fb1986b",
   "metadata": {},
   "outputs": [
    {
     "data": {
      "text/plain": [
       "array([[0, 5],\n",
       "       [1, 6],\n",
       "       [2, 7],\n",
       "       [3, 8],\n",
       "       [4, 9]])"
      ]
     },
     "execution_count": 15,
     "metadata": {},
     "output_type": "execute_result"
    }
   ],
   "source": [
    "# Transpose---, .T    belongs to numpy package\n",
    "x1=np.arange(10).reshape(2,5)\n",
    "trp1=np.transpose(x1)\n",
    "trp1"
   ]
  },
  {
   "cell_type": "code",
   "execution_count": 16,
   "id": "ad0a8ab9",
   "metadata": {},
   "outputs": [
    {
     "data": {
      "text/plain": [
       "array([[0, 5],\n",
       "       [1, 6],\n",
       "       [2, 7],\n",
       "       [3, 8],\n",
       "       [4, 9]])"
      ]
     },
     "execution_count": 16,
     "metadata": {},
     "output_type": "execute_result"
    }
   ],
   "source": [
    "x1.T   "
   ]
  },
  {
   "cell_type": "code",
   "execution_count": 17,
   "id": "7f8793e6",
   "metadata": {},
   "outputs": [
    {
     "name": "stdout",
     "output_type": "stream",
     "text": [
      "[[0 1 2]\n",
      " [3 4 5]\n",
      " [6 7 8]]\n",
      "----------\n",
      "[[0 1 2]\n",
      " [3 4 5]\n",
      " [6 7 8]]\n"
     ]
    }
   ],
   "source": [
    "y1=np.arange(9).reshape(3,3)\n",
    "y2=np.arange(9).reshape(3,3)\n",
    "print(y1)\n",
    "print(\"----------\")\n",
    "print(y2)"
   ]
  },
  {
   "cell_type": "code",
   "execution_count": 18,
   "id": "d2dec0a6",
   "metadata": {},
   "outputs": [],
   "source": [
    "y3=np.vstack((y1,y2))"
   ]
  },
  {
   "cell_type": "code",
   "execution_count": 19,
   "id": "a8f4ea98",
   "metadata": {},
   "outputs": [],
   "source": [
    "y4=np.hstack((y1,y2))"
   ]
  },
  {
   "cell_type": "code",
   "execution_count": 20,
   "id": "cab919ee",
   "metadata": {},
   "outputs": [
    {
     "data": {
      "text/plain": [
       "array([[0, 1, 2],\n",
       "       [3, 4, 5],\n",
       "       [6, 7, 8],\n",
       "       [0, 1, 2],\n",
       "       [3, 4, 5],\n",
       "       [6, 7, 8]])"
      ]
     },
     "execution_count": 20,
     "metadata": {},
     "output_type": "execute_result"
    }
   ],
   "source": [
    "y5=np.concatenate((y1,y2),axis=0)        #if axis=1 --horizontally\n",
    "y5"
   ]
  },
  {
   "cell_type": "code",
   "execution_count": 21,
   "id": "91a699a8",
   "metadata": {},
   "outputs": [
    {
     "name": "stdout",
     "output_type": "stream",
     "text": [
      "[[0 1 2]\n",
      " [3 4 5]\n",
      " [6 7 8]]\n",
      "[ 9 12 15]\n"
     ]
    }
   ],
   "source": [
    "y6=np.sum(y1,axis=0)   #column wise addition\n",
    "print(y1)\n",
    "print(y6)"
   ]
  },
  {
   "cell_type": "code",
   "execution_count": 22,
   "id": "7e09a9b3",
   "metadata": {},
   "outputs": [
    {
     "data": {
      "text/plain": [
       "array([ 3, 12, 21])"
      ]
     },
     "execution_count": 22,
     "metadata": {},
     "output_type": "execute_result"
    }
   ],
   "source": [
    "y7=np.sum(y1,axis=1)    #row wise addition\n",
    "y7"
   ]
  },
  {
   "cell_type": "code",
   "execution_count": 23,
   "id": "919343ea",
   "metadata": {},
   "outputs": [
    {
     "name": "stdout",
     "output_type": "stream",
     "text": [
      "0\n",
      "0\n"
     ]
    }
   ],
   "source": [
    "print(y1.min())\n",
    "print(np.min(y1))"
   ]
  },
  {
   "cell_type": "code",
   "execution_count": 24,
   "id": "391dfdaf",
   "metadata": {},
   "outputs": [
    {
     "name": "stdout",
     "output_type": "stream",
     "text": [
      "4.0\n",
      "4.0\n"
     ]
    }
   ],
   "source": [
    "print(np.average(y2))\n",
    "print(y2.mean())"
   ]
  },
  {
   "cell_type": "code",
   "execution_count": 25,
   "id": "9df9c3c0",
   "metadata": {},
   "outputs": [
    {
     "name": "stdout",
     "output_type": "stream",
     "text": [
      "[[1. 0. 0. 0. 0.]\n",
      " [0. 1. 0. 0. 0.]\n",
      " [0. 0. 1. 0. 0.]\n",
      " [0. 0. 0. 1. 0.]\n",
      " [0. 0. 0. 0. 1.]]\n"
     ]
    }
   ],
   "source": [
    "print(np.eye(5,k=0))       #shifting the position of diagonal element"
   ]
  },
  {
   "cell_type": "code",
   "execution_count": 29,
   "id": "13b19a5a",
   "metadata": {},
   "outputs": [
    {
     "data": {
      "text/plain": [
       "array([[7, 8],\n",
       "       [4, 5]])"
      ]
     },
     "execution_count": 29,
     "metadata": {},
     "output_type": "execute_result"
    }
   ],
   "source": [
    "x=np.array([[5,6],[4,5]])\n",
    "y=np.array([[7,8],[4,5]])\n",
    "np.maximum(x,y)     #compare the two arrays and returns a new array containing the element maxima."
   ]
  },
  {
   "cell_type": "code",
   "execution_count": 30,
   "id": "6ae77f97",
   "metadata": {},
   "outputs": [
    {
     "data": {
      "text/plain": [
       "array([[59, 70],\n",
       "       [48, 57]])"
      ]
     },
     "execution_count": 30,
     "metadata": {},
     "output_type": "execute_result"
    }
   ],
   "source": [
    "np.matmul(x,y)      #matrix product of two arrays"
   ]
  },
  {
   "cell_type": "code",
   "execution_count": 31,
   "id": "a5ca3951",
   "metadata": {},
   "outputs": [
    {
     "name": "stdout",
     "output_type": "stream",
     "text": [
      "m1: [[1 2 3]\n",
      " [4 5 6]\n",
      " [7 8 9]]\n",
      "\n",
      "m2: [[5 0 0]\n",
      " [1 0 1]\n",
      " [0 0 1]]\n",
      "The product is:\n"
     ]
    },
    {
     "data": {
      "text/plain": [
       "array([[ 7,  0,  5],\n",
       "       [25,  0, 11],\n",
       "       [43,  0, 17]])"
      ]
     },
     "execution_count": 31,
     "metadata": {},
     "output_type": "execute_result"
    }
   ],
   "source": [
    "m1=np.array([[1,2,3],[4,5,6],[7,8,9]])\n",
    "m2=np.array([[5,0,0],[1,0,1],[0,0,1]])\n",
    "print(\"m1:\",m1)\n",
    "print()\n",
    "print(\"m2:\",m2)\n",
    "print(\"The product is:\")\n",
    "np.matmul(m1,m2)"
   ]
  },
  {
   "cell_type": "code",
   "execution_count": 32,
   "id": "afd80779",
   "metadata": {},
   "outputs": [],
   "source": [
    "from numpy.linalg import multi_dot\n",
    "m3=np.array([[1,2,3],[4,5,6],[9,8,7]])\n",
    "a4=multi_dot([m1,m2,m3])"
   ]
  },
  {
   "cell_type": "code",
   "execution_count": 33,
   "id": "5e95dfda",
   "metadata": {},
   "outputs": [
    {
     "data": {
      "text/plain": [
       "array([[ 52,  54,  56],\n",
       "       [124, 138, 152],\n",
       "       [196, 222, 248]])"
      ]
     },
     "execution_count": 33,
     "metadata": {},
     "output_type": "execute_result"
    }
   ],
   "source": [
    "a4"
   ]
  },
  {
   "cell_type": "code",
   "execution_count": null,
   "id": "29a55257",
   "metadata": {},
   "outputs": [],
   "source": []
  }
 ],
 "metadata": {
  "kernelspec": {
   "display_name": "Python 3",
   "language": "python",
   "name": "python3"
  },
  "language_info": {
   "codemirror_mode": {
    "name": "ipython",
    "version": 3
   },
   "file_extension": ".py",
   "mimetype": "text/x-python",
   "name": "python",
   "nbconvert_exporter": "python",
   "pygments_lexer": "ipython3",
   "version": "3.8.8"
  }
 },
 "nbformat": 4,
 "nbformat_minor": 5
}
