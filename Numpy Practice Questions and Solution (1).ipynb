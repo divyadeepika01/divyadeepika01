{
 "cells": [
  {
   "cell_type": "markdown",
   "id": "57362fc9",
   "metadata": {
    "id": "57362fc9"
   },
   "source": [
    "1.What is Numpy?\n",
    "- Ans: NumPy is a general-purpose array-processing package. It provides a high-performance multidimensional array object, and tools for working with these arrays. It is the fundamental package for scientific computing with Python. … A powerful N-dimensional array object. Sophisticated (broadcasting) functions."
   ]
  },
  {
   "cell_type": "markdown",
   "id": "41961e1f",
   "metadata": {
    "id": "41961e1f"
   },
   "source": [
    "2. Why NumPy is used in Python?\n",
    "- Ans: NumPy is a package in Python used for Scientific Computing. NumPy package is used to perform different operations. The ndarray (NumPy Array) is a multidimensional array used to store values of same datatype. These arrays are indexed just like Sequences, starts with zero."
   ]
  },
  {
   "cell_type": "markdown",
   "id": "4ce9e90c",
   "metadata": {
    "id": "e5fe172f"
   },
   "source": [
    "3. How to Install Numpy in Windows? \n",
    "\n",
    "- Ans: \n",
    "Step 1: Download Python for Windows 10/8/7. First, download the Python executable binaries on your Windows system from the official download the page of the Python. …\n",
    "Step 2: Run the Python executable installer. …\n",
    "Step 3: Install pip on Windows 10/8/7. …\n",
    "Step 4: Install Numpy in Python using pip on Windows 10/8/7.\n",
    " \n",
    "- Installation Process of Numpy..\n",
    "step1: Open the terminal\n",
    "step2: type pip install numpy"
   ]
  },
  {
   "cell_type": "code",
   "execution_count": 1,
   "id": "ebb8cdf4",
   "metadata": {},
   "outputs": [],
   "source": [
    "import numpy as np"
   ]
  },
  {
   "cell_type": "markdown",
   "id": "94292dcd",
   "metadata": {
    "id": "94292dcd"
   },
   "source": [
    "4. how to create 1D Array ?"
   ]
  },
  {
   "cell_type": "code",
   "execution_count": 4,
   "id": "a7193443",
   "metadata": {},
   "outputs": [
    {
     "data": {
      "text/plain": [
       "array([1, 2, 3, 4, 5])"
      ]
     },
     "execution_count": 4,
     "metadata": {},
     "output_type": "execute_result"
    }
   ],
   "source": [
    "np.array((1,2,3,4,5))"
   ]
  },
  {
   "cell_type": "code",
   "execution_count": null,
   "id": "7882aa02",
   "metadata": {},
   "outputs": [],
   "source": [
    "num=[1,2,3]\n",
    "num = np.array(num)\n",
    "print(\"1d array : \",num)"
   ]
  },
  {
   "cell_type": "markdown",
   "id": "6355a9f3",
   "metadata": {
    "id": "53951a42"
   },
   "source": [
    "5. How to create 2D Array ?"
   ]
  },
  {
   "cell_type": "code",
   "execution_count": 5,
   "id": "644f4ac1",
   "metadata": {},
   "outputs": [
    {
     "data": {
      "text/plain": [
       "array([[1, 2, 3],\n",
       "       [4, 5, 6]])"
      ]
     },
     "execution_count": 5,
     "metadata": {},
     "output_type": "execute_result"
    }
   ],
   "source": [
    "np.array([[1,2,3],[4,5,6]])"
   ]
  },
  {
   "cell_type": "code",
   "execution_count": null,
   "id": "b8b9b5e8",
   "metadata": {},
   "outputs": [],
   "source": [
    "num2=[[1,2,3],[4,5,6]]\n",
    "num2 = np.array(num2)\n",
    "print(\"\\n2d array : \\n\",num2)"
   ]
  },
  {
   "cell_type": "markdown",
   "id": "b2ac753a",
   "metadata": {},
   "source": [
    "6. how to create 3D Array or ND Array ?"
   ]
  },
  {
   "cell_type": "code",
   "execution_count": 14,
   "id": "98008be3",
   "metadata": {},
   "outputs": [
    {
     "data": {
      "text/plain": [
       "array([[[1, 2, 3],\n",
       "        [4, 5, 6],\n",
       "        [7, 8, 9]]])"
      ]
     },
     "execution_count": 14,
     "metadata": {},
     "output_type": "execute_result"
    }
   ],
   "source": [
    "np.array([[[1,2,3],[4,5,6],[7,8,9]]])"
   ]
  },
  {
   "cell_type": "code",
   "execution_count": null,
   "id": "7421ab0e",
   "metadata": {
    "id": "7e185972"
   },
   "outputs": [],
   "source": [
    "num3=[[[1,2,3],[4,5,6],[7,8,9]]]\n",
    "num3 = np.array(num3)\n",
    "print(\"\\n3d array : \\n\",num3)"
   ]
  },
  {
   "cell_type": "markdown",
   "id": "75f56c20",
   "metadata": {
    "id": "bb3126c2"
   },
   "source": [
    "7. how to identified datatyp for numpy array?"
   ]
  },
  {
   "cell_type": "code",
   "execution_count": null,
   "id": "d9bb8b54",
   "metadata": {},
   "outputs": [],
   "source": [
    "print(\"\\n data type num 3 \", num3.dtype)"
   ]
  },
  {
   "cell_type": "code",
   "execution_count": 23,
   "id": "64504120",
   "metadata": {},
   "outputs": [
    {
     "data": {
      "text/plain": [
       "dtype('int32')"
      ]
     },
     "execution_count": 23,
     "metadata": {},
     "output_type": "execute_result"
    }
   ],
   "source": [
    "(np.array([[1,2,3],[1,2,3]])).dtype"
   ]
  },
  {
   "cell_type": "markdown",
   "id": "a14eafdd",
   "metadata": {
    "id": "aa6172a8"
   },
   "source": [
    "8. Print 1D array with 5 zeros."
   ]
  },
  {
   "cell_type": "code",
   "execution_count": null,
   "id": "8f0226e0",
   "metadata": {},
   "outputs": [],
   "source": [
    "arr = np.zeros(5)\n",
    "print(\"single array:\",arr)"
   ]
  },
  {
   "cell_type": "code",
   "execution_count": 24,
   "id": "d8a9cc68",
   "metadata": {},
   "outputs": [
    {
     "data": {
      "text/plain": [
       "array([0., 0., 0., 0., 0.])"
      ]
     },
     "execution_count": 24,
     "metadata": {},
     "output_type": "execute_result"
    }
   ],
   "source": [
    "np.zeros(5)"
   ]
  },
  {
   "cell_type": "markdown",
   "id": "0d52650a",
   "metadata": {},
   "source": [
    "9. print zeros with 2 rows and 3 columns ?"
   ]
  },
  {
   "cell_type": "code",
   "execution_count": 26,
   "id": "bf5bc198",
   "metadata": {},
   "outputs": [
    {
     "data": {
      "text/plain": [
       "array([[0., 0., 0.],\n",
       "       [0., 0., 0.]])"
      ]
     },
     "execution_count": 26,
     "metadata": {},
     "output_type": "execute_result"
    }
   ],
   "source": [
    "np.zeros((2,3))"
   ]
  },
  {
   "cell_type": "code",
   "execution_count": null,
   "id": "c427b336",
   "metadata": {
    "id": "5dca8dee"
   },
   "outputs": [],
   "source": [
    "arr2 = np.zeros((2,3))\n",
    "print(\"Array with 2 rows and 3 cols : \\n\", arr2)"
   ]
  },
  {
   "cell_type": "markdown",
   "id": "0795fb8e",
   "metadata": {
    "id": "0795fb8e"
   },
   "source": [
    "10. Create array with eye() - diagonal values ?\n"
   ]
  },
  {
   "cell_type": "code",
   "execution_count": 30,
   "id": "b20c7f38",
   "metadata": {},
   "outputs": [
    {
     "data": {
      "text/plain": [
       "array([[1., 0., 0., 0., 0., 0., 0., 0., 0., 0., 0., 0.],\n",
       "       [0., 1., 0., 0., 0., 0., 0., 0., 0., 0., 0., 0.],\n",
       "       [0., 0., 1., 0., 0., 0., 0., 0., 0., 0., 0., 0.],\n",
       "       [0., 0., 0., 1., 0., 0., 0., 0., 0., 0., 0., 0.],\n",
       "       [0., 0., 0., 0., 1., 0., 0., 0., 0., 0., 0., 0.],\n",
       "       [0., 0., 0., 0., 0., 1., 0., 0., 0., 0., 0., 0.],\n",
       "       [0., 0., 0., 0., 0., 0., 1., 0., 0., 0., 0., 0.],\n",
       "       [0., 0., 0., 0., 0., 0., 0., 1., 0., 0., 0., 0.],\n",
       "       [0., 0., 0., 0., 0., 0., 0., 0., 1., 0., 0., 0.],\n",
       "       [0., 0., 0., 0., 0., 0., 0., 0., 0., 1., 0., 0.],\n",
       "       [0., 0., 0., 0., 0., 0., 0., 0., 0., 0., 1., 0.],\n",
       "       [0., 0., 0., 0., 0., 0., 0., 0., 0., 0., 0., 1.]])"
      ]
     },
     "execution_count": 30,
     "metadata": {},
     "output_type": "execute_result"
    }
   ],
   "source": [
    "np.eye(12)"
   ]
  },
  {
   "cell_type": "code",
   "execution_count": null,
   "id": "2a705a85",
   "metadata": {},
   "outputs": [],
   "source": [
    "arr3 = np.eye(4)\n",
    "print(\"diaglonal values : \\n\", arr3)"
   ]
  },
  {
   "cell_type": "markdown",
   "id": "aa996e96",
   "metadata": {
    "id": "aa996e96"
   },
   "source": [
    "11. use of diag() square matrix ?"
   ]
  },
  {
   "cell_type": "code",
   "execution_count": 34,
   "id": "9aed099e",
   "metadata": {},
   "outputs": [
    {
     "data": {
      "text/plain": [
       "array([[1, 0, 0, 0],\n",
       "       [0, 2, 0, 0],\n",
       "       [0, 0, 3, 0],\n",
       "       [0, 0, 0, 4]])"
      ]
     },
     "execution_count": 34,
     "metadata": {},
     "output_type": "execute_result"
    }
   ],
   "source": [
    "np.diag([1,2,3,4])"
   ]
  },
  {
   "cell_type": "code",
   "execution_count": null,
   "id": "25a87c29",
   "metadata": {},
   "outputs": [],
   "source": [
    "arr3 = np.diag([1,2,3,4])\n",
    "print(\"square matrix \\n\",arr3)"
   ]
  },
  {
   "cell_type": "markdown",
   "id": "0ade5ae0",
   "metadata": {
    "id": "0ade5ae0"
   },
   "source": [
    "12. Print Range Between 1 To 15 and show 4 integers random numbers"
   ]
  },
  {
   "cell_type": "code",
   "execution_count": 35,
   "id": "798c8f57",
   "metadata": {},
   "outputs": [
    {
     "data": {
      "text/plain": [
       "array([ 1, 12, 13,  6])"
      ]
     },
     "execution_count": 35,
     "metadata": {},
     "output_type": "execute_result"
    }
   ],
   "source": [
    "np.random.randint(1,15,4)"
   ]
  },
  {
   "cell_type": "code",
   "execution_count": null,
   "id": "c8a8b1e7",
   "metadata": {},
   "outputs": [],
   "source": [
    "rand_arr = np.random.randint(1,15,4)\n",
    "print(\"\\n random number from 1 to 15 \", rand_arr)"
   ]
  },
  {
   "cell_type": "markdown",
   "id": "a6381268",
   "metadata": {
    "id": "a6381268"
   },
   "source": [
    "13. describe the example of seed() function? and how to use it ? why seed()?"
   ]
  },
  {
   "cell_type": "markdown",
   "id": "61be8246",
   "metadata": {},
   "source": [
    "seed() is used in the process of generating the same sequences of random numbers on a constant basis and use the same number at each time when called"
   ]
  },
  {
   "cell_type": "code",
   "execution_count": 18,
   "id": "a26a0f28",
   "metadata": {},
   "outputs": [
    {
     "data": {
      "text/plain": [
       "array([19, 13,  8,  5, 16])"
      ]
     },
     "execution_count": 18,
     "metadata": {},
     "output_type": "execute_result"
    }
   ],
   "source": [
    "np.random.seed(123456789)\n",
    "random_numbers=np.random.randint(1,20,5)\n",
    "random_numbers"
   ]
  },
  {
   "cell_type": "code",
   "execution_count": 14,
   "id": "7ca444b0",
   "metadata": {},
   "outputs": [
    {
     "name": "stdout",
     "output_type": "stream",
     "text": [
      "seed() showing same number only :  [67 93 99 18 84 58 87 98 97 48 74 33 47 97 26 84 79 37 97 81]\n"
     ]
    }
   ],
   "source": [
    "# How many ever times we execute the above code, it will get us the same numbers that are picked randomly for the first time\n",
    "np.random.seed(123)\n",
    "rand_arr4 = np.random.randint(1,100,20)\n",
    "print(\"seed() showing same number only : \", rand_arr4)"
   ]
  },
  {
   "cell_type": "markdown",
   "id": "08efa6e6",
   "metadata": {
    "id": "08efa6e6"
   },
   "source": [
    "14. Print first position, last position and 2nd and 3rd position"
   ]
  },
  {
   "cell_type": "code",
   "execution_count": 33,
   "id": "65d43666",
   "metadata": {},
   "outputs": [
    {
     "name": "stdout",
     "output_type": "stream",
     "text": [
      "first position: 5\n",
      "Second position: 15\n",
      "Last position: 35\n",
      "Third position: 25\n"
     ]
    }
   ],
   "source": [
    "arr=np.array([5,15,25,35])\n",
    "print(\"first position:\",arr[0])\n",
    "print(\"Second position:\",arr[1])\n",
    "print(\"Last position:\",arr[-1])\n",
    "print(\"Third position:\",arr[2])"
   ]
  },
  {
   "cell_type": "code",
   "execution_count": 41,
   "id": "be00399a",
   "metadata": {},
   "outputs": [
    {
     "name": "stdout",
     "output_type": "stream",
     "text": [
      "first position :  5\n",
      "third position :  25\n"
     ]
    }
   ],
   "source": [
    "num = np.array([5,15,25,35])\n",
    "print(\"first position : \",num[0]) #5\n",
    "print(\"third position : \",num[2]) #25"
   ]
  },
  {
   "cell_type": "markdown",
   "id": "4b66410e",
   "metadata": {
    "id": "4b66410e"
   },
   "source": [
    "15.  if we don’t know last number of position how to show it by pragmatically?"
   ]
  },
  {
   "cell_type": "code",
   "execution_count": 34,
   "id": "dc351300",
   "metadata": {},
   "outputs": [
    {
     "data": {
      "text/plain": [
       "35"
      ]
     },
     "execution_count": 34,
     "metadata": {},
     "output_type": "execute_result"
    }
   ],
   "source": [
    "arr[-1]"
   ]
  },
  {
   "cell_type": "code",
   "execution_count": null,
   "id": "95783439",
   "metadata": {},
   "outputs": [],
   "source": [
    "num = np.array([5,15,25,35])\n",
    "print(\"last indexing done by -1 position : \",num[-1])"
   ]
  },
  {
   "cell_type": "markdown",
   "id": "4d4b6775",
   "metadata": {},
   "source": [
    "16. create a matrix 3 * 3 with value ranging from 0 to 8"
   ]
  },
  {
   "cell_type": "code",
   "execution_count": 35,
   "id": "737caa45",
   "metadata": {},
   "outputs": [
    {
     "data": {
      "text/plain": [
       "array([[0, 1, 2],\n",
       "       [3, 4, 5],\n",
       "       [6, 7, 8]])"
      ]
     },
     "execution_count": 35,
     "metadata": {},
     "output_type": "execute_result"
    }
   ],
   "source": [
    "np.arange(0,9).reshape(3,3)"
   ]
  },
  {
   "cell_type": "code",
   "execution_count": null,
   "id": "93d2aab3",
   "metadata": {
    "id": "d4e0d4cb"
   },
   "outputs": [],
   "source": [
    "arr = np.arange(0,9).reshape(3,3)\n",
    "print(arr)\n"
   ]
  },
  {
   "cell_type": "markdown",
   "id": "d1d8e2ba",
   "metadata": {
    "id": "d1d8e2ba"
   },
   "source": [
    "17. create matrix 2 * 2 with value ranging from 1 to 3"
   ]
  },
  {
   "cell_type": "code",
   "execution_count": 40,
   "id": "68127180",
   "metadata": {},
   "outputs": [
    {
     "data": {
      "text/plain": [
       "array([[0, 1],\n",
       "       [2, 3]])"
      ]
     },
     "execution_count": 40,
     "metadata": {},
     "output_type": "execute_result"
    }
   ],
   "source": [
    "np.arange(0,4).reshape(2,2)"
   ]
  },
  {
   "cell_type": "code",
   "execution_count": null,
   "id": "84e62cf5",
   "metadata": {},
   "outputs": [],
   "source": [
    "arr = np.arange(0,4).reshape(2,2)\n",
    "print(arr)"
   ]
  },
  {
   "cell_type": "markdown",
   "id": "1e9dc294",
   "metadata": {
    "id": "1e9dc294"
   },
   "source": [
    "18.create matrix 2 * 2 with value ranging from 1 to 4"
   ]
  },
  {
   "cell_type": "code",
   "execution_count": 41,
   "id": "aacb3d36",
   "metadata": {},
   "outputs": [
    {
     "data": {
      "text/plain": [
       "array([[1, 2],\n",
       "       [3, 4]])"
      ]
     },
     "execution_count": 41,
     "metadata": {},
     "output_type": "execute_result"
    }
   ],
   "source": [
    "np.arange(1,5).reshape(2,2)"
   ]
  },
  {
   "cell_type": "code",
   "execution_count": null,
   "id": "24a31f27",
   "metadata": {},
   "outputs": [],
   "source": [
    "arr = np.arange(1,5).reshape(2,2)\n",
    "print(arr)"
   ]
  },
  {
   "cell_type": "markdown",
   "id": "827d38e7",
   "metadata": {
    "id": "827d38e7"
   },
   "source": [
    "19. print random number from 0 to 1"
   ]
  },
  {
   "cell_type": "code",
   "execution_count": 42,
   "id": "6ebccc15",
   "metadata": {},
   "outputs": [
    {
     "data": {
      "text/plain": [
       "0.06293540361433603"
      ]
     },
     "execution_count": 42,
     "metadata": {},
     "output_type": "execute_result"
    }
   ],
   "source": [
    "np.random.rand()"
   ]
  },
  {
   "cell_type": "code",
   "execution_count": null,
   "id": "b381d473",
   "metadata": {},
   "outputs": [],
   "source": [
    "a = np.random.rand()\n",
    "print(\"random number from 0 to 1 \", a)"
   ]
  },
  {
   "cell_type": "markdown",
   "id": "01167322",
   "metadata": {
    "id": "01167322"
   },
   "source": [
    "20.  print size of num array"
   ]
  },
  {
   "cell_type": "code",
   "execution_count": 45,
   "id": "c20776e6",
   "metadata": {},
   "outputs": [
    {
     "data": {
      "text/plain": [
       "17"
      ]
     },
     "execution_count": 45,
     "metadata": {},
     "output_type": "execute_result"
    }
   ],
   "source": [
    "arr1=np.arange(1,18)\n",
    "arr1.size"
   ]
  },
  {
   "cell_type": "code",
   "execution_count": null,
   "id": "5a7d14cf",
   "metadata": {},
   "outputs": [],
   "source": [
    "num = np.array([5,15,25,35])\n",
    "print(\"\\n size \\n\",num.size) #100"
   ]
  },
  {
   "cell_type": "markdown",
   "id": "50d2137a",
   "metadata": {
    "id": "50d2137a"
   },
   "source": [
    "21. create an array of 20 linearly spaced point between 0 to 1\n"
   ]
  },
  {
   "cell_type": "code",
   "execution_count": 46,
   "id": "1f87e87c",
   "metadata": {},
   "outputs": [
    {
     "data": {
      "text/plain": [
       "array([0.        , 0.05263158, 0.10526316, 0.15789474, 0.21052632,\n",
       "       0.26315789, 0.31578947, 0.36842105, 0.42105263, 0.47368421,\n",
       "       0.52631579, 0.57894737, 0.63157895, 0.68421053, 0.73684211,\n",
       "       0.78947368, 0.84210526, 0.89473684, 0.94736842, 1.        ])"
      ]
     },
     "execution_count": 46,
     "metadata": {},
     "output_type": "execute_result"
    }
   ],
   "source": [
    "np.linspace(0,1,20)"
   ]
  },
  {
   "cell_type": "code",
   "execution_count": null,
   "id": "02eaf8ec",
   "metadata": {},
   "outputs": [],
   "source": [
    "num_line = np.linspace(0,1,20)\n",
    "print(num_line)"
   ]
  },
  {
   "cell_type": "markdown",
   "id": "eed7fd29",
   "metadata": {
    "id": "eed7fd29"
   },
   "source": [
    "22. Use of sort() function ?"
   ]
  },
  {
   "cell_type": "code",
   "execution_count": 56,
   "id": "3e249d14",
   "metadata": {},
   "outputs": [
    {
     "data": {
      "text/plain": [
       "array([[-1,  0,  1,  1,  2,  3],\n",
       "       [-1,  0,  3,  8,  9, 45]])"
      ]
     },
     "execution_count": 56,
     "metadata": {},
     "output_type": "execute_result"
    }
   ],
   "source": [
    "a=np.array([[1,2,3,1,0,-1],[0,9,8,3,-1,45]])\n",
    "np.sort(a)"
   ]
  },
  {
   "cell_type": "code",
   "execution_count": null,
   "id": "79f70bff",
   "metadata": {},
   "outputs": [],
   "source": [
    "num_arr = np.array([[5,6,2],[9,8,1]])\n",
    "print(\"sorting of numpy array : \\n\",np.sort(num_arr))"
   ]
  },
  {
   "cell_type": "markdown",
   "id": "727dd10e",
   "metadata": {
    "id": "727dd10e"
   },
   "source": [
    "23. How to get the positions where elements of two arrays match?"
   ]
  },
  {
   "cell_type": "code",
   "execution_count": 9,
   "id": "d20004d8",
   "metadata": {},
   "outputs": [
    {
     "data": {
      "text/plain": [
       "(array([8], dtype=int64),)"
      ]
     },
     "execution_count": 9,
     "metadata": {},
     "output_type": "execute_result"
    }
   ],
   "source": [
    "arr1=np.array([1,2,3,4,5,6,7,89,9])\n",
    "arr2=np.array([2,3,4,5,6,1,2,3,9])\n",
    "np.where(arr1==arr2)"
   ]
  },
  {
   "cell_type": "code",
   "execution_count": null,
   "id": "3b9ee8ef",
   "metadata": {},
   "outputs": [],
   "source": [
    "a = np.array([1,2,3,2,3,4,3,4,5,6])\n",
    "b = np.array([7,2,10,2,7,4,9,4,9,8])\n",
    "\n",
    "np.where(a == b)"
   ]
  },
  {
   "cell_type": "markdown",
   "id": "1db1fddd",
   "metadata": {
    "id": "1db1fddd"
   },
   "source": [
    "24. Create a Numpy array filled with all zeros "
   ]
  },
  {
   "cell_type": "code",
   "execution_count": 10,
   "id": "a667ac8b",
   "metadata": {},
   "outputs": [
    {
     "data": {
      "text/plain": [
       "array([[0., 0., 0.],\n",
       "       [0., 0., 0.],\n",
       "       [0., 0., 0.],\n",
       "       [0., 0., 0.],\n",
       "       [0., 0., 0.]])"
      ]
     },
     "execution_count": 10,
     "metadata": {},
     "output_type": "execute_result"
    }
   ],
   "source": [
    "np.zeros((5,3))"
   ]
  },
  {
   "cell_type": "code",
   "execution_count": null,
   "id": "7f123075",
   "metadata": {},
   "outputs": [],
   "source": [
    "a = np.zeros(3, dtype = int) \n",
    "print(\"Matrix a : \\n\", a) \n",
    "  \n",
    "b = np.zeros([3, 3], dtype = int) \n",
    "print(\"\\nMatrix b : \\n\", b) "
   ]
  },
  {
   "cell_type": "markdown",
   "id": "8b5fd55b",
   "metadata": {},
   "source": [
    "25. Check whether a Numpy array contains a specified row"
   ]
  },
  {
   "cell_type": "code",
   "execution_count": 47,
   "id": "c33a5f75",
   "metadata": {},
   "outputs": [
    {
     "name": "stdout",
     "output_type": "stream",
     "text": [
      "True\n",
      "False\n"
     ]
    }
   ],
   "source": [
    "array_2d = np.array([[1,2,3],[4,5,6],[7,2,9],[10,11,12],[13,14,15]])\n",
    "array_2d\n",
    "print([1,2,3] in array_2d)\n",
    "print([45,43,56] in array_2d)"
   ]
  },
  {
   "cell_type": "code",
   "execution_count": null,
   "id": "a5918922",
   "metadata": {},
   "outputs": [],
   "source": [
    "arr = np.array([[1, 2, 3, 4, 5],\n",
    "                [6, 7, 8, 9, 10],\n",
    "                [11, 12, 13, 14, 15],\n",
    "                [16, 17, 18, 19, 20]])\n",
    "\n",
    "# view the array\n",
    "arr"
   ]
  },
  {
   "cell_type": "code",
   "execution_count": null,
   "id": "3471932c",
   "metadata": {},
   "outputs": [],
   "source": [
    "## tolist(): used to convert the data elements of an array into a list. \n",
    "arr.tolist()"
   ]
  },
  {
   "cell_type": "code",
   "execution_count": null,
   "id": "2c4eb2d4",
   "metadata": {
    "id": "92e704d4"
   },
   "outputs": [],
   "source": [
    "## checking whether the given list is present in the above array.\n",
    "print([1, 2, 3, 4, 5] in arr.tolist())\n",
    "print([16, 17, 20, 19, 18] in arr.tolist())\n",
    "print([3, 2, 5, -4, 5] in arr.tolist())\n",
    "print([11, 12, 13, 14, 15] in arr.tolist())"
   ]
  },
  {
   "cell_type": "markdown",
   "id": "681c34c2",
   "metadata": {
    "id": "681c34c2"
   },
   "source": [
    "26. Find the number of occurrences of a sequence in a NumPy array"
   ]
  },
  {
   "cell_type": "code",
   "execution_count": 2,
   "id": "0b73a807",
   "metadata": {},
   "outputs": [
    {
     "data": {
      "text/plain": [
       "array([[ 1,  2,  9,  4],\n",
       "       [ 9,  4,  9,  4],\n",
       "       [ 3,  4,  5,  6],\n",
       "       [ 1,  9,  4, 90]])"
      ]
     },
     "execution_count": 2,
     "metadata": {},
     "output_type": "execute_result"
    }
   ],
   "source": [
    "arr=np.array([[1,2,9,4],[9,4,9,4],[3,4,5,6],[1,9,4,90]])\n",
    "arr"
   ]
  },
  {
   "cell_type": "code",
   "execution_count": null,
   "id": "11c11968",
   "metadata": {},
   "outputs": [],
   "source": [
    "seq=list(input(\"Enter the sequence\"))"
   ]
  },
  {
   "cell_type": "code",
   "execution_count": 5,
   "id": "d71ee717",
   "metadata": {},
   "outputs": [
    {
     "name": "stdout",
     "output_type": "stream",
     "text": [
      "4\n"
     ]
    }
   ],
   "source": [
    "arr = np.array([[2, 8, 9, 4], \n",
    "                   [9, 4, 9, 4],\n",
    "                   [4, 5, 9, 7],\n",
    "                   [2, 9, 4, 3]])\n",
    "  \n",
    "\n",
    "output = repr(arr).count(\"9, 4\")\n",
    "\n",
    "print(output)"
   ]
  },
  {
   "cell_type": "markdown",
   "id": "mmUZf4TRpXME",
   "metadata": {
    "id": "mmUZf4TRpXME"
   },
   "source": [
    "27.Write a NumPy program to test element-wise for NaN of a given array.\n",
    "\n"
   ]
  },
  {
   "cell_type": "code",
   "execution_count": 84,
   "id": "13a5a860",
   "metadata": {
    "id": "13a5a860"
   },
   "outputs": [
    {
     "data": {
      "text/plain": [
       "array([False, False,  True, False])"
      ]
     },
     "execution_count": 84,
     "metadata": {},
     "output_type": "execute_result"
    }
   ],
   "source": [
    "a = np.array([1, 0, np.nan, np.inf])\n",
    "np.isnan(a)"
   ]
  },
  {
   "cell_type": "markdown",
   "id": "EqmITGsFpbST",
   "metadata": {
    "id": "EqmITGsFpbST"
   },
   "source": [
    "28.Write a NumPy program to test whether none of the elements of a given array is zero.\n",
    "\n",
    "\n",
    "\n",
    "\n",
    "     \n",
    "     \n",
    "\n",
    "\n",
    "\t\n"
   ]
  },
  {
   "cell_type": "code",
   "execution_count": 89,
   "id": "gQH-YcJ1pmax",
   "metadata": {
    "id": "gQH-YcJ1pmax"
   },
   "outputs": [
    {
     "data": {
      "text/plain": [
       "False"
      ]
     },
     "execution_count": 89,
     "metadata": {},
     "output_type": "execute_result"
    }
   ],
   "source": [
    "x = np.array([0,1,2,3,0])\n",
    "np.all(x)"
   ]
  },
  {
   "cell_type": "markdown",
   "id": "fN-Jtyh6pnvG",
   "metadata": {
    "id": "fN-Jtyh6pnvG"
   },
   "source": [
    "29. Write a NumPy program to convert a list of numeric value into a one-dimensional NumPy array.\n",
    "\n"
   ]
  },
  {
   "cell_type": "code",
   "execution_count": 90,
   "id": "CMm3UcQkpaj0",
   "metadata": {
    "id": "CMm3UcQkpaj0"
   },
   "outputs": [
    {
     "data": {
      "text/plain": [
       "array([ 12.23,  13.32, 100.  ,  36.32])"
      ]
     },
     "execution_count": 90,
     "metadata": {},
     "output_type": "execute_result"
    }
   ],
   "source": [
    "l = [12.23, 13.32, 100, 36.32]\n",
    "np.array(l)"
   ]
  },
  {
   "cell_type": "markdown",
   "id": "-ToIZYgtp7MD",
   "metadata": {
    "id": "-ToIZYgtp7MD"
   },
   "source": [
    "30. Write a NumPy program to create a null vector of size 10 and update sixth value to 11.\n",
    "\n"
   ]
  },
  {
   "cell_type": "code",
   "execution_count": 97,
   "id": "Wh498jNap5jB",
   "metadata": {
    "id": "Wh498jNap5jB"
   },
   "outputs": [
    {
     "name": "stdout",
     "output_type": "stream",
     "text": [
      "[ 0.  0.  0.  0.  0. 11.  0.  0.  0.  0.]\n"
     ]
    }
   ],
   "source": [
    "x = np.zeros(10)\n",
    "x[5]=11\n",
    "print(x)"
   ]
  },
  {
   "cell_type": "markdown",
   "id": "oAepjy3xqD2_",
   "metadata": {
    "id": "oAepjy3xqD2_"
   },
   "source": [
    "31. Write a NumPy program to create a 5x5 array with random values and find the minimum and maximum values.\n",
    "\n"
   ]
  },
  {
   "cell_type": "code",
   "execution_count": 101,
   "id": "VnxY3cj4qIrh",
   "metadata": {
    "id": "VnxY3cj4qIrh"
   },
   "outputs": [
    {
     "name": "stdout",
     "output_type": "stream",
     "text": [
      "5x5 matrix: [[20 99 63 39 46]\n",
      " [33 46 18 41 12]\n",
      " [36 27 73 62 60]\n",
      " [25 25 99 50 51]\n",
      " [59 24 65 50 88]]\n",
      "---------\n",
      "Maximum Value: 99\n",
      "Minimum Value: 12\n"
     ]
    }
   ],
   "source": [
    "matrix=np.random.randint(1,100,25).reshape(5,5)\n",
    "print(\"5x5 matrix:\",matrix)\n",
    "print(\"---------\")\n",
    "print(\"Maximum Value:\",matrix.max())\n",
    "print(\"Minimum Value:\",matrix.min())"
   ]
  },
  {
   "cell_type": "markdown",
   "id": "fIWA6M4DqMvj",
   "metadata": {
    "id": "fIWA6M4DqMvj"
   },
   "source": [
    "31. Write a NumPy program to compute the multiplication of two given matrixes.\n",
    "Sample Matrix:\n",
    "[[1, 0], [0, 1]]\n",
    "[[1, 2], [3, 4]]\n",
    "\n"
   ]
  },
  {
   "cell_type": "code",
   "execution_count": 119,
   "id": "al4VbjlxqL6k",
   "metadata": {
    "id": "al4VbjlxqL6k"
   },
   "outputs": [
    {
     "name": "stdout",
     "output_type": "stream",
     "text": [
      "mat1: [[1 0]\n",
      " [0 1]]\n",
      "-----------\n",
      "mat2: [[1 2]\n",
      " [3 4]]\n",
      "------------\n",
      "Product of two matrices is: [[1 2]\n",
      " [3 4]]\n"
     ]
    }
   ],
   "source": [
    "mat1 = np.array([[1,0],[0,1]])\n",
    "mat2 = np.array([[1,2],[3,4]])\n",
    "print(\"mat1:\",mat1)\n",
    "print(\"-----------\")\n",
    "print(\"mat2:\",mat2)\n",
    "print(\"------------\")\n",
    "print(\"Product of two matrices is:\", np.dot(mat1,mat2))"
   ]
  },
  {
   "cell_type": "markdown",
   "id": "FXhLCSudqVTI",
   "metadata": {
    "id": "FXhLCSudqVTI"
   },
   "source": [
    "33.Create a two-dimensional array with the flattened input as a diagonal"
   ]
  },
  {
   "cell_type": "code",
   "execution_count": 123,
   "id": "1ciVmwUKqToU",
   "metadata": {
    "id": "1ciVmwUKqToU"
   },
   "outputs": [
    {
     "data": {
      "text/plain": [
       "array([[1, 0, 0, 0, 0, 0, 0, 0],\n",
       "       [0, 2, 0, 0, 0, 0, 0, 0],\n",
       "       [0, 0, 3, 0, 0, 0, 0, 0],\n",
       "       [0, 0, 0, 4, 0, 0, 0, 0],\n",
       "       [0, 0, 0, 0, 5, 0, 0, 0],\n",
       "       [0, 0, 0, 0, 0, 6, 0, 0],\n",
       "       [0, 0, 0, 0, 0, 0, 7, 0],\n",
       "       [0, 0, 0, 0, 0, 0, 0, 8]])"
      ]
     },
     "execution_count": 123,
     "metadata": {},
     "output_type": "execute_result"
    }
   ],
   "source": [
    "a=np.diagflat([[1,2,3,4],[5,6,7,8]])             # 8x8  matrix\n",
    "a"
   ]
  },
  {
   "cell_type": "markdown",
   "id": "A7KA5BT8qd_-",
   "metadata": {
    "id": "A7KA5BT8qd_-"
   },
   "source": [
    "34. Write a NumPy program to compute the sum of the diagonal element of a given array."
   ]
  },
  {
   "cell_type": "code",
   "execution_count": 126,
   "id": "2FLfT0k1qbBM",
   "metadata": {
    "id": "2FLfT0k1qbBM"
   },
   "outputs": [
    {
     "data": {
      "text/plain": [
       "36"
      ]
     },
     "execution_count": 126,
     "metadata": {},
     "output_type": "execute_result"
    }
   ],
   "source": [
    "np.trace(a)"
   ]
  },
  {
   "cell_type": "code",
   "execution_count": 131,
   "id": "582f40c1",
   "metadata": {},
   "outputs": [
    {
     "name": "stdout",
     "output_type": "stream",
     "text": [
      "[[[[ 0  1  2]\n",
      "   [ 3  4  5]]\n",
      "\n",
      "  [[ 6  7  8]\n",
      "   [ 9 10 11]]]\n",
      "\n",
      "\n",
      " [[[12 13 14]\n",
      "   [15 16 17]]\n",
      "\n",
      "  [[18 19 20]\n",
      "   [21 22 23]]]]\n",
      "\n",
      "\n"
     ]
    },
    {
     "data": {
      "text/plain": [
       "array([[18, 20, 22],\n",
       "       [24, 26, 28]])"
      ]
     },
     "execution_count": 131,
     "metadata": {},
     "output_type": "execute_result"
    }
   ],
   "source": [
    "a = np.arange(24).reshape((2,2,2,3))\n",
    "print(a)\n",
    "\n",
    "print(\"\\n\")\n",
    "np.trace(a)"
   ]
  },
  {
   "cell_type": "code",
   "execution_count": 132,
   "id": "7da94020",
   "metadata": {},
   "outputs": [
    {
     "name": "stdout",
     "output_type": "stream",
     "text": [
      "[[[0 1]\n",
      "  [2 3]]\n",
      "\n",
      " [[4 5]\n",
      "  [6 7]]]\n",
      "\n",
      "\n"
     ]
    },
    {
     "data": {
      "text/plain": [
       "array([6, 8])"
      ]
     },
     "execution_count": 132,
     "metadata": {},
     "output_type": "execute_result"
    }
   ],
   "source": [
    "a = np.arange(8).reshape((2,2,2))\n",
    "print(a)\n",
    "print(\"\\n\")\n",
    "np.trace(a)"
   ]
  },
  {
   "cell_type": "markdown",
   "id": "24ca6482",
   "metadata": {},
   "source": [
    "35. Use of around() function: returns a decimal value rounded to a desired position of the decimal"
   ]
  },
  {
   "cell_type": "code",
   "execution_count": 134,
   "id": "55b32e5f",
   "metadata": {},
   "outputs": [
    {
     "name": "stdout",
     "output_type": "stream",
     "text": [
      "printing the original array values: [ 12.202   90.2312 123.02    23.202 ]\n",
      "\n",
      "\n",
      "Array values rounded off to 2 decimal position [ 12.2   90.23 123.02  23.2 ]\n",
      "Array values rounded off to -1 decimal position [ 10.  90. 120.  20.]\n"
     ]
    }
   ],
   "source": [
    "arr = np.array([12.202, 90.23120, 123.020, 23.202]) \n",
    "print(\"printing the original array values:\",end = \" \")  \n",
    "print(arr)  \n",
    "print(\"\\n\")\n",
    "print(\"Array values rounded off to 2 decimal position\",np.around(arr, 2))  \n",
    "print(\"Array values rounded off to -1 decimal position\",np.around(arr, -1))  "
   ]
  },
  {
   "cell_type": "code",
   "execution_count": 135,
   "id": "54f32cf6",
   "metadata": {},
   "outputs": [
    {
     "data": {
      "text/plain": [
       "array([  0., 100., 100.,   0.])"
      ]
     },
     "execution_count": 135,
     "metadata": {},
     "output_type": "execute_result"
    }
   ],
   "source": [
    "np.around(arr,-2)"
   ]
  },
  {
   "cell_type": "code",
   "execution_count": 139,
   "id": "8d6ac1cf",
   "metadata": {},
   "outputs": [
    {
     "data": {
      "text/plain": [
       "array([ 10.,  90., 120.,  20.])"
      ]
     },
     "execution_count": 139,
     "metadata": {},
     "output_type": "execute_result"
    }
   ],
   "source": [
    "np.around(arr,-1)"
   ]
  },
  {
   "cell_type": "code",
   "execution_count": 140,
   "id": "9da01c87",
   "metadata": {},
   "outputs": [
    {
     "data": {
      "text/plain": [
       "array([ 12.2,  90.2, 123. ,  23.2])"
      ]
     },
     "execution_count": 140,
     "metadata": {},
     "output_type": "execute_result"
    }
   ],
   "source": [
    "np.around(arr,1)"
   ]
  },
  {
   "cell_type": "code",
   "execution_count": 141,
   "id": "8e26d8b1",
   "metadata": {},
   "outputs": [
    {
     "data": {
      "text/plain": [
       "array([ 12.,  90., 123.,  23.])"
      ]
     },
     "execution_count": 141,
     "metadata": {},
     "output_type": "execute_result"
    }
   ],
   "source": [
    "np.around(arr,0)"
   ]
  },
  {
   "cell_type": "code",
   "execution_count": null,
   "id": "0947cf36",
   "metadata": {},
   "outputs": [],
   "source": [
    "  ##  hundreds,tens,ones<------(.decimalpoint)------->tenths,hundreds,thousands"
   ]
  }
 ],
 "metadata": {
  "colab": {
   "collapsed_sections": [],
   "name": "Numpy Practice Questions and Solution.ipynb",
   "provenance": []
  },
  "kernelspec": {
   "display_name": "Python 3",
   "language": "python",
   "name": "python3"
  },
  "language_info": {
   "codemirror_mode": {
    "name": "ipython",
    "version": 3
   },
   "file_extension": ".py",
   "mimetype": "text/x-python",
   "name": "python",
   "nbconvert_exporter": "python",
   "pygments_lexer": "ipython3",
   "version": "3.8.8"
  }
 },
 "nbformat": 4,
 "nbformat_minor": 5
}
