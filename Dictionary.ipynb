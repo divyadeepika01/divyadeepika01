{
 "cells": [
  {
   "cell_type": "markdown",
   "id": "20723173",
   "metadata": {},
   "source": [
    "# Dictionary\n",
    "\n",
    "1. Dictionary is mutable data type.\n",
    "2. Ordered\n",
    "3. Indexing is done with the help of Keys"
   ]
  },
  {
   "cell_type": "markdown",
   "id": "2a463327",
   "metadata": {},
   "source": [
    "###  Create Dictionary"
   ]
  },
  {
   "cell_type": "code",
   "execution_count": 30,
   "id": "930d515f",
   "metadata": {},
   "outputs": [
    {
     "data": {
      "text/plain": [
       "{}"
      ]
     },
     "execution_count": 30,
     "metadata": {},
     "output_type": "execute_result"
    }
   ],
   "source": [
    "mydict=dict()\n",
    "mydict"
   ]
  },
  {
   "cell_type": "code",
   "execution_count": 31,
   "id": "8f998a23",
   "metadata": {},
   "outputs": [
    {
     "data": {
      "text/plain": [
       "dict"
      ]
     },
     "execution_count": 31,
     "metadata": {},
     "output_type": "execute_result"
    }
   ],
   "source": [
    "type(mydict)"
   ]
  },
  {
   "cell_type": "code",
   "execution_count": 32,
   "id": "23e5cf97",
   "metadata": {},
   "outputs": [
    {
     "data": {
      "text/plain": [
       "{1: 'one', 2: 'two', 3: 'Three'}"
      ]
     },
     "execution_count": 32,
     "metadata": {},
     "output_type": "execute_result"
    }
   ],
   "source": [
    "mydict = {1:\"one\" , 2:\"two\" , 3:\"Three\"}\n",
    "mydict"
   ]
  },
  {
   "cell_type": "code",
   "execution_count": 33,
   "id": "50ceac06",
   "metadata": {},
   "outputs": [
    {
     "data": {
      "text/plain": [
       "{1: 'one', 2: 'two', 3: 'Three'}"
      ]
     },
     "execution_count": 33,
     "metadata": {},
     "output_type": "execute_result"
    }
   ],
   "source": [
    "mydict=dict({1:\"one\" , 2:\"two\" , 3:\"Three\"})\n",
    "mydict"
   ]
  },
  {
   "cell_type": "code",
   "execution_count": 34,
   "id": "7261fe3d",
   "metadata": {},
   "outputs": [
    {
     "data": {
      "text/plain": [
       "{'A': 'one', 'B': 'two', 'C': 'three'}"
      ]
     },
     "execution_count": 34,
     "metadata": {},
     "output_type": "execute_result"
    }
   ],
   "source": [
    "# dictionary with character keys\n",
    "dict1={\"A\" : \"one\" , \"B\" : \"two\" , \"C\" : \"three\"}\n",
    "dict1"
   ]
  },
  {
   "cell_type": "code",
   "execution_count": 35,
   "id": "d6894867",
   "metadata": {},
   "outputs": [
    {
     "data": {
      "text/plain": [
       "dict_keys(['A', 'B', 'C'])"
      ]
     },
     "execution_count": 35,
     "metadata": {},
     "output_type": "execute_result"
    }
   ],
   "source": [
    "dict1.keys()   # return all the keys"
   ]
  },
  {
   "cell_type": "code",
   "execution_count": 36,
   "id": "fb42b5ab",
   "metadata": {},
   "outputs": [
    {
     "data": {
      "text/plain": [
       "dict_values(['one', 'two', 'three'])"
      ]
     },
     "execution_count": 36,
     "metadata": {},
     "output_type": "execute_result"
    }
   ],
   "source": [
    "dict1.values()        # return all the values"
   ]
  },
  {
   "cell_type": "code",
   "execution_count": 37,
   "id": "c8ce45c1",
   "metadata": {},
   "outputs": [
    {
     "data": {
      "text/plain": [
       "dict_items([('A', 'one'), ('B', 'two'), ('C', 'three')])"
      ]
     },
     "execution_count": 37,
     "metadata": {},
     "output_type": "execute_result"
    }
   ],
   "source": [
    "dict1.items()    # return each keys-value pair within a dictionary "
   ]
  },
  {
   "cell_type": "code",
   "execution_count": 38,
   "id": "b7b3b400",
   "metadata": {},
   "outputs": [],
   "source": [
    "mydict={1:\"one\",2:\"two\",3:\"three\",\"A\":[\"Data\",\"john\",\"maria\"]} # dictionary with one values as a lit"
   ]
  },
  {
   "cell_type": "code",
   "execution_count": 39,
   "id": "ff993a92",
   "metadata": {},
   "outputs": [
    {
     "data": {
      "text/plain": [
       "'one'"
      ]
     },
     "execution_count": 39,
     "metadata": {},
     "output_type": "execute_result"
    }
   ],
   "source": [
    "mydict[1]"
   ]
  },
  {
   "cell_type": "code",
   "execution_count": 40,
   "id": "cdb0aa64",
   "metadata": {},
   "outputs": [
    {
     "data": {
      "text/plain": [
       "'john'"
      ]
     },
     "execution_count": 40,
     "metadata": {},
     "output_type": "execute_result"
    }
   ],
   "source": [
    "mydict[\"A\"][1]"
   ]
  },
  {
   "cell_type": "code",
   "execution_count": 41,
   "id": "9e1a68a5",
   "metadata": {},
   "outputs": [],
   "source": [
    "d={0:{\"one\":1,\"two\":2,\"three\":3,\"four\":4},1:{\"city\":\"bangalore\",\"area\":\"kudlu\"},\"three\":{\"city\":\"mumbai\",\"area\":\"dharvi\"}}"
   ]
  },
  {
   "cell_type": "code",
   "execution_count": 42,
   "id": "b6726fac",
   "metadata": {},
   "outputs": [
    {
     "data": {
      "text/plain": [
       "'kudlu'"
      ]
     },
     "execution_count": 42,
     "metadata": {},
     "output_type": "execute_result"
    }
   ],
   "source": [
    "d[1][\"area\"]"
   ]
  },
  {
   "cell_type": "code",
   "execution_count": 43,
   "id": "c7aaf93a",
   "metadata": {},
   "outputs": [],
   "source": [
    "v=[0,1,2,3,[8,{5:[67,89,90,{\"area\":\"kudlu\",\"city\":\"bangalore\"}]}]]"
   ]
  },
  {
   "cell_type": "code",
   "execution_count": 44,
   "id": "be674a94",
   "metadata": {},
   "outputs": [
    {
     "data": {
      "text/plain": [
       "'bangalore'"
      ]
     },
     "execution_count": 44,
     "metadata": {},
     "output_type": "execute_result"
    }
   ],
   "source": [
    "v[4][1][5][3][\"city\"]"
   ]
  },
  {
   "cell_type": "markdown",
   "id": "198525c5",
   "metadata": {},
   "source": [
    "## Adding , Removing and Change Items"
   ]
  },
  {
   "cell_type": "code",
   "execution_count": 45,
   "id": "bab47880",
   "metadata": {},
   "outputs": [
    {
     "data": {
      "text/plain": [
       "{'Name': 'Data', 'ID': 12345, 'DOB': 1991, 'Address': 'Hosur'}"
      ]
     },
     "execution_count": 45,
     "metadata": {},
     "output_type": "execute_result"
    }
   ],
   "source": [
    "mydict1 = {\"Name\":\"Data\",\"ID\":12345,\"DOB\":1991,\"Address\":\"Hosur\"}\n",
    "mydict1"
   ]
  },
  {
   "cell_type": "code",
   "execution_count": 46,
   "id": "807057f0",
   "metadata": {},
   "outputs": [],
   "source": [
    "# changing items-->\n",
    "\n",
    "mydict1[\"DOB\"] = 2000   \n",
    "mydict1[\"Address\"] = \"Punjab\""
   ]
  },
  {
   "cell_type": "code",
   "execution_count": 47,
   "id": "82b94298",
   "metadata": {},
   "outputs": [
    {
     "data": {
      "text/plain": [
       "{'Name': 'Data', 'ID': 12345, 'DOB': 2000, 'Address': 'Punjab'}"
      ]
     },
     "execution_count": 47,
     "metadata": {},
     "output_type": "execute_result"
    }
   ],
   "source": [
    "mydict1"
   ]
  },
  {
   "cell_type": "code",
   "execution_count": 48,
   "id": "f7fa1fc4",
   "metadata": {},
   "outputs": [
    {
     "data": {
      "text/plain": [
       "{'Name': 'Data',\n",
       " 'ID': 12345,\n",
       " 'DOB': 2000,\n",
       " 'Address': 'Punjab',\n",
       " 'job': 'Data Analyst'}"
      ]
     },
     "execution_count": 48,
     "metadata": {},
     "output_type": "execute_result"
    }
   ],
   "source": [
    " # Adding items -->\n",
    "\n",
    "mydict1[\"job\"] = \"Data Analyst\"       \n",
    "mydict1"
   ]
  },
  {
   "cell_type": "code",
   "execution_count": 49,
   "id": "b553c8ec",
   "metadata": {},
   "outputs": [
    {
     "data": {
      "text/plain": [
       "'Data Analyst'"
      ]
     },
     "execution_count": 49,
     "metadata": {},
     "output_type": "execute_result"
    }
   ],
   "source": [
    "# Removing items-->\n",
    "\n",
    "mydict1.pop(\"job\")\n"
   ]
  },
  {
   "cell_type": "code",
   "execution_count": 50,
   "id": "ac33db28",
   "metadata": {},
   "outputs": [
    {
     "data": {
      "text/plain": [
       "{'Name': 'Data', 'ID': 12345, 'DOB': 2000, 'Address': 'Punjab'}"
      ]
     },
     "execution_count": 50,
     "metadata": {},
     "output_type": "execute_result"
    }
   ],
   "source": [
    "mydict1"
   ]
  },
  {
   "cell_type": "code",
   "execution_count": 51,
   "id": "2186e548",
   "metadata": {},
   "outputs": [
    {
     "data": {
      "text/plain": [
       "{'N': 'Data', 'a': 'Data', 'm': 'Data', 'e': 'Data'}"
      ]
     },
     "execution_count": 51,
     "metadata": {},
     "output_type": "execute_result"
    }
   ],
   "source": [
    "mydict1.fromkeys(\"Name\",\"Data\")"
   ]
  },
  {
   "cell_type": "code",
   "execution_count": 52,
   "id": "529b5ca4",
   "metadata": {},
   "outputs": [
    {
     "data": {
      "text/plain": [
       "('Address', 'Punjab')"
      ]
     },
     "execution_count": 52,
     "metadata": {},
     "output_type": "execute_result"
    }
   ],
   "source": [
    "# A random item is removed -->\n",
    "\n",
    "mydict1.popitem()"
   ]
  },
  {
   "cell_type": "code",
   "execution_count": 55,
   "id": "51ddb900",
   "metadata": {},
   "outputs": [],
   "source": [
    "# Removing item using del method -->\n",
    "\n",
    "del[mydict1[\"Name\"]]"
   ]
  },
  {
   "cell_type": "code",
   "execution_count": 56,
   "id": "30fc4b4f",
   "metadata": {},
   "outputs": [],
   "source": [
    "#  Delete the entire dictionary -->\n",
    "\n",
    "del mydict1"
   ]
  },
  {
   "cell_type": "code",
   "execution_count": 60,
   "id": "4c0c6745",
   "metadata": {},
   "outputs": [],
   "source": [
    "# Delete all the items from the dictionary -->\n",
    "\n",
    "d={1:\"a\",2:\"b\",3:\"c\"}\n",
    "d.clear()"
   ]
  },
  {
   "cell_type": "code",
   "execution_count": null,
   "id": "b9149e40",
   "metadata": {},
   "outputs": [],
   "source": []
  }
 ],
 "metadata": {
  "kernelspec": {
   "display_name": "Python 3",
   "language": "python",
   "name": "python3"
  },
  "language_info": {
   "codemirror_mode": {
    "name": "ipython",
    "version": 3
   },
   "file_extension": ".py",
   "mimetype": "text/x-python",
   "name": "python",
   "nbconvert_exporter": "python",
   "pygments_lexer": "ipython3",
   "version": "3.8.8"
  }
 },
 "nbformat": 4,
 "nbformat_minor": 5
}
