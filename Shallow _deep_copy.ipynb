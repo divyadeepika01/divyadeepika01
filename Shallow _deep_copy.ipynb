{
 "cells": [
  {
   "cell_type": "markdown",
   "id": "066e5b71",
   "metadata": {},
   "source": [
    "### Shallow  Copy-----"
   ]
  },
  {
   "cell_type": "code",
   "execution_count": 1,
   "id": "4041d01c",
   "metadata": {},
   "outputs": [],
   "source": [
    "# Simply by using the assignment operator i.e. \"=\"  :-\n",
    "list1=[1,2,3,4]    #single dimension list\n",
    "list2=list1"
   ]
  },
  {
   "cell_type": "code",
   "execution_count": 2,
   "id": "c4040710",
   "metadata": {},
   "outputs": [
    {
     "data": {
      "text/plain": [
       "[1, 2, 3, 4]"
      ]
     },
     "execution_count": 2,
     "metadata": {},
     "output_type": "execute_result"
    }
   ],
   "source": [
    "list2"
   ]
  },
  {
   "cell_type": "code",
   "execution_count": 3,
   "id": "e688c78f",
   "metadata": {},
   "outputs": [
    {
     "data": {
      "text/plain": [
       "[1, 2, 3, 4]"
      ]
     },
     "execution_count": 3,
     "metadata": {},
     "output_type": "execute_result"
    }
   ],
   "source": [
    "list1"
   ]
  },
  {
   "cell_type": "code",
   "execution_count": 4,
   "id": "6d0aa1ec",
   "metadata": {},
   "outputs": [
    {
     "data": {
      "text/plain": [
       "[1, 8, 3, 4]"
      ]
     },
     "execution_count": 4,
     "metadata": {},
     "output_type": "execute_result"
    }
   ],
   "source": [
    "list2[1]=8\n",
    "list2"
   ]
  },
  {
   "cell_type": "code",
   "execution_count": 5,
   "id": "75f5ca16",
   "metadata": {},
   "outputs": [
    {
     "data": {
      "text/plain": [
       "[1, 8, 3, 4]"
      ]
     },
     "execution_count": 5,
     "metadata": {},
     "output_type": "execute_result"
    }
   ],
   "source": [
    "list1     "
   ]
  },
  {
   "cell_type": "markdown",
   "id": "9c7f49f7",
   "metadata": {},
   "source": [
    "### This is b'coz the two variables list1,list2 reffering the same memory loc.\n",
    "That is the reason, if one of the variable changes the element also get reflected in the memory \n",
    "so both the variables referring to the same memory itself.\n"
   ]
  },
  {
   "cell_type": "markdown",
   "id": "13cd8516",
   "metadata": {},
   "source": [
    "### Shallow Copy-----"
   ]
  },
  {
   "cell_type": "code",
   "execution_count": 7,
   "id": "2923af06",
   "metadata": {},
   "outputs": [],
   "source": [
    "# For single dimension list---it follows the diff. criteria---\n",
    "import copy\n",
    "list3=[1,2,3,4]\n",
    "list4=copy.copy(list3)"
   ]
  },
  {
   "cell_type": "code",
   "execution_count": 8,
   "id": "9e052d44",
   "metadata": {},
   "outputs": [
    {
     "data": {
      "text/plain": [
       "([1, 2, 3, 4], [1, 2, 3, 4])"
      ]
     },
     "execution_count": 8,
     "metadata": {},
     "output_type": "execute_result"
    }
   ],
   "source": [
    "list3,list4"
   ]
  },
  {
   "cell_type": "code",
   "execution_count": 9,
   "id": "8510b4ab",
   "metadata": {},
   "outputs": [],
   "source": [
    "list4[1]=100   #it is going to make a different memory location..."
   ]
  },
  {
   "cell_type": "code",
   "execution_count": 10,
   "id": "22fc2e23",
   "metadata": {},
   "outputs": [
    {
     "data": {
      "text/plain": [
       "([1, 100, 3, 4], [1, 2, 3, 4])"
      ]
     },
     "execution_count": 10,
     "metadata": {},
     "output_type": "execute_result"
    }
   ],
   "source": [
    "list4,list3"
   ]
  },
  {
   "cell_type": "markdown",
   "id": "5df5196f",
   "metadata": {},
   "source": [
    "### For single list , it dont reflect  the changes in original list"
   ]
  },
  {
   "cell_type": "markdown",
   "id": "15187d0b",
   "metadata": {},
   "source": [
    "For nested lists----  its definition changed "
   ]
  },
  {
   "cell_type": "code",
   "execution_count": 12,
   "id": "9ffbfe8c",
   "metadata": {},
   "outputs": [],
   "source": [
    "l1=[[1,2,3],[4,5,6],[7,8,9]]\n",
    "l2=copy.copy(l1)"
   ]
  },
  {
   "cell_type": "code",
   "execution_count": 13,
   "id": "1a397848",
   "metadata": {},
   "outputs": [
    {
     "data": {
      "text/plain": [
       "[[1, 2, 3], [4, 5, 6], [7, 8, 9]]"
      ]
     },
     "execution_count": 13,
     "metadata": {},
     "output_type": "execute_result"
    }
   ],
   "source": [
    "l1"
   ]
  },
  {
   "cell_type": "code",
   "execution_count": 14,
   "id": "1cdcfa4f",
   "metadata": {},
   "outputs": [
    {
     "data": {
      "text/plain": [
       "[[1, 2, 3], [4, 5, 6], [7, 8, 9]]"
      ]
     },
     "execution_count": 14,
     "metadata": {},
     "output_type": "execute_result"
    }
   ],
   "source": [
    "l2"
   ]
  },
  {
   "cell_type": "code",
   "execution_count": 15,
   "id": "909929df",
   "metadata": {},
   "outputs": [
    {
     "data": {
      "text/plain": [
       "[[1, 2, 3], [4, 5, 6], [7, 200, 9]]"
      ]
     },
     "execution_count": 15,
     "metadata": {},
     "output_type": "execute_result"
    }
   ],
   "source": [
    "l2[2][1]=200    # it make changes\n",
    "l1"
   ]
  },
  {
   "cell_type": "code",
   "execution_count": 16,
   "id": "d678170e",
   "metadata": {},
   "outputs": [
    {
     "data": {
      "text/plain": [
       "[[1, 2, 3], [4, 5, 6], [7, 200, 9]]"
      ]
     },
     "execution_count": 16,
     "metadata": {},
     "output_type": "execute_result"
    }
   ],
   "source": [
    "l2"
   ]
  },
  {
   "cell_type": "markdown",
   "id": "b05e28e1",
   "metadata": {},
   "source": [
    "Nested list is the collection of lists(items) and the individual list(item)  is the collection of different objects\n",
    "in the above example, both the variables referring to the same object present inside the nested list....."
   ]
  },
  {
   "cell_type": "markdown",
   "id": "8970aa6b",
   "metadata": {},
   "source": [
    "### If we add a list into the lists of list then it'll not make changes in the original list----"
   ]
  },
  {
   "cell_type": "code",
   "execution_count": 17,
   "id": "a7c9ace9",
   "metadata": {},
   "outputs": [],
   "source": [
    "l1=[[1,2,3],[4,5,6],[7,8,9]]\n",
    "l2=copy.copy(l1)"
   ]
  },
  {
   "cell_type": "code",
   "execution_count": 18,
   "id": "6c0fc4cd",
   "metadata": {},
   "outputs": [],
   "source": [
    "l2.append([10,11,12])"
   ]
  },
  {
   "cell_type": "code",
   "execution_count": 19,
   "id": "6d65f546",
   "metadata": {},
   "outputs": [
    {
     "data": {
      "text/plain": [
       "[[1, 2, 3], [4, 5, 6], [7, 8, 9]]"
      ]
     },
     "execution_count": 19,
     "metadata": {},
     "output_type": "execute_result"
    }
   ],
   "source": [
    "l1"
   ]
  },
  {
   "cell_type": "code",
   "execution_count": 20,
   "id": "85f3b690",
   "metadata": {},
   "outputs": [
    {
     "data": {
      "text/plain": [
       "[[1, 2, 3], [4, 5, 6], [7, 8, 9], [10, 11, 12]]"
      ]
     },
     "execution_count": 20,
     "metadata": {},
     "output_type": "execute_result"
    }
   ],
   "source": [
    "l2"
   ]
  },
  {
   "cell_type": "markdown",
   "id": "ce051f45",
   "metadata": {},
   "source": [
    "### DEEP COPY---"
   ]
  },
  {
   "cell_type": "code",
   "execution_count": 35,
   "id": "a4cf82e9",
   "metadata": {},
   "outputs": [
    {
     "data": {
      "text/plain": [
       "[100, 200, 300, 400]"
      ]
     },
     "execution_count": 35,
     "metadata": {},
     "output_type": "execute_result"
    }
   ],
   "source": [
    "# for a single list---\n",
    "l3=[100,200,300,400]\n",
    "l4=copy.deepcopy(l3)\n",
    "l3"
   ]
  },
  {
   "cell_type": "code",
   "execution_count": 23,
   "id": "9b9c0126",
   "metadata": {},
   "outputs": [
    {
     "data": {
      "text/plain": [
       "[100, 200, 300, 400]"
      ]
     },
     "execution_count": 23,
     "metadata": {},
     "output_type": "execute_result"
    }
   ],
   "source": [
    "l4"
   ]
  },
  {
   "cell_type": "code",
   "execution_count": 36,
   "id": "4d790339",
   "metadata": {},
   "outputs": [
    {
     "data": {
      "text/plain": [
       "[100, 200, 800, 400]"
      ]
     },
     "execution_count": 36,
     "metadata": {},
     "output_type": "execute_result"
    }
   ],
   "source": [
    "l4[2]=800\n",
    "l4"
   ]
  },
  {
   "cell_type": "code",
   "execution_count": 37,
   "id": "44301e94",
   "metadata": {},
   "outputs": [
    {
     "data": {
      "text/plain": [
       "[100, 200, 300, 400]"
      ]
     },
     "execution_count": 37,
     "metadata": {},
     "output_type": "execute_result"
    }
   ],
   "source": [
    "l3"
   ]
  },
  {
   "cell_type": "markdown",
   "id": "723173fb",
   "metadata": {},
   "source": [
    "### See it'll not make changes...."
   ]
  },
  {
   "cell_type": "code",
   "execution_count": 31,
   "id": "3eafd25b",
   "metadata": {},
   "outputs": [
    {
     "data": {
      "text/plain": [
       "[[1, 2, 3], [4, 5, 6], [7, 8, 9]]"
      ]
     },
     "execution_count": 31,
     "metadata": {},
     "output_type": "execute_result"
    }
   ],
   "source": [
    "# For nested lists----\n",
    "l5=[[1,2,3],[4,5,6],[7,8,9]]\n",
    "l6=copy.deepcopy(l5)\n",
    "l5"
   ]
  },
  {
   "cell_type": "code",
   "execution_count": 27,
   "id": "319ff112",
   "metadata": {},
   "outputs": [
    {
     "data": {
      "text/plain": [
       "[[1, 2, 3], [4, 5, 6], [7, 8, 9]]"
      ]
     },
     "execution_count": 27,
     "metadata": {},
     "output_type": "execute_result"
    }
   ],
   "source": [
    "l6"
   ]
  },
  {
   "cell_type": "code",
   "execution_count": 32,
   "id": "e9fc36b4",
   "metadata": {},
   "outputs": [],
   "source": [
    "l6[2][2]=1000"
   ]
  },
  {
   "cell_type": "code",
   "execution_count": 33,
   "id": "ebd3817b",
   "metadata": {},
   "outputs": [
    {
     "data": {
      "text/plain": [
       "[[1, 2, 3], [4, 5, 6], [7, 8, 1000]]"
      ]
     },
     "execution_count": 33,
     "metadata": {},
     "output_type": "execute_result"
    }
   ],
   "source": [
    "l6"
   ]
  },
  {
   "cell_type": "code",
   "execution_count": 34,
   "id": "41163e48",
   "metadata": {},
   "outputs": [
    {
     "data": {
      "text/plain": [
       "[[1, 2, 3], [4, 5, 6], [7, 8, 9]]"
      ]
     },
     "execution_count": 34,
     "metadata": {},
     "output_type": "execute_result"
    }
   ],
   "source": [
    "l5"
   ]
  },
  {
   "cell_type": "markdown",
   "id": "33099e72",
   "metadata": {},
   "source": [
    "### This will not make the changes b'coz it creates different memory location..."
   ]
  },
  {
   "cell_type": "code",
   "execution_count": null,
   "id": "2c5c2834",
   "metadata": {},
   "outputs": [],
   "source": []
  }
 ],
 "metadata": {
  "kernelspec": {
   "display_name": "Python 3",
   "language": "python",
   "name": "python3"
  },
  "language_info": {
   "codemirror_mode": {
    "name": "ipython",
    "version": 3
   },
   "file_extension": ".py",
   "mimetype": "text/x-python",
   "name": "python",
   "nbconvert_exporter": "python",
   "pygments_lexer": "ipython3",
   "version": "3.8.8"
  }
 },
 "nbformat": 4,
 "nbformat_minor": 5
}
