{
 "cells": [
  {
   "cell_type": "code",
   "execution_count": 3,
   "id": "c9e6b266",
   "metadata": {},
   "outputs": [
    {
     "name": "stdout",
     "output_type": "stream",
     "text": [
      "student1 belongs to: Datamites\n",
      "student2 belons to: Datamites\n"
     ]
    }
   ],
   "source": [
    "class student:\n",
    "    institute = \"Datamites\"      #class variable\n",
    "    \n",
    "s1 = student()  #constructor\n",
    "print(\"student1 belongs to:\",s1.institute)\n",
    "s2 = student()\n",
    "print(\"student2 belons to:\",s2.institute)    "
   ]
  },
  {
   "cell_type": "code",
   "execution_count": 6,
   "id": "8523d0d7",
   "metadata": {},
   "outputs": [
    {
     "name": "stdout",
     "output_type": "stream",
     "text": [
      "Student belongs to:  Datamites\n",
      "Student pursuing the course:  Data Science\n",
      "Name: Divya\n",
      "Age: 21\n",
      "Batch: 31 jan 2022\n",
      "-------\n",
      "Student belongs to: Datamites\n",
      "Student pursuing the course: Data Science\n",
      "Name: lovi\n",
      "Age: 21\n",
      "Batch: 31 jan 2022\n"
     ]
    }
   ],
   "source": [
    "class student:\n",
    "    institute = \"Datamites\"               # string variable\n",
    "    course = \"Data Science\"\n",
    "    def info(self,name,age,batch):\n",
    "        self.name = name\n",
    "        self.age = age\n",
    "        self.batch = batch\n",
    "    def print_info(self):\n",
    "        print(\"Name:\",self.name)\n",
    "        print(\"Age:\",self.age)\n",
    "        print(\"Batch:\",self.batch)\n",
    "        \n",
    "s1 = student()\n",
    "print(\"Student belongs to: \",s1.institute)\n",
    "print(\"Student pursuing the course: \",s1.course)\n",
    "s1.info(\"Divya\",21,\"31 jan 2022\")\n",
    "s1.print_info()\n",
    "print(\"-------\")\n",
    "s2 = student()\n",
    "print(\"Student belongs to:\",s2.institute)\n",
    "print(\"Student pursuing the course:\",s2.course)\n",
    "s2.info(\"lovi\",21,\"31 jan 2022\")\n",
    "s2.print_info()"
   ]
  },
  {
   "cell_type": "code",
   "execution_count": 4,
   "id": "9eaf56d5",
   "metadata": {},
   "outputs": [
    {
     "name": "stdout",
     "output_type": "stream",
     "text": [
      "I'm a default constructor & i help to create objects\n"
     ]
    }
   ],
   "source": [
    "# constructor---\n",
    "class student: \n",
    "    def __init__(self):           #initialize constructor   , #non parameterized constructor\n",
    "        print(\"I'm a default constructor & i help to create objects\")\n",
    "s1 = student()  # now it'll automatically invoke the print statement,,,,executes the constructor implicitly..."
   ]
  },
  {
   "cell_type": "code",
   "execution_count": 9,
   "id": "9fb40748",
   "metadata": {},
   "outputs": [
    {
     "name": "stdout",
     "output_type": "stream",
     "text": [
      "Student belongs to: datamites\n",
      "name: divya\n",
      "age: 20\n",
      "year: 4\n"
     ]
    }
   ],
   "source": [
    "class student:\n",
    "    institute= \"datamites\"\n",
    "    def __init__(self,name,age,year):               #parameterized constructor\n",
    "        self.name=name\n",
    "        self.age=age\n",
    "        self.year=year\n",
    "    def print_info(self):\n",
    "        print(\"name:\",self.name)\n",
    "        print(\"age:\",self.age)\n",
    "        print(\"year:\",self.year)\n",
    "s1= student(\"divya\",20,4)\n",
    "print(\"Student belongs to:\",s1.institute)\n",
    "s1.print_info()"
   ]
  },
  {
   "cell_type": "code",
   "execution_count": 1,
   "id": "c7c9e268",
   "metadata": {},
   "outputs": [
    {
     "name": "stdout",
     "output_type": "stream",
     "text": [
      "Software type: Android\n",
      "Default searching browser: Chrome\n",
      "Default messaging app: Messaging\n"
     ]
    }
   ],
   "source": [
    "class Mobile:\n",
    "    def __init__(self,software,browser,sms):\n",
    "        self.software=software\n",
    "        self.browser=browser\n",
    "        self.sms=sms\n",
    "        \n",
    "    def print_info(self):\n",
    "        print(\"Software type:\",self.software)\n",
    "        print(\"Default searching browser:\",self.browser)\n",
    "        print(\"Default messaging app:\",self.sms)\n",
    "        \n",
    "        \n",
    "v1=Mobile(\"Android\",\"Chrome\",\"Messaging\")\n",
    "v1.print_info()\n",
    "        \n",
    "        \n",
    "    "
   ]
  },
  {
   "cell_type": "code",
   "execution_count": 2,
   "id": "c25f96a4",
   "metadata": {},
   "outputs": [
    {
     "name": "stdout",
     "output_type": "stream",
     "text": [
      "Aniamals are herbivores and carnivores\n",
      "Lions are carnivores\n",
      "western ghats\n"
     ]
    }
   ],
   "source": [
    "#  Is a relationship--\n",
    "# single inheritance--\n",
    "class Animal:           #parent class/super class/base class\n",
    "    region = \"western ghats\"\n",
    "    \n",
    "    def eat(self):\n",
    "        print(\"Aniamals are herbivores and carnivores\")\n",
    "        \n",
    "class Lion(Animal):   #child class/sub class/intermediate class\n",
    "    \n",
    "    def show(self):\n",
    "      print(\"Lions are carnivores\")\n",
    "\n",
    "\n",
    "l1=Lion() \n",
    "l1.eat()\n",
    "l1.show()\n",
    "print(l1.region)"
   ]
  },
  {
   "cell_type": "code",
   "execution_count": 15,
   "id": "648eaf8e",
   "metadata": {},
   "outputs": [
    {
     "name": "stdout",
     "output_type": "stream",
     "text": [
      "There are so many diff. books in my library\n",
      "5 academic books are there\n",
      "3 books are of biology\n"
     ]
    }
   ],
   "source": [
    "# Multilevel inheritance---\n",
    "class book:\n",
    "    def book_details(self):\n",
    "        print(\"There are so many diff. books in my library\")\n",
    "        \n",
    "class academic(book):\n",
    "    def acd_details(self):\n",
    "        print(\"5 academic books are there\")\n",
    "\n",
    "class Biology_books(academic):\n",
    "    def bio_details(self):\n",
    "        print(\"3 books are of biology\")\n",
    "\n",
    "b1= Biology_books()\n",
    "b1.book_details()\n",
    "b1.acd_details()\n",
    "b1.bio_details()"
   ]
  },
  {
   "cell_type": "code",
   "execution_count": 1,
   "id": "f393e837",
   "metadata": {},
   "outputs": [
    {
     "name": "stdout",
     "output_type": "stream",
     "text": [
      "talkative\n",
      "sleeps alot\n",
      "eats alot\n"
     ]
    }
   ],
   "source": [
    "# Multiple inheritance---\n",
    "class father:\n",
    "    def action(self):\n",
    "        print(\"talkative\")\n",
    "        \n",
    "class mother:\n",
    "    def action1(self):\n",
    "        print(\"sleeps alot\")\n",
    "class child(father,mother):\n",
    "    def action2(self):\n",
    "        print(\"eats alot\")\n",
    "        \n",
    "c1=child()\n",
    "c1.action()\n",
    "c1.action1()\n",
    "c1.action2()\n",
    "        "
   ]
  },
  {
   "cell_type": "code",
   "execution_count": 2,
   "id": "a25c5cd6",
   "metadata": {},
   "outputs": [
    {
     "name": "stdout",
     "output_type": "stream",
     "text": [
      "creating diff. types of notebooks of A4 size\n",
      "The diary is made of A4 size paper  and contains 312 pages\n",
      "------\n",
      "creating diff. types of notebooks of B5 size\n",
      "this notebook is also made of B5 size paper and contains 23 pages\n"
     ]
    }
   ],
   "source": [
    "# Hierarichal inheritance\n",
    "class paper:\n",
    "     \n",
    "    def a4_size(self):\n",
    "         print(\"creating diff. types of notebooks of A4 size\")\n",
    "            \n",
    "    def b5_size(self):\n",
    "        print(\"creating diff. types of notebooks of B5 size\")\n",
    "\n",
    "class diary(paper):\n",
    "    def diary_details(self):\n",
    "         print(\"The diary is made of A4 size paper  and contains 312 pages\")\n",
    "\n",
    "class simple_nb(paper):\n",
    "    def simple_nb_details(self):\n",
    "         print(\"this notebook is also made of B5 size paper and contains 23 pages\")\n",
    "\n",
    "\n",
    "d1=diary()\n",
    "d1.a4_size()\n",
    "d1.diary_details()\n",
    "print(\"------\")\n",
    "s1=simple_nb()\n",
    "s1.b5_size()\n",
    "s1.simple_nb_details()\n",
    "\n",
    "\n",
    "\n",
    "        \n",
    "    "
   ]
  },
  {
   "cell_type": "markdown",
   "id": "5f3f55ee",
   "metadata": {},
   "source": [
    "### Polymorphism- overriding"
   ]
  },
  {
   "cell_type": "code",
   "execution_count": 1,
   "id": "83cd9f11",
   "metadata": {},
   "outputs": [
    {
     "name": "stdout",
     "output_type": "stream",
     "text": [
      "cat's love to eat cheese\n"
     ]
    }
   ],
   "source": [
    "class Animal:\n",
    "    def eat(self):\n",
    "        print(\"all animals eat\")\n",
    "class dog(Animal):\n",
    "    def eat(self):\n",
    "        print(\"dogs love to aet pedigree\")\n",
    "class cat(Animal):\n",
    "    def eat(self):\n",
    "        print(\"cat's love to eat cheese\")\n",
    "\n",
    "c1=cat()\n",
    "c1.eat()       #runtime polymorphism  becoz when we execute this then we will come to know which function is called"
   ]
  },
  {
   "cell_type": "code",
   "execution_count": 3,
   "id": "61256b8a",
   "metadata": {},
   "outputs": [
    {
     "name": "stdout",
     "output_type": "stream",
     "text": [
      "roi is 8%\n",
      "roi is 10%\n"
     ]
    }
   ],
   "source": [
    "class Bank:\n",
    "    def roi(self):\n",
    "        print(\"banks rate of interest\")\n",
    "class axis(Bank):\n",
    "    def roi(self):\n",
    "        print(\"roi is 10%\")\n",
    "class pnb(Bank):\n",
    "    def roi(self):\n",
    "        print(\"roi is 8%\")\n",
    "\n",
    "p1=pnb()\n",
    "p1.roi()\n",
    "a1=axis()\n",
    "a1.roi()"
   ]
  },
  {
   "cell_type": "markdown",
   "id": "642818a9",
   "metadata": {},
   "source": [
    "##  Encapsulation --- securing the code/Binding code and data---"
   ]
  },
  {
   "cell_type": "code",
   "execution_count": 6,
   "id": "a21f206e",
   "metadata": {},
   "outputs": [
    {
     "name": "stdout",
     "output_type": "stream",
     "text": [
      "SSIET\n"
     ]
    }
   ],
   "source": [
    "class student:\n",
    "    college=\"SSIET\"            #public variable  ---anyboody can accsess the variable outside theclass\n",
    "    \n",
    "s1=student()\n",
    "print(s1.college)"
   ]
  },
  {
   "cell_type": "code",
   "execution_count": 1,
   "id": "2b90d8a1",
   "metadata": {},
   "outputs": [
    {
     "data": {
      "text/plain": [
       "' college name is: SSIET'"
      ]
     },
     "execution_count": 1,
     "metadata": {},
     "output_type": "execute_result"
    }
   ],
   "source": [
    "class student:\n",
    "    __college=\"SSIET\"            #private variable  \n",
    "    def set_college(self,college):\n",
    "        self.__college=college\n",
    "    def get_college(self):\n",
    "        return f\" college name is: {self.__college}\"\n",
    "s1=student()\n",
    "s1.get_college()"
   ]
  },
  {
   "cell_type": "code",
   "execution_count": 11,
   "id": "04dd7dec",
   "metadata": {},
   "outputs": [
    {
     "name": "stdout",
     "output_type": "stream",
     "text": [
      "SSIET\n"
     ]
    },
    {
     "ename": "NameError",
     "evalue": "name '_college' is not defined",
     "output_type": "error",
     "traceback": [
      "\u001b[1;31m---------------------------------------------------------------------------\u001b[0m",
      "\u001b[1;31mNameError\u001b[0m                                 Traceback (most recent call last)",
      "\u001b[1;32m<ipython-input-11-bf962b8c93bf>\u001b[0m in \u001b[0;36m<module>\u001b[1;34m\u001b[0m\n\u001b[0;32m     13\u001b[0m \u001b[0mprint\u001b[0m\u001b[1;33m(\u001b[0m\u001b[0mj1\u001b[0m\u001b[1;33m.\u001b[0m\u001b[0m_college\u001b[0m\u001b[1;33m)\u001b[0m\u001b[1;33m\u001b[0m\u001b[1;33m\u001b[0m\u001b[0m\n\u001b[0;32m     14\u001b[0m \u001b[0mm1\u001b[0m\u001b[1;33m=\u001b[0m\u001b[0mmiddle_class\u001b[0m\u001b[1;33m(\u001b[0m\u001b[1;33m)\u001b[0m\u001b[1;33m\u001b[0m\u001b[1;33m\u001b[0m\u001b[0m\n\u001b[1;32m---> 15\u001b[1;33m \u001b[0mm1\u001b[0m\u001b[1;33m.\u001b[0m\u001b[0mshow_details\u001b[0m\u001b[1;33m(\u001b[0m\u001b[1;33m)\u001b[0m\u001b[1;33m\u001b[0m\u001b[1;33m\u001b[0m\u001b[0m\n\u001b[0m",
      "\u001b[1;32m<ipython-input-11-bf962b8c93bf>\u001b[0m in \u001b[0;36mshow_details\u001b[1;34m(self)\u001b[0m\n\u001b[0;32m      7\u001b[0m \u001b[1;32mclass\u001b[0m \u001b[0mmiddle_class\u001b[0m\u001b[1;33m:\u001b[0m\u001b[1;33m\u001b[0m\u001b[1;33m\u001b[0m\u001b[0m\n\u001b[0;32m      8\u001b[0m     \u001b[1;32mdef\u001b[0m \u001b[0mshow_details\u001b[0m\u001b[1;33m(\u001b[0m\u001b[0mself\u001b[0m\u001b[1;33m)\u001b[0m\u001b[1;33m:\u001b[0m\u001b[1;33m\u001b[0m\u001b[1;33m\u001b[0m\u001b[0m\n\u001b[1;32m----> 9\u001b[1;33m         \u001b[0mprint\u001b[0m\u001b[1;33m(\u001b[0m\u001b[0m_college\u001b[0m\u001b[1;33m)\u001b[0m\u001b[1;33m\u001b[0m\u001b[1;33m\u001b[0m\u001b[0m\n\u001b[0m\u001b[0;32m     10\u001b[0m \u001b[1;33m\u001b[0m\u001b[0m\n\u001b[0;32m     11\u001b[0m \u001b[1;33m\u001b[0m\u001b[0m\n",
      "\u001b[1;31mNameError\u001b[0m: name '_college' is not defined"
     ]
    }
   ],
   "source": [
    "class student:\n",
    "    _college=\"SSIET\"                      #protected variable there should be the concept of inheritance\n",
    "class junior(student):\n",
    "    def show(self):\n",
    "        print(\"this is show method\")\n",
    "\n",
    "class middle_class:\n",
    "    def show_details(self):\n",
    "        print(_college)\n",
    "        \n",
    "        \n",
    "j1=junior()\n",
    "print(j1._college)\n",
    "m1=middle_class()\n",
    "m1.show_details()"
   ]
  },
  {
   "cell_type": "code",
   "execution_count": 12,
   "id": "6de7be20",
   "metadata": {},
   "outputs": [
    {
     "name": "stdout",
     "output_type": "stream",
     "text": [
      "10k\n"
     ]
    }
   ],
   "source": [
    "class employee:\n",
    "    _salary=\"10k\"\n",
    "\n",
    "e1=employee()    \n",
    "print(e1._salary)                  #so protected will acts as s public"
   ]
  },
  {
   "cell_type": "code",
   "execution_count": 13,
   "id": "d427abe8",
   "metadata": {},
   "outputs": [
    {
     "name": "stdout",
     "output_type": "stream",
     "text": [
      "Employee's salary\n",
      "20k\n"
     ]
    }
   ],
   "source": [
    "class emp:\n",
    "    def show_salary(self):              #public function\n",
    "        print(\"Employee's salary\")\n",
    "        salary=\"20k\"\n",
    "        print(salary)\n",
    "e1=emp()\n",
    "e1.show_salary()"
   ]
  },
  {
   "cell_type": "code",
   "execution_count": 6,
   "id": "17c60a54",
   "metadata": {},
   "outputs": [
    {
     "name": "stdout",
     "output_type": "stream",
     "text": [
      "Employee's salary\n",
      "20k\n"
     ]
    }
   ],
   "source": [
    "class emp:\n",
    "    def __show_salary(self):              #private function\n",
    "        print(\"Employee's salary\")\n",
    "        salary=\"20k\"\n",
    "        print(salary)\n",
    "    def call_private(self):\n",
    "        self.__show_salary()\n",
    "        \n",
    "        \n",
    "e1=emp()\n",
    "e1.call_private()\n",
    "# The private methodsof the class cannot be accessed outside the class nor by any base class.\n",
    "# However,private methods can be accessed by calling the private methods via public methods\n"
   ]
  },
  {
   "cell_type": "markdown",
   "id": "aa9e9251",
   "metadata": {},
   "source": [
    "###  Abstraction----  we don't know how the fucntions do a particular task internally--- "
   ]
  },
  {
   "cell_type": "code",
   "execution_count": 7,
   "id": "a5979676",
   "metadata": {},
   "outputs": [
    {
     "name": "stdout",
     "output_type": "stream",
     "text": [
      "7% is the interest\n"
     ]
    },
    {
     "ename": "TypeError",
     "evalue": "Can't instantiate abstract class Bank with abstract methods roi",
     "output_type": "error",
     "traceback": [
      "\u001b[1;31m---------------------------------------------------------------------------\u001b[0m",
      "\u001b[1;31mTypeError\u001b[0m                                 Traceback (most recent call last)",
      "\u001b[1;32m<ipython-input-7-d8f8e28673ef>\u001b[0m in \u001b[0;36m<module>\u001b[1;34m\u001b[0m\n\u001b[0;32m     16\u001b[0m \u001b[0ms1\u001b[0m\u001b[1;33m=\u001b[0m\u001b[0msbi\u001b[0m\u001b[1;33m(\u001b[0m\u001b[1;33m)\u001b[0m\u001b[1;33m\u001b[0m\u001b[1;33m\u001b[0m\u001b[0m\n\u001b[0;32m     17\u001b[0m \u001b[0ms1\u001b[0m\u001b[1;33m.\u001b[0m\u001b[0mroi\u001b[0m\u001b[1;33m(\u001b[0m\u001b[1;33m)\u001b[0m\u001b[1;33m\u001b[0m\u001b[1;33m\u001b[0m\u001b[0m\n\u001b[1;32m---> 18\u001b[1;33m \u001b[0mb1\u001b[0m\u001b[1;33m=\u001b[0m\u001b[0mBank\u001b[0m\u001b[1;33m(\u001b[0m\u001b[1;33m)\u001b[0m\u001b[1;33m\u001b[0m\u001b[1;33m\u001b[0m\u001b[0m\n\u001b[0m\u001b[0;32m     19\u001b[0m \u001b[0mb1\u001b[0m\u001b[1;33m.\u001b[0m\u001b[0mroi\u001b[0m\u001b[1;33m(\u001b[0m\u001b[1;33m)\u001b[0m\u001b[1;33m\u001b[0m\u001b[1;33m\u001b[0m\u001b[0m\n",
      "\u001b[1;31mTypeError\u001b[0m: Can't instantiate abstract class Bank with abstract methods roi"
     ]
    }
   ],
   "source": [
    "from abc import ABC,abstractmethod\n",
    "\n",
    "class Bank(ABC):\n",
    "    @abstractmethod                       #hiding the internal details\n",
    "    def roi(Self):\n",
    "            \n",
    "           ... \n",
    "class sbi(Bank):\n",
    "    def roi(self):\n",
    "        print(\"7% is the interest\")\n",
    "        \n",
    "        \n",
    "class pnb(Bank):\n",
    "    def roi(self):\n",
    "        print(\"8% is the interest\")\n",
    "s1=sbi()\n",
    "s1.roi()\n",
    "b1=Bank()\n",
    "b1.roi()"
   ]
  },
  {
   "cell_type": "markdown",
   "id": "ff59ca15",
   "metadata": {},
   "source": [
    "### All four aspects of a generic OOP framework are supported by python's oops system:\n",
    "Encapsulation,Abstraction,Inheritance,Polymorphism=="
   ]
  },
  {
   "cell_type": "markdown",
   "id": "609980f4",
   "metadata": {},
   "source": [
    "Classes and Objects--- A class is a collection of instance variables and related methods that define a particular object type.You can think of a class as an object's blueprint or template.Attributes are the names given to the variables that make up a class. A class instance with a defined set of properties is called an object.As a result,the same class can be used to construct as many objects as needed. Let's define a class named Book for a bookseller's sales software---"
   ]
  },
  {
   "cell_type": "code",
   "execution_count": 1,
   "id": "af95e287",
   "metadata": {},
   "outputs": [],
   "source": [
    "class Book:\n",
    "    def __init__(self,title,quantity,author,price):\n",
    "        self.title=title\n",
    "        self.quantity=quantity\n",
    "        self.author=author\n",
    "        self.price=price"
   ]
  },
  {
   "cell_type": "markdown",
   "id": "a24b16a5",
   "metadata": {},
   "source": [
    "The __init__ special method, also known as constructor,is used to initialize Book class with attributes such as title,quantity,author,price.\n",
    "In Python,built-in classes are named in lower case,but user-defined classes are named in Camel or Snake Case,with the first letter capitalized\n",
    "This \"Book\" named class can be instantiated in any no. of objects. Three books are instantiated in the following example code:\n"
   ]
  },
  {
   "cell_type": "code",
   "execution_count": 2,
   "id": "5ee8f3ec",
   "metadata": {},
   "outputs": [],
   "source": [
    "book1=Book(\"Book1\",12,\"Author1\",1200)\n",
    "book2=Book(\"Book2\",10,\"Author2\",1000)\n",
    "book3=Book(\"Book3\",8,\"Author2\",800)     \n",
    "# book1,book2,book3 are distinct objects of the class Book. \n",
    "# The term self in the attributes refers to the corresponding instances(objects)."
   ]
  },
  {
   "cell_type": "code",
   "execution_count": 3,
   "id": "c80d59db",
   "metadata": {},
   "outputs": [
    {
     "name": "stdout",
     "output_type": "stream",
     "text": [
      "<__main__.Book object at 0x000002AD40892DF0>\n",
      "<__main__.Book object at 0x000002AD40892D60>\n",
      "<__main__.Book object at 0x000002AD40892B80>\n"
     ]
    }
   ],
   "source": [
    "print(book1)\n",
    "print(book2)\n",
    "print(book3)"
   ]
  },
  {
   "cell_type": "markdown",
   "id": "20b74f5f",
   "metadata": {},
   "source": [
    "The class and memory location of the objects are printed when they are printed.\n",
    "We can't expect them to provide specific information on the qualities,such as the title,author,quantity,price.\n",
    "But we can use a specific method called __repr__ to do this.\n",
    "In Python a special method is defined function that starts and ends with two underscores and is invoked automatically when certain conditions are met"
   ]
  },
  {
   "cell_type": "code",
   "execution_count": 4,
   "id": "18060c01",
   "metadata": {},
   "outputs": [
    {
     "name": "stdout",
     "output_type": "stream",
     "text": [
      "Book:Book1,Quantity:12,Author:Author1,Price:1200\n",
      "Book:Book2,Quantity:10,Author:Author2,Price:1000\n",
      "Book:Book3,Quantity:8,Author:Author2,Price:800\n"
     ]
    }
   ],
   "source": [
    "class Book:\n",
    "    def __init__(self,title,quantity,author,price):\n",
    "        self.title=title\n",
    "        self.quantity=quantity\n",
    "        self.author=author\n",
    "        self.price=price\n",
    "    def __repr__(self):\n",
    "        return f\"Book:{self.title},Quantity:{self.quantity},Author:{self.author},Price:{self.price}\"\n",
    "book1=Book(\"Book1\",12,\"Author1\",1200)\n",
    "book2=Book(\"Book2\",10,\"Author2\",1000)\n",
    "book3=Book(\"Book3\",8,\"Author2\",800)\n",
    "\n",
    "print(book1)\n",
    "print(book2)\n",
    "print(book3)"
   ]
  },
  {
   "cell_type": "markdown",
   "id": "f6c1dff9",
   "metadata": {},
   "source": [
    "### Encapsulation----\n",
    "\n",
    "It is the process of preventing clients from accessing certain properties,which can only be accessed through specific methods.\n",
    "\n",
    "Private attributes are inaccessible attributes,and information hiding is the process of making particular attributes private. You use two underscores to declare private characteristics.\n",
    "\n",
    "Let's introduce a private attribute called __discount in the Book class.\n"
   ]
  },
  {
   "cell_type": "code",
   "execution_count": 5,
   "id": "36c2b949",
   "metadata": {},
   "outputs": [
    {
     "name": "stdout",
     "output_type": "stream",
     "text": [
      " Book: Hey world, Quantity: 14, Author: blew, Price: 1500\n"
     ]
    },
    {
     "ename": "AttributeError",
     "evalue": "'Book' object has no attribute '__discount'",
     "output_type": "error",
     "traceback": [
      "\u001b[1;31m---------------------------------------------------------------------------\u001b[0m",
      "\u001b[1;31mAttributeError\u001b[0m                            Traceback (most recent call last)",
      "\u001b[1;32m<ipython-input-5-034d6fe719d1>\u001b[0m in \u001b[0;36m<module>\u001b[1;34m\u001b[0m\n\u001b[0;32m     10\u001b[0m \u001b[0mbook1\u001b[0m\u001b[1;33m=\u001b[0m\u001b[0mBook\u001b[0m\u001b[1;33m(\u001b[0m\u001b[1;34m\"Hey world\"\u001b[0m\u001b[1;33m,\u001b[0m\u001b[1;36m14\u001b[0m\u001b[1;33m,\u001b[0m\u001b[1;34m\"blew\"\u001b[0m\u001b[1;33m,\u001b[0m\u001b[1;36m1500\u001b[0m\u001b[1;33m)\u001b[0m\u001b[1;33m\u001b[0m\u001b[1;33m\u001b[0m\u001b[0m\n\u001b[0;32m     11\u001b[0m \u001b[0mprint\u001b[0m\u001b[1;33m(\u001b[0m\u001b[0mbook1\u001b[0m\u001b[1;33m)\u001b[0m\u001b[1;33m\u001b[0m\u001b[1;33m\u001b[0m\u001b[0m\n\u001b[1;32m---> 12\u001b[1;33m \u001b[0mprint\u001b[0m\u001b[1;33m(\u001b[0m\u001b[0mbook1\u001b[0m\u001b[1;33m.\u001b[0m\u001b[0m__discount\u001b[0m\u001b[1;33m)\u001b[0m\u001b[1;33m\u001b[0m\u001b[1;33m\u001b[0m\u001b[0m\n\u001b[0m",
      "\u001b[1;31mAttributeError\u001b[0m: 'Book' object has no attribute '__discount'"
     ]
    }
   ],
   "source": [
    "class Book:\n",
    "    def __init__(self,title,quantity,author,price):\n",
    "        self.title=title\n",
    "        self.quantity=quantity\n",
    "        self.author=author\n",
    "        self.price=price\n",
    "        self.__discount=0.10\n",
    "    def __repr__(self):\n",
    "        return f\" Book: {self.title}, Quantity: {self.quantity}, Author: {self.author}, Price: {self.price}\"\n",
    "book1=Book(\"Hey world\",14,\"blew\",1500)\n",
    "print(book1)\n",
    "print(book1.__discount)\n"
   ]
  },
  {
   "cell_type": "markdown",
   "id": "31d53a18",
   "metadata": {},
   "source": [
    "We can see that all the attributes are printed except the private attribute __discount. You use getter and setter methods to access private attributes. We make the price property private in the follwing example, and use a setter method to assign the discount attribute and a getter function to get the price attribute----"
   ]
  },
  {
   "cell_type": "code",
   "execution_count": 6,
   "id": "e92e3d85",
   "metadata": {},
   "outputs": [],
   "source": [
    "class Book:\n",
    "    def __init__(self,title,quantity,author,price):\n",
    "        self.title=title\n",
    "        self.quantity=quantity\n",
    "        self.author=author\n",
    "        self.__price=price\n",
    "        self.__discount= None\n",
    "    \n",
    "    def set_discount(self,discount):\n",
    "        self.__discount=discount\n",
    "        \n",
    "    def get_price(self):\n",
    "        if self.__discount:\n",
    "            return self.__price * (1-self.__discount)\n",
    "        return self.__price\n",
    "    \n",
    "    def __repr__(self):\n",
    "            return f\"Book:{self.title},Quantity:{self.quantity},Author:{self.author},Price: {self.get_price()}\"\n"
   ]
  },
  {
   "cell_type": "markdown",
   "id": "0bdf92d4",
   "metadata": {},
   "source": [
    "This time we'll create two objects, one for the purchase of single book and another for the purchase \n",
    "of books in bulk quantity. While purchasing booksin bulk quantity, weget a discount of 20% in that case.  "
   ]
  },
  {
   "cell_type": "code",
   "execution_count": 7,
   "id": "f00e7bd5",
   "metadata": {},
   "outputs": [
    {
     "name": "stdout",
     "output_type": "stream",
     "text": [
      "2000\n",
      "1600.0\n",
      "Book:Two States,Quantity:1,Author:Chetan Bhagat,Price: 2000\n",
      "Book:Two States,Quantity:25,Author:Chetan Bhagat,Price: 1600.0\n"
     ]
    }
   ],
   "source": [
    "single_book=Book(\"Two States\",1,\"Chetan Bhagat\",2000)\n",
    "\n",
    "bulk_books=Book(\"Two States\",25,\"Chetan Bhagat\",2000)\n",
    "bulk_books.set_discount(0.20)\n",
    "\n",
    "print(single_book.get_price())\n",
    "print(bulk_books.get_price())\n",
    "print(single_book)\n",
    "print(bulk_books)"
   ]
  },
  {
   "cell_type": "markdown",
   "id": "ec582c11",
   "metadata": {},
   "source": [
    "### Inheritance-------\n",
    "*Inheritance is regarded as the most significant characteristics of OOP.A class's ability to inherit methods and/or characteristics from another class is known as inheritance. *The subclass or child class is the class that inherits.The superclass or parent class is the class from which methods and/or attributes are inherited. *Two new classes have been added to our bookseleer's sales software. a Novel and Academic class. *We can see that regardless of whether a book is classified as novel or academic,it may have similar attributes like title and author, as well as common methods like get_price() and set_discount(). Rewriting all that code for each new class is a waste of time, effort,and memory."
   ]
  },
  {
   "cell_type": "code",
   "execution_count": 8,
   "id": "639368b1",
   "metadata": {},
   "outputs": [
    {
     "name": "stdout",
     "output_type": "stream",
     "text": [
      "Book:Two states,Quantity:chetan bhagat,Author:20,Price: 160.0\n",
      "Book:biology,Quantity:1,Author:dinesh,Price: 1500\n"
     ]
    }
   ],
   "source": [
    "class Book:\n",
    "    def __init__(self,title,quantity,author,price):\n",
    "        self.title=title\n",
    "        self.quantity=quantity\n",
    "        self.author=author\n",
    "        self.__price=price\n",
    "        self.__discount= None\n",
    "    \n",
    "    def set_discount(self,discount):\n",
    "        self.__discount=discount\n",
    "        \n",
    "    def get_price(self):\n",
    "        if self.__discount:\n",
    "            return self.__price * (1-self.__discount)\n",
    "        return self.__price\n",
    "    \n",
    "    def __repr__(self):\n",
    "            return f\"Book:{self.title},Quantity:{self.quantity},Author:{self.author},Price: {self.get_price()}\"\n",
    "\n",
    "class Novel(Book):\n",
    "    def __init__(self,title,quantity,author,price,pages):\n",
    "        super().__init__(title,author,quantity,price)\n",
    "        self.pages=pages\n",
    "class Academic(Book):\n",
    "    def __init__(self,title,quantity,author,price,branch):\n",
    "        super().__init__(title,quantity,author,price)\n",
    "        self.branch=branch\n",
    "        \n",
    "        \n",
    "# let's create objects for three classes to visualize them----\n",
    "\n",
    "novel1=Novel(\"Two states\",20,\"chetan bhagat\",200,187)\n",
    "novel1.set_discount(0.20)\n",
    "\n",
    "academic1=Academic(\"biology\",1,\"dinesh\",1500,\"Medical\")\n",
    "\n",
    "print(novel1)\n",
    "print(academic1)\n",
    "        "
   ]
  },
  {
   "cell_type": "markdown",
   "id": "518ca6bb",
   "metadata": {},
   "source": [
    "### Polymorphism------\n",
    "Polymorphism refers to a subclass's ability to adapt a method that already exists in its superclass to meet its needs. To put it another way, a subclass can use a method from its superclass as is or modify it as needed."
   ]
  },
  {
   "cell_type": "code",
   "execution_count": 9,
   "id": "ce95e20d",
   "metadata": {},
   "outputs": [
    {
     "name": "stdout",
     "output_type": "stream",
     "text": [
      "Book: Biology, Branch: Medical, Quantity: 13, Author: DINESH, Price: 1500\n"
     ]
    }
   ],
   "source": [
    "class Academic(Book):\n",
    "    def __init__(self,title,quantity,author,price,branch):\n",
    "        super().__init__(title,quantity,author,price)\n",
    "        self.branch=branch\n",
    "    def __repr__(self):\n",
    "        return f\"Book: {self.title}, Branch: {self.branch}, Quantity: {self.quantity}, Author: {self.author}, Price: {self.get_price()}\"\n",
    "academic1=Academic(\"Biology\",13,\"DINESH\",1500,\"Medical\")\n",
    "\n",
    "print(academic1)"
   ]
  },
  {
   "cell_type": "markdown",
   "id": "3cb888b5",
   "metadata": {},
   "source": [
    "# Abstraction----\n",
    "Abstraction isn't supported directly in Python. Calling a magic method,on the other hand,allows for abstraction.\n",
    "\n",
    "If an abstract method is declared in a superclass, subclasses that inherit from the superclass must have their own implementation of the method.\n",
    " **A superclass's abstract method will never be called by its subclasses. But the abstraction aids in the maintenance of a similar structure across all subclasses.\n",
    " **In our parent class Book, we have defined the __repr__ method. Let's make that method abstract,forcing every subclass to compulsorily have its own __repr__ method."
   ]
  },
  {
   "cell_type": "code",
   "execution_count": 10,
   "id": "34f12574",
   "metadata": {},
   "outputs": [
    {
     "name": "stdout",
     "output_type": "stream",
     "text": [
      "Book: Two states,  Quantity: 20, Author: Chetan Bhagat, Price: 200, Pages: 187\n",
      "Book: Python,  Quantity: 12, Author: PSF, Price: 655, Branch: IT\n"
     ]
    }
   ],
   "source": [
    "from abc import ABC, abstractmethod\n",
    "\n",
    "class Book(ABC):\n",
    "    def __init__(self,title,quantity,author,price):\n",
    "        self.title=title\n",
    "        self.quantity=quantity\n",
    "        self.author=author\n",
    "        self.__price=price\n",
    "        self.__discount=None\n",
    "        \n",
    "    def set_discount(self,discount):\n",
    "        self.discount=discount\n",
    "    \n",
    "    def get_price(self):\n",
    "        if self.__discount:\n",
    "            return self.__price *(1-self.__discount)\n",
    "        return self.__price\n",
    "    \n",
    "    @abstractmethod\n",
    "    def __repr__(self):\n",
    "        return f\"Book: {self.title}, Quantity: {self.quantity}, Author: {self.author}, Price: {self.price}\"\n",
    "        \n",
    "class Novel(Book):\n",
    "    def __init__(self,title,quantity,author,price,pages):\n",
    "        super().__init__(title,quantity,author,price)\n",
    "        self.pages=pages\n",
    "    def __repr__(self):\n",
    "        return f\"Book: {self.title},  Quantity: {self.quantity}, Author: {self.author}, Price: {self.get_price()}, Pages: {self.pages}\"\n",
    " \n",
    "class Academic(Book):\n",
    "    def __init__(self,title,quantity,author,price,branch):\n",
    "        super().__init__(title,quantity,author,price)\n",
    "        self.branch=branch\n",
    "        \n",
    "    def __repr__(self):\n",
    "        return f\"Book: {self.title},  Quantity: {self.quantity}, Author: {self.author}, Price: {self.get_price()}, Branch: {self.branch}\"\n",
    "\n",
    "novel1=Novel(\"Two states\",20,\"Chetan Bhagat\",200,187)\n",
    "novel1.set_discount(0.20)\n",
    "\n",
    "academic1=Academic(\"Python\",12,\"PSF\",655,\"IT\")\n",
    "\n",
    "print(novel1)\n",
    "print(academic1)\n",
    "    \n",
    "    \n",
    "    \n",
    "    \n",
    "    "
   ]
  },
  {
   "cell_type": "markdown",
   "id": "91e57498",
   "metadata": {},
   "source": [
    "In the above code, we have inherited the ABC class to create the Book class. We've made the __repr__ methods abstract by adding the @abstractmethod decorator.  "
   ]
  },
  {
   "cell_type": "markdown",
   "id": "64b38453",
   "metadata": {},
   "source": [
    "###   Method Overloading----\n",
    "The concept of method overloading is found in almost every well-known programming language that follows object_oriented programming concepts. It simply refers to the use of many methods with the same name that take various numbers of arguments within a single class.\n",
    "\n",
    "Let's now understand method overloading with the help of he following code:"
   ]
  },
  {
   "cell_type": "code",
   "execution_count": 11,
   "id": "4d0d5a41",
   "metadata": {},
   "outputs": [
    {
     "ename": "TypeError",
     "evalue": "add() missing 1 required positional argument: 'z'",
     "output_type": "error",
     "traceback": [
      "\u001b[1;31m---------------------------------------------------------------------------\u001b[0m",
      "\u001b[1;31mTypeError\u001b[0m                                 Traceback (most recent call last)",
      "\u001b[1;32m<ipython-input-11-6eb6477de96f>\u001b[0m in \u001b[0;36m<module>\u001b[1;34m\u001b[0m\n\u001b[0;32m      5\u001b[0m         \u001b[0mprint\u001b[0m\u001b[1;33m(\u001b[0m\u001b[0mx\u001b[0m\u001b[1;33m+\u001b[0m\u001b[0my\u001b[0m\u001b[1;33m+\u001b[0m\u001b[0mz\u001b[0m\u001b[1;33m)\u001b[0m\u001b[1;33m\u001b[0m\u001b[1;33m\u001b[0m\u001b[0m\n\u001b[0;32m      6\u001b[0m \u001b[0mobj\u001b[0m\u001b[1;33m=\u001b[0m\u001b[0mOverloadingDemo\u001b[0m\u001b[1;33m(\u001b[0m\u001b[1;33m)\u001b[0m\u001b[1;33m\u001b[0m\u001b[1;33m\u001b[0m\u001b[0m\n\u001b[1;32m----> 7\u001b[1;33m \u001b[0mobj\u001b[0m\u001b[1;33m.\u001b[0m\u001b[0madd\u001b[0m\u001b[1;33m(\u001b[0m\u001b[1;36m2\u001b[0m\u001b[1;33m,\u001b[0m\u001b[1;36m3\u001b[0m\u001b[1;33m)\u001b[0m\u001b[1;33m\u001b[0m\u001b[1;33m\u001b[0m\u001b[0m\n\u001b[0m",
      "\u001b[1;31mTypeError\u001b[0m: add() missing 1 required positional argument: 'z'"
     ]
    }
   ],
   "source": [
    "class OverloadingDemo:\n",
    "    def add(self,x,y):\n",
    "        print(x+y)\n",
    "    def add(self,x,y,z):\n",
    "        print(x+y+z)\n",
    "obj=OverloadingDemo()\n",
    "obj.add(2,3)"
   ]
  },
  {
   "cell_type": "markdown",
   "id": "8ac32a8b",
   "metadata": {},
   "source": [
    "You're probably wondering why this happened.As a result, the error is displayed because Python only remembers the most recent definition of add which takes three parameters in addition to self. As a result, three arguments must be assed to the add() function when it is called.Toput it another way, it disregards the prior definition of add().\n",
    "Thus python doesn't support Method Overloading by default."
   ]
  },
  {
   "cell_type": "markdown",
   "id": "13f3f69e",
   "metadata": {},
   "source": [
    "### When a method with the same name and arguments is used in both a derived class and a base or super class, we say that the derived class method \"overrides\" the method provided in the base class.\n",
    "\n",
    "When the overridden method gets called, the derived class's method is always invoked. The method that was used in the base class is now hidden."
   ]
  },
  {
   "cell_type": "code",
   "execution_count": 12,
   "id": "bfdf3d67",
   "metadata": {},
   "outputs": [
    {
     "name": "stdout",
     "output_type": "stream",
     "text": [
      "I am a parent class\n",
      "I am a child class\n"
     ]
    }
   ],
   "source": [
    "class ParentClass():\n",
    "    def call_me(self):\n",
    "        print(\"I am a parent class\")\n",
    "class ChildClass(ParentClass):\n",
    "    def call_me(self):\n",
    "        print(\"I am a child class\")\n",
    "pobj=ParentClass()\n",
    "pobj.call_me()\n",
    "\n",
    "cobj=ChildClass()\n",
    "cobj.call_me()"
   ]
  },
  {
   "cell_type": "markdown",
   "id": "d2b7e0f0",
   "metadata": {},
   "source": [
    "### In the above code,when the call_me() method was called on the child object, the call_me() from the child class was invoked. We can invoke the parent class's call_me() method from the child class using super(). like this-----"
   ]
  },
  {
   "cell_type": "code",
   "execution_count": 13,
   "id": "32bb7960",
   "metadata": {},
   "outputs": [
    {
     "name": "stdout",
     "output_type": "stream",
     "text": [
      "Just call the derived class\n",
      "wait! I'm busy\n"
     ]
    }
   ],
   "source": [
    "class ParentClass():\n",
    "    def call_me(self):\n",
    "        print(\"Just call the derived class\")\n",
    "class ChildClass(ParentClass):\n",
    "    def call_me(self):\n",
    "        super().call_me()\n",
    "        print(\"wait! I'm busy\")\n",
    "        \n",
    "cobj=ChildClass()\n",
    "cobj.call_me()"
   ]
  },
  {
   "cell_type": "code",
   "execution_count": null,
   "id": "eb7d85fb",
   "metadata": {},
   "outputs": [],
   "source": []
  }
 ],
 "metadata": {
  "kernelspec": {
   "display_name": "Python 3",
   "language": "python",
   "name": "python3"
  },
  "language_info": {
   "codemirror_mode": {
    "name": "ipython",
    "version": 3
   },
   "file_extension": ".py",
   "mimetype": "text/x-python",
   "name": "python",
   "nbconvert_exporter": "python",
   "pygments_lexer": "ipython3",
   "version": "3.8.8"
  }
 },
 "nbformat": 4,
 "nbformat_minor": 5
}
