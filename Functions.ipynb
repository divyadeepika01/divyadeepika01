{
 "cells": [
  {
   "cell_type": "markdown",
   "id": "e9f07423",
   "metadata": {},
   "source": [
    "# Function :-"
   ]
  },
  {
   "cell_type": "markdown",
   "id": "bfa1f008",
   "metadata": {},
   "source": [
    "### A function is a block of organized code written to carry out a specified task.\n",
    "\n",
    "Function help break our programinto smaller nd modular chunks for better readability. Information can be passed into function as arguments.\n",
    "\n",
    "Parameters are specified after the function name inside the parenthesis."
   ]
  },
  {
   "cell_type": "code",
   "execution_count": 5,
   "id": "f549a308",
   "metadata": {},
   "outputs": [],
   "source": [
    "#  Definition of function-->\n",
    "\n",
    "# Functions with no arguments and with return value :-  \n",
    "\n",
    "def name_of_function():\n",
    "    print(\"hello\")"
   ]
  },
  {
   "cell_type": "code",
   "execution_count": 6,
   "id": "e1441040",
   "metadata": {},
   "outputs": [
    {
     "name": "stdout",
     "output_type": "stream",
     "text": [
      "hello\n"
     ]
    }
   ],
   "source": [
    "#  Calling the function -->\n",
    "\n",
    "name_of_function()"
   ]
  },
  {
   "cell_type": "code",
   "execution_count": 19,
   "id": "8691dc7b",
   "metadata": {},
   "outputs": [],
   "source": [
    "# Function with argument and return a value :-\n",
    "\n",
    "def area_of_circle(r):\n",
    "    area=3.14*r*r\n",
    "    print(area)\n"
   ]
  },
  {
   "cell_type": "code",
   "execution_count": 20,
   "id": "ff393a32",
   "metadata": {},
   "outputs": [
    {
     "name": "stdout",
     "output_type": "stream",
     "text": [
      "452.15999999999997\n"
     ]
    }
   ],
   "source": [
    "area_of_circle(12)"
   ]
  },
  {
   "cell_type": "code",
   "execution_count": 9,
   "id": "8801d879",
   "metadata": {},
   "outputs": [],
   "source": [
    "# Function with no argument and no return value :-\n",
    "\n",
    "def no_return():\n",
    "    pass"
   ]
  },
  {
   "cell_type": "code",
   "execution_count": 10,
   "id": "cc613123",
   "metadata": {},
   "outputs": [],
   "source": [
    "no_return()"
   ]
  },
  {
   "cell_type": "code",
   "execution_count": 22,
   "id": "8e9b31ce",
   "metadata": {},
   "outputs": [
    {
     "name": "stdout",
     "output_type": "stream",
     "text": [
      "Enter the radius of the circle:12\n",
      "452.15999999999997\n"
     ]
    }
   ],
   "source": [
    "#  Function takes no parameters but giving the output :-\n",
    "\n",
    "\n",
    "def area_of_circle():\n",
    "    area=3.14*r*r\n",
    "    print(area)\n",
    "r= float(input(\"Enter the radius of the circle:\"))\n",
    "\n",
    "area_of_circle()"
   ]
  },
  {
   "cell_type": "code",
   "execution_count": 26,
   "id": "c6c3c2f3",
   "metadata": {},
   "outputs": [
    {
     "data": {
      "text/plain": [
       "801"
      ]
     },
     "execution_count": 26,
     "metadata": {},
     "output_type": "execute_result"
    }
   ],
   "source": [
    "def rectangle(l,b):\n",
    "    return l*b\n",
    "\n",
    "rectangle(89,9)"
   ]
  },
  {
   "cell_type": "markdown",
   "id": "36e9dfbe",
   "metadata": {},
   "source": [
    "### Drawback of print in functions :-"
   ]
  },
  {
   "cell_type": "code",
   "execution_count": 27,
   "id": "0f43df5e",
   "metadata": {},
   "outputs": [
    {
     "name": "stdout",
     "output_type": "stream",
     "text": [
      "801\n"
     ]
    }
   ],
   "source": [
    "def rectangle(l,b):\n",
    "    print(l*b)\n",
    "\n",
    "a=rectangle(89,9)"
   ]
  },
  {
   "cell_type": "code",
   "execution_count": 29,
   "id": "23d3f9b6",
   "metadata": {},
   "outputs": [
    {
     "name": "stdout",
     "output_type": "stream",
     "text": [
      "None\n"
     ]
    }
   ],
   "source": [
    "print(a)   # it should print the value 801 but it isn't"
   ]
  },
  {
   "cell_type": "markdown",
   "id": "93c2f1f0",
   "metadata": {},
   "source": [
    "###  To overcome this we use \"return\" here :-"
   ]
  },
  {
   "cell_type": "code",
   "execution_count": 33,
   "id": "d780c012",
   "metadata": {},
   "outputs": [],
   "source": [
    "def rectangle(l,b):\n",
    "    return l*b\n",
    "\n",
    "area=rectangle(89,9)"
   ]
  },
  {
   "cell_type": "code",
   "execution_count": 34,
   "id": "e408c83a",
   "metadata": {},
   "outputs": [
    {
     "name": "stdout",
     "output_type": "stream",
     "text": [
      "801\n"
     ]
    }
   ],
   "source": [
    "print(area)"
   ]
  },
  {
   "cell_type": "code",
   "execution_count": 41,
   "id": "95ef0146",
   "metadata": {},
   "outputs": [
    {
     "name": "stdout",
     "output_type": "stream",
     "text": [
      "Enter the number to check whether it is even or odd:6.6\n",
      "6.6  : is odd\n"
     ]
    }
   ],
   "source": [
    "def odd_even():\n",
    "    num=float(input(\"Enter the number to check whether it is even or odd:\"))\n",
    "    if num%2 ==0:\n",
    "        print(num,\" : is even\")\n",
    "    else:\n",
    "        print(num,\" : is odd\")\n",
    "odd_even()"
   ]
  },
  {
   "cell_type": "code",
   "execution_count": 46,
   "id": "511dd012",
   "metadata": {},
   "outputs": [
    {
     "name": "stdout",
     "output_type": "stream",
     "text": [
      "Employee's id: 101\n",
      "Name of the employee: abc\n",
      "Designation: adc\n"
     ]
    }
   ],
   "source": [
    "def details_of_emp(Id,Name,Designation):\n",
    "    print(\"Employee's id:\",Id)\n",
    "    print(\"Name of the employee:\",Name)\n",
    "    print(\"Designation:\",Designation)\n",
    "details_of_emp(101,\"abc\",\"adc\")"
   ]
  },
  {
   "cell_type": "markdown",
   "id": "47e9035e",
   "metadata": {},
   "source": [
    "### Lambda, Filter, Map :-"
   ]
  },
  {
   "cell_type": "markdown",
   "id": "be9cfe73",
   "metadata": {},
   "source": [
    "### Lambda Syntax:- lambda  arguments : expression\n",
    "\n",
    "1) A lambda function is an anonymous function (function without a name)\n",
    "2) Lambda functions can have any number of arguments but only one expression. The expression is evaluated and returned.\n",
    "3) We use lambda functions when we require a nameless function for short period of time.\n"
   ]
  },
  {
   "cell_type": "code",
   "execution_count": 47,
   "id": "c09ecb56",
   "metadata": {},
   "outputs": [
    {
     "data": {
      "text/plain": [
       "14"
      ]
     },
     "execution_count": 47,
     "metadata": {},
     "output_type": "execute_result"
    }
   ],
   "source": [
    "def add(a):\n",
    "    return a+10\n",
    "add(4)   "
   ]
  },
  {
   "cell_type": "code",
   "execution_count": 48,
   "id": "536f48cb",
   "metadata": {},
   "outputs": [
    {
     "data": {
      "text/plain": [
       "13"
      ]
     },
     "execution_count": 48,
     "metadata": {},
     "output_type": "execute_result"
    }
   ],
   "source": [
    "add=lambda a : a+10\n",
    "add(3)"
   ]
  },
  {
   "cell_type": "code",
   "execution_count": 53,
   "id": "db7611f6",
   "metadata": {},
   "outputs": [],
   "source": [
    "add = lambda a,b : a+b"
   ]
  },
  {
   "cell_type": "code",
   "execution_count": 54,
   "id": "d2282bc9",
   "metadata": {},
   "outputs": [
    {
     "data": {
      "text/plain": [
       "5"
      ]
     },
     "execution_count": 54,
     "metadata": {},
     "output_type": "execute_result"
    }
   ],
   "source": [
    "add(2,3)"
   ]
  },
  {
   "cell_type": "code",
   "execution_count": 64,
   "id": "8f7724bc",
   "metadata": {},
   "outputs": [
    {
     "data": {
      "text/plain": [
       "False"
      ]
     },
     "execution_count": 64,
     "metadata": {},
     "output_type": "execute_result"
    }
   ],
   "source": [
    "a=(lambda n : n%2 == 0)\n",
    "a(5)"
   ]
  },
  {
   "cell_type": "code",
   "execution_count": 61,
   "id": "708c616e",
   "metadata": {},
   "outputs": [
    {
     "data": {
      "text/plain": [
       "58"
      ]
     },
     "execution_count": 61,
     "metadata": {},
     "output_type": "execute_result"
    }
   ],
   "source": [
    "res = (lambda *args : sum(args))             # takes multiple arguments but only one expression should be there\n",
    "res(12,34,12)"
   ]
  },
  {
   "cell_type": "markdown",
   "id": "15ec7c94",
   "metadata": {},
   "source": [
    "# Filter Syntax  :-  filter(function,iterable)\n",
    "\n",
    "It is used to filter the iterables/sequence as per the conditions"
   ]
  },
  {
   "cell_type": "code",
   "execution_count": 63,
   "id": "c0520817",
   "metadata": {},
   "outputs": [
    {
     "data": {
      "text/plain": [
       "[2, 4, 6]"
      ]
     },
     "execution_count": 63,
     "metadata": {},
     "output_type": "execute_result"
    }
   ],
   "source": [
    "seq1=[1,2,3,4,5,6]\n",
    "list(filter(lambda n : n%2 == 0 ,seq1))"
   ]
  },
  {
   "cell_type": "code",
   "execution_count": 121,
   "id": "a62b4e11",
   "metadata": {},
   "outputs": [],
   "source": [
    "def odd(n):\n",
    "    if n%2==0:\n",
    "        print(n,\"yes\")\n",
    "#     else:\n",
    "#         print(\"no\")"
   ]
  },
  {
   "cell_type": "code",
   "execution_count": 134,
   "id": "2442b2d5",
   "metadata": {},
   "outputs": [
    {
     "name": "stdout",
     "output_type": "stream",
     "text": [
      "2 yes\n",
      "4 yes\n",
      "6 yes\n"
     ]
    }
   ],
   "source": [
    "odd_num= list(filter(odd,seq1))"
   ]
  },
  {
   "cell_type": "markdown",
   "id": "34799c98",
   "metadata": {},
   "source": [
    "# Map Function Syntax :- map(function,iterable)\n"
   ]
  },
  {
   "cell_type": "code",
   "execution_count": 135,
   "id": "829340e5",
   "metadata": {},
   "outputs": [],
   "source": [
    "def double(n):\n",
    "    return n**2\n",
    "doubles = list(map(double,seq1))"
   ]
  },
  {
   "cell_type": "code",
   "execution_count": 136,
   "id": "a635cec6",
   "metadata": {},
   "outputs": [
    {
     "data": {
      "text/plain": [
       "[1, 4, 9, 16, 25, 36]"
      ]
     },
     "execution_count": 136,
     "metadata": {},
     "output_type": "execute_result"
    }
   ],
   "source": [
    "doubles"
   ]
  },
  {
   "cell_type": "code",
   "execution_count": 137,
   "id": "bc522c20",
   "metadata": {},
   "outputs": [
    {
     "data": {
      "text/plain": [
       "[]"
      ]
     },
     "execution_count": 137,
     "metadata": {},
     "output_type": "execute_result"
    }
   ],
   "source": [
    "def double(n):\n",
    "    return n**2\n",
    "doubles = list(map(double,odd_num))\n",
    "doubles"
   ]
  },
  {
   "cell_type": "code",
   "execution_count": null,
   "id": "57875990",
   "metadata": {},
   "outputs": [],
   "source": []
  },
  {
   "cell_type": "code",
   "execution_count": null,
   "id": "d57bdbbe",
   "metadata": {},
   "outputs": [],
   "source": []
  }
 ],
 "metadata": {
  "kernelspec": {
   "display_name": "Python 3",
   "language": "python",
   "name": "python3"
  },
  "language_info": {
   "codemirror_mode": {
    "name": "ipython",
    "version": 3
   },
   "file_extension": ".py",
   "mimetype": "text/x-python",
   "name": "python",
   "nbconvert_exporter": "python",
   "pygments_lexer": "ipython3",
   "version": "3.8.8"
  }
 },
 "nbformat": 4,
 "nbformat_minor": 5
}
