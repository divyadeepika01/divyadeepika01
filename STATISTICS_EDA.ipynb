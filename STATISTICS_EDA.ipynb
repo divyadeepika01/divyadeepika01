{
 "cells": [
  {
   "cell_type": "code",
   "execution_count": 7,
   "id": "7585c055",
   "metadata": {},
   "outputs": [],
   "source": [
    "import warnings\n",
    "warnings.filterwarnings(\"ignore\")"
   ]
  },
  {
   "cell_type": "code",
   "execution_count": 8,
   "id": "fa16e05f",
   "metadata": {},
   "outputs": [],
   "source": [
    "# Measure of Central Tendencies : Mean, Median and Mode\n",
    "import scipy as sp\n",
    "from scipy import stats as st"
   ]
  },
  {
   "cell_type": "code",
   "execution_count": 13,
   "id": "e1293919",
   "metadata": {},
   "outputs": [],
   "source": [
    "org_a = [90,120,140,110,80,65,80,115,140, 120]  # salaries in USD Thousands\n",
    "org_b = [100,130,100,90,110,120,120,110,135,165]"
   ]
  },
  {
   "cell_type": "code",
   "execution_count": 14,
   "id": "f8450faf",
   "metadata": {},
   "outputs": [
    {
     "name": "stdout",
     "output_type": "stream",
     "text": [
      "Mean of org_a 106.0\n",
      "Mean of org_b 118.0\n"
     ]
    }
   ],
   "source": [
    "print(\"Mean of org_a\", sp.mean(org_a))\n",
    "print(\"Mean of org_b\", sp.mean(org_b))"
   ]
  },
  {
   "cell_type": "code",
   "execution_count": 15,
   "id": "5619ec99",
   "metadata": {},
   "outputs": [
    {
     "name": "stdout",
     "output_type": "stream",
     "text": [
      "Mean Sal of org_a 214.0\n",
      "Mean Sal of org_b 118.0\n"
     ]
    }
   ],
   "source": [
    "org_a = [ 90,120,140,110,80,65,80,115,140, 1200]  # USD Thousands\n",
    "org_b = [100,130,100,90,110,120,120,110,135,165]\n",
    "print(\"Mean Sal of org_a\", sp.mean(org_a))\n",
    "print(\"Mean Sal of org_b\", sp.mean(org_b))\n",
    "# Mean is not a good measure, if data has extreme values."
   ]
  },
  {
   "cell_type": "code",
   "execution_count": 16,
   "id": "9dc60c26",
   "metadata": {},
   "outputs": [
    {
     "name": "stdout",
     "output_type": "stream",
     "text": [
      "Median Sal of org_a 112.5\n",
      "Medain Sal of org_b 115.0\n"
     ]
    }
   ],
   "source": [
    "org_a = [ 90,120,140,110,80,65,80,115,140, 1200]  # USD Thousands\n",
    "org_b = [100,130,110,90,110,120,120,110,135,165]\n",
    "print(\"Median Sal of org_a\", sp.median(org_a))\n",
    "print(\"Medain Sal of org_b\", sp.median(org_b))\n",
    "# Median is a good measure, if data has extreme values."
   ]
  },
  {
   "cell_type": "code",
   "execution_count": 17,
   "id": "44d3a576",
   "metadata": {},
   "outputs": [
    {
     "data": {
      "text/plain": [
       "ModeResult(mode=array([110]), count=array([3]))"
      ]
     },
     "execution_count": 17,
     "metadata": {},
     "output_type": "execute_result"
    }
   ],
   "source": [
    "st.mode(org_b)"
   ]
  },
  {
   "cell_type": "code",
   "execution_count": 28,
   "id": "56b5e983",
   "metadata": {},
   "outputs": [
    {
     "data": {
      "text/plain": [
       "ModeResult(mode=array([80]), count=array([2]))"
      ]
     },
     "execution_count": 28,
     "metadata": {},
     "output_type": "execute_result"
    }
   ],
   "source": [
    "st.mode(org_a)"
   ]
  },
  {
   "cell_type": "markdown",
   "id": "028bf68d",
   "metadata": {},
   "source": [
    "### Measures of variability:"
   ]
  },
  {
   "cell_type": "code",
   "execution_count": 18,
   "id": "b53425f1",
   "metadata": {},
   "outputs": [
    {
     "name": "stdout",
     "output_type": "stream",
     "text": [
      "Mean Delay of train_a 14.2\n",
      "Mean Delay of train_b 14.2\n",
      "Median Delay of train_a 15.0\n",
      "Median Delay of train_b 15.0\n"
     ]
    }
   ],
   "source": [
    "train_a = [15,11,17,19,9] # delay in mins\n",
    "train_b = [2,30,15,5,19]\n",
    "print(\"Mean Delay of train_a\", sp.mean(train_a))\n",
    "print(\"Mean Delay of train_b\", sp.mean(train_b))\n",
    "print(\"Median Delay of train_a\", sp.median(train_a))\n",
    "print(\"Median Delay of train_b\", sp.median(train_b))"
   ]
  },
  {
   "cell_type": "code",
   "execution_count": 29,
   "id": "26383a7d",
   "metadata": {},
   "outputs": [
    {
     "data": {
      "text/plain": [
       "<AxesSubplot:ylabel='Density'>"
      ]
     },
     "execution_count": 29,
     "metadata": {},
     "output_type": "execute_result"
    },
    {
     "data": {
      "image/png": "[encoded data removed]",
      "text/plain": [
       "<Figure size 432x288 with 1 Axes>"
      ]
     },
     "metadata": {
      "needs_background": "light"
     },
     "output_type": "display_data"
    }
   ],
   "source": [
    "sb.distplot(train_a)"
   ]
  },
  {
   "cell_type": "code",
   "execution_count": 31,
   "id": "1b0c82b0",
   "metadata": {},
   "outputs": [
    {
     "data": {
      "text/plain": [
       "<AxesSubplot:ylabel='Density'>"
      ]
     },
     "execution_count": 31,
     "metadata": {},
     "output_type": "execute_result"
    },
    {
     "data": {
      "image/png": "[encoded data removed]",
      "text/plain": [
       "<Figure size 432x288 with 1 Axes>"
      ]
     },
     "metadata": {
      "needs_background": "light"
     },
     "output_type": "display_data"
    }
   ],
   "source": [
    "sb.distplot(train_b)"
   ]
  },
  {
   "cell_type": "code",
   "execution_count": 33,
   "id": "58168b1b",
   "metadata": {},
   "outputs": [
    {
     "name": "stdout",
     "output_type": "stream",
     "text": [
      "skewness of train_a: -0.1579875514375953\n",
      "Skewnessof train_b: 0.286315352756241\n"
     ]
    }
   ],
   "source": [
    "print(\"skewness of train_a:\",st.skew(train_a))\n",
    "print(\"Skewnessof train_b:\",st.skew(train_b))"
   ]
  },
  {
   "cell_type": "code",
   "execution_count": 30,
   "id": "17b422bb",
   "metadata": {},
   "outputs": [
    {
     "name": "stdout",
     "output_type": "stream",
     "text": [
      "Std Delay of train_a 3.7094473981982814\n",
      "Std Delay of train_b 10.067770358922575\n"
     ]
    }
   ],
   "source": [
    "# Range = Max - Min\n",
    "#Standard Dev\n",
    "print(\"Std Delay of train_a\", sp.std(train_a))\n",
    "print(\"Std Delay of train_b\", sp.std(train_b))"
   ]
  },
  {
   "cell_type": "code",
   "execution_count": 20,
   "id": "327a3214",
   "metadata": {},
   "outputs": [],
   "source": [
    "import seaborn as sb\n",
    "bp = [120,135,145,131,124,115,110,123,119,100,95,139,150]"
   ]
  },
  {
   "cell_type": "code",
   "execution_count": 21,
   "id": "024323d5",
   "metadata": {},
   "outputs": [
    {
     "data": {
      "text/plain": [
       "<AxesSubplot:ylabel='Density'>"
      ]
     },
     "execution_count": 21,
     "metadata": {},
     "output_type": "execute_result"
    },
    {
     "data": {
      "image/png": "[encoded data removed]",
      "text/plain": [
       "<Figure size 432x288 with 1 Axes>"
      ]
     },
     "metadata": {
      "needs_background": "light"
     },
     "output_type": "display_data"
    }
   ],
   "source": [
    "sb.distplot(bp)"
   ]
  },
  {
   "cell_type": "code",
   "execution_count": 22,
   "id": "202f5779",
   "metadata": {},
   "outputs": [
    {
     "name": "stdout",
     "output_type": "stream",
     "text": [
      "skewness:  -0.10717579554682721\n"
     ]
    }
   ],
   "source": [
    "print(\"skewness: \", st.skew(bp))\n",
    "# For normal,  -1 < S < +1"
   ]
  },
  {
   "cell_type": "code",
   "execution_count": 23,
   "id": "420704ec",
   "metadata": {},
   "outputs": [
    {
     "name": "stdout",
     "output_type": "stream",
     "text": [
      "Kurtosis:  -0.7907559689677406\n"
     ]
    }
   ],
   "source": [
    "print(\"Kurtosis: \", st.kurtosis(bp))\n",
    "# For normal,  -1 < K < +1"
   ]
  },
  {
   "cell_type": "code",
   "execution_count": 24,
   "id": "2bae8531",
   "metadata": {},
   "outputs": [],
   "source": [
    "#As Skewness and Kurtosis are b/w -1 and +1, the data is NORMAL."
   ]
  },
  {
   "cell_type": "code",
   "execution_count": 25,
   "id": "195752ce",
   "metadata": {},
   "outputs": [],
   "source": [
    "# Assignment, create a bp distribution which is NOT NORMAL"
   ]
  },
  {
   "cell_type": "code",
   "execution_count": 34,
   "id": "79558583",
   "metadata": {},
   "outputs": [],
   "source": [
    "BP=[80,95,100,105,116,120,70,60,68]"
   ]
  },
  {
   "cell_type": "code",
   "execution_count": 36,
   "id": "c89054c3",
   "metadata": {},
   "outputs": [
    {
     "data": {
      "text/plain": [
       "<AxesSubplot:ylabel='Density'>"
      ]
     },
     "execution_count": 36,
     "metadata": {},
     "output_type": "execute_result"
    },
    {
     "data": {
      "image/png": "[encoded data removed]",
      "text/plain": [
       "<Figure size 432x288 with 1 Axes>"
      ]
     },
     "metadata": {
      "needs_background": "light"
     },
     "output_type": "display_data"
    }
   ],
   "source": [
    "sb.distplot(BP)"
   ]
  },
  {
   "cell_type": "code",
   "execution_count": 37,
   "id": "a87f7efd",
   "metadata": {},
   "outputs": [
    {
     "data": {
      "text/plain": [
       "-0.03383393338423895"
      ]
     },
     "execution_count": 37,
     "metadata": {},
     "output_type": "execute_result"
    }
   ],
   "source": [
    "st.skew(BP)"
   ]
  },
  {
   "cell_type": "code",
   "execution_count": 60,
   "id": "a4695b3c",
   "metadata": {},
   "outputs": [],
   "source": [
    "BP=[60,79,80,66,64,60]"
   ]
  },
  {
   "cell_type": "code",
   "execution_count": 61,
   "id": "4cca4b39",
   "metadata": {},
   "outputs": [
    {
     "data": {
      "text/plain": [
       "<AxesSubplot:ylabel='Density'>"
      ]
     },
     "execution_count": 61,
     "metadata": {},
     "output_type": "execute_result"
    },
    {
     "data": {
      "image/png": "[encoded data removed]",
      "text/plain": [
       "<Figure size 432x288 with 1 Axes>"
      ]
     },
     "metadata": {
      "needs_background": "light"
     },
     "output_type": "display_data"
    }
   ],
   "source": [
    "sb.distplot(BP)"
   ]
  },
  {
   "cell_type": "code",
   "execution_count": 62,
   "id": "8680a665",
   "metadata": {},
   "outputs": [
    {
     "data": {
      "text/plain": [
       "0.5129504095550632"
      ]
     },
     "execution_count": 62,
     "metadata": {},
     "output_type": "execute_result"
    }
   ],
   "source": [
    "st.skew(BP)"
   ]
  },
  {
   "cell_type": "code",
   "execution_count": 63,
   "id": "b58687bb",
   "metadata": {},
   "outputs": [
    {
     "data": {
      "text/plain": [
       "-1.5002354320222442"
      ]
     },
     "execution_count": 63,
     "metadata": {},
     "output_type": "execute_result"
    }
   ],
   "source": [
    "st.kurtosis(BP)"
   ]
  },
  {
   "cell_type": "code",
   "execution_count": 102,
   "id": "d0398d19",
   "metadata": {},
   "outputs": [],
   "source": [
    "BP=[110,120,180,120,110,104,101,100,95,80,70,60]"
   ]
  },
  {
   "cell_type": "code",
   "execution_count": 103,
   "id": "aa63c30b",
   "metadata": {},
   "outputs": [
    {
     "data": {
      "text/plain": [
       "<AxesSubplot:ylabel='Density'>"
      ]
     },
     "execution_count": 103,
     "metadata": {},
     "output_type": "execute_result"
    },
    {
     "data": {
      "image/png": "[encoded data removed]",
      "text/plain": [
       "<Figure size 432x288 with 1 Axes>"
      ]
     },
     "metadata": {
      "needs_background": "light"
     },
     "output_type": "display_data"
    }
   ],
   "source": [
    "sb.distplot(BP)"
   ]
  },
  {
   "cell_type": "code",
   "execution_count": 106,
   "id": "8c7b5cfd",
   "metadata": {},
   "outputs": [
    {
     "name": "stdout",
     "output_type": "stream",
     "text": [
      "Skewness of range_of_BP: 1.030286164844026\n"
     ]
    }
   ],
   "source": [
    "print(\"Skewness of range_of_BP:\",st.skew(BP))"
   ]
  },
  {
   "cell_type": "code",
   "execution_count": 107,
   "id": "ee4c76dc",
   "metadata": {},
   "outputs": [
    {
     "name": "stdout",
     "output_type": "stream",
     "text": [
      "Kurtosis of range_of_BP: 1.5240475830839904\n"
     ]
    }
   ],
   "source": [
    "print(\"Kurtosis of range_of_BP:\",st.kurtosis(BP))"
   ]
  },
  {
   "cell_type": "code",
   "execution_count": 108,
   "id": "eade30cc",
   "metadata": {},
   "outputs": [],
   "source": [
    "# As the skewness and kurtosis of the above histogram is above +1 that's why it is not a normal distribution"
   ]
  },
  {
   "cell_type": "markdown",
   "id": "daf52890",
   "metadata": {},
   "source": [
    "# Hypothesis Testing :-    Proving and disproving things"
   ]
  },
  {
   "cell_type": "markdown",
   "id": "8ca6a0d0",
   "metadata": {},
   "source": [
    "##### *  H0: Marriage age of IT prossional, male in Bangalore is 30 \n",
    "##### * Ha: Marriage age of IT prossional, male in Bangalore is NOT 30 "
   ]
  },
  {
   "cell_type": "code",
   "execution_count": 2,
   "id": "6a9f5b34",
   "metadata": {},
   "outputs": [],
   "source": [
    "mar_age_ban = [32,38,33,34,29,25,36,30,31,29,32,27,32]"
   ]
  },
  {
   "cell_type": "code",
   "execution_count": 3,
   "id": "52aad095",
   "metadata": {},
   "outputs": [],
   "source": [
    "# One sample T-Test\n",
    "from scipy import stats"
   ]
  },
  {
   "cell_type": "code",
   "execution_count": 4,
   "id": "54f2c18d",
   "metadata": {},
   "outputs": [
    {
     "data": {
      "text/plain": [
       "Ttest_1sampResult(statistic=1.4164010556563396, pvalue=0.18209004583973787)"
      ]
     },
     "execution_count": 4,
     "metadata": {},
     "output_type": "execute_result"
    }
   ],
   "source": [
    "stats.ttest_1samp(mar_age_ban,30) # 30 is hypothesized mean"
   ]
  },
  {
   "cell_type": "markdown",
   "id": "3489e98e",
   "metadata": {},
   "source": [
    "P = 0.18, 18%  , In order reject H0,  P < 5% <br>\n",
    "We fail to reject H0, so accept H0."
   ]
  },
  {
   "cell_type": "code",
   "execution_count": 5,
   "id": "9dd90b8e",
   "metadata": {},
   "outputs": [],
   "source": [
    "# Two Sample Independent T-Test\n",
    "mar_age_ban = [32,38,33,34,29,25,36,30,31,29,32,27,32]\n",
    "mar_age_ny = [40,45,43,34,36,37,32,35,38,29,30,29,35]"
   ]
  },
  {
   "cell_type": "markdown",
   "id": "c323a1ec",
   "metadata": {},
   "source": [
    "##### *  Null Hypo equates data, or finds similarities \n",
    "##### *  H0: Marriage age of male IT professional in Ban and NY is SAME. \n",
    "##### * Ha: Marriage age of male IT professional in Ban and NY is NOT SAME."
   ]
  },
  {
   "cell_type": "code",
   "execution_count": 6,
   "id": "1201690c",
   "metadata": {},
   "outputs": [
    {
     "data": {
      "text/plain": [
       "Ttest_indResult(statistic=-2.479591495335438, pvalue=0.020566134700723045)"
      ]
     },
     "execution_count": 6,
     "metadata": {},
     "output_type": "execute_result"
    }
   ],
   "source": [
    "stats.ttest_ind(mar_age_ban, mar_age_ny)"
   ]
  },
  {
   "cell_type": "markdown",
   "id": "9c5f7381",
   "metadata": {},
   "source": [
    "* P = 0.02, 2%, which less than 5%. REJECT H0 accept Ha\n",
    "* Marriage age of male IT professional in Ban and NY is NOT SAME.\n",
    "\n",
    "* t value is negative, means, the first data is smaller than second data.\n",
    "* Bangalore male IT proffessional marry earlier than NY\n",
    "\n"
   ]
  },
  {
   "cell_type": "markdown",
   "id": "815f5511",
   "metadata": {},
   "source": [
    "# Relational T-Test :-"
   ]
  },
  {
   "cell_type": "code",
   "execution_count": 7,
   "id": "9870ff53",
   "metadata": {},
   "outputs": [],
   "source": [
    "before_rb = [45,55,50,38,56] # response time in centisecs\n",
    "after_rb = [35, 40,30,40,40]"
   ]
  },
  {
   "cell_type": "markdown",
   "id": "92efb623",
   "metadata": {},
   "source": [
    "##### H0 : The response time before and after RB is SAME\n",
    "##### Ha : The response time before and after RB is NOT SAME"
   ]
  },
  {
   "cell_type": "code",
   "execution_count": 8,
   "id": "31203e9a",
   "metadata": {},
   "outputs": [
    {
     "data": {
      "text/plain": [
       "Ttest_relResult(statistic=3.1052631578947367, pvalue=0.03603681682754034)"
      ]
     },
     "execution_count": 8,
     "metadata": {},
     "output_type": "execute_result"
    }
   ],
   "source": [
    "stats.ttest_rel(before_rb,after_rb)"
   ]
  },
  {
   "cell_type": "markdown",
   "id": "dbb8a4c0",
   "metadata": {},
   "source": [
    "* P = 0.03, 3%, < 5% so REJECT H0 accept Ha\n",
    "* The response time before and after RB is NOT SAME\n",
    "* T value is positive, before res time is higher than after response.\n",
    "* RB gives you win."
   ]
  },
  {
   "cell_type": "code",
   "execution_count": 10,
   "id": "35c1d378",
   "metadata": {},
   "outputs": [],
   "source": [
    "sales = [100,150,122] # USD thousands\n",
    "price = [10,8,9] # usd price"
   ]
  },
  {
   "cell_type": "code",
   "execution_count": 11,
   "id": "937e2df4",
   "metadata": {},
   "outputs": [
    {
     "data": {
      "text/plain": [
       "(-0.9976086055845277, 0.04403594408277543)"
      ]
     },
     "execution_count": 11,
     "metadata": {},
     "output_type": "execute_result"
    }
   ],
   "source": [
    "stats.pearsonr(sales,price)"
   ]
  },
  {
   "cell_type": "code",
   "execution_count": null,
   "id": "7e4c76e5",
   "metadata": {},
   "outputs": [],
   "source": []
  }
 ],
 "metadata": {
  "kernelspec": {
   "display_name": "Python 3",
   "language": "python",
   "name": "python3"
  },
  "language_info": {
   "codemirror_mode": {
    "name": "ipython",
    "version": 3
   },
   "file_extension": ".py",
   "mimetype": "text/x-python",
   "name": "python",
   "nbconvert_exporter": "python",
   "pygments_lexer": "ipython3",
   "version": "3.8.8"
  }
 },
 "nbformat": 4,
 "nbformat_minor": 5
}
