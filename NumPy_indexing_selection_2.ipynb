{
 "cells": [
  {
   "cell_type": "code",
   "execution_count": 1,
   "id": "5d12045a",
   "metadata": {},
   "outputs": [],
   "source": [
    "import numpy as np"
   ]
  },
  {
   "cell_type": "code",
   "execution_count": 8,
   "id": "71333b06",
   "metadata": {},
   "outputs": [
    {
     "data": {
      "text/plain": [
       "array([ 1,  2,  3,  4,  5,  6,  7,  8,  9, 10, 11, 12, 13, 14, 15, 16, 17,\n",
       "       18, 19])"
      ]
     },
     "execution_count": 8,
     "metadata": {},
     "output_type": "execute_result"
    }
   ],
   "source": [
    "a=np.arange(1,20)\n",
    "arr1=np.array(a)\n",
    "arr1"
   ]
  },
  {
   "cell_type": "code",
   "execution_count": 9,
   "id": "5ad23e11",
   "metadata": {},
   "outputs": [
    {
     "data": {
      "text/plain": [
       "2"
      ]
     },
     "execution_count": 9,
     "metadata": {},
     "output_type": "execute_result"
    }
   ],
   "source": [
    "arr1[1]"
   ]
  },
  {
   "cell_type": "code",
   "execution_count": 11,
   "id": "66c759ba",
   "metadata": {},
   "outputs": [
    {
     "data": {
      "text/plain": [
       "10"
      ]
     },
     "execution_count": 11,
     "metadata": {},
     "output_type": "execute_result"
    }
   ],
   "source": [
    "arr1[9]"
   ]
  },
  {
   "cell_type": "code",
   "execution_count": 12,
   "id": "4445c342",
   "metadata": {},
   "outputs": [
    {
     "data": {
      "text/plain": [
       "array([ 2,  3,  4,  5,  6,  7,  8,  9, 10, 11])"
      ]
     },
     "execution_count": 12,
     "metadata": {},
     "output_type": "execute_result"
    }
   ],
   "source": [
    "arr1[1:11]"
   ]
  },
  {
   "cell_type": "code",
   "execution_count": 13,
   "id": "e2830133",
   "metadata": {},
   "outputs": [
    {
     "data": {
      "text/plain": [
       "array([ 2,  4,  6,  8, 10])"
      ]
     },
     "execution_count": 13,
     "metadata": {},
     "output_type": "execute_result"
    }
   ],
   "source": [
    "arr1[1:11:2]"
   ]
  },
  {
   "cell_type": "markdown",
   "id": "083565d3",
   "metadata": {},
   "source": [
    "# Broadcasting--->  element wise operation\n",
    "\n",
    " Numpy arrays differ from normal python list because of their ability to broadcast:\n",
    " "
   ]
  },
  {
   "cell_type": "code",
   "execution_count": 14,
   "id": "594feb6c",
   "metadata": {},
   "outputs": [
    {
     "data": {
      "text/plain": [
       "array([ 1,  2,  3,  4,  5,  6,  7,  8,  9, 10, 11, 12, 13, 14, 15, 16, 17,\n",
       "       18, 19])"
      ]
     },
     "execution_count": 14,
     "metadata": {},
     "output_type": "execute_result"
    }
   ],
   "source": [
    "arr1"
   ]
  },
  {
   "cell_type": "code",
   "execution_count": 15,
   "id": "ca8daf34",
   "metadata": {},
   "outputs": [
    {
     "data": {
      "text/plain": [
       "array([1, 2, 3, 4, 5])"
      ]
     },
     "execution_count": 15,
     "metadata": {},
     "output_type": "execute_result"
    }
   ],
   "source": [
    "arr1[0:5]"
   ]
  },
  {
   "cell_type": "code",
   "execution_count": 86,
   "id": "f11770e8",
   "metadata": {},
   "outputs": [
    {
     "data": {
      "text/plain": [
       "array([100, 100, 100, 100, 100, 100, 100, 100, 100, 100, 100, 100, 100,\n",
       "       100, 100, 100, 100, 100, 100])"
      ]
     },
     "execution_count": 86,
     "metadata": {},
     "output_type": "execute_result"
    }
   ],
   "source": [
    "# setting a value with index range (Broadcasting)\n",
    "\n",
    "arr1[:] = 100\n",
    "arr1"
   ]
  },
  {
   "cell_type": "code",
   "execution_count": 21,
   "id": "822c67a0",
   "metadata": {},
   "outputs": [],
   "source": [
    "arr2=np.array([1,2,3])\n",
    "arr3=np.array([4,5,6])"
   ]
  },
  {
   "cell_type": "code",
   "execution_count": 26,
   "id": "57e52bba",
   "metadata": {},
   "outputs": [
    {
     "name": "stdout",
     "output_type": "stream",
     "text": [
      "addition: [5 7 9]\n",
      "sub: [-3 -3 -3]\n",
      "product: [ 4 10 18]\n",
      "division: [0.25 0.4  0.5 ]\n"
     ]
    }
   ],
   "source": [
    "print(\"addition:\",arr2 + arr3) \n",
    "print(\"sub:\",arr2 - arr3)\n",
    "print(\"product:\",arr2 * arr3)\n",
    "print(\"division:\",arr2 / arr3)"
   ]
  },
  {
   "cell_type": "code",
   "execution_count": 32,
   "id": "83ee3e1b",
   "metadata": {},
   "outputs": [
    {
     "ename": "TypeError",
     "evalue": "unsupported operand type(s) for -: 'list' and 'list'",
     "output_type": "error",
     "traceback": [
      "\u001b[1;31m---------------------------------------------------------------------------\u001b[0m",
      "\u001b[1;31mTypeError\u001b[0m                                 Traceback (most recent call last)",
      "\u001b[1;32m<ipython-input-32-35fe7cc57280>\u001b[0m in \u001b[0;36m<module>\u001b[1;34m\u001b[0m\n\u001b[0;32m      4\u001b[0m \u001b[0ml1\u001b[0m\u001b[1;33m=\u001b[0m\u001b[1;33m[\u001b[0m\u001b[1;36m1\u001b[0m\u001b[1;33m,\u001b[0m\u001b[1;36m2\u001b[0m\u001b[1;33m,\u001b[0m\u001b[1;36m3\u001b[0m\u001b[1;33m]\u001b[0m\u001b[1;33m\u001b[0m\u001b[1;33m\u001b[0m\u001b[0m\n\u001b[0;32m      5\u001b[0m \u001b[0ml2\u001b[0m\u001b[1;33m=\u001b[0m\u001b[1;33m[\u001b[0m\u001b[1;36m4\u001b[0m\u001b[1;33m,\u001b[0m\u001b[1;36m5\u001b[0m\u001b[1;33m,\u001b[0m\u001b[1;36m6\u001b[0m\u001b[1;33m]\u001b[0m\u001b[1;33m\u001b[0m\u001b[1;33m\u001b[0m\u001b[0m\n\u001b[1;32m----> 6\u001b[1;33m \u001b[0ml1\u001b[0m\u001b[1;33m-\u001b[0m\u001b[0ml2\u001b[0m\u001b[1;33m\u001b[0m\u001b[1;33m\u001b[0m\u001b[0m\n\u001b[0m",
      "\u001b[1;31mTypeError\u001b[0m: unsupported operand type(s) for -: 'list' and 'list'"
     ]
    }
   ],
   "source": [
    "# Create two lists and check any mathematical operation--\n",
    "#  Why numpy arrays are preffered over python list\n",
    "\n",
    "l1=[1,2,3]\n",
    "l2=[4,5,6]\n",
    "l1-l2"
   ]
  },
  {
   "cell_type": "markdown",
   "id": "447628e2",
   "metadata": {},
   "source": [
    "# Copy()"
   ]
  },
  {
   "cell_type": "code",
   "execution_count": 34,
   "id": "b64cef0c",
   "metadata": {},
   "outputs": [],
   "source": [
    "#  copy operation --\n",
    "\n",
    "org_array=np.array([1,2,3,4,5])"
   ]
  },
  {
   "cell_type": "code",
   "execution_count": 35,
   "id": "528cddc1",
   "metadata": {},
   "outputs": [],
   "source": [
    "org_array[3:]=100"
   ]
  },
  {
   "cell_type": "code",
   "execution_count": 37,
   "id": "14b25c76",
   "metadata": {},
   "outputs": [
    {
     "name": "stdout",
     "output_type": "stream",
     "text": [
      "original array: [  1   2   3 100 100]\n"
     ]
    }
   ],
   "source": [
    "print(\"original array:\",org_array)"
   ]
  },
  {
   "cell_type": "code",
   "execution_count": 38,
   "id": "1e920320",
   "metadata": {},
   "outputs": [],
   "source": [
    "#  Assigning the elements of org_array to the new_array\n",
    "\n",
    "new_array=org_array"
   ]
  },
  {
   "cell_type": "code",
   "execution_count": 39,
   "id": "28b28af2",
   "metadata": {},
   "outputs": [
    {
     "data": {
      "text/plain": [
       "array([  1,   2,   3, 100, 100])"
      ]
     },
     "execution_count": 39,
     "metadata": {},
     "output_type": "execute_result"
    }
   ],
   "source": [
    "new_array"
   ]
  },
  {
   "cell_type": "code",
   "execution_count": 40,
   "id": "8894e8c2",
   "metadata": {},
   "outputs": [],
   "source": [
    "new_array[3:] = 500"
   ]
  },
  {
   "cell_type": "code",
   "execution_count": 41,
   "id": "1f2b828c",
   "metadata": {},
   "outputs": [
    {
     "data": {
      "text/plain": [
       "array([  1,   2,   3, 500, 500])"
      ]
     },
     "execution_count": 41,
     "metadata": {},
     "output_type": "execute_result"
    }
   ],
   "source": [
    "new_array"
   ]
  },
  {
   "cell_type": "code",
   "execution_count": 43,
   "id": "f4f25997",
   "metadata": {},
   "outputs": [
    {
     "data": {
      "text/plain": [
       "array([  1,   2,   3, 500, 500])"
      ]
     },
     "execution_count": 43,
     "metadata": {},
     "output_type": "execute_result"
    }
   ],
   "source": [
    "org_array   # see original array  also changed"
   ]
  },
  {
   "cell_type": "code",
   "execution_count": 44,
   "id": "ee2c9323",
   "metadata": {},
   "outputs": [],
   "source": [
    "#  Copy function ---\n",
    "\n",
    "new1= org_array.copy()"
   ]
  },
  {
   "cell_type": "code",
   "execution_count": 47,
   "id": "367324be",
   "metadata": {},
   "outputs": [],
   "source": [
    "new1[3:]=100"
   ]
  },
  {
   "cell_type": "code",
   "execution_count": 49,
   "id": "2f6f5a13",
   "metadata": {},
   "outputs": [
    {
     "data": {
      "text/plain": [
       "array([  1,   2,   3, 100, 100])"
      ]
     },
     "execution_count": 49,
     "metadata": {},
     "output_type": "execute_result"
    }
   ],
   "source": [
    "new1"
   ]
  },
  {
   "cell_type": "code",
   "execution_count": 50,
   "id": "279dfe6c",
   "metadata": {},
   "outputs": [
    {
     "data": {
      "text/plain": [
       "array([  1,   2,   3, 500, 500])"
      ]
     },
     "execution_count": 50,
     "metadata": {},
     "output_type": "execute_result"
    }
   ],
   "source": [
    "org_array # see using copy function original array remains same----restored backup"
   ]
  },
  {
   "cell_type": "markdown",
   "id": "6a961c22",
   "metadata": {},
   "source": [
    "# Filtering  Condition ---"
   ]
  },
  {
   "cell_type": "code",
   "execution_count": 58,
   "id": "f639388f",
   "metadata": {},
   "outputs": [],
   "source": [
    "arr=np.array([1,2,1010,4,8,18,7])"
   ]
  },
  {
   "cell_type": "code",
   "execution_count": 87,
   "id": "379d3c06",
   "metadata": {},
   "outputs": [
    {
     "data": {
      "text/plain": [
       "(array([2], dtype=int64),)"
      ]
     },
     "execution_count": 87,
     "metadata": {},
     "output_type": "execute_result"
    }
   ],
   "source": [
    "np.where(arr>100)       # where function outputs index location of condition"
   ]
  },
  {
   "cell_type": "code",
   "execution_count": 60,
   "id": "04450cb5",
   "metadata": {},
   "outputs": [
    {
     "data": {
      "text/plain": [
       "(array([0, 1, 3, 4, 5, 6], dtype=int64),)"
      ]
     },
     "execution_count": 60,
     "metadata": {},
     "output_type": "execute_result"
    }
   ],
   "source": [
    "np.where(arr<100)"
   ]
  },
  {
   "cell_type": "markdown",
   "id": "fde73acd",
   "metadata": {},
   "source": [
    "# Indexing a 2D array(matrices\n",
    "\n",
    "  The general format is arr_2d[row][col] or arr_2d[row,col]."
   ]
  },
  {
   "cell_type": "code",
   "execution_count": 69,
   "id": "687e4908",
   "metadata": {},
   "outputs": [],
   "source": [
    "# arr_2d=np.array([[1,2,3],[4,5,6],[7,8,9]])\n",
    "arr_2d=np.array(np.arange(5,50,5).reshape(3,3))"
   ]
  },
  {
   "cell_type": "code",
   "execution_count": 70,
   "id": "f1b16fb0",
   "metadata": {},
   "outputs": [
    {
     "data": {
      "text/plain": [
       "array([[ 5, 10, 15],\n",
       "       [20, 25, 30],\n",
       "       [35, 40, 45]])"
      ]
     },
     "execution_count": 70,
     "metadata": {},
     "output_type": "execute_result"
    }
   ],
   "source": [
    "arr_2d"
   ]
  },
  {
   "cell_type": "code",
   "execution_count": 75,
   "id": "6314d485",
   "metadata": {},
   "outputs": [
    {
     "data": {
      "text/plain": [
       "array([20, 25, 30])"
      ]
     },
     "execution_count": 75,
     "metadata": {},
     "output_type": "execute_result"
    }
   ],
   "source": [
    "#  Getting row\n",
    "arr_2d[1]"
   ]
  },
  {
   "cell_type": "code",
   "execution_count": 76,
   "id": "105007d5",
   "metadata": {},
   "outputs": [
    {
     "data": {
      "text/plain": [
       "20"
      ]
     },
     "execution_count": 76,
     "metadata": {},
     "output_type": "execute_result"
    }
   ],
   "source": [
    "# Getting individual element \n",
    "# format is arr_2d[row][col]  or arr_2d[row,col]\n",
    "\n",
    "arr_2d[1][0]"
   ]
  },
  {
   "cell_type": "code",
   "execution_count": 84,
   "id": "2824792c",
   "metadata": {},
   "outputs": [
    {
     "data": {
      "text/plain": [
       "array([[10, 15],\n",
       "       [25, 30]])"
      ]
     },
     "execution_count": 84,
     "metadata": {},
     "output_type": "execute_result"
    }
   ],
   "source": [
    "# 2d array slicing \n",
    "#  Shape (2,2) from top right corner\n",
    "\n",
    "arr_2d[:2,1:]"
   ]
  },
  {
   "cell_type": "code",
   "execution_count": 85,
   "id": "b6433adf",
   "metadata": {},
   "outputs": [
    {
     "data": {
      "text/plain": [
       "array([10, 25, 40])"
      ]
     },
     "execution_count": 85,
     "metadata": {},
     "output_type": "execute_result"
    }
   ],
   "source": [
    "arr_2d[:,1]"
   ]
  },
  {
   "cell_type": "code",
   "execution_count": 89,
   "id": "28b3a01a",
   "metadata": {},
   "outputs": [
    {
     "data": {
      "text/plain": [
       "array([35, 40, 45])"
      ]
     },
     "execution_count": 89,
     "metadata": {},
     "output_type": "execute_result"
    }
   ],
   "source": [
    "#  Shape bottom row --\n",
    "\n",
    "arr_2d[2]"
   ]
  },
  {
   "cell_type": "markdown",
   "id": "1dc01547",
   "metadata": {},
   "source": [
    "# Selection --\n",
    "\n",
    " Let's briefly go over how to use brackets for selection based off comparison operators."
   ]
  },
  {
   "cell_type": "code",
   "execution_count": 93,
   "id": "2dae4ef1",
   "metadata": {},
   "outputs": [],
   "source": [
    "arr= np.arange(1,11)"
   ]
  },
  {
   "cell_type": "code",
   "execution_count": 94,
   "id": "651de44f",
   "metadata": {},
   "outputs": [
    {
     "data": {
      "text/plain": [
       "array([ 1,  2,  3,  4,  5,  6,  7,  8,  9, 10])"
      ]
     },
     "execution_count": 94,
     "metadata": {},
     "output_type": "execute_result"
    }
   ],
   "source": [
    "arr"
   ]
  },
  {
   "cell_type": "code",
   "execution_count": 95,
   "id": "48c3dc93",
   "metadata": {},
   "outputs": [
    {
     "data": {
      "text/plain": [
       "array([False, False, False, False,  True,  True,  True,  True,  True,\n",
       "        True])"
      ]
     },
     "execution_count": 95,
     "metadata": {},
     "output_type": "execute_result"
    }
   ],
   "source": [
    "arr>4"
   ]
  },
  {
   "cell_type": "code",
   "execution_count": null,
   "id": "84957080",
   "metadata": {},
   "outputs": [],
   "source": []
  },
  {
   "cell_type": "code",
   "execution_count": null,
   "id": "55f6f4ce",
   "metadata": {},
   "outputs": [],
   "source": []
  }
 ],
 "metadata": {
  "kernelspec": {
   "display_name": "Python 3",
   "language": "python",
   "name": "python3"
  },
  "language_info": {
   "codemirror_mode": {
    "name": "ipython",
    "version": 3
   },
   "file_extension": ".py",
   "mimetype": "text/x-python",
   "name": "python",
   "nbconvert_exporter": "python",
   "pygments_lexer": "ipython3",
   "version": "3.8.8"
  }
 },
 "nbformat": 4,
 "nbformat_minor": 5
}
