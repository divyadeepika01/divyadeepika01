{
 "cells": [
  {
   "cell_type": "code",
   "execution_count": 1,
   "id": "bb161103",
   "metadata": {},
   "outputs": [],
   "source": [
    "# Libraries imported--->\n",
    "\n",
    "import sys\n",
    "import keyword\n",
    "import operator\n",
    "from datetime import datetime\n",
    "import os"
   ]
  },
  {
   "cell_type": "markdown",
   "id": "709d2c07",
   "metadata": {},
   "source": [
    "# Keywords\n",
    "* keywords are reserved words in he python and can't be used as identifiers"
   ]
  },
  {
   "cell_type": "code",
   "execution_count": 2,
   "id": "6986c13f",
   "metadata": {},
   "outputs": [
    {
     "name": "stdout",
     "output_type": "stream",
     "text": [
      "['False', 'None', 'True', 'and', 'as', 'assert', 'async', 'await', 'break', 'class', 'continue', 'def', 'del', 'elif', 'else', 'except', 'finally', 'for', 'from', 'global', 'if', 'import', 'in', 'is', 'lambda', 'nonlocal', 'not', 'or', 'pass', 'raise', 'return', 'try', 'while', 'with', 'yield']\n"
     ]
    }
   ],
   "source": [
    "print(keyword.kwlist)"
   ]
  },
  {
   "cell_type": "code",
   "execution_count": 3,
   "id": "a18e6ecc",
   "metadata": {},
   "outputs": [
    {
     "data": {
      "text/plain": [
       "35"
      ]
     },
     "execution_count": 3,
     "metadata": {},
     "output_type": "execute_result"
    }
   ],
   "source": [
    "len(keyword.kwlist)"
   ]
  },
  {
   "cell_type": "markdown",
   "id": "4155d837",
   "metadata": {},
   "source": [
    "# Identifiers\n",
    "\n",
    "\n",
    "*An identifier is the name given to entities like fnctions,variables etc.It helps in differentiating one entity from other\n",
    "*Identifiers can be a combination of letters in lowercase(a to z) or uppercase and only special character is allowed('_')\n",
    "\n",
    "\n",
    "Conditions :-\n",
    " 1. Identifiers can not be initiate with digit.\n",
    " 2. Cannot use special characters except ('_').\n",
    " 3. keywords cannot be used as identifier.\n",
    " 4. Case sensitive (pascalCase,CamelCase)"
   ]
  },
  {
   "cell_type": "code",
   "execution_count": 4,
   "id": "587ad42b",
   "metadata": {},
   "outputs": [
    {
     "ename": "SyntaxError",
     "evalue": "cannot assign to operator (<ipython-input-4-662b60099f04>, line 1)",
     "output_type": "error",
     "traceback": [
      "\u001b[1;36m  File \u001b[1;32m\"<ipython-input-4-662b60099f04>\"\u001b[1;36m, line \u001b[1;32m1\u001b[0m\n\u001b[1;33m    vaer@123=\"abc\"\u001b[0m\n\u001b[1;37m    ^\u001b[0m\n\u001b[1;31mSyntaxError\u001b[0m\u001b[1;31m:\u001b[0m cannot assign to operator\n"
     ]
    }
   ],
   "source": [
    "vaer@123=\"abc\"\n",
    "vaer"
   ]
  },
  {
   "cell_type": "markdown",
   "id": "7855acf5",
   "metadata": {},
   "source": [
    "# Comments"
   ]
  },
  {
   "cell_type": "code",
   "execution_count": null,
   "id": "53fa14c1",
   "metadata": {},
   "outputs": [],
   "source": [
    "# single line comment\n",
    "v=12"
   ]
  },
  {
   "cell_type": "code",
   "execution_count": null,
   "id": "1e17978d",
   "metadata": {},
   "outputs": [],
   "source": [
    "# Multi \n",
    "# line \n",
    "# comment\n",
    "val1=10"
   ]
  },
  {
   "cell_type": "code",
   "execution_count": 5,
   "id": "4a8c32c6",
   "metadata": {},
   "outputs": [],
   "source": [
    "\"\"\"\n",
    "Multi line comments in python \n",
    "Python use \"single\" and \"double\" quotes as well.\n",
    "\"\"\"\n",
    "v=11"
   ]
  },
  {
   "cell_type": "markdown",
   "id": "c330042b",
   "metadata": {},
   "source": [
    "# Statements"
   ]
  },
  {
   "cell_type": "code",
   "execution_count": 6,
   "id": "7047f15d",
   "metadata": {},
   "outputs": [
    {
     "data": {
      "text/plain": [
       "[1, 2, 3, 4]"
      ]
     },
     "execution_count": 6,
     "metadata": {},
     "output_type": "execute_result"
    }
   ],
   "source": [
    "# Single line statement-->\n",
    "p2=[1,2,3,4]\n",
    "p2"
   ]
  },
  {
   "cell_type": "code",
   "execution_count": 7,
   "id": "2cc655bd",
   "metadata": {},
   "outputs": [
    {
     "data": {
      "text/plain": [
       "290"
      ]
     },
     "execution_count": 7,
     "metadata": {},
     "output_type": "execute_result"
    }
   ],
   "source": [
    "# Multi line statements -->\n",
    "p1=20+30\\\n",
    "+40+50+\\\n",
    "+70+80\n",
    "p1"
   ]
  },
  {
   "cell_type": "markdown",
   "id": "9f4e4374",
   "metadata": {},
   "source": [
    "# Indentation\n",
    "  \n",
    "    * Indentation refers to the spaces at the beginning of a code line. To indicate scope of block of code."
   ]
  },
  {
   "cell_type": "markdown",
   "id": "632baffb",
   "metadata": {},
   "source": [
    "# Docstrings\n",
    " \n",
    " 1. Docstrings provide a convenient way of associating documentation with functions,classes,methods or modules.\n",
    " 2. They appear right after the definition of a function,method,class, or module."
   ]
  },
  {
   "cell_type": "code",
   "execution_count": 8,
   "id": "5fa744a1",
   "metadata": {},
   "outputs": [
    {
     "data": {
      "text/plain": [
       "64"
      ]
     },
     "execution_count": 8,
     "metadata": {},
     "output_type": "execute_result"
    }
   ],
   "source": [
    "def square(n):\n",
    "    \" This will provide us the square of number\"\n",
    "    return n**2\n",
    "square(8)"
   ]
  },
  {
   "cell_type": "code",
   "execution_count": 9,
   "id": "ec361819",
   "metadata": {},
   "outputs": [
    {
     "name": "stdout",
     "output_type": "stream",
     "text": [
      " This will provide us the square of number\n"
     ]
    }
   ],
   "source": [
    "#  We can access the documentation of above function----->\n",
    "print(square.__doc__)"
   ]
  },
  {
   "cell_type": "code",
   "execution_count": 10,
   "id": "22b2a3fe",
   "metadata": {},
   "outputs": [
    {
     "name": "stdout",
     "output_type": "stream",
     "text": [
      "Help on function square in module __main__:\n",
      "\n",
      "square(n)\n",
      "    This will provide us the square of number\n",
      "\n"
     ]
    }
   ],
   "source": [
    "help(square)   # 2nd method to access the documentation of a function."
   ]
  },
  {
   "cell_type": "markdown",
   "id": "587f67ae",
   "metadata": {},
   "source": [
    "# Variables\n",
    "   \n",
    "   *A variable is a reserved memory location to store the values.\n",
    "   "
   ]
  },
  {
   "cell_type": "code",
   "execution_count": 11,
   "id": "cc77e3e6",
   "metadata": {},
   "outputs": [
    {
     "data": {
      "text/plain": [
       "44"
      ]
     },
     "execution_count": 11,
     "metadata": {},
     "output_type": "execute_result"
    }
   ],
   "source": [
    "abc=44\n",
    "abc"
   ]
  },
  {
   "cell_type": "code",
   "execution_count": 12,
   "id": "7645888d",
   "metadata": {},
   "outputs": [
    {
     "data": {
      "text/plain": [
       "140712183082128"
      ]
     },
     "execution_count": 12,
     "metadata": {},
     "output_type": "execute_result"
    }
   ],
   "source": [
    "'''\n",
    "id() function returns the \"identity\" of the object.\n",
    "The identity of an object - Is an ineteger\n",
    "  - Guaranteed to be unique.\n",
    "  - Constant for this object during its lifetime.\n",
    "'''\n",
    "id(abc)"
   ]
  },
  {
   "cell_type": "code",
   "execution_count": 13,
   "id": "561f9653",
   "metadata": {},
   "outputs": [
    {
     "data": {
      "text/plain": [
       "int"
      ]
     },
     "execution_count": 13,
     "metadata": {},
     "output_type": "execute_result"
    }
   ],
   "source": [
    "type(abc) # to know the datatype of an object"
   ]
  },
  {
   "cell_type": "code",
   "execution_count": 14,
   "id": "a8a580f6",
   "metadata": {},
   "outputs": [
    {
     "data": {
      "text/plain": [
       "'0x7ffa1bb02c90'"
      ]
     },
     "execution_count": 14,
     "metadata": {},
     "output_type": "execute_result"
    }
   ],
   "source": [
    "hex(id(abc))            # Memory address of the variable"
   ]
  },
  {
   "cell_type": "code",
   "execution_count": 15,
   "id": "1c710ea9",
   "metadata": {},
   "outputs": [],
   "source": [
    "p=20      #creates an integer object with value 20 \n",
    "q=20      # creates new reference q which will point to  value 20.p and q will be pointing.  \n",
    "r=q       # variable r will also point to the same location where p and q are pointin p"
   ]
  },
  {
   "cell_type": "code",
   "execution_count": 16,
   "id": "4cad1e09",
   "metadata": {},
   "outputs": [
    {
     "data": {
      "text/plain": [
       "(int, '0x7ffa1bb02990')"
      ]
     },
     "execution_count": 16,
     "metadata": {},
     "output_type": "execute_result"
    }
   ],
   "source": [
    "type(p),hex(id(p)) # variable p is pointing to memory location '0x7ffa1bd22c90'          "
   ]
  },
  {
   "cell_type": "code",
   "execution_count": 17,
   "id": "291f68e7",
   "metadata": {},
   "outputs": [
    {
     "data": {
      "text/plain": [
       "(20, int, '0x7ffa1bb02990')"
      ]
     },
     "execution_count": 17,
     "metadata": {},
     "output_type": "execute_result"
    }
   ],
   "source": [
    "q, type(1), hex(id(q))"
   ]
  },
  {
   "cell_type": "code",
   "execution_count": 18,
   "id": "26b0ccba",
   "metadata": {},
   "outputs": [
    {
     "data": {
      "text/plain": [
       "(int, '0x7ffa1bb02990')"
      ]
     },
     "execution_count": 18,
     "metadata": {},
     "output_type": "execute_result"
    }
   ],
   "source": [
    "type(r),hex(id(r))           # in python the referencing is done by values"
   ]
  },
  {
   "cell_type": "code",
   "execution_count": 19,
   "id": "b0defae9",
   "metadata": {},
   "outputs": [
    {
     "name": "stdout",
     "output_type": "stream",
     "text": [
      "10 10.2 Python\n"
     ]
    }
   ],
   "source": [
    "intvar=10\n",
    "floatvar=10.2\n",
    "strvar=\"Python\"\n",
    "print(intvar,floatvar,strvar)"
   ]
  },
  {
   "cell_type": "markdown",
   "id": "071ff391",
   "metadata": {},
   "source": [
    "# Multiple Assignments"
   ]
  },
  {
   "cell_type": "code",
   "execution_count": 20,
   "id": "3e29e15d",
   "metadata": {},
   "outputs": [
    {
     "name": "stdout",
     "output_type": "stream",
     "text": [
      "10 10.2 Python\n"
     ]
    }
   ],
   "source": [
    "intvar,floatvar,strvar=10,10.2,\"Python\"\n",
    "print(intvar,floatvar,strvar)"
   ]
  },
  {
   "cell_type": "code",
   "execution_count": 21,
   "id": "7a35e5f5",
   "metadata": {},
   "outputs": [
    {
     "name": "stdout",
     "output_type": "stream",
     "text": [
      "44 44 44 44\n"
     ]
    }
   ],
   "source": [
    "p1=p2=p3=p4=44 # All variables pointing to same value\n",
    "print(p1,p2,p3,p4)"
   ]
  },
  {
   "cell_type": "markdown",
   "id": "31a784c5",
   "metadata": {},
   "source": [
    "# Data Types "
   ]
  },
  {
   "cell_type": "markdown",
   "id": "390effb0",
   "metadata": {},
   "source": [
    "### Numeric"
   ]
  },
  {
   "cell_type": "code",
   "execution_count": 22,
   "id": "65f65e91",
   "metadata": {},
   "outputs": [
    {
     "name": "stdout",
     "output_type": "stream",
     "text": [
      "10\n",
      "<class 'int'>\n",
      "28\n",
      "10 is Ineger? True\n"
     ]
    }
   ],
   "source": [
    "val1=10\n",
    "print(val1)\n",
    "print(type(val1))\n",
    "print(sys.getsizeof(val1))   # size of integer object in bytes\n",
    "print(val1,\"is Ineger?\", isinstance(val1, int))# val1 is an instance of int datatype"
   ]
  },
  {
   "cell_type": "markdown",
   "id": "b8cee36d",
   "metadata": {},
   "source": [
    "### Float"
   ]
  },
  {
   "cell_type": "code",
   "execution_count": 23,
   "id": "8b618f8f",
   "metadata": {},
   "outputs": [
    {
     "name": "stdout",
     "output_type": "stream",
     "text": [
      "2.5\n",
      "<class 'float'>\n",
      "24\n",
      "2.5 is float? True\n"
     ]
    }
   ],
   "source": [
    "val1=2.5\n",
    "print(val1)\n",
    "print(type(val1))\n",
    "print(sys.getsizeof(val1))   # size of float object in bytes\n",
    "print(val1,\"is float?\", isinstance(val1, float))# val1 is an instance of float datatype"
   ]
  },
  {
   "cell_type": "markdown",
   "id": "76dcf630",
   "metadata": {},
   "source": [
    "### Complex"
   ]
  },
  {
   "cell_type": "code",
   "execution_count": 24,
   "id": "2f3d9e14",
   "metadata": {},
   "outputs": [
    {
     "name": "stdout",
     "output_type": "stream",
     "text": [
      "(25+7j)\n",
      "<class 'complex'>\n",
      "32\n",
      "(25+7j) is float? False\n"
     ]
    }
   ],
   "source": [
    "val1=25+7j\n",
    "print(val1)\n",
    "print(type(val1))\n",
    "print(sys.getsizeof(val1))   # size of complex object in bytes\n",
    "print(val1,\"is float?\", isinstance(val1, float))# val1 is an instance of complex datatype"
   ]
  },
  {
   "cell_type": "markdown",
   "id": "0a5918d4",
   "metadata": {},
   "source": [
    "# Boolean\n",
    "  \n",
    "   * Boolean datatype can have only two possible values true or false."
   ]
  },
  {
   "cell_type": "code",
   "execution_count": 25,
   "id": "e263edd9",
   "metadata": {},
   "outputs": [
    {
     "name": "stdout",
     "output_type": "stream",
     "text": [
      "<class 'bool'>\n",
      "True\n",
      "False\n",
      "True\n"
     ]
    }
   ],
   "source": [
    "bool1= True\n",
    "bool2=False\n",
    "print(type(bool1))\n",
    "print(isinstance(bool1,bool))\n",
    "print(bool(0))         # Anything apart from 0 is True\n",
    "print(bool(1)) "
   ]
  },
  {
   "cell_type": "markdown",
   "id": "1624b914",
   "metadata": {},
   "source": [
    "#  String:-\n",
    " \n",
    "      String Creation\n",
    "   \n",
    "   "
   ]
  },
  {
   "cell_type": "code",
   "execution_count": 26,
   "id": "beae34f1",
   "metadata": {},
   "outputs": [
    {
     "data": {
      "text/plain": [
       "'woohoo woohoo woohoo woohoo woohoo '"
      ]
     },
     "execution_count": 26,
     "metadata": {},
     "output_type": "execute_result"
    }
   ],
   "source": [
    "str1=\"woohoo \"\n",
    "str1*5"
   ]
  },
  {
   "cell_type": "markdown",
   "id": "562cbd69",
   "metadata": {},
   "source": [
    "#  String Indexing :-"
   ]
  },
  {
   "cell_type": "code",
   "execution_count": 27,
   "id": "2d09ca43",
   "metadata": {},
   "outputs": [
    {
     "data": {
      "text/plain": [
       "7"
      ]
     },
     "execution_count": 27,
     "metadata": {},
     "output_type": "execute_result"
    }
   ],
   "source": [
    "len(str1)               # Number of elements present in string"
   ]
  },
  {
   "cell_type": "code",
   "execution_count": 28,
   "id": "5f3c0adf",
   "metadata": {},
   "outputs": [
    {
     "data": {
      "text/plain": [
       "'o'"
      ]
     },
     "execution_count": 28,
     "metadata": {},
     "output_type": "execute_result"
    }
   ],
   "source": [
    "str1[-3]"
   ]
  },
  {
   "cell_type": "code",
   "execution_count": 29,
   "id": "cc5a26c2",
   "metadata": {},
   "outputs": [
    {
     "data": {
      "text/plain": [
       "'oohoo '"
      ]
     },
     "execution_count": 29,
     "metadata": {},
     "output_type": "execute_result"
    }
   ],
   "source": [
    "str1[-6:]"
   ]
  },
  {
   "cell_type": "code",
   "execution_count": 30,
   "id": "fa6c6d6d",
   "metadata": {},
   "outputs": [
    {
     "data": {
      "text/plain": [
       "'wooh'"
      ]
     },
     "execution_count": 30,
     "metadata": {},
     "output_type": "execute_result"
    }
   ],
   "source": [
    "str1[:-3]"
   ]
  },
  {
   "cell_type": "code",
   "execution_count": 31,
   "id": "26e32ac0",
   "metadata": {},
   "outputs": [
    {
     "data": {
      "text/plain": [
       "' '"
      ]
     },
     "execution_count": 31,
     "metadata": {},
     "output_type": "execute_result"
    }
   ],
   "source": [
    "str1[len(str1)-1]"
   ]
  },
  {
   "cell_type": "markdown",
   "id": "5f0d68b4",
   "metadata": {},
   "source": [
    "# Update and delete string\n",
    "  \n",
    "    *strings are immutable"
   ]
  },
  {
   "cell_type": "code",
   "execution_count": 32,
   "id": "9d757f87",
   "metadata": {},
   "outputs": [
    {
     "ename": "TypeError",
     "evalue": "'str' object does not support item assignment",
     "output_type": "error",
     "traceback": [
      "\u001b[1;31m---------------------------------------------------------------------------\u001b[0m",
      "\u001b[1;31mTypeError\u001b[0m                                 Traceback (most recent call last)",
      "\u001b[1;32m<ipython-input-32-33fbe65eda7c>\u001b[0m in \u001b[0;36m<module>\u001b[1;34m\u001b[0m\n\u001b[0;32m      1\u001b[0m \u001b[0mstr1\u001b[0m\u001b[1;33m=\u001b[0m\u001b[1;34m\"HELLO PYTHON\"\u001b[0m\u001b[1;33m\u001b[0m\u001b[1;33m\u001b[0m\u001b[0m\n\u001b[1;32m----> 2\u001b[1;33m \u001b[0mstr1\u001b[0m\u001b[1;33m[\u001b[0m\u001b[1;36m0\u001b[0m\u001b[1;33m:\u001b[0m\u001b[1;36m5\u001b[0m\u001b[1;33m]\u001b[0m\u001b[1;33m=\u001b[0m\u001b[1;34m'HEYA'\u001b[0m\u001b[1;33m\u001b[0m\u001b[1;33m\u001b[0m\u001b[0m\n\u001b[0m",
      "\u001b[1;31mTypeError\u001b[0m: 'str' object does not support item assignment"
     ]
    }
   ],
   "source": [
    "str1=\"HELLO PYTHON\"\n",
    "str1[0:5]='HEYA'"
   ]
  },
  {
   "cell_type": "code",
   "execution_count": null,
   "id": "2e523d37",
   "metadata": {},
   "outputs": [],
   "source": [
    "str1.replace('H',\"y\")   "
   ]
  },
  {
   "cell_type": "code",
   "execution_count": null,
   "id": "62f63284",
   "metadata": {},
   "outputs": [],
   "source": [
    "str1       # see  str1  still not changed"
   ]
  },
  {
   "cell_type": "code",
   "execution_count": null,
   "id": "841d3e81",
   "metadata": {},
   "outputs": [],
   "source": [
    "str=\"NLP WITH PYTHON AND JAVA\"\n",
    "str.partition(\"WITH\")"
   ]
  },
  {
   "cell_type": "code",
   "execution_count": null,
   "id": "c474cfb8",
   "metadata": {},
   "outputs": [],
   "source": [
    "str2=\" HELLO PYTHON \"\n",
    "str2.strip()"
   ]
  },
  {
   "cell_type": "code",
   "execution_count": null,
   "id": "0ee61288",
   "metadata": {},
   "outputs": [],
   "source": [
    "str2.rstrip()"
   ]
  },
  {
   "cell_type": "code",
   "execution_count": null,
   "id": "dc6ce770",
   "metadata": {},
   "outputs": [],
   "source": [
    "str2.lstrip()"
   ]
  },
  {
   "cell_type": "code",
   "execution_count": null,
   "id": "511ecf4f",
   "metadata": {},
   "outputs": [],
   "source": [
    "s=\"****hello****python****\"\n",
    "s.strip(\"*\")"
   ]
  },
  {
   "cell_type": "code",
   "execution_count": null,
   "id": "6da094a2",
   "metadata": {},
   "outputs": [],
   "source": [
    "str2.split()           # splits work with every occurences and partiton does with one occurence only."
   ]
  },
  {
   "cell_type": "markdown",
   "id": "192151c1",
   "metadata": {},
   "source": [
    "#   Combining strings and numbers using format method"
   ]
  },
  {
   "cell_type": "code",
   "execution_count": null,
   "id": "4ad20d0d",
   "metadata": {},
   "outputs": [],
   "source": [
    "a=10\n",
    "b=23\n",
    "c=12\n",
    "res=\"Value of a,b,c is {},{},{}\"\n",
    "print(res.format(a,b,c))"
   ]
  },
  {
   "cell_type": "code",
   "execution_count": null,
   "id": "af6be8f9",
   "metadata": {},
   "outputs": [],
   "source": [
    "print(\"Value of a is {}, and of b is {}, and of c is {}\".format(a,b,c))"
   ]
  },
  {
   "cell_type": "markdown",
   "id": "1490c2f6",
   "metadata": {},
   "source": [
    "# Operators\n",
    "\n",
    "  * Operators are special symbols in python which are used to perform operations on values/variables."
   ]
  },
  {
   "cell_type": "code",
   "execution_count": null,
   "id": "ad3622ea",
   "metadata": {},
   "outputs": [],
   "source": [
    "# ADDITION OPERATOR\n",
    "a=12\n",
    "b=21\n",
    "c=a+b\n",
    "print(\"Addition of {} and {} is : {}\".format(a,b,c))"
   ]
  },
  {
   "cell_type": "code",
   "execution_count": null,
   "id": "ca0fc56f",
   "metadata": {},
   "outputs": [],
   "source": [
    "# CONCATENATE string using plus operator\n",
    "x=\"Data\"\n",
    "y=\"Science\"\n",
    "x+\" \"+y"
   ]
  },
  {
   "cell_type": "code",
   "execution_count": null,
   "id": "ba9f49d4",
   "metadata": {},
   "outputs": [],
   "source": [
    "# SUBTRACTION OPERATOR\n",
    "c=a-b\n",
    "print(\"Subtraction of {} and {} is : {}\".format(a,b,c))"
   ]
  },
  {
   "cell_type": "code",
   "execution_count": null,
   "id": "5f9dfb13",
   "metadata": {},
   "outputs": [],
   "source": [
    "# MULTIPLICATION OPERATOR\n",
    "c=a*b\n",
    "print(\"Multiplication of {} and {} is: \\n{}\".format(a,b,c))"
   ]
  },
  {
   "cell_type": "code",
   "execution_count": null,
   "id": "b10f9e0e",
   "metadata": {},
   "outputs": [],
   "source": [
    "# DIVISION\n",
    "c=a/b\n",
    "print(\"Division of {} and {} is : {}\".format(a,b,c))"
   ]
  },
  {
   "cell_type": "code",
   "execution_count": null,
   "id": "be42bacb",
   "metadata": {},
   "outputs": [],
   "source": [
    "# FLOOR DIVISION - IF YOU DON'T WANT THE DECIMAL PART\n",
    "a//b      "
   ]
  },
  {
   "cell_type": "code",
   "execution_count": null,
   "id": "7cc13dc7",
   "metadata": {},
   "outputs": [],
   "source": [
    "# MODULO OPERATOR - RETURNS THE REMAINDER\n",
    "a%b"
   ]
  },
  {
   "cell_type": "code",
   "execution_count": null,
   "id": "d9be14aa",
   "metadata": {},
   "outputs": [],
   "source": [
    "# POWER\n",
    "c=a**b\n",
    "print(\"{} raised to the power {} will give :- {}\\n\".format(a,b,c))"
   ]
  },
  {
   "cell_type": "markdown",
   "id": "3ad854a4",
   "metadata": {},
   "source": [
    "# Comparison Operators "
   ]
  },
  {
   "cell_type": "code",
   "execution_count": null,
   "id": "82440266",
   "metadata": {},
   "outputs": [],
   "source": [
    "x=20\n",
    "y=30\n",
    "print(x>y , x<y , x==y , x<=y , x>=y , x!=y)"
   ]
  },
  {
   "cell_type": "code",
   "execution_count": null,
   "id": "9e63f03e",
   "metadata": {},
   "outputs": [],
   "source": [
    "a=\"Data\"\n",
    "b=\"Science\"\n",
    "c=\"Data\"\n",
    "print(a==b ,a==c ,a!=c)"
   ]
  },
  {
   "cell_type": "markdown",
   "id": "af09c2f8",
   "metadata": {},
   "source": [
    "# Logical Operators"
   ]
  },
  {
   "cell_type": "code",
   "execution_count": null,
   "id": "baca9820",
   "metadata": {},
   "outputs": [],
   "source": [
    "x=True\n",
    "y=False\n",
    "print(\"Logical AND operation : \",x and y)  # true if both the conditions are true\n",
    "print(\"Logical OR operation : \",x or y)    #rue if either of the condition is true\n",
    "print(\"NOT operation : \",not y)           # true if operand is false."
   ]
  },
  {
   "cell_type": "markdown",
   "id": "00f98fdb",
   "metadata": {},
   "source": [
    "# Bitwise Operators\n",
    " \n",
    "  * Bitwise operators act on bits and performs bit by bit operation"
   ]
  },
  {
   "cell_type": "code",
   "execution_count": null,
   "id": "1da2b4c5",
   "metadata": {},
   "outputs": [],
   "source": [
    "x=18 # binary form 10010\n",
    "y=6   # binary form 00110\n",
    "\n",
    "print(\"Bitwise AND operation - {}\".format(x&y))          # AND OPERATOR\n",
    "print(\"Bitwise OR operation - {}\".format(x|y))         # OR OPERATOR"
   ]
  },
  {
   "cell_type": "markdown",
   "id": "5223d6d2",
   "metadata": {},
   "source": [
    "# If conditional statement\n",
    "\n",
    "  * A Python if statement evaluates whether a condition is equal to true or false.\n",
    "  * The statement will execute a block of code if a specified condition is equal to true. Otherwise False."
   ]
  },
  {
   "cell_type": "code",
   "execution_count": null,
   "id": "64ecbc7d",
   "metadata": {},
   "outputs": [],
   "source": [
    "x=2\n",
    "if x==2:\n",
    "    print(\"True\")"
   ]
  },
  {
   "cell_type": "code",
   "execution_count": null,
   "id": "d4807e68",
   "metadata": {},
   "outputs": [],
   "source": [
    "x=1\n",
    "if x>0:\n",
    "    print(\"i am in if block\")\n",
    "else:\n",
    "    print(\"i am not\")"
   ]
  },
  {
   "cell_type": "code",
   "execution_count": null,
   "id": "794aa5c8",
   "metadata": {},
   "outputs": [],
   "source": [
    "if (5<4):\n",
    "    print(\"5 is big\")\n",
    "    print(\"i'm in if block\")\n",
    "    \n",
    "print(\"i'm out of if block\")    "
   ]
  },
  {
   "cell_type": "code",
   "execution_count": null,
   "id": "ea2647ec",
   "metadata": {},
   "outputs": [],
   "source": [
    "x=5\n",
    "if x>10:\n",
    "    print(\"i'm in if block\")\n",
    "elif x<6:           # elif will help in checking more than 1 if condition\n",
    "    print(\"i'm in elif part\")\n",
    "else:\n",
    "    print(\"i'm in else block\")"
   ]
  },
  {
   "cell_type": "markdown",
   "id": "130b1168",
   "metadata": {},
   "source": [
    "# INPUT FUNCTION \n",
    "  \n",
    "   * BY DEFAULT IT IS OF STRING DATATYPE"
   ]
  },
  {
   "cell_type": "code",
   "execution_count": null,
   "id": "f3179df8",
   "metadata": {},
   "outputs": [],
   "source": [
    "a= input(\"Enter your name:\")\n",
    "a"
   ]
  },
  {
   "cell_type": "code",
   "execution_count": null,
   "id": "e149438a",
   "metadata": {},
   "outputs": [],
   "source": [
    "b=int(input(\"Enter any number:\"))\n",
    "b"
   ]
  },
  {
   "cell_type": "code",
   "execution_count": null,
   "id": "22b21921",
   "metadata": {},
   "outputs": [],
   "source": [
    "b=int(input(\"Enter any number:\"))\n",
    "b"
   ]
  },
  {
   "cell_type": "code",
   "execution_count": null,
   "id": "aa79d622",
   "metadata": {},
   "outputs": [],
   "source": [
    "#  if ...elif...else\n",
    "\n",
    "x=int(input(\"Enter the number:\"))\n",
    "\n",
    "if x>0:\n",
    "    print(\"x is positive\")\n",
    "elif x<0:\n",
    "    print(\" x is negative\")\n",
    "else:\n",
    "    print(\"outside of block\")"
   ]
  },
  {
   "cell_type": "markdown",
   "id": "a338be4a",
   "metadata": {},
   "source": [
    "# Nested - if"
   ]
  },
  {
   "cell_type": "code",
   "execution_count": null,
   "id": "aecd7a55",
   "metadata": {},
   "outputs": [],
   "source": [
    "x=4\n",
    "if x>=1:\n",
    "    print(\"i'm in ist if\")\n",
    "    if x>2:\n",
    "        print(\"i'm in 2nd if\")\n",
    "        if x==4:\n",
    "            print(\"i'm in 3rd if\")"
   ]
  },
  {
   "cell_type": "code",
   "execution_count": null,
   "id": "6432e6c5",
   "metadata": {},
   "outputs": [],
   "source": [
    "x=4\n",
    "if x<=1:\n",
    "    print(\"i'm in ist if\")\n",
    "    if x>2:\n",
    "        print(\"i'm in 2nd if\")\n",
    "        if x==4:\n",
    "            print(\"i'm in 3rd if\")"
   ]
  },
  {
   "cell_type": "code",
   "execution_count": null,
   "id": "f2c37025",
   "metadata": {},
   "outputs": [],
   "source": [
    "#  we didn't get any output because ist if isn't get executed....."
   ]
  },
  {
   "cell_type": "markdown",
   "id": "0fa44eef",
   "metadata": {},
   "source": [
    "# Packages/Library..."
   ]
  },
  {
   "cell_type": "markdown",
   "id": "6ee00115",
   "metadata": {},
   "source": [
    "* Packages are software which holds certain functionalities to work on. In python we have many "
   ]
  },
  {
   "cell_type": "code",
   "execution_count": null,
   "id": "23cd55f2",
   "metadata": {},
   "outputs": [],
   "source": []
  },
  {
   "cell_type": "markdown",
   "id": "806c222b",
   "metadata": {},
   "source": [
    "# Datetime package"
   ]
  },
  {
   "cell_type": "code",
   "execution_count": null,
   "id": "c5c1174c",
   "metadata": {},
   "outputs": [],
   "source": []
  },
  {
   "cell_type": "code",
   "execution_count": null,
   "id": "6803971f",
   "metadata": {},
   "outputs": [],
   "source": [
    "from datetime import date\n",
    "\n",
    "my_date = date(2000,7,23)   # simple date creation   (yyyy-mm-dd)   in this format only\n",
    "my_date"
   ]
  },
  {
   "cell_type": "code",
   "execution_count": null,
   "id": "badd36f0",
   "metadata": {},
   "outputs": [],
   "source": [
    "# GETTING TODAYS DATE\n",
    "today1=date.today()\n",
    "today1"
   ]
  },
  {
   "cell_type": "code",
   "execution_count": null,
   "id": "c1e82296",
   "metadata": {},
   "outputs": [],
   "source": [
    "# GET TODAY'S YEAR, MONTH AND DAY\n",
    "\n",
    "print(\"current year:\",today1.year)             # we can also use this today1 object to get its year,or month or day\n",
    "print(\"current month:\",today.month)\n",
    "print(\"current day:\",today.day)"
   ]
  },
  {
   "cell_type": "code",
   "execution_count": null,
   "id": "4d5d5d0f",
   "metadata": {},
   "outputs": [],
   "source": [
    "# Get date from datetime sub module \n",
    "from datetime import datetime as dt\n",
    "\n",
    "date1=dt.now()\n",
    "date1"
   ]
  },
  {
   "cell_type": "code",
   "execution_count": null,
   "id": "1f1fe747",
   "metadata": {},
   "outputs": [],
   "source": [
    "dt.date(date1)"
   ]
  },
  {
   "cell_type": "code",
   "execution_count": null,
   "id": "d1c3e5ab",
   "metadata": {},
   "outputs": [],
   "source": [
    "date1.day"
   ]
  },
  {
   "cell_type": "code",
   "execution_count": null,
   "id": "739c3dcb",
   "metadata": {},
   "outputs": [],
   "source": [
    "date1.hour"
   ]
  },
  {
   "cell_type": "code",
   "execution_count": null,
   "id": "a8c6b8e9",
   "metadata": {},
   "outputs": [],
   "source": [
    "date1.isoweekday()"
   ]
  },
  {
   "cell_type": "code",
   "execution_count": null,
   "id": "7c30997d",
   "metadata": {},
   "outputs": [],
   "source": [
    "date1.month"
   ]
  },
  {
   "cell_type": "code",
   "execution_count": null,
   "id": "4d983546",
   "metadata": {},
   "outputs": [],
   "source": [
    "#  Time submodule\n",
    "from datetime import time"
   ]
  },
  {
   "cell_type": "code",
   "execution_count": null,
   "id": "e8d0fab0",
   "metadata": {},
   "outputs": [],
   "source": [
    "_time=time(22,13,56)\n",
    "print(\"Entered time is:\",_time)"
   ]
  },
  {
   "cell_type": "code",
   "execution_count": null,
   "id": "2e1a6fc9",
   "metadata": {},
   "outputs": [],
   "source": [
    "# Timedelta function demonstration\n",
    "\n",
    "from datetime import date, timedelta          # timedelta gives us the date after days or years"
   ]
  },
  {
   "cell_type": "code",
   "execution_count": null,
   "id": "2a49647e",
   "metadata": {},
   "outputs": [],
   "source": [
    "current_time=date.today()\n",
    "print(\"Initial date\",str(current_time))"
   ]
  },
  {
   "cell_type": "code",
   "execution_count": null,
   "id": "2e707e60",
   "metadata": {},
   "outputs": [],
   "source": [
    "future_date_after_2_years=current_time + timedelta(days=730)\n",
    "print(future_date_after_2_years)"
   ]
  },
  {
   "cell_type": "code",
   "execution_count": 17,
   "id": "a2e6b1e8",
   "metadata": {},
   "outputs": [
    {
     "name": "stdout",
     "output_type": "stream",
     "text": [
      "8 Years\n"
     ]
    }
   ],
   "source": [
    "#  Task to find my age after 5000 days in years\n",
    "from datetime import date\n",
    "dob=date(2000,7,23)\n",
    "\n",
    "after_5000_days= (today1 + timedelta(days=5000)).year\n",
    "print(date.today().year-after_5000_days,\"Years\")"
   ]
  },
  {
   "cell_type": "markdown",
   "id": "1ff3b7d2",
   "metadata": {},
   "source": [
    "# Four major data structures in \n",
    " \n",
    " 1. List\n",
    " 2. Tuple\n",
    " 3. Dictionary\n",
    " 4. Set"
   ]
  },
  {
   "cell_type": "code",
   "execution_count": null,
   "id": "8669ef9f",
   "metadata": {},
   "outputs": [],
   "source": [
    "#  Creating list \n",
    "l1=[]     # empty list\n",
    "l1"
   ]
  },
  {
   "cell_type": "code",
   "execution_count": null,
   "id": "30c7c421",
   "metadata": {},
   "outputs": [],
   "source": [
    "type(l1)"
   ]
  },
  {
   "cell_type": "code",
   "execution_count": null,
   "id": "648221b8",
   "metadata": {},
   "outputs": [],
   "source": [
    "#  another way to create list--\n",
    "l2=list([1,2,3,4])  # list of integers"
   ]
  },
  {
   "cell_type": "code",
   "execution_count": null,
   "id": "96f5998a",
   "metadata": {},
   "outputs": [],
   "source": [
    "l3=[12.3,4.5,6.7]  # list of  float"
   ]
  },
  {
   "cell_type": "code",
   "execution_count": null,
   "id": "043068a8",
   "metadata": {},
   "outputs": [],
   "source": [
    "l4=[\"abc\",\"divya\",\"lovi\"] # list of string"
   ]
  },
  {
   "cell_type": "code",
   "execution_count": null,
   "id": "8d4a4e9f",
   "metadata": {},
   "outputs": [],
   "source": [
    "l5=[\"Data\",20,[20,30,40],[50,60]]  # Nested list"
   ]
  },
  {
   "cell_type": "code",
   "execution_count": null,
   "id": "619d931e",
   "metadata": {},
   "outputs": [],
   "source": [
    "#  list can contain heterogeneous datatypes\n",
    "list1=[\"Data\",12,98.5]"
   ]
  },
  {
   "cell_type": "markdown",
   "id": "cab9332a",
   "metadata": {},
   "source": [
    "# List indexing and slicing"
   ]
  },
  {
   "cell_type": "code",
   "execution_count": null,
   "id": "1e5bb11c",
   "metadata": {},
   "outputs": [],
   "source": [
    "mylist= [\"one\",\"two\",\"three\",\"four\",\"five\",\"six\"]\n",
    "mylist[3]"
   ]
  },
  {
   "cell_type": "code",
   "execution_count": null,
   "id": "869090c2",
   "metadata": {},
   "outputs": [],
   "source": [
    "mylist[2:5]           # excluding the item at upper end"
   ]
  },
  {
   "cell_type": "markdown",
   "id": "f09c950c",
   "metadata": {},
   "source": [
    "### Using stepsize in the list"
   ]
  },
  {
   "cell_type": "code",
   "execution_count": null,
   "id": "41388cc7",
   "metadata": {},
   "outputs": [],
   "source": [
    "mylist[0:6:2]"
   ]
  },
  {
   "cell_type": "code",
   "execution_count": null,
   "id": "c796d1f9",
   "metadata": {},
   "outputs": [],
   "source": [
    "mylist.append([1,2,3])            # Add an item to the end of the list"
   ]
  },
  {
   "cell_type": "code",
   "execution_count": null,
   "id": "7d17c2e6",
   "metadata": {},
   "outputs": [],
   "source": [
    "mylist"
   ]
  },
  {
   "cell_type": "code",
   "execution_count": null,
   "id": "12273c10",
   "metadata": {},
   "outputs": [],
   "source": [
    "mylist.extend([1,2,3])     # add multiple elements at a time at end of the list"
   ]
  },
  {
   "cell_type": "code",
   "execution_count": null,
   "id": "04d9cbe2",
   "metadata": {},
   "outputs": [],
   "source": [
    "mylist.insert(4,100)           #  add item at index location "
   ]
  },
  {
   "cell_type": "markdown",
   "id": "af47eac4",
   "metadata": {},
   "source": [
    "### Removing elements"
   ]
  },
  {
   "cell_type": "code",
   "execution_count": null,
   "id": "30c59db3",
   "metadata": {},
   "outputs": [],
   "source": [
    "l1=[1,2,3,4,5,6]\n",
    "l1.pop()      # by default remove the last element "
   ]
  },
  {
   "cell_type": "code",
   "execution_count": null,
   "id": "aca5e456",
   "metadata": {},
   "outputs": [],
   "source": [
    "l1.pop(4)         # remove item at index 4"
   ]
  },
  {
   "cell_type": "code",
   "execution_count": null,
   "id": "48c6bcff",
   "metadata": {},
   "outputs": [],
   "source": [
    "l1.remove(1)      #   takes parameter (value)  and remove that element from the list"
   ]
  },
  {
   "cell_type": "code",
   "execution_count": null,
   "id": "4398e0c6",
   "metadata": {},
   "outputs": [],
   "source": [
    "l1"
   ]
  },
  {
   "cell_type": "code",
   "execution_count": null,
   "id": "d782456e",
   "metadata": {},
   "outputs": [],
   "source": [
    "l1.clear()      #clearing the elements from the list"
   ]
  },
  {
   "cell_type": "code",
   "execution_count": null,
   "id": "1778c486",
   "metadata": {},
   "outputs": [],
   "source": [
    "del l1   # permanently delete the list"
   ]
  },
  {
   "cell_type": "markdown",
   "id": "39f36883",
   "metadata": {},
   "source": [
    "### Join Lists"
   ]
  },
  {
   "cell_type": "code",
   "execution_count": null,
   "id": "7a2b5003",
   "metadata": {},
   "outputs": [],
   "source": [
    "list1=[\"One\",\"two\",\"three\",\"four\"]\n",
    "list2=[1,2,3,4]\n",
    "list3=list1+list2"
   ]
  },
  {
   "cell_type": "code",
   "execution_count": null,
   "id": "d985031d",
   "metadata": {},
   "outputs": [],
   "source": [
    "list3"
   ]
  },
  {
   "cell_type": "code",
   "execution_count": null,
   "id": "f8313e92",
   "metadata": {},
   "outputs": [],
   "source": [
    "# Another way to join the list\n",
    "list1.extend(list2)"
   ]
  },
  {
   "cell_type": "code",
   "execution_count": null,
   "id": "34037da4",
   "metadata": {},
   "outputs": [],
   "source": [
    "list1"
   ]
  },
  {
   "cell_type": "markdown",
   "id": "4f1b2165",
   "metadata": {},
   "source": [
    "# Membership "
   ]
  },
  {
   "cell_type": "code",
   "execution_count": null,
   "id": "1972b400",
   "metadata": {},
   "outputs": [],
   "source": [
    "\"One\" in list1           # checks if \"One\" exists in the list"
   ]
  },
  {
   "cell_type": "markdown",
   "id": "132bb4ba",
   "metadata": {},
   "source": [
    "### Reverse and Sort list"
   ]
  },
  {
   "cell_type": "code",
   "execution_count": null,
   "id": "b71358a9",
   "metadata": {},
   "outputs": [],
   "source": [
    "list2.reverse()\n",
    "list2"
   ]
  },
  {
   "cell_type": "code",
   "execution_count": null,
   "id": "e30f976f",
   "metadata": {},
   "outputs": [],
   "source": [
    "list2[::-1]     # -1 is the stepsize"
   ]
  },
  {
   "cell_type": "code",
   "execution_count": null,
   "id": "7fc57ca4",
   "metadata": {},
   "outputs": [],
   "source": [
    "l=[23,45,67,11,21]\n",
    "l.sort()        # by default in ascending order"
   ]
  },
  {
   "cell_type": "code",
   "execution_count": null,
   "id": "b18c8555",
   "metadata": {},
   "outputs": [],
   "source": [
    "l"
   ]
  },
  {
   "cell_type": "code",
   "execution_count": null,
   "id": "d05ac5ac",
   "metadata": {},
   "outputs": [],
   "source": [
    "l.sort(reverse=True)    # in descending order"
   ]
  },
  {
   "cell_type": "code",
   "execution_count": null,
   "id": "2480c23d",
   "metadata": {},
   "outputs": [],
   "source": [
    "l"
   ]
  },
  {
   "cell_type": "markdown",
   "id": "b06e2ccf",
   "metadata": {},
   "source": [
    "# All/Any"
   ]
  },
  {
   "cell_type": "markdown",
   "id": "f1302152",
   "metadata": {},
   "source": [
    "### The all() method returns :\n",
    "    *True:-if all elements in a list are true means 0 is not present\n",
    "     False:- if any element in a list is false\n",
    "    \n",
    "    *The any()function returns true if any element in the list is True\n",
    "    *if not, any() returns False"
   ]
  },
  {
   "cell_type": "code",
   "execution_count": null,
   "id": "f30b7828",
   "metadata": {},
   "outputs": [],
   "source": [
    "l1=[1,2,3,4,0]\n",
    "all(l1)      "
   ]
  },
  {
   "cell_type": "code",
   "execution_count": null,
   "id": "96861acc",
   "metadata": {},
   "outputs": [],
   "source": [
    "l2=[2,1,4,5,True,False]\n",
    "all(l2)              # return false as one value is false"
   ]
  },
  {
   "cell_type": "code",
   "execution_count": null,
   "id": "a7ea3c90",
   "metadata": {},
   "outputs": [],
   "source": [
    "any(l2)    # will return True as we have items in the list with True value"
   ]
  },
  {
   "cell_type": "markdown",
   "id": "fa729dda",
   "metadata": {},
   "source": [
    "#  List Comprehensions"
   ]
  },
  {
   "cell_type": "code",
   "execution_count": null,
   "id": "67044001",
   "metadata": {},
   "outputs": [],
   "source": []
  },
  {
   "cell_type": "markdown",
   "id": "e7b4c25f",
   "metadata": {},
   "source": [
    "# Tuples"
   ]
  },
  {
   "cell_type": "code",
   "execution_count": null,
   "id": "d47d5c86",
   "metadata": {},
   "outputs": [],
   "source": [
    "tup1=()  # empty list"
   ]
  },
  {
   "cell_type": "code",
   "execution_count": null,
   "id": "896c22e5",
   "metadata": {},
   "outputs": [],
   "source": [
    "tup2=(10,20,30,40)  # tuple of itegers"
   ]
  },
  {
   "cell_type": "code",
   "execution_count": null,
   "id": "0489f29c",
   "metadata": {},
   "outputs": [],
   "source": [
    "tup3=(10.22,45,35.5)        # tuple of float numbers"
   ]
  },
  {
   "cell_type": "code",
   "execution_count": null,
   "id": "cc7eb957",
   "metadata": {},
   "outputs": [],
   "source": [
    "tup4=(\"one\",\"two\",\"three\") # tuple of strings"
   ]
  },
  {
   "cell_type": "code",
   "execution_count": null,
   "id": "d111fbf7",
   "metadata": {},
   "outputs": [],
   "source": [
    "tup5=(\"Data\",25,(45,65),(15,12),[32,34,12],{\"john\",\"david\"})   # Nested Tuple"
   ]
  },
  {
   "cell_type": "code",
   "execution_count": null,
   "id": "b7561e97",
   "metadata": {},
   "outputs": [],
   "source": [
    "# Length of tuple\n",
    "len(tup5)"
   ]
  },
  {
   "cell_type": "markdown",
   "id": "9a5baa76",
   "metadata": {},
   "source": [
    "###  Tuple Indexing and Slicing"
   ]
  },
  {
   "cell_type": "code",
   "execution_count": null,
   "id": "787c1d96",
   "metadata": {},
   "outputs": [],
   "source": [
    "tup5[1]           "
   ]
  },
  {
   "cell_type": "code",
   "execution_count": null,
   "id": "1f45ab1c",
   "metadata": {},
   "outputs": [],
   "source": [
    "tup5[4][1]  # Nested indexing"
   ]
  },
  {
   "cell_type": "code",
   "execution_count": null,
   "id": "fb3f2b85",
   "metadata": {},
   "outputs": [],
   "source": [
    "tup5[1:6:2]"
   ]
  },
  {
   "cell_type": "markdown",
   "id": "a72b146f",
   "metadata": {},
   "source": [
    "### Remove and change items"
   ]
  },
  {
   "cell_type": "code",
   "execution_count": null,
   "id": "a88509fa",
   "metadata": {},
   "outputs": [],
   "source": [
    "del tup5[0]  # tuples are immutable we can't make any changes in the tuple"
   ]
  },
  {
   "cell_type": "code",
   "execution_count": null,
   "id": "3d9ac306",
   "metadata": {},
   "outputs": [],
   "source": [
    "del tup3  # deleting the entire tuple is possible"
   ]
  },
  {
   "cell_type": "code",
   "execution_count": null,
   "id": "c515a00f",
   "metadata": {},
   "outputs": [],
   "source": [
    "tup2[0] = 100            # can't do any modification"
   ]
  },
  {
   "cell_type": "markdown",
   "id": "098c0430",
   "metadata": {},
   "source": [
    "# Count"
   ]
  },
  {
   "cell_type": "code",
   "execution_count": null,
   "id": "9ca42bf3",
   "metadata": {},
   "outputs": [],
   "source": [
    "tup2.count(3)          # count the occurrences of the given element"
   ]
  },
  {
   "cell_type": "code",
   "execution_count": null,
   "id": "bdd22a1b",
   "metadata": {},
   "outputs": [],
   "source": [
    "tup2.index(30)    # gives the index of the particular element"
   ]
  },
  {
   "cell_type": "markdown",
   "id": "2e825399",
   "metadata": {},
   "source": [
    "### Tuple Membership"
   ]
  },
  {
   "cell_type": "code",
   "execution_count": 53,
   "id": "7b1555d9",
   "metadata": {},
   "outputs": [],
   "source": [
    "tuple1=(4,6,7,8,2,12,7,1)"
   ]
  },
  {
   "cell_type": "code",
   "execution_count": 54,
   "id": "c7500401",
   "metadata": {},
   "outputs": [
    {
     "data": {
      "text/plain": [
       "True"
      ]
     },
     "execution_count": 54,
     "metadata": {},
     "output_type": "execute_result"
    }
   ],
   "source": [
    "6 in tuple1"
   ]
  },
  {
   "cell_type": "code",
   "execution_count": 55,
   "id": "60dfb8d8",
   "metadata": {},
   "outputs": [
    {
     "name": "stdout",
     "output_type": "stream",
     "text": [
      "No\n"
     ]
    }
   ],
   "source": [
    "if 3 in tuple1:\n",
    "    print(\"yes\")\n",
    "else:\n",
    "    print(\"No\")"
   ]
  },
  {
   "cell_type": "markdown",
   "id": "e3590d63",
   "metadata": {},
   "source": [
    "### Index Position"
   ]
  },
  {
   "cell_type": "code",
   "execution_count": 56,
   "id": "7ca6d606",
   "metadata": {},
   "outputs": [
    {
     "data": {
      "text/plain": [
       "4"
      ]
     },
     "execution_count": 56,
     "metadata": {},
     "output_type": "execute_result"
    }
   ],
   "source": [
    "tuple1.index(2)"
   ]
  },
  {
   "cell_type": "code",
   "execution_count": 57,
   "id": "7e29534c",
   "metadata": {},
   "outputs": [
    {
     "data": {
      "text/plain": [
       "6"
      ]
     },
     "execution_count": 57,
     "metadata": {},
     "output_type": "execute_result"
    }
   ],
   "source": [
    "tuple1.index(7,3,8)"
   ]
  },
  {
   "cell_type": "markdown",
   "id": "e99ba58b",
   "metadata": {},
   "source": [
    "### Sorting"
   ]
  },
  {
   "cell_type": "code",
   "execution_count": 58,
   "id": "b76b4da7",
   "metadata": {},
   "outputs": [
    {
     "data": {
      "text/plain": [
       "[1, 2, 4, 6, 7, 7, 8, 12]"
      ]
     },
     "execution_count": 58,
     "metadata": {},
     "output_type": "execute_result"
    }
   ],
   "source": [
    "sorted(tuple1)"
   ]
  },
  {
   "cell_type": "code",
   "execution_count": 59,
   "id": "dfb6fb78",
   "metadata": {},
   "outputs": [
    {
     "data": {
      "text/plain": [
       "[12, 8, 7, 7, 6, 4, 2, 1]"
      ]
     },
     "execution_count": 59,
     "metadata": {},
     "output_type": "execute_result"
    }
   ],
   "source": [
    "sorted(tuple1,reverse=True)"
   ]
  },
  {
   "cell_type": "code",
   "execution_count": null,
   "id": "78504ad3",
   "metadata": {},
   "outputs": [],
   "source": []
  }
 ],
 "metadata": {
  "kernelspec": {
   "display_name": "Python 3",
   "language": "python",
   "name": "python3"
  },
  "language_info": {
   "codemirror_mode": {
    "name": "ipython",
    "version": 3
   },
   "file_extension": ".py",
   "mimetype": "text/x-python",
   "name": "python",
   "nbconvert_exporter": "python",
   "pygments_lexer": "ipython3",
   "version": "3.8.8"
  }
 },
 "nbformat": 4,
 "nbformat_minor": 5
}
