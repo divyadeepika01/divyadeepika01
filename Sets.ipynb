{
 "cells": [
  {
   "cell_type": "markdown",
   "id": "a396c292",
   "metadata": {},
   "source": [
    "# Sets\n",
    "\n",
    "1. Unordered and unindexed collection of items.\n",
    "2. Set elemens are unique,Duplicate elements are not allowed.\n",
    "3. Set elements are immutable.\n",
    "4. Set itself is mutable. We can add or rmove items from it."
   ]
  },
  {
   "cell_type": "markdown",
   "id": "fd4b476d",
   "metadata": {},
   "source": [
    "### Set Creation"
   ]
  },
  {
   "cell_type": "code",
   "execution_count": 7,
   "id": "c5d5bc87",
   "metadata": {},
   "outputs": [
    {
     "data": {
      "text/plain": [
       "{}"
      ]
     },
     "execution_count": 7,
     "metadata": {},
     "output_type": "execute_result"
    }
   ],
   "source": [
    "my_first_set={}       # cannot created with curly braces, but indicates with {} braces\n",
    "my_first_set"
   ]
  },
  {
   "cell_type": "code",
   "execution_count": 8,
   "id": "6c7f6c80",
   "metadata": {},
   "outputs": [
    {
     "data": {
      "text/plain": [
       "dict"
      ]
     },
     "execution_count": 8,
     "metadata": {},
     "output_type": "execute_result"
    }
   ],
   "source": [
    "type(my_first_set)"
   ]
  },
  {
   "cell_type": "code",
   "execution_count": 9,
   "id": "ac5467cb",
   "metadata": {},
   "outputs": [
    {
     "data": {
      "text/plain": [
       "set()"
      ]
     },
     "execution_count": 9,
     "metadata": {},
     "output_type": "execute_result"
    }
   ],
   "source": [
    "set1=set()\n",
    "set1"
   ]
  },
  {
   "cell_type": "code",
   "execution_count": 11,
   "id": "2042319b",
   "metadata": {},
   "outputs": [
    {
     "name": "stdout",
     "output_type": "stream",
     "text": [
      "<class 'set'>\n"
     ]
    }
   ],
   "source": [
    "print(type(set1))"
   ]
  },
  {
   "cell_type": "code",
   "execution_count": 20,
   "id": "6e2a50a5",
   "metadata": {},
   "outputs": [],
   "source": [
    "set2={1,2,3,4,5}       # set of numbers."
   ]
  },
  {
   "cell_type": "code",
   "execution_count": 15,
   "id": "b1f879db",
   "metadata": {},
   "outputs": [
    {
     "data": {
      "text/plain": [
       "5"
      ]
     },
     "execution_count": 15,
     "metadata": {},
     "output_type": "execute_result"
    }
   ],
   "source": [
    "len(set2)"
   ]
  },
  {
   "cell_type": "code",
   "execution_count": 16,
   "id": "5b20144e",
   "metadata": {},
   "outputs": [],
   "source": [
    "myset={11,2,3,4,5,6,7,11,11,11}"
   ]
  },
  {
   "cell_type": "code",
   "execution_count": 19,
   "id": "77b122b1",
   "metadata": {},
   "outputs": [
    {
     "data": {
      "text/plain": [
       "{2, 3, 4, 5, 6, 7, 11}"
      ]
     },
     "execution_count": 19,
     "metadata": {},
     "output_type": "execute_result"
    }
   ],
   "source": [
    "myset  # remove duplicacy"
   ]
  },
  {
   "cell_type": "code",
   "execution_count": 22,
   "id": "6694404a",
   "metadata": {},
   "outputs": [
    {
     "data": {
      "text/plain": [
       "{1.2, 3.4, 5.66}"
      ]
     },
     "execution_count": 22,
     "metadata": {},
     "output_type": "execute_result"
    }
   ],
   "source": [
    "myset1={1.2,3.4,5.66}\n",
    "myset1"
   ]
  },
  {
   "cell_type": "code",
   "execution_count": 24,
   "id": "4366ae7f",
   "metadata": {},
   "outputs": [
    {
     "data": {
      "text/plain": [
       "{'Data', 'Is', 'Vital'}"
      ]
     },
     "execution_count": 24,
     "metadata": {},
     "output_type": "execute_result"
    }
   ],
   "source": [
    "myset2={\"Data\",\"Is\",\"Vital\"}\n",
    "myset2"
   ]
  },
  {
   "cell_type": "code",
   "execution_count": 32,
   "id": "99fb221a",
   "metadata": {},
   "outputs": [
    {
     "data": {
      "text/plain": [
       "{(40, 50, 67), 10, 20, 'HELLO'}"
      ]
     },
     "execution_count": 32,
     "metadata": {},
     "output_type": "execute_result"
    }
   ],
   "source": [
    "#  Mixed datatypes/Nesting is also possible\n",
    "mix_set={10,20,\"HELLO\",(40,50,67)}\n",
    "mix_set"
   ]
  },
  {
   "cell_type": "markdown",
   "id": "f19ee5ec",
   "metadata": {},
   "source": [
    "### Set Membership"
   ]
  },
  {
   "cell_type": "code",
   "execution_count": 33,
   "id": "33b4b2de",
   "metadata": {},
   "outputs": [
    {
     "data": {
      "text/plain": [
       "True"
      ]
     },
     "execution_count": 33,
     "metadata": {},
     "output_type": "execute_result"
    }
   ],
   "source": [
    "\"Data\" in myset2"
   ]
  },
  {
   "cell_type": "code",
   "execution_count": 35,
   "id": "a6321e1c",
   "metadata": {},
   "outputs": [
    {
     "name": "stdout",
     "output_type": "stream",
     "text": [
      "no\n"
     ]
    }
   ],
   "source": [
    "if \"data\" in myset2:\n",
    "    print(\"yes\")\n",
    "else:\n",
    "    print(\"no\")"
   ]
  },
  {
   "cell_type": "code",
   "execution_count": 37,
   "id": "2792ea52",
   "metadata": {},
   "outputs": [
    {
     "data": {
      "text/plain": [
       "True"
      ]
     },
     "execution_count": 37,
     "metadata": {},
     "output_type": "execute_result"
    }
   ],
   "source": [
    "(40,50,67) in mix_set"
   ]
  },
  {
   "cell_type": "markdown",
   "id": "19f3f3e3",
   "metadata": {},
   "source": [
    "### Add and Remove Items"
   ]
  },
  {
   "cell_type": "code",
   "execution_count": 38,
   "id": "48473880",
   "metadata": {},
   "outputs": [],
   "source": [
    "myset={1,2,3,4,5}"
   ]
  },
  {
   "cell_type": "code",
   "execution_count": 42,
   "id": "1de20236",
   "metadata": {},
   "outputs": [],
   "source": [
    "myset.add(\"SIX\")"
   ]
  },
  {
   "cell_type": "code",
   "execution_count": 46,
   "id": "64d982ec",
   "metadata": {},
   "outputs": [
    {
     "data": {
      "text/plain": [
       "{1, 2, 3, 4, 5, 'Eight', 'SIX', 'TEN'}"
      ]
     },
     "execution_count": 46,
     "metadata": {},
     "output_type": "execute_result"
    }
   ],
   "source": [
    "myset.add(\"TEN\")\n",
    "myset"
   ]
  },
  {
   "cell_type": "code",
   "execution_count": 47,
   "id": "c59020f8",
   "metadata": {},
   "outputs": [
    {
     "data": {
      "text/plain": [
       "{1, 2, 3, 4, 5, 'Eight', 'SIX', 'TEN'}"
      ]
     },
     "execution_count": 47,
     "metadata": {},
     "output_type": "execute_result"
    }
   ],
   "source": [
    "myset.add(\"Eight\")\n",
    "myset"
   ]
  },
  {
   "cell_type": "code",
   "execution_count": 62,
   "id": "effe92f5",
   "metadata": {},
   "outputs": [
    {
     "data": {
      "text/plain": [
       "{1, 10.5, 2, 3, 4, 5, 'Eight', False, 'SIX', 'TEN', 'True'}"
      ]
     },
     "execution_count": 62,
     "metadata": {},
     "output_type": "execute_result"
    }
   ],
   "source": [
    "myset.add(True)\n",
    "myset"
   ]
  },
  {
   "cell_type": "code",
   "execution_count": 58,
   "id": "7958c691",
   "metadata": {},
   "outputs": [
    {
     "data": {
      "text/plain": [
       "{1, 10.5, 2, 3, 4, 5, 'Eight', False, 'SIX', 'TEN'}"
      ]
     },
     "execution_count": 58,
     "metadata": {},
     "output_type": "execute_result"
    }
   ],
   "source": [
    "myset.add(10.5)\n",
    "myset"
   ]
  },
  {
   "cell_type": "code",
   "execution_count": 59,
   "id": "0309149c",
   "metadata": {},
   "outputs": [
    {
     "data": {
      "text/plain": [
       "{1, 2, 2.5, 3, 4, 5}"
      ]
     },
     "execution_count": 59,
     "metadata": {},
     "output_type": "execute_result"
    }
   ],
   "source": [
    "set1={1,2,3,4,5}\n",
    "set1.add(2.5)\n",
    "set1"
   ]
  },
  {
   "cell_type": "code",
   "execution_count": 60,
   "id": "bd26a9b4",
   "metadata": {},
   "outputs": [
    {
     "data": {
      "text/plain": [
       "{1, 2, 2.5, 3, 4, 5, 10.5}"
      ]
     },
     "execution_count": 60,
     "metadata": {},
     "output_type": "execute_result"
    }
   ],
   "source": [
    "set1.add(10.5)\n",
    "set1"
   ]
  },
  {
   "cell_type": "code",
   "execution_count": 63,
   "id": "28194767",
   "metadata": {},
   "outputs": [],
   "source": [
    "set2={2,3,4,5}\n",
    "set2.add(True)"
   ]
  },
  {
   "cell_type": "code",
   "execution_count": 64,
   "id": "31c41d23",
   "metadata": {},
   "outputs": [
    {
     "data": {
      "text/plain": [
       "{True, 2, 3, 4, 5}"
      ]
     },
     "execution_count": 64,
     "metadata": {},
     "output_type": "execute_result"
    }
   ],
   "source": [
    "set2"
   ]
  },
  {
   "cell_type": "markdown",
   "id": "a5789db3",
   "metadata": {},
   "source": [
    "### Update function"
   ]
  },
  {
   "cell_type": "code",
   "execution_count": 65,
   "id": "621a6367",
   "metadata": {},
   "outputs": [],
   "source": [
    "set2.update([6,7,8])"
   ]
  },
  {
   "cell_type": "code",
   "execution_count": 66,
   "id": "bf37da93",
   "metadata": {},
   "outputs": [
    {
     "data": {
      "text/plain": [
       "{True, 2, 3, 4, 5, 6, 7, 8}"
      ]
     },
     "execution_count": 66,
     "metadata": {},
     "output_type": "execute_result"
    }
   ],
   "source": [
    "set2"
   ]
  },
  {
   "cell_type": "markdown",
   "id": "1f425d72",
   "metadata": {},
   "source": [
    "## Remove"
   ]
  },
  {
   "cell_type": "code",
   "execution_count": 67,
   "id": "453239a1",
   "metadata": {},
   "outputs": [
    {
     "data": {
      "text/plain": [
       "{True, 2, 3, 5, 6, 7, 8}"
      ]
     },
     "execution_count": 67,
     "metadata": {},
     "output_type": "execute_result"
    }
   ],
   "source": [
    "set2.remove()\n",
    "set2"
   ]
  },
  {
   "cell_type": "code",
   "execution_count": 69,
   "id": "9e5a3fe0",
   "metadata": {},
   "outputs": [
    {
     "data": {
      "text/plain": [
       "{True, 2, 3, 6, 7, 8}"
      ]
     },
     "execution_count": 69,
     "metadata": {},
     "output_type": "execute_result"
    }
   ],
   "source": [
    "# Discard--> remove item \n",
    "set2.discard(5)\n",
    "set2"
   ]
  },
  {
   "cell_type": "code",
   "execution_count": 71,
   "id": "c1339ffc",
   "metadata": {},
   "outputs": [
    {
     "data": {
      "text/plain": [
       "set()"
      ]
     },
     "execution_count": 71,
     "metadata": {},
     "output_type": "execute_result"
    }
   ],
   "source": [
    "#  Clear\n",
    "set2.clear()\n",
    "set2"
   ]
  },
  {
   "cell_type": "code",
   "execution_count": 72,
   "id": "63dc6aaa",
   "metadata": {},
   "outputs": [],
   "source": [
    "# DELETE\n",
    "del set2"
   ]
  },
  {
   "cell_type": "code",
   "execution_count": 73,
   "id": "7976b374",
   "metadata": {},
   "outputs": [
    {
     "ename": "NameError",
     "evalue": "name 'set2' is not defined",
     "output_type": "error",
     "traceback": [
      "\u001b[1;31m---------------------------------------------------------------------------\u001b[0m",
      "\u001b[1;31mNameError\u001b[0m                                 Traceback (most recent call last)",
      "\u001b[1;32m<ipython-input-73-b74a4c664e8b>\u001b[0m in \u001b[0;36m<module>\u001b[1;34m\u001b[0m\n\u001b[1;32m----> 1\u001b[1;33m \u001b[0mset2\u001b[0m\u001b[1;33m\u001b[0m\u001b[1;33m\u001b[0m\u001b[0m\n\u001b[0m",
      "\u001b[1;31mNameError\u001b[0m: name 'set2' is not defined"
     ]
    }
   ],
   "source": [
    "set2"
   ]
  },
  {
   "cell_type": "markdown",
   "id": "4a80faa9",
   "metadata": {},
   "source": [
    "## Set Operation"
   ]
  },
  {
   "cell_type": "markdown",
   "id": "8ce7a5ad",
   "metadata": {},
   "source": [
    "### Union--"
   ]
  },
  {
   "cell_type": "code",
   "execution_count": 74,
   "id": "5b0145ad",
   "metadata": {},
   "outputs": [],
   "source": [
    "A={1,2,3,4,5}\n",
    "B={4,5,6,7,8}\n",
    "C={8,9,10}"
   ]
  },
  {
   "cell_type": "code",
   "execution_count": 78,
   "id": "b192bdf5",
   "metadata": {},
   "outputs": [
    {
     "data": {
      "text/plain": [
       "{1, 2, 3, 4, 5, 6, 7, 8}"
      ]
     },
     "execution_count": 78,
     "metadata": {},
     "output_type": "execute_result"
    }
   ],
   "source": [
    "A | B   # union using pipe operator---all elements fromboth the sets ---no duplicates"
   ]
  },
  {
   "cell_type": "code",
   "execution_count": 79,
   "id": "bd5ffe8b",
   "metadata": {},
   "outputs": [
    {
     "data": {
      "text/plain": [
       "{1, 2, 3, 4, 5, 6, 7, 8}"
      ]
     },
     "execution_count": 79,
     "metadata": {},
     "output_type": "execute_result"
    }
   ],
   "source": [
    "A.union(B) # using union function"
   ]
  },
  {
   "cell_type": "code",
   "execution_count": 81,
   "id": "7ddbb418",
   "metadata": {},
   "outputs": [
    {
     "data": {
      "text/plain": [
       "{1, 2, 3, 4, 5, 6, 7, 8, 9, 10}"
      ]
     },
     "execution_count": 81,
     "metadata": {},
     "output_type": "execute_result"
    }
   ],
   "source": [
    "A.union(B,C) # union of  A, B, and C"
   ]
  },
  {
   "cell_type": "markdown",
   "id": "bca9a0c5",
   "metadata": {},
   "source": [
    "### INtersection"
   ]
  },
  {
   "cell_type": "code",
   "execution_count": 83,
   "id": "46b1c1ed",
   "metadata": {},
   "outputs": [
    {
     "data": {
      "text/plain": [
       "{4, 5}"
      ]
     },
     "execution_count": 83,
     "metadata": {},
     "output_type": "execute_result"
    }
   ],
   "source": [
    "A.intersection(B)"
   ]
  },
  {
   "cell_type": "code",
   "execution_count": 84,
   "id": "0db6092b",
   "metadata": {},
   "outputs": [
    {
     "data": {
      "text/plain": [
       "{4, 5}"
      ]
     },
     "execution_count": 84,
     "metadata": {},
     "output_type": "execute_result"
    }
   ],
   "source": [
    "B.intersection(A)"
   ]
  },
  {
   "cell_type": "code",
   "execution_count": 85,
   "id": "8fcf17ec",
   "metadata": {},
   "outputs": [],
   "source": [
    "A.intersection_update(B)"
   ]
  },
  {
   "cell_type": "code",
   "execution_count": 86,
   "id": "5d95acff",
   "metadata": {},
   "outputs": [
    {
     "data": {
      "text/plain": [
       "{4, 5}"
      ]
     },
     "execution_count": 86,
     "metadata": {},
     "output_type": "execute_result"
    }
   ],
   "source": [
    "A"
   ]
  },
  {
   "cell_type": "markdown",
   "id": "b1009da8",
   "metadata": {},
   "source": [
    "### Difference"
   ]
  },
  {
   "cell_type": "code",
   "execution_count": 92,
   "id": "81709c88",
   "metadata": {},
   "outputs": [
    {
     "data": {
      "text/plain": [
       "{4, 5}"
      ]
     },
     "execution_count": 92,
     "metadata": {},
     "output_type": "execute_result"
    }
   ],
   "source": [
    "A.difference(C)"
   ]
  },
  {
   "cell_type": "code",
   "execution_count": 89,
   "id": "25c84b81",
   "metadata": {},
   "outputs": [
    {
     "data": {
      "text/plain": [
       "{4, 5, 6, 7}"
      ]
     },
     "execution_count": 89,
     "metadata": {},
     "output_type": "execute_result"
    }
   ],
   "source": [
    "B.difference(C)"
   ]
  },
  {
   "cell_type": "code",
   "execution_count": 93,
   "id": "efe86769",
   "metadata": {},
   "outputs": [],
   "source": [
    "B.difference_update(C)"
   ]
  },
  {
   "cell_type": "code",
   "execution_count": 94,
   "id": "9853c447",
   "metadata": {},
   "outputs": [
    {
     "data": {
      "text/plain": [
       "{4, 5, 6, 7}"
      ]
     },
     "execution_count": 94,
     "metadata": {},
     "output_type": "execute_result"
    }
   ],
   "source": [
    "B"
   ]
  },
  {
   "cell_type": "code",
   "execution_count": null,
   "id": "fee27462",
   "metadata": {},
   "outputs": [],
   "source": []
  }
 ],
 "metadata": {
  "kernelspec": {
   "display_name": "Python 3",
   "language": "python",
   "name": "python3"
  },
  "language_info": {
   "codemirror_mode": {
    "name": "ipython",
    "version": 3
   },
   "file_extension": ".py",
   "mimetype": "text/x-python",
   "name": "python",
   "nbconvert_exporter": "python",
   "pygments_lexer": "ipython3",
   "version": "3.8.8"
  }
 },
 "nbformat": 4,
 "nbformat_minor": 5
}
