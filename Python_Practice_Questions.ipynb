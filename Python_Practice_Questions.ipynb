{
 "cells": [
  {
   "cell_type": "markdown",
   "metadata": {
    "id": "RhOU3YGa7R8g"
   },
   "source": [
    "# Python Practice Questions -I\n"
   ]
  },
  {
   "cell_type": "markdown",
   "metadata": {
    "id": "LqJ1fYVopeMd"
   },
   "source": [
    "1. Write a python code to take in an integer input and store it in a variable a."
   ]
  },
  {
   "cell_type": "code",
   "execution_count": 9,
   "metadata": {
    "id": "_wp-YzLOa2rK"
   },
   "outputs": [
    {
     "name": "stdout",
     "output_type": "stream",
     "text": [
      "Enter a number:7\n",
      "the number is: 7\n"
     ]
    }
   ],
   "source": [
    "var=int(input(\"Enter a number:\"))\n",
    "print(\"the number is:\",var)"
   ]
  },
  {
   "cell_type": "markdown",
   "metadata": {
    "id": "zKov80JDqyLT"
   },
   "source": [
    "2. Display a's typecast."
   ]
  },
  {
   "cell_type": "code",
   "execution_count": 10,
   "metadata": {
    "id": "pNxTk16ua3d8"
   },
   "outputs": [
    {
     "name": "stdout",
     "output_type": "stream",
     "text": [
      "<class 'int'>\n"
     ]
    }
   ],
   "source": [
    "print(type(var))"
   ]
  },
  {
   "cell_type": "markdown",
   "metadata": {
    "id": "C6-damfPq84b"
   },
   "source": [
    "3. Print 'True' if a is greater than or equal to 5, 'False' otherwise."
   ]
  },
  {
   "cell_type": "code",
   "execution_count": 13,
   "metadata": {
    "colab": {
     "base_uri": "https://localhost:8080/"
    },
    "id": "0gZXZy2hq7pn",
    "outputId": "134e41c7-c60c-4c44-e387-99d4eb5b78df"
   },
   "outputs": [
    {
     "name": "stdout",
     "output_type": "stream",
     "text": [
      "True\n"
     ]
    }
   ],
   "source": [
    "if var>=5 :\n",
    "    print(True)\n",
    "else:\n",
    "    print(False)"
   ]
  },
  {
   "cell_type": "markdown",
   "metadata": {
    "id": "vLxlhvRRrqmr"
   },
   "source": [
    "4. Take a string input of your name and store it as a list of separate letters.\n",
    " e.g. if your name is Rahul, take input of your name and store it in a list containing ['R','a','h','u','l']. Name the list as 'l'. Print 'l'."
   ]
  },
  {
   "cell_type": "code",
   "execution_count": 16,
   "metadata": {
    "colab": {
     "base_uri": "https://localhost:8080/"
    },
    "id": "YPjv7VBnr9Ek",
    "outputId": "8092973f-9d74-45ca-a693-520830770606"
   },
   "outputs": [
    {
     "name": "stdout",
     "output_type": "stream",
     "text": [
      "Enter your name:divya\n",
      "['d', 'i', 'v', 'y', 'a']\n"
     ]
    }
   ],
   "source": [
    "name=input(\"Enter your name:\")\n",
    "l = list(name)\n",
    "print(l)"
   ]
  },
  {
   "cell_type": "markdown",
   "metadata": {
    "id": "pE_Gziy1sVni"
   },
   "source": [
    "5. Take a string input and print all the unique letters of the string.(pass in your string as all lowercase) e.g: string: 'india', output: {'i','n','d','a'}"
   ]
  },
  {
   "cell_type": "code",
   "execution_count": 18,
   "metadata": {
    "id": "8xb6M-Ira5nJ"
   },
   "outputs": [
    {
     "name": "stdout",
     "output_type": "stream",
     "text": [
      "Enter something:Deepika\n"
     ]
    },
    {
     "data": {
      "text/plain": [
       "{'D', 'a', 'e', 'i', 'k', 'p'}"
      ]
     },
     "execution_count": 18,
     "metadata": {},
     "output_type": "execute_result"
    }
   ],
   "source": [
    "str=input(\"Enter something:\")\n",
    "set(str)"
   ]
  },
  {
   "cell_type": "markdown",
   "metadata": {
    "id": "DLrEwWV_DwMx"
   },
   "source": [
    "6. Print the sum of numbers from 1 to n where n is the input by the user."
   ]
  },
  {
   "cell_type": "code",
   "execution_count": 5,
   "metadata": {
    "colab": {
     "base_uri": "https://localhost:8080/"
    },
    "id": "rbCwAjtmD3zh",
    "outputId": "618530ed-21b4-476c-a7e1-a53c9b6ddc47"
   },
   "outputs": [
    {
     "name": "stdout",
     "output_type": "stream",
     "text": [
      "Enter any number:5\n"
     ]
    },
    {
     "data": {
      "text/plain": [
       "15"
      ]
     },
     "execution_count": 5,
     "metadata": {},
     "output_type": "execute_result"
    }
   ],
   "source": [
    "#Method1\n",
    "n = int(input(\"Enter any number:\"))\n",
    "sum(range(1,n+1))"
   ]
  },
  {
   "cell_type": "markdown",
   "metadata": {
    "id": "M5NzEpsMEq6Y"
   },
   "source": [
    "7. Print all the even numbers between 1 to n where n is the input given by user."
   ]
  },
  {
   "cell_type": "code",
   "execution_count": 8,
   "metadata": {
    "colab": {
     "base_uri": "https://localhost:8080/"
    },
    "id": "qVp_FLnCE3SF",
    "outputId": "521968b6-f85c-4dad-d4bc-7cf23af4e508"
   },
   "outputs": [
    {
     "name": "stdout",
     "output_type": "stream",
     "text": [
      "Enter number:4\n"
     ]
    },
    {
     "data": {
      "text/plain": [
       "[0, 2]"
      ]
     },
     "execution_count": 8,
     "metadata": {},
     "output_type": "execute_result"
    }
   ],
   "source": [
    "n = int(input(\"Enter number:\"))\n",
    "list(range(0,n,2))"
   ]
  },
  {
   "cell_type": "markdown",
   "metadata": {
    "id": "U7SfyOVYFR15"
   },
   "source": [
    "8. Print all the numbers from n to 1 in reverse order. e.g.: let n = 10, output = 10 9 8 7 6 5 4 3 2 1 "
   ]
  },
  {
   "cell_type": "code",
   "execution_count": 15,
   "metadata": {
    "colab": {
     "base_uri": "https://localhost:8080/"
    },
    "id": "OayZBBefFO0W",
    "outputId": "6f470745-407d-445f-e9c7-4a2adc9203c5"
   },
   "outputs": [
    {
     "name": "stdout",
     "output_type": "stream",
     "text": [
      "Enter the value of n:7\n"
     ]
    },
    {
     "data": {
      "text/plain": [
       "[7, 6, 5, 4, 3, 2, 1]"
      ]
     },
     "execution_count": 15,
     "metadata": {},
     "output_type": "execute_result"
    }
   ],
   "source": [
    "n = int(input(\"Enter the value of n:\"))\n",
    "list1=list(range(1,n+1))\n",
    "list1.reverse()\n",
    "list1"
   ]
  },
  {
   "cell_type": "markdown",
   "metadata": {
    "id": "ob5oeLA3tO5D"
   },
   "source": [
    "9. A factorial of a number is defined as n! = n*(n-1)*(n-2)*(n-3)*....*1. Write a python code to display factorial of a number n."
   ]
  },
  {
   "cell_type": "code",
   "execution_count": 1,
   "metadata": {
    "colab": {
     "base_uri": "https://localhost:8080/"
    },
    "id": "NpWh8nx9sllj",
    "outputId": "8d359bb4-14ee-4164-c730-f51029f57507"
   },
   "outputs": [
    {
     "data": {
      "text/plain": [
       "120"
      ]
     },
     "execution_count": 1,
     "metadata": {},
     "output_type": "execute_result"
    }
   ],
   "source": [
    "def fact(num):\n",
    "    if num == 1:\n",
    "        return 1\n",
    "    return num*fact(num - 1)\n",
    "fact(5)        \n",
    "# import sys\n",
    "# sys.getrecursionlimit()"
   ]
  },
  {
   "cell_type": "markdown",
   "metadata": {
    "id": "9FvgbY-2IF-I"
   },
   "source": [
    "10. Print multiplication table of an integer n. \n",
    "- n x 1 = n\n",
    "- n x 2 = 2n\n",
    "- \n",
    "- \n",
    "- so on... till 10."
   ]
  },
  {
   "cell_type": "code",
   "execution_count": 2,
   "metadata": {
    "colab": {
     "base_uri": "https://localhost:8080/"
    },
    "id": "D_4qkVQWIFXm",
    "outputId": "1e618054-b33d-4129-86ea-c135a52ab565"
   },
   "outputs": [
    {
     "name": "stdout",
     "output_type": "stream",
     "text": [
      "Enter the number:12\n",
      "12 x 1 = 12\n",
      "12 x 2 = 24\n",
      "12 x 3 = 36\n",
      "12 x 4 = 48\n",
      "12 x 5 = 60\n",
      "12 x 6 = 72\n",
      "12 x 7 = 84\n",
      "12 x 8 = 96\n",
      "12 x 9 = 108\n",
      "12 x 10 = 120\n"
     ]
    }
   ],
   "source": [
    "n = int(input(\"Enter the number:\"))\n",
    "for i in range(1, 11):\n",
    "   print(n,'x', i, '=', n*i)"
   ]
  },
  {
   "cell_type": "markdown",
   "metadata": {
    "id": "IxR7bKtvJYJY"
   },
   "source": [
    "11. Simple interest formula is given by:\n",
    "Simple Interest = (P x T x R)/100\n",
    "\n",
    "Write a python code to take in input of P, T and R and calculate the Simple Interest by defining a function sint"
   ]
  },
  {
   "cell_type": "code",
   "execution_count": 15,
   "metadata": {
    "colab": {
     "base_uri": "https://localhost:8080/"
    },
    "id": "4uTvN1QrJXjk",
    "outputId": "4884c65f-7afc-4060-c30b-8f877e3f9ad5"
   },
   "outputs": [
    {
     "name": "stdout",
     "output_type": "stream",
     "text": [
      "Enter the value of principal:4\n",
      "Please specify time:5\n",
      "Enter the rate value:6\n",
      "1.2\n"
     ]
    }
   ],
   "source": [
    "p=eval(input(\"Enter the value of principal:\"))\n",
    "t=eval(input(\"Please specify time:\"))\n",
    "r=eval(input(\"Enter the rate value:\"))\n",
    "S_I=(p*r*t)/100\n",
    "print(S_I)"
   ]
  },
  {
   "cell_type": "markdown",
   "metadata": {
    "id": "DuJ97B90LSqI"
   },
   "source": [
    "12. Find out if the number n is prime or not."
   ]
  },
  {
   "cell_type": "code",
   "execution_count": 10,
   "metadata": {
    "colab": {
     "base_uri": "https://localhost:8080/"
    },
    "id": "YSkR5bJ_LPqg",
    "outputId": "ea95dd9a-bed3-4f64-a5a1-db0c9f4c7143"
   },
   "outputs": [
    {
     "name": "stdout",
     "output_type": "stream",
     "text": [
      "Enter any number:6\n",
      "6 is not a prime number\n"
     ]
    }
   ],
   "source": [
    "n = int(input(\"Enter any number:\"))\n",
    "if n > 1:\n",
    "    for i in range(2,int(n/2)+1):\n",
    "        if (n%i) == 0:\n",
    "            print(n, \"is not a prime number\")\n",
    "            break\n",
    "        else:\n",
    "            print(n,\"is a prime number\")\n",
    "else:\n",
    "    print(n,\"is not a prime number\")\n",
    "  \n",
    "    "
   ]
  },
  {
   "cell_type": "markdown",
   "metadata": {
    "id": "KD9dOC5NMQN_"
   },
   "source": [
    "13. Find the maximum integer from an array of integers"
   ]
  },
  {
   "cell_type": "code",
   "execution_count": 15,
   "metadata": {
    "colab": {
     "base_uri": "https://localhost:8080/"
    },
    "id": "MO8I55OeMPBs",
    "outputId": "11603bfd-8a2d-4d43-9220-bfb76d2e2770"
   },
   "outputs": [
    {
     "name": "stdout",
     "output_type": "stream",
     "text": [
      "Enter a sequence:12,87,90\n"
     ]
    },
    {
     "data": {
      "text/plain": [
       "90"
      ]
     },
     "execution_count": 15,
     "metadata": {},
     "output_type": "execute_result"
    }
   ],
   "source": [
    "n = eval(input('Enter a sequence:'))\n",
    "list(n)\n",
    "max(n)"
   ]
  },
  {
   "cell_type": "markdown",
   "metadata": {
    "id": "bKHQVj9hZX12"
   },
   "source": [
    "14. Swap the first and last elements of a list."
   ]
  },
  {
   "cell_type": "code",
   "execution_count": 18,
   "metadata": {
    "colab": {
     "base_uri": "https://localhost:8080/"
    },
    "id": "VUsjsEDgN8ZQ",
    "outputId": "d57c9277-47b5-4fa5-d95e-e5d74aae4911"
   },
   "outputs": [
    {
     "name": "stdout",
     "output_type": "stream",
     "text": [
      "[5, 2, 3, 4, 1]\n"
     ]
    }
   ],
   "source": [
    "list1 = [1,2,3,4,5]\n",
    "\n",
    "  \n",
    "temp =list1[0]\n",
    "list1[0] = list1[-1]\n",
    "list1[-1] = temp\n",
    "print(list1)"
   ]
  },
  {
   "cell_type": "markdown",
   "metadata": {
    "id": "1P0zK8RT9bRR"
   },
   "source": [
    "15. Reverse the string \"Hello World\""
   ]
  },
  {
   "cell_type": "code",
   "execution_count": null,
   "metadata": {
    "colab": {
     "base_uri": "https://localhost:8080/"
    },
    "id": "VCxRU07KJSDt",
    "outputId": "15fe6535-4118-4b2b-ebeb-f9ef37d61d50"
   },
   "outputs": [
    {
     "name": "stdout",
     "output_type": "stream",
     "text": [
      "dlroW olleH\n"
     ]
    }
   ],
   "source": [
    "txt = \"Hello World\"\n",
    "txt = txt[::-1]\n",
    "print(txt)"
   ]
  },
  {
   "cell_type": "markdown",
   "metadata": {
    "id": "UQh4YW8XJZPg"
   },
   "source": [
    "16. Write a program to accept a string from the user and display characters that are present at an even index number. e.g. If input is \"Python\", print P,t,o"
   ]
  },
  {
   "cell_type": "code",
   "execution_count": 22,
   "metadata": {
    "colab": {
     "base_uri": "https://localhost:8080/"
    },
    "id": "5qNvb8oPJYls",
    "outputId": "3c857fcb-572b-42c6-de55-5e87875e14e2"
   },
   "outputs": [
    {
     "name": "stdout",
     "output_type": "stream",
     "text": [
      "Enter something:tyre\n",
      "t\n",
      "r\n"
     ]
    }
   ],
   "source": [
    "word = input(\"Enter something:\")\n",
    "size = len(word)\n",
    "for i in range(0, size -1, 2):\n",
    "    print(word[i])"
   ]
  },
  {
   "cell_type": "markdown",
   "metadata": {
    "id": "fqhNa6msKeQX"
   },
   "source": [
    "17. Write a program to remove characters from a string starting from zero up to n and return a new string with the remaining letters."
   ]
  },
  {
   "cell_type": "code",
   "execution_count": 25,
   "metadata": {
    "colab": {
     "base_uri": "https://localhost:8080/"
    },
    "id": "0n_fis0XKdtx",
    "outputId": "211836d6-f986-4d6f-bca3-3ccef2712b5d"
   },
   "outputs": [
    {
     "name": "stdout",
     "output_type": "stream",
     "text": [
      "Enter something:divya123\n",
      "Enter the value of n:4\n",
      "a123\n"
     ]
    }
   ],
   "source": [
    "word = input(\"Enter something:\")\n",
    "n = int(input(\"Enter the value of n:\"))\n",
    "word = word[n:]\n",
    "print(word)"
   ]
  },
  {
   "cell_type": "markdown",
   "metadata": {
    "id": "-wsi9wiNK-qO"
   },
   "source": [
    "18. From a given list of numbers print only those numbers which are divisible by 5"
   ]
  },
  {
   "cell_type": "code",
   "execution_count": 29,
   "metadata": {
    "colab": {
     "base_uri": "https://localhost:8080/"
    },
    "id": "TMW4JIh4K9OL",
    "outputId": "a981f2e3-d2f2-4c0a-f5e9-9052339ffca5"
   },
   "outputs": [
    {
     "name": "stdout",
     "output_type": "stream",
     "text": [
      "120\n",
      "45\n",
      "35\n",
      "25\n"
     ]
    }
   ],
   "source": [
    "list = [120,23,45,35,25,66]\n",
    "for i in list:\n",
    "    if i % 5 == 0:\n",
    "        print(i)"
   ]
  },
  {
   "cell_type": "markdown",
   "metadata": {
    "id": "R3X7AomeLWBv"
   },
   "source": [
    "  19. Print the following pattern.\n",
    "\n",
    "  1\n",
    "\n",
    "  2 2\n",
    "\n",
    "  3 3 3\n",
    "\n",
    "  4 4 4 4 \n",
    "\n",
    "  5 5 5 5 5"
   ]
  },
  {
   "cell_type": "code",
   "execution_count": 4,
   "metadata": {
    "colab": {
     "base_uri": "https://localhost:8080/"
    },
    "id": "qhAJgC8wLPu9",
    "outputId": "9f0da8db-0546-4e1a-c48e-e105b3c0e568"
   },
   "outputs": [
    {
     "name": "stdout",
     "output_type": "stream",
     "text": [
      "\n",
      "\n",
      "1 \n",
      "\n",
      "2 2 \n",
      "\n",
      "3 3 3 \n",
      "\n",
      "4 4 4 4 \n",
      "\n",
      "5 5 5 5 5 \n",
      "\n"
     ]
    }
   ],
   "source": [
    "for num in range(6):\n",
    "    for i in range(num):\n",
    "        print (num, end=\" \") \n",
    "    print(\"\\n\")"
   ]
  },
  {
   "cell_type": "markdown",
   "metadata": {
    "id": "fJXrfnOYL0Z_"
   },
   "source": [
    "20. Given a two list of numbers, write a program to create a new list such that the new list should contain odd numbers from the first list and even numbers from the second list."
   ]
  },
  {
   "cell_type": "code",
   "execution_count": 11,
   "metadata": {
    "colab": {
     "base_uri": "https://localhost:8080/"
    },
    "id": "YctQTK-qLysY",
    "outputId": "541684c8-d675-48de-a561-f381869321fa"
   },
   "outputs": [
    {
     "data": {
      "text/plain": [
       "[1, 3, 5, 4, 68, 2]"
      ]
     },
     "execution_count": 11,
     "metadata": {},
     "output_type": "execute_result"
    }
   ],
   "source": [
    "l1=[1,2,3,4,5,6]\n",
    "l2=[4,5,68,2,1]\n",
    "new_list=[]\n",
    "for i in l1:\n",
    "    if i%2 != 0:\n",
    "        new_list.append(i)\n",
    "for j in l2:\n",
    "    if j%2 == 0:\n",
    "        new_list.append(j)\n",
    "new_list        "
   ]
  },
  {
   "cell_type": "markdown",
   "metadata": {
    "id": "3t3vN1C9NpdX"
   },
   "source": [
    "21. Print the following pattern for 8 lines.\n",
    "\n",
    "![image.png](data:image/png;base64,iVBORw0KGgoAAAANSUhEUgAAAO4AAAC1CAYAAABYp8MWAAAAAXNSR0IArs4c6QAAAARnQU1BAACxjwv8YQUAAAAJcEhZcwAAEnQAABJ0Ad5mH3gAAAUpSURBVHhe7d0xiFRnFIbhk5SLiBiMhcUGQkJSBLQyaISkWsHeYgWbRQVDQAuroIViZRFBFEywEbRIv+DWGsHKgARCQsApDBgxiMi2ydzZu7vT7uz8xcc8TzNckfFH7jtn5jbnvS8Pf/1fAVHe71+BIMKFQMKFQMKFQMKFQMKFQMKFQMKFQMKFQMKFQMKFQMKFQMKFQMKFQMKFQMKFQMKFQMKFQMKFQMKFQMKFQMKFQMKFQMKFQMKFQMKFQMKFQI3DPV5X796oC4f7yyk5dP5G3btyvL+aksVLde/WuTrUX07Hwbpw605dXewvp6XJWUnSINzuZr1Um/fqq3rxy/Dl8Ln6aTs32/Bm/en8wf6iavXfweh18co2wujONP4B8Prvejx86T4Yxv+trVq8Mv5htVpvRkftPsTG/1+2qNFZydQg3PnatWO+jt0dC6qbEGe+qLkdO+uj/o+26tDePTV34PRo0qy9x/xomh2br/pw74Q37vzOmptfqHtjQXUfBN8emKu53cM3nsjB2vfBXO0/c2cYVP8e88Po7i4Mz72n9k367aPJWUnVbs1mNyG6WEcXq/Xr7e/qWjd5t6m7WbtYRwYrdeLiz/3F5Lqp1QUw8u5Z3Tx7fTTNtqebsF2sa54/WKrv7/cX29DmrKTxcAoCNZi4m5Pm+YOVqqOf1W8Pqo4d7cbkoJZPXq5JBs/GpBlOmeU/P65v6mH98clC7d8xnOdPf6xTPzzp/+YWdF/h18/VnfHz32u5FtYm+sTTvPuNf7o/18rwjEeqHv1Vnx7tvn1s45tHk7OSqsHEHdSbd12gY18N71+uE7ef1eq7t/W8/6Otevzy1SjQE8OvhmvvMahrZ5dqeVD1z8sJou0M3tZqd9OPfZjcv7hUN5+ubjz82ron9eJ1F+jS8MOkf4/B9Tp1cmV47v5B3SSanJVU7X7jjnTT90i9mdLv23Wj6bv74XSnTDfRvno75d+Ma9N316Pp/L7d0OSsJGkcLtCCh1MQSLgQSLgQSLgQSLgQSLgQSLgQSLgQSLgQSLgQSLgQSLgQSLgQSLgQSLgQSLgQSLgQSLgQSLgQSLgQqHG4ln41WfrFzGsQrqVfTZZ+wZgG4Vr61WTpF4yx9GuozSKtNku/oOPhFASy9Ctl6ReMaTBxLf1qsvQLxlj6ta7JIq1GS7+YeZZ+QSAPpyCQcCGQcCGQcCGQcCGQcCGQcCGQcCGQcCGQcCGQcCGQcCGQcCGQcCGQcCGQcCGQcCGQcCGQcCGQcCFQ43BnfekXtNEgXEu/oLUG4c760i9oz9KvoTZLv6AdD6cgkKVfU1/6Be01mLizvvQL2rP0a12TpV/QhqVfEMjDKQgkXAgkXAgkXAgkXAgkXAgkXAgkXAgkXAgkXAgkXAgkXAgkXAgkXAgkXAgkXAgkXAgkXAgkXAgkXAjUONygpV8QpEG4QUu/IFSDcIOWfkEoS78gkIdTEGi2l35BqAYTN2jpF4Sy9AsCWfoFgTycgkDChUDChUDChUDChUDChUDChUDChUDChUDChUDChUDChUDChUDChUDChUDChUDChUDChUDChUDChUCNw22z9AtmXYNwGy39AjY0CLfN0i9gU9zSL8DDKYgUs/QL2NRg4rZZ+gVsilz6BbPO0i8I5OEUBBIuBBIuBBIuBBIuBBIuBBIuBBIuBBIuBBIuBBIuBBIuBBIuBBIuBBIuBBIuBBIuBBIuBBIuBBIuBBIuBBIuBBIuBBIuBBIuBBIuBBIuBBIuxKn6Hw4QCYbV15veAAAAAElFTkSuQmCC)"
   ]
  },
  {
   "cell_type": "code",
   "execution_count": 21,
   "metadata": {
    "colab": {
     "base_uri": "https://localhost:8080/"
    },
    "id": "-hyVEIGBNmtA",
    "outputId": "893c2428-b143-4821-9365-ff414f7aa28f"
   },
   "outputs": [
    {
     "name": "stdout",
     "output_type": "stream",
     "text": [
      "* * * * * * * *  \n",
      "* * * * * * *  \n",
      "* * * * * *  \n",
      "* * * * *  \n",
      "* * * *  \n",
      "* * *  \n",
      "* *  \n",
      "*  \n",
      " \n"
     ]
    }
   ],
   "source": [
    "# outer loop is for number of rows\n",
    "for i in range(9, 0, -1):\n",
    "    # inner loop is for number of columns\n",
    "    for j in range(0, i - 1):      #no. of columns==no. of rows\n",
    "        print(\"*\", end=' ')             #end for spaces after completing each row\n",
    "    print(\" \") "
   ]
  },
  {
   "cell_type": "markdown",
   "metadata": {
    "id": "IqguwNyiOmiQ"
   },
   "source": [
    "22. Write a Python program to convert them into a dictionary in a way that item from list1 is the key and item from list2 is the value.\n",
    "\n",
    "list1 = ['India', 'USA', 'China']\n",
    "\n",
    "list2 = [1, 2, 3]"
   ]
  },
  {
   "cell_type": "code",
   "execution_count": 2,
   "metadata": {
    "colab": {
     "base_uri": "https://localhost:8080/"
    },
    "id": "wMJ06-78Olow",
    "outputId": "62b887b1-9435-455b-ce61-82a58fd73a22"
   },
   "outputs": [
    {
     "data": {
      "text/plain": [
       "{'India': 1, 'USA': 2, 'China': 3}"
      ]
     },
     "execution_count": 2,
     "metadata": {},
     "output_type": "execute_result"
    }
   ],
   "source": [
    "list1 = ['India', 'USA', 'China']\n",
    "list2 = [1, 2, 3]\n",
    "dict(zip(list1,list2))"
   ]
  },
  {
   "cell_type": "markdown",
   "metadata": {
    "id": "b5E0Ok7QPW-e"
   },
   "source": [
    "23. Merge 2 dictionaries into 1.\n",
    "- dict1 = {'India': 1, 'USA': 2, 'China': 3}\n",
    "- dict2 = {'UK': 4, 'Japan': 5, 'Russia': 6}"
   ]
  },
  {
   "cell_type": "code",
   "execution_count": 9,
   "metadata": {
    "colab": {
     "base_uri": "https://localhost:8080/"
    },
    "id": "8BmKwjdLPTsM",
    "outputId": "df599c51-5818-4e35-d51d-c77651c441bf"
   },
   "outputs": [
    {
     "data": {
      "text/plain": [
       "{'India': 1, 'USA': 2, 'China': 3, 'UK': 4, 'Japan': 5, 'Russia': 6}"
      ]
     },
     "execution_count": 9,
     "metadata": {},
     "output_type": "execute_result"
    }
   ],
   "source": [
    "dict1 = {'India': 1, 'USA': 2, 'China': 3}\n",
    "dict2 = {'UK': 4, 'Japan': 5, 'Russia': 6}\n",
    "dict1.update(dict2)\n",
    "dict1"
   ]
  },
  {
   "cell_type": "markdown",
   "metadata": {
    "id": "GPtyBj-RP0E_"
   },
   "source": [
    "24. Check if a value exists in a dictionary or not.\n",
    "- sample_dict = {'India': 1, 'USA': 2, 'China': 3}\n",
    "- check if 2 exists in the dictionary or not and print \"2 present in dictionary\" if it exists."
   ]
  },
  {
   "cell_type": "code",
   "execution_count": 13,
   "metadata": {
    "colab": {
     "base_uri": "https://localhost:8080/"
    },
    "id": "VeFH10hvQNyg",
    "outputId": "f9c9b7c0-5532-4fb2-fb24-a725bcd6317f"
   },
   "outputs": [
    {
     "name": "stdout",
     "output_type": "stream",
     "text": [
      "2 present in dictionary\n"
     ]
    }
   ],
   "source": [
    "sample_dict = {'India': 1, 'USA': 2, 'China': 3}\n",
    "if 2 in sample_dict.values():\n",
    "    print('2 present in dictionary')"
   ]
  },
  {
   "cell_type": "markdown",
   "metadata": {
    "id": "oi7ITLFwQocm"
   },
   "source": [
    "25. Get the key of a minimum value from the following dictionary.\n",
    " - sample_dict = {'India': 19, 'USA': 27, 'China': 76}"
   ]
  },
  {
   "cell_type": "code",
   "execution_count": 18,
   "metadata": {
    "colab": {
     "base_uri": "https://localhost:8080/"
    },
    "id": "ZWQkPatFQnmM",
    "outputId": "9f0db6fc-7167-46a7-97b6-0b90112f9d14"
   },
   "outputs": [
    {
     "name": "stdout",
     "output_type": "stream",
     "text": [
      "India\n"
     ]
    }
   ],
   "source": [
    "sample_dict = {'India': 19, 'USA': 27, 'China': 76}\n",
    "print(min(sample_dict, key=sample_dict.get))"
   ]
  },
  {
   "cell_type": "markdown",
   "metadata": {
    "id": "XyZnKu5jROYG"
   },
   "source": [
    "26. Check if two sets have any elements in common. If yes, display the common elements\n",
    "- set1 = {10, 20, 30, 40, 50}\n",
    "- set2 = {60, 70, 80, 90, 10}"
   ]
  },
  {
   "cell_type": "code",
   "execution_count": 30,
   "metadata": {
    "colab": {
     "base_uri": "https://localhost:8080/"
    },
    "id": "lNKjcgPIQ6Ie",
    "outputId": "0e485059-1498-4a5e-d1b2-40991b593cd4"
   },
   "outputs": [
    {
     "name": "stdout",
     "output_type": "stream",
     "text": [
      "yes it's {10}\n"
     ]
    }
   ],
   "source": [
    "set1 = {10, 20, 30, 40, 50}\n",
    "set2 = {60, 70, 80, 90, 10}\n",
    "common=set1.intersection(set2)\n",
    "if common :\n",
    "    print(\"yes\",\"it's\",common)"
   ]
  },
  {
   "cell_type": "markdown",
   "metadata": {
    "id": "8qX8ruP9Rh-f"
   },
   "source": [
    "27. Remove items from set1 that are not common to both set1 and set2\n",
    "- set1 = {10, 20, 30, 40, 50}\n",
    "- set2 = {60, 70, 80, 90, 10}"
   ]
  },
  {
   "cell_type": "code",
   "execution_count": 38,
   "metadata": {
    "colab": {
     "base_uri": "https://localhost:8080/"
    },
    "id": "_h5FPY9FRgDv",
    "outputId": "59a4c947-313d-4259-d5cf-64b861feb35e"
   },
   "outputs": [
    {
     "name": "stdout",
     "output_type": "stream",
     "text": [
      "{40, 50, 30}\n"
     ]
    }
   ],
   "source": [
    "s1 = {10, 20, 30, 40, 50}\n",
    "s2 = {30, 40, 50, 60, 70}\n",
    "\n",
    "s1.intersection_update(s2)          # it changes the original set\n",
    "print(s1)"
   ]
  },
  {
   "cell_type": "markdown",
   "metadata": {
    "id": "UFORjSqpSCMP"
   },
   "source": [
    "28. Turn every item of a list into its square."
   ]
  },
  {
   "cell_type": "code",
   "execution_count": null,
   "metadata": {
    "colab": {
     "base_uri": "https://localhost:8080/"
    },
    "id": "5DI89XcHSBdA",
    "outputId": "4df96bef-9513-49b4-a4d6-8d829e21a0d8"
   },
   "outputs": [],
   "source": [
    "numbers = [1, 2, 3, 4, 5, 6, 7,8,9,10]\n",
    "list(map(lambda x : x**2,numbers))"
   ]
  },
  {
   "cell_type": "markdown",
   "metadata": {
    "id": "s3DnTW2PUI-O"
   },
   "source": [
    "29. Write a program that takes a number and checks whether it is a palindrome or not."
   ]
  },
  {
   "cell_type": "code",
   "execution_count": 4,
   "metadata": {
    "colab": {
     "base_uri": "https://localhost:8080/"
    },
    "id": "JyRGw-TUTw0u",
    "outputId": "aaf9cdf9-86cc-485d-c234-23263d16c256"
   },
   "outputs": [
    {
     "name": "stdout",
     "output_type": "stream",
     "text": [
      "Enter something to check palindrome:121\n",
      "Yes\n"
     ]
    }
   ],
   "source": [
    "# palindrome ---> sequence that reads the same backwards as forwards\n",
    "n=input(\"Enter something to check palindrome:\")\n",
    "a=n[::-1]\n",
    "if a == n:\n",
    "    print(\"Yes\")\n",
    "else:\n",
    "    print(\"No\")"
   ]
  },
  {
   "cell_type": "markdown",
   "metadata": {
    "id": "C5YXeYLiUtZN"
   },
   "source": [
    "30. A positive 3-digit integer is called an Armstrong number if sum of cubes of all digits of the number = the number. e.g: 153 = 1^3 + 5^3 + 3^3. \n",
    "Write a program to check if a 3-digit number is an Armstrong Number."
   ]
  },
  {
   "cell_type": "code",
   "execution_count": 30,
   "metadata": {
    "id": "P72tMCvPbNIG"
   },
   "outputs": [
    {
     "name": "stdout",
     "output_type": "stream",
     "text": [
      "Enter a number: 153\n",
      "153 is an Armstrong number\n"
     ]
    }
   ],
   "source": [
    "num = int(input(\"Enter a number: \"))\n",
    "# initialize sum\n",
    "sum = 0\n",
    "# find the sum of the cube of each digit\n",
    "temp = num\n",
    "while temp > 0:\n",
    "    digit = temp % 10   # on first execution its output is 3rd digit of a number and then 2nd and then 1st \n",
    "    sum += digit ** 3          # (3rd digit)**3 and then (2nd digit)**3 and then (1st digit)**3\n",
    "    temp //= 10            \n",
    "# display the result\n",
    "if num == sum:\n",
    "    print(num,\"is an Armstrong number\")\n",
    "else:\n",
    "    print(num,\"is not an Armstrong number\")"
   ]
  },
  {
   "cell_type": "markdown",
   "metadata": {
    "id": "EwS6zX09Yg_3"
   },
   "source": [
    "31. The Fibonacci Sequence is a series of numbers. The next number is found by adding up the two numbers before it. The first two numbers are 0 and 1.\n",
    "\n",
    "For example, 0, 1, 1, 2, 3, 5,8,13. The next number in this series above is 8+13 = 21\n",
    "Print first 9 terms of the Fibonacci series."
   ]
  },
  {
   "cell_type": "code",
   "execution_count": 21,
   "metadata": {
    "colab": {
     "base_uri": "https://localhost:8080/"
    },
    "id": "qpcr90JEZQwx",
    "outputId": "8e2c00e9-e3c9-4e04-fb61-a64133baafed"
   },
   "outputs": [
    {
     "name": "stdout",
     "output_type": "stream",
     "text": [
      "The Fibonacci Series:\n",
      "0 1 1 2 3 5 8 13 21 "
     ]
    }
   ],
   "source": [
    "n1 , n2 = 0 , 1\n",
    "print(\"The Fibonacci Series:\")\n",
    "\n",
    "for i in range(9):\n",
    "    print(n1,end=\" \")\n",
    "    result=n1+n2\n",
    "    # update the values\n",
    "    n1=n2\n",
    "    n2=result\n"
   ]
  },
  {
   "cell_type": "markdown",
   "metadata": {
    "id": "7Rbin5KJZ922"
   },
   "source": [
    "32. Write a python code to convert celsius to farenheit scale."
   ]
  },
  {
   "cell_type": "code",
   "execution_count": 25,
   "metadata": {
    "colab": {
     "base_uri": "https://localhost:8080/"
    },
    "id": "WMKbSiH7Z9aS",
    "outputId": "259e5855-082f-481a-f0fb-f4fad42641e2"
   },
   "outputs": [
    {
     "name": "stdout",
     "output_type": "stream",
     "text": [
      "Temperature value in degree Celsius: 32\n",
      "32 degree celcius is equal to: 89.6 Fahrenheit\n"
     ]
    }
   ],
   "source": [
    "deg_celsius = eval(input(\"Temperature value in degree Celsius: \" ))  \n",
    "deg_Fahrenheit = deg_celsius * 1.8 + 32     \n",
    "print(\"{} degree celcius is equal to: {} Fahrenheit\".format(deg_celsius,deg_Fahrenheit))"
   ]
  },
  {
   "cell_type": "markdown",
   "metadata": {
    "id": "jIDYQzmzcGYI"
   },
   "source": [
    "33. Write a program to find distance between 2 points (x1,y1) and (x2,y2)"
   ]
  },
  {
   "cell_type": "code",
   "execution_count": 29,
   "metadata": {
    "colab": {
     "base_uri": "https://localhost:8080/"
    },
    "id": "yUV95XEQhYhG",
    "outputId": "d487afc0-fdcf-49de-ef69-16520aec6771"
   },
   "outputs": [
    {
     "name": "stdout",
     "output_type": "stream",
     "text": [
      "Enter the value of x1 and y1:4,5\n",
      "Enter the value of x2 and y2:2,3\n",
      "2.8284271247461903\n"
     ]
    }
   ],
   "source": [
    "m = eval(input(\"Enter the value of x1 and y1:\"))\n",
    "n = eval(input(\"Enter the value of x2 and y2:\"))\n",
    "distance = (((m[0]-n[0])**2 + (m[1]-n[1])**2)**0.5)\n",
    "print(distance)"
   ]
  },
  {
   "cell_type": "markdown",
   "metadata": {
    "id": "HBSI_mzEjUCk"
   },
   "source": [
    "35. Given is a nested tuple. Write a program to modify the first item (30) of a list inside the following tuple to 300."
   ]
  },
  {
   "cell_type": "code",
   "execution_count": 30,
   "metadata": {
    "colab": {
     "base_uri": "https://localhost:8080/"
    },
    "id": "aqt8bUbNjrlX",
    "outputId": "1333b717-237f-49ee-abe6-6cd73cf1615e"
   },
   "outputs": [
    {
     "name": "stdout",
     "output_type": "stream",
     "text": [
      "(11, [300, 33], 44, 55)\n"
     ]
    }
   ],
   "source": [
    "tuple1 = (11, [30, 33], 44, 55)\n",
    "tuple1[1][0]=300\n",
    "print(tuple1)"
   ]
  },
  {
   "cell_type": "markdown",
   "metadata": {
    "id": "iWMuKh6bjxnM"
   },
   "source": [
    "36. Reverse a given integer number\n",
    "e.g: input: 5619, output: 9165"
   ]
  },
  {
   "cell_type": "code",
   "execution_count": 39,
   "metadata": {
    "colab": {
     "base_uri": "https://localhost:8080/"
    },
    "id": "KvAQ1kVkmrOg",
    "outputId": "ade10afa-6875-40e3-8fca-8ee541f1c3b6"
   },
   "outputs": [
    {
     "name": "stdout",
     "output_type": "stream",
     "text": [
      "Enter an integer value:123\n",
      "321\n"
     ]
    }
   ],
   "source": [
    "num = int(input(\"Enter an integer value:\"))\n",
    "rev_num=0\n",
    "while num>0:    \n",
    "    remainder=num%10               #123 %10=3 -> 12%10=2 -> 1%10=1\n",
    "    rev_num=rev_num*10+remainder   #0*10+3=3  -> 3*10+2=32 -> 32*10+1=321\n",
    "    num=num//10                    #123//10=12 -> 12//10=1 -> 1//10=0->> stop iteration here\n",
    "print(rev_num)\n"
   ]
  },
  {
   "cell_type": "markdown",
   "metadata": {
    "id": "0KzZemyqu69a"
   },
   "source": [
    "37. Print the following pattern.\n",
    "\n",
    "![image.png](data:image/png;base64,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)"
   ]
  },
  {
   "cell_type": "code",
   "execution_count": 77,
   "metadata": {
    "id": "6zh9EQRBvTT3"
   },
   "outputs": [
    {
     "name": "stdout",
     "output_type": "stream",
     "text": [
      "\n",
      "\n",
      "* \n",
      "\n",
      "* * \n",
      "\n",
      "* * * \n",
      "\n",
      "* * * * \n",
      "\n",
      "* * * * \n",
      "\n",
      "* * * \n",
      "\n",
      "* * \n",
      "\n",
      "* \n",
      "\n",
      "\n",
      "\n"
     ]
    }
   ],
   "source": [
    "for i in range(5):\n",
    "    for j in range(0,i,1):\n",
    "        print(\"*\", end=\" \")    # in ist row i and j=0 then \"*\" printed  -> now 2nd time i=1 and j=2 so \"* *\" printed.\n",
    "    print(\"\\n\")                # next line after each iteration\n",
    "            \n",
    "for i in range(5,0,-1): #outer loop is for row..now start index is 5 and stop index is 0 and stepsize is -1(moving backwards)   \n",
    "    for j in range(0,i-1):\n",
    "        print(\"*\",end =\" \")\n",
    "    print(\"\\n\")"
   ]
  },
  {
   "cell_type": "markdown",
   "metadata": {
    "id": "z-TB0J-jvT4z"
   },
   "source": [
    "38. Return the count of a given substring from a string."
   ]
  },
  {
   "cell_type": "code",
   "execution_count": 81,
   "metadata": {
    "colab": {
     "base_uri": "https://localhost:8080/"
    },
    "id": "FiSDp7qfzQ4X",
    "outputId": "17f5aac8-317f-40b8-d17c-a5cd39d4d2e8"
   },
   "outputs": [
    {
     "data": {
      "text/plain": [
       "2"
      ]
     },
     "execution_count": 81,
     "metadata": {},
     "output_type": "execute_result"
    }
   ],
   "source": [
    "str1 = \"India is a developing country. India is a democratic country\"\n",
    "str1.count(\"India\")"
   ]
  },
  {
   "cell_type": "markdown",
   "metadata": {
    "id": "YeCllkNZzhZh"
   },
   "source": [
    "39. Count the number of vowels in the given string."
   ]
  },
  {
   "cell_type": "code",
   "execution_count": 82,
   "metadata": {
    "colab": {
     "base_uri": "https://localhost:8080/"
    },
    "id": "XeC9TU-j4iR3",
    "outputId": "653f5774-0a47-4446-9a02-fde26fbfdbc8"
   },
   "outputs": [
    {
     "name": "stdout",
     "output_type": "stream",
     "text": [
      "Enter something:divya\n",
      "2\n"
     ]
    }
   ],
   "source": [
    "a=input(\"Enter something:\").lower()\n",
    "count=0\n",
    "for x in a:\n",
    "    if x=='a' or x=='e' or x=='i' or x=='o' or x=='u':\n",
    "        count+=1\n",
    "print(count)"
   ]
  },
  {
   "cell_type": "markdown",
   "metadata": {
    "id": "iP61Tt0c43kT"
   },
   "source": [
    "40. Calculate salary of an employee. \n",
    "\n",
    "- If their score>5 salary = salary + score x 0.1 x salary\n",
    "- If thei score<=5, salary = salary + score x 0.05 x salary\n"
   ]
  },
  {
   "cell_type": "code",
   "execution_count": 3,
   "metadata": {
    "colab": {
     "base_uri": "https://localhost:8080/"
    },
    "id": "4Yi2jFi244W5",
    "outputId": "c964137a-515a-4fc5-b874-8171f1e6c40e"
   },
   "outputs": [
    {
     "name": "stdout",
     "output_type": "stream",
     "text": [
      "Enter the scores:5\n",
      "Enter your salary:5000\n",
      "6250.0\n"
     ]
    }
   ],
   "source": [
    "score=int(input(\"Enter the scores:\"))\n",
    "salary=int(input(\"Enter your salary:\"))\n",
    "if score>5:\n",
    "    slary+=(score)*0.1*salary\n",
    "    print(salary)\n",
    "elif score<=5:\n",
    "    salary+=(score)*0.05*salary\n",
    "    print(salary)\n",
    "    "
   ]
  },
  {
   "cell_type": "markdown",
   "metadata": {
    "id": "yWcygW689jmo"
   },
   "source": [
    "41. Find the roots of a quadratic equation defined by a.x^2 + b.x + c = 0"
   ]
  },
  {
   "cell_type": "code",
   "execution_count": 9,
   "metadata": {
    "colab": {
     "base_uri": "https://localhost:8080/"
    },
    "id": "i2nl7rAZ9xMY",
    "outputId": "7234338e-2f3d-469e-da2f-62ab3dd826ff"
   },
   "outputs": [
    {
     "name": "stdout",
     "output_type": "stream",
     "text": [
      "quadratic equation is of the form ax**2 + bx + c = 0\n",
      "a=1\n",
      "b=2\n",
      "c=0\n",
      "Value of x1 and x2 are:  0.0 -2.0\n"
     ]
    }
   ],
   "source": [
    "print('quadratic equation is of the form ax**2 + bx + c = 0')\n",
    "a = int(input('a='))\n",
    "b = int(input('b='))\n",
    "c = int(input('c='))\n",
    "\n",
    "D = b**2-4*a*c\n",
    "x1 = (-b+D**0.5)/2*a\n",
    "x2 = (-b-D**0.5)/2*a\n",
    "print('Value of x1 and x2 are: ',x1,x2)"
   ]
  },
  {
   "cell_type": "markdown",
   "metadata": {
    "id": "B2JSwma7-GwR"
   },
   "source": [
    "42. Find the number of times all the letters in the strings occur."
   ]
  },
  {
   "cell_type": "code",
   "execution_count": 13,
   "metadata": {
    "colab": {
     "base_uri": "https://localhost:8080/"
    },
    "id": "J3ZLLDjdCwwN",
    "outputId": "c80dc574-9332-444b-f09a-7a7e274e08e0"
   },
   "outputs": [
    {
     "name": "stdout",
     "output_type": "stream",
     "text": [
      "Enter somehing: divyaa\n",
      "i 1\n",
      "v 1\n",
      "a 2\n",
      "y 1\n",
      "d 1\n"
     ]
    }
   ],
   "source": [
    "str1=input(\"Enter somehing: \")\n",
    "for i in set(str1):\n",
    "    counts=str1.count(i)\n",
    "    print(i,counts)"
   ]
  },
  {
   "cell_type": "markdown",
   "metadata": {
    "id": "XA-xKUTcE84X"
   },
   "source": [
    "43. Rotate a given array by 3 units to the left."
   ]
  },
  {
   "cell_type": "code",
   "execution_count": 1,
   "metadata": {
    "colab": {
     "base_uri": "https://localhost:8080/"
    },
    "id": "HCjPTlabE-iP",
    "outputId": "6a06103f-7113-47ad-ceba-69312accbb1d"
   },
   "outputs": [
    {
     "name": "stdout",
     "output_type": "stream",
     "text": [
      "[1, 2, 3, 4, 5, 6, 7]\n",
      "Rotated list is:  [3, 4, 5, 6, 7, 1, 2]\n"
     ]
    }
   ],
   "source": [
    "def rotateList(arr,d,n):\n",
    "    arr[:]=arr[d:n]+arr[0:d]\n",
    "    return arr\n",
    "\n",
    "arr=[1,2,3,4,5,6,7]\n",
    "print(arr)\n",
    "print(\"Rotated list is: \",rotateList(arr,2,len(arr)))"
   ]
  },
  {
   "cell_type": "markdown",
   "metadata": {
    "id": "IAQssHSkSWtm"
   },
   "source": [
    "44. Sort a tuple of tuples by 2nd item.\n",
    "\n",
    "tuple1 = (('a', 23), ('b', 37), ('c', 11), ('d', 29))"
   ]
  },
  {
   "cell_type": "code",
   "execution_count": null,
   "metadata": {
    "colab": {
     "base_uri": "https://localhost:8080/"
    },
    "id": "Nxw_RdV4oxv4",
    "outputId": "8532b6c8-98b6-47e2-acac-281d019363ad"
   },
   "outputs": [
    {
     "name": "stdout",
     "output_type": "stream",
     "text": [
      "(('c', 11), ('a', 23), ('d', 29), ('b', 37))\n"
     ]
    }
   ],
   "source": [
    "tuple1 = (('a', 23), ('b', 37), ('c', 11), ('d', 29))\n",
    "tuple1 = tuple(sorted(list(tuple1), key=lambda x: x[1]))\n",
    "print(tuple1)"
   ]
  },
  {
   "cell_type": "markdown",
   "metadata": {
    "id": "43QfUANVo_oy"
   },
   "source": [
    "45. Check if all items in the tuple are the same"
   ]
  },
  {
   "cell_type": "code",
   "execution_count": 4,
   "metadata": {
    "colab": {
     "base_uri": "https://localhost:8080/"
    },
    "id": "rxDJpg4HpF7y",
    "outputId": "379c3a81-ff4c-4ae3-ac6d-8eeb4eba77aa"
   },
   "outputs": [
    {
     "name": "stdout",
     "output_type": "stream",
     "text": [
      "False\n"
     ]
    }
   ],
   "source": [
    "def check(t):\n",
    "    return all(i == t[0] for i in t)\n",
    "\n",
    "tuple1 = (1, 1, 1, 45)\n",
    "print(check(tuple1))"
   ]
  },
  {
   "cell_type": "markdown",
   "metadata": {
    "id": "_hsV9BsRpZHi"
   },
   "source": [
    "46. Display all the numbers from -20 to -1"
   ]
  },
  {
   "cell_type": "code",
   "execution_count": null,
   "metadata": {
    "colab": {
     "base_uri": "https://localhost:8080/"
    },
    "id": "qxICAQNXpdNn",
    "outputId": "c793f333-8ea3-48ad-c877-9f7ca459b9e1"
   },
   "outputs": [
    {
     "name": "stdout",
     "output_type": "stream",
     "text": [
      "-20\n",
      "-19\n",
      "-18\n",
      "-17\n",
      "-16\n",
      "-15\n",
      "-14\n",
      "-13\n",
      "-12\n",
      "-11\n",
      "-10\n",
      "-9\n",
      "-8\n",
      "-7\n",
      "-6\n",
      "-5\n",
      "-4\n",
      "-3\n",
      "-2\n",
      "-1\n"
     ]
    }
   ],
   "source": [
    "for num in range(-20, 0, 1):\n",
    "    print(num)"
   ]
  },
  {
   "cell_type": "markdown",
   "metadata": {
    "id": "7xqT_iKYpoQ8"
   },
   "source": [
    "47. Return a set of elements present in Set A or B, but not both"
   ]
  },
  {
   "cell_type": "code",
   "execution_count": 8,
   "metadata": {
    "colab": {
     "base_uri": "https://localhost:8080/"
    },
    "id": "rUQhFVSip2T-",
    "outputId": "9ff198d8-09f5-4141-cf7c-f5cc1e1b0893"
   },
   "outputs": [
    {
     "name": "stdout",
     "output_type": "stream",
     "text": [
      "{20, 70, 10, 60}\n"
     ]
    }
   ],
   "source": [
    "set1 = {10, 20, 30, 40, 50}\n",
    "set2 = {30, 40, 50, 60, 70}\n",
    "print(set1.symmetric_difference(set2))"
   ]
  },
  {
   "cell_type": "markdown",
   "metadata": {
    "id": "d381H2zzp5T6"
   },
   "source": [
    "48. Define a function circle to calculate area of a circle."
   ]
  },
  {
   "cell_type": "code",
   "execution_count": 15,
   "metadata": {
    "colab": {
     "base_uri": "https://localhost:8080/"
    },
    "id": "yJFrvlW2qDqC",
    "outputId": "9862302b-b191-498c-fe90-18b0b203b6ac"
   },
   "outputs": [
    {
     "name": "stdout",
     "output_type": "stream",
     "text": [
      "34\n",
      "The area of the circle is:  3629.84\n"
     ]
    }
   ],
   "source": [
    "def circle():\n",
    "    r = int(input(\"Enter the radius of the circle: \"))\n",
    "    area = 3.14*(r**2)\n",
    "    print('The area of the circle is: ',area)\n",
    "circle()"
   ]
  },
  {
   "cell_type": "markdown",
   "metadata": {
    "id": "YyuFJpzyqsL6"
   },
   "source": [
    "49. Write a recursive function to calculate the sum of numbers from 0 to 15"
   ]
  },
  {
   "cell_type": "code",
   "execution_count": 13,
   "metadata": {
    "colab": {
     "base_uri": "https://localhost:8080/"
    },
    "id": "94J6mfjerEaG",
    "outputId": "cfff6b0f-7f41-466c-c5f2-fb721ec92356"
   },
   "outputs": [
    {
     "name": "stdout",
     "output_type": "stream",
     "text": [
      "91\n"
     ]
    }
   ],
   "source": [
    "def add(num):\n",
    "    if num:\n",
    "        return num + add(num - 1)\n",
    "    else:\n",
    "        return 0\n",
    "\n",
    "res = add(13)\n",
    "print(res)"
   ]
  },
  {
   "cell_type": "markdown",
   "metadata": {
    "id": "vkj_CDbBrqiS"
   },
   "source": [
    "50. Find LCM of the 2 given numbers."
   ]
  },
  {
   "cell_type": "code",
   "execution_count": 21,
   "metadata": {},
   "outputs": [
    {
     "name": "stdout",
     "output_type": "stream",
     "text": [
      "The LCM is:  156\n"
     ]
    }
   ],
   "source": [
    "def calc_lcm(num1,num2):\n",
    "    if num1 > num2:\n",
    "        greater = num1\n",
    "    else:\n",
    "        greater = num2\n",
    "    while(True):\n",
    "        if (greater % num1 == 0)  and  (greater % num2 == 0):\n",
    "            lcm = greater\n",
    "            break\n",
    "        greater += 1\n",
    "    return lcm\n",
    "\n",
    "print(\"The LCM is: \",calc_lcm(12,13))"
   ]
  },
  {
   "cell_type": "markdown",
   "metadata": {
    "id": "nO0h9BZQ9L6J"
   },
   "source": [
    "# Python Practice Questions -2"
   ]
  },
  {
   "cell_type": "markdown",
   "metadata": {
    "id": "GRLbbNu5NUf2"
   },
   "source": [
    "#### 1.Python program to interchange first and last elements in a list"
   ]
  },
  {
   "cell_type": "code",
   "execution_count": null,
   "metadata": {
    "id": "-TsvFxTCNUf8"
   },
   "outputs": [],
   "source": [
    "def swapList(newList):\n",
    "     \n",
    "    newList[0], newList[-1] = newList[-1], newList[0]\n",
    " \n",
    "    return newList\n",
    "     \n",
    "# Driver code\n",
    "newList = [12, 35, 9, 56, 24]\n",
    "print(swapList(newList))"
   ]
  },
  {
   "cell_type": "markdown",
   "metadata": {
    "id": "uCHKA1kONUf-"
   },
   "source": [
    "#### 2.Python program to swap two elements in a list"
   ]
  },
  {
   "cell_type": "code",
   "execution_count": 22,
   "metadata": {
    "id": "l94VVvFMNUf_"
   },
   "outputs": [
    {
     "name": "stdout",
     "output_type": "stream",
     "text": [
      "[19, 65, 23, 90]\n"
     ]
    }
   ],
   "source": [
    "def swapPositions(list, pos1, pos2):\n",
    "     \n",
    "    list[pos1], list[pos2] = list[pos2], list[pos1]\n",
    "    return list\n",
    " \n",
    "# Driver function\n",
    "List = [23, 65, 19, 90]\n",
    "pos1, pos2  = 1, 3\n",
    " \n",
    "print(swapPositions(List, pos1-1, pos2-1))"
   ]
  },
  {
   "cell_type": "markdown",
   "metadata": {
    "id": "v9dIcFXdNUgA"
   },
   "source": [
    "#### 3.Find the length of list"
   ]
  },
  {
   "cell_type": "code",
   "execution_count": 25,
   "metadata": {
    "id": "qpXfdKC3NUgB"
   },
   "outputs": [
    {
     "name": "stdout",
     "output_type": "stream",
     "text": [
      "Enter the seuquence:my god\n",
      "6\n"
     ]
    }
   ],
   "source": [
    "a = input(\"Enter the seuquence:\")\n",
    "print(len(a))\n"
   ]
  },
  {
   "cell_type": "markdown",
   "metadata": {
    "id": "6N6qCP99NUgE"
   },
   "source": [
    "#### 4.Reversing a List in Python"
   ]
  },
  {
   "cell_type": "code",
   "execution_count": 27,
   "metadata": {
    "id": "FrlOGmsgNUgF"
   },
   "outputs": [
    {
     "data": {
      "text/plain": [
       "[15, 14, 13, 12, 11, 10]"
      ]
     },
     "execution_count": 27,
     "metadata": {},
     "output_type": "execute_result"
    }
   ],
   "source": [
    "lst = [10, 11, 12, 13, 14, 15]\n",
    "lst.reverse()\n",
    "lst"
   ]
  },
  {
   "cell_type": "markdown",
   "metadata": {
    "id": "OF_YT7AKNUgH"
   },
   "source": [
    "#### 5. Copying a list"
   ]
  },
  {
   "cell_type": "code",
   "execution_count": 29,
   "metadata": {
    "id": "k8UebpuINUgH"
   },
   "outputs": [
    {
     "name": "stdout",
     "output_type": "stream",
     "text": [
      "[11, 33, 12, 'hello']\n"
     ]
    }
   ],
   "source": [
    "l1=[11,33,12,\"hello\"]\n",
    "new_list=l1\n",
    "print(new_list)"
   ]
  },
  {
   "cell_type": "markdown",
   "metadata": {
    "id": "AfsO-HlQNUgI"
   },
   "source": [
    "#### 6.Count occurrences of an element in a list"
   ]
  },
  {
   "cell_type": "code",
   "execution_count": 2,
   "metadata": {
    "id": "dJ-Gi0V1NUgJ"
   },
   "outputs": [
    {
     "data": {
      "text/plain": [
       "2"
      ]
     },
     "execution_count": 2,
     "metadata": {},
     "output_type": "execute_result"
    }
   ],
   "source": [
    "l=[2,3,4,511,77,9,9,1,2]\n",
    "l.count(9)"
   ]
  },
  {
   "cell_type": "markdown",
   "metadata": {
    "id": "JRg403n9NUgK"
   },
   "source": [
    "#### 7.Find sum and average of List in Python"
   ]
  },
  {
   "cell_type": "code",
   "execution_count": 38,
   "metadata": {
    "id": "1S4EjG-ENUgL"
   },
   "outputs": [
    {
     "name": "stdout",
     "output_type": "stream",
     "text": [
      "The sum and average of the given list is:  46 and 5.75\n"
     ]
    }
   ],
   "source": [
    "L = [4, 5, 1, 2, 9, 7, 10, 8]\n",
    "  \n",
    "print(\"The sum and average of the given list is: \",sum(L),\"and\",sum(L)/len(L))"
   ]
  },
  {
   "cell_type": "markdown",
   "metadata": {
    "id": "lA7xcsIkNUgM"
   },
   "source": [
    "#### 8.Sum of  all number in List"
   ]
  },
  {
   "cell_type": "code",
   "execution_count": 42,
   "metadata": {
    "id": "4lyjsPUlNUgN"
   },
   "outputs": [
    {
     "name": "stdout",
     "output_type": "stream",
     "text": [
      "Sum of all the elements of a list is: 42\n"
     ]
    }
   ],
   "source": [
    "l=[1,2,4,5,6,7,8,9]\n",
    "print(\"Sum of all the elements of a list is:\",sum(l))"
   ]
  },
  {
   "cell_type": "markdown",
   "metadata": {
    "id": "5SxETtM0NUgO"
   },
   "source": [
    "#### 9.Take list from user and do Product of all number in list"
   ]
  },
  {
   "cell_type": "code",
   "execution_count": 2,
   "metadata": {
    "id": "oTPC3Q_QNUgP"
   },
   "outputs": [
    {
     "name": "stdout",
     "output_type": "stream",
     "text": [
      "Enter the size of the list 7\n",
      "Enter the list items separated by space: 2 3 4 5 6 7 8\n",
      "User list:  [2, 3, 4, 5, 6, 7, 8]\n",
      "2\n",
      "6\n",
      "24\n",
      "120\n",
      "720\n",
      "5040\n",
      "40320\n"
     ]
    }
   ],
   "source": [
    "n = int(input(\"Enter the size of the list \"))\n",
    "num_list = list(int(num) for num in input(\"Enter the list items separated by space: \").split())[:n]\n",
    "print(\"User list: \", num_list)\n",
    "t=1\n",
    "for i in num_list:\n",
    "    t=t*i\n",
    "    print(t)"
   ]
  },
  {
   "cell_type": "markdown",
   "metadata": {
    "id": "MrC5f4tRNUgQ"
   },
   "source": [
    "#### 10.Python program to find smallest number in a list"
   ]
  },
  {
   "cell_type": "code",
   "execution_count": 1,
   "metadata": {
    "id": "4vB3bz2INUgR"
   },
   "outputs": [
    {
     "name": "stdout",
     "output_type": "stream",
     "text": [
      "Smallest element is: 4\n"
     ]
    }
   ],
   "source": [
    "list1 = [10, 20, 4, 45, 99]\n",
    " \n",
    "print(\"Smallest element is:\", min(list1))"
   ]
  },
  {
   "cell_type": "markdown",
   "metadata": {
    "id": "Wlg1fCCHNUgS"
   },
   "source": [
    "#### 11.Python program to find largest number in a list"
   ]
  },
  {
   "cell_type": "code",
   "execution_count": 7,
   "metadata": {
    "id": "3N5ykHPgNUgS"
   },
   "outputs": [
    {
     "name": "stdout",
     "output_type": "stream",
     "text": [
      "Largest element is: 99\n"
     ]
    }
   ],
   "source": [
    "list1 = [10, 20, 4, 45, 99]\n",
    "print(\"Largest element is:\", max(list1))"
   ]
  },
  {
   "cell_type": "markdown",
   "metadata": {
    "id": "S7A0ssZvNUgT"
   },
   "source": [
    "#### 12.Python program to print even numbers in a list"
   ]
  },
  {
   "cell_type": "code",
   "execution_count": 10,
   "metadata": {
    "id": "R6xNnXWvNUgU"
   },
   "outputs": [
    {
     "name": "stdout",
     "output_type": "stream",
     "text": [
      "10 4 66 "
     ]
    }
   ],
   "source": [
    "list1 = [10, 21, 4, 45, 66, 93]\n",
    "for num in list1:\n",
    "    if num % 2 == 0:\n",
    "        print(num, end=\" \")"
   ]
  },
  {
   "cell_type": "markdown",
   "metadata": {
    "id": "kJb7S9l9NUgV"
   },
   "source": [
    "#### 13.Python program to print odd numbers in a List"
   ]
  },
  {
   "cell_type": "code",
   "execution_count": 11,
   "metadata": {
    "id": "lxuYL3DYNUgW"
   },
   "outputs": [
    {
     "name": "stdout",
     "output_type": "stream",
     "text": [
      "21 45 93 "
     ]
    }
   ],
   "source": [
    "list1 = [10, 21, 4, 45, 66, 93]\n",
    "for num in list1:\n",
    "    if num % 2 != 0:\n",
    "       print(num, end = \" \")"
   ]
  },
  {
   "cell_type": "markdown",
   "metadata": {
    "id": "ObUEGlUYNUgX"
   },
   "source": [
    "#### 14.Program to print duplicates from a list of integers"
   ]
  },
  {
   "cell_type": "code",
   "execution_count": 12,
   "metadata": {
    "id": "YlZhkCvfNUgY"
   },
   "outputs": [
    {
     "name": "stdout",
     "output_type": "stream",
     "text": [
      "1\n",
      "1\n",
      "1\n",
      "6\n",
      "6\n",
      "6\n",
      "78\n",
      "78\n"
     ]
    }
   ],
   "source": [
    "l=[1,1,1,2,3,4,5,6,7,6,6,8,9,0,67,87,78,78]\n",
    "for c in l:\n",
    "    if(l.count(c)>1):\n",
    "        print((c))"
   ]
  },
  {
   "cell_type": "markdown",
   "metadata": {
    "id": "Yuya_bO9NUgZ"
   },
   "source": [
    "#### 15.Python program to count positive and negative numbers in a list"
   ]
  },
  {
   "cell_type": "code",
   "execution_count": 13,
   "metadata": {
    "id": "xTSfTQgONUga"
   },
   "outputs": [
    {
     "name": "stdout",
     "output_type": "stream",
     "text": [
      "Positive numbers in the list:  4\n",
      "Negative numbers in the list:  3\n"
     ]
    }
   ],
   "source": [
    "list1 = [10, -21, 4, -45, 66, -93, 1]\n",
    "  \n",
    "pos_count, neg_count = 0, 0\n",
    "  \n",
    "# iterating each number in list\n",
    "for num in list1:\n",
    "      \n",
    "    # checking condition\n",
    "    if num >= 0:\n",
    "        pos_count += 1\n",
    "  \n",
    "    else:\n",
    "        neg_count += 1\n",
    "          \n",
    "print(\"Positive numbers in the list: \", pos_count)\n",
    "print(\"Negative numbers in the list: \", neg_count)"
   ]
  },
  {
   "cell_type": "markdown",
   "metadata": {
    "id": "OulggPgnNUgb"
   },
   "source": [
    "#### 16.Remove multiple elements from a list in Python"
   ]
  },
  {
   "cell_type": "code",
   "execution_count": 15,
   "metadata": {
    "id": "FwRaeIZeNUgc"
   },
   "outputs": [
    {
     "name": "stdout",
     "output_type": "stream",
     "text": [
      "New list after removing all even numbers:  [11, 5, 17, 23]\n"
     ]
    }
   ],
   "source": [
    "list1 = [11, 5, 17, 18, 23, 50]\n",
    "for i in list1: \n",
    "    if i % 2 == 0:\n",
    "        list1.remove(i)\n",
    "print(\"New list after removing all even numbers: \", list1)"
   ]
  },
  {
   "cell_type": "markdown",
   "metadata": {
    "id": "FK0KmdNkNUge"
   },
   "source": [
    "#### 17.Python program to print all Prime numbers in an Interval"
   ]
  },
  {
   "cell_type": "code",
   "execution_count": 16,
   "metadata": {
    "id": "jHEpGuPENUgg"
   },
   "outputs": [
    {
     "name": "stdout",
     "output_type": "stream",
     "text": [
      "5\n",
      "7\n",
      "11\n",
      "13\n",
      "17\n",
      "19\n",
      "23\n"
     ]
    }
   ],
   "source": [
    "for i in range(5,25):\n",
    "    if i > 1:\n",
    "        for j in range(2, i):\n",
    "            if(i % j == 0):\n",
    "                break\n",
    "        else:\n",
    "            print(i)"
   ]
  },
  {
   "cell_type": "markdown",
   "metadata": {
    "id": "QIb7XmrqNUgi"
   },
   "source": [
    "#### 18.Python program to check whether a number is Prime or not"
   ]
  },
  {
   "cell_type": "code",
   "execution_count": 4,
   "metadata": {
    "id": "oPWtwJciNUgl"
   },
   "outputs": [
    {
     "name": "stdout",
     "output_type": "stream",
     "text": [
      "enter the number3\n",
      "3 is a prime number\n"
     ]
    }
   ],
   "source": [
    "num =int(input('enter the number'))\n",
    "\n",
    "if num > 1:\n",
    "    for i in range(2, int(num/2)+1):\n",
    "        if (num % i) == 0:\n",
    "            print(num, \"is not a prime number\")\n",
    "            break\n",
    "    else:\n",
    "        print(num, \"is a prime number\")\n",
    "else:\n",
    "    print(num, \"is not a prime number\")"
   ]
  },
  {
   "cell_type": "markdown",
   "metadata": {
    "id": "u7VIZKNBNUgo"
   },
   "source": [
    "#### 19.Python Program for n-th Fibonacci number"
   ]
  },
  {
   "cell_type": "code",
   "execution_count": 25,
   "metadata": {
    "id": "k4k3v9elNUgp"
   },
   "outputs": [
    {
     "name": "stdout",
     "output_type": "stream",
     "text": [
      "89\n"
     ]
    }
   ],
   "source": [
    "def Fibonacci(n):\n",
    "    if n<= 0:\n",
    "        print(\"Incorrect input\")\n",
    "    # First Fibonacci number is 0\n",
    "    elif n == 1:\n",
    "        return 0\n",
    "    # Second Fibonacci number is 1\n",
    "    elif n == 2:\n",
    "        return 1\n",
    "    else:\n",
    "        return Fibonacci(n-1)+Fibonacci(n-2)\n",
    " \n",
    "# Driver Program\n",
    " \n",
    "print(Fibonacci(12))"
   ]
  },
  {
   "cell_type": "markdown",
   "metadata": {
    "id": "F_JA8_WzNUgq"
   },
   "source": [
    "#### 20.Python Program for How to check if a given number is Fibonacci number?\n",
    "* A number is Fibonacci if and only if one or both of (5*n2 + 4) or (5*n2 – 4) is a perfect square"
   ]
  },
  {
   "cell_type": "code",
   "execution_count": 26,
   "metadata": {
    "id": "ffQbjnPyNUgr"
   },
   "outputs": [
    {
     "name": "stdout",
     "output_type": "stream",
     "text": [
      "1 is a Fibonacci Number\n",
      "2 is a Fibonacci Number\n",
      "3 is a Fibonacci Number\n",
      "4 is a not Fibonacci Number \n",
      "5 is a Fibonacci Number\n",
      "6 is a not Fibonacci Number \n",
      "7 is a not Fibonacci Number \n",
      "8 is a Fibonacci Number\n",
      "9 is a not Fibonacci Number \n",
      "10 is a not Fibonacci Number \n"
     ]
    }
   ],
   "source": [
    "import math\n",
    " \n",
    "# A utility function that returns true if x is perfect square\n",
    "def isPerfectSquare(x):\n",
    "    s = int(math.sqrt(x))\n",
    "    return s*s == x\n",
    " \n",
    "# Returns true if n is a Fibinacci Number, else false\n",
    "def isFibonacci(n):\n",
    " \n",
    "    # n is Fibinacci if one of 5*n*n + 4 or 5*n*n - 4 or both\n",
    "    # is a perferct square\n",
    "    return isPerfectSquare(5*n*n + 4) or isPerfectSquare(5*n*n - 4)\n",
    "    \n",
    "# A utility function to test above functions\n",
    "for i in range(1,11):\n",
    "    if (isFibonacci(i) == True):\n",
    "            print(i,\"is a Fibonacci Number\")\n",
    "    else:\n",
    "            print( i,\"is a not Fibonacci Number \")"
   ]
  },
  {
   "cell_type": "markdown",
   "metadata": {
    "id": "8iW7ts--NUgs"
   },
   "source": [
    "#### 21.Python Program for cube sum of first n natural numbers"
   ]
  },
  {
   "cell_type": "code",
   "execution_count": 27,
   "metadata": {
    "id": "tlmn4sffNUgs"
   },
   "outputs": [
    {
     "name": "stdout",
     "output_type": "stream",
     "text": [
      "225\n"
     ]
    }
   ],
   "source": [
    "def sumOfSeries(n):\n",
    "    sum = 0\n",
    "    for i in range(1, n+1):\n",
    "        sum +=i*i*i\n",
    "          \n",
    "    return sum\n",
    "  \n",
    "   \n",
    "# Driver Function\n",
    "n = 5\n",
    "print(sumOfSeries(n))"
   ]
  },
  {
   "cell_type": "markdown",
   "metadata": {
    "id": "j78QG-5hNUgt"
   },
   "source": [
    "#### 22.Python Program for Sum of squares of first n natural numbers"
   ]
  },
  {
   "cell_type": "code",
   "execution_count": 28,
   "metadata": {
    "id": "YX43tsaXNUgu"
   },
   "outputs": [
    {
     "name": "stdout",
     "output_type": "stream",
     "text": [
      "30\n"
     ]
    }
   ],
   "source": [
    "def squaresum(n) :\n",
    "  \n",
    "    # Iterate i from 1 \n",
    "    # and n finding \n",
    "    # square of i and\n",
    "    # add to sum.\n",
    "    sm = 0\n",
    "    for i in range(1, n+1) :\n",
    "        sm = sm + (i * i)\n",
    "      \n",
    "    return sm\n",
    "  \n",
    "# Driven Program\n",
    "n = 4\n",
    "print(squaresum(n))"
   ]
  },
  {
   "cell_type": "markdown",
   "metadata": {
    "id": "wzd9GI0oNUgv"
   },
   "source": [
    "#### 23.Python program to check if a string is palindrome or not"
   ]
  },
  {
   "cell_type": "code",
   "execution_count": 41,
   "metadata": {
    "id": "_2_4fRkMNUgw"
   },
   "outputs": [
    {
     "data": {
      "text/plain": [
       "True"
      ]
     },
     "execution_count": 41,
     "metadata": {},
     "output_type": "execute_result"
    }
   ],
   "source": [
    "def isPalindrome(s):\n",
    "    return s == s[::-1]\n",
    "isPalindrome(\"malayalam\")"
   ]
  },
  {
   "cell_type": "markdown",
   "metadata": {
    "id": "ZvepirNhNUgw"
   },
   "source": [
    "#### 24.Python program to check whether the string is Symmetrical or Palindrome"
   ]
  },
  {
   "cell_type": "code",
   "execution_count": 54,
   "metadata": {},
   "outputs": [
    {
     "name": "stdout",
     "output_type": "stream",
     "text": [
      "String 1: abab\n",
      "Yes, the given string is symmetrical\n"
     ]
    }
   ],
   "source": [
    "def isSymmetrical(mystr):\n",
    "\n",
    "    midIndex=0\n",
    "    length_of_str=len(mystr)\n",
    "# If the length of the string is even, midIndex = length/2.\n",
    "    if length_of_str %2 == 0:\n",
    "        midIndex=length_of_str//2\n",
    "# If the length of the string is odd, midIndex = (length/2) + 1. In this case, the middle character \n",
    "#  of the string is ignored for comparison.\n",
    "    else:\n",
    "        midIndex=length_of_str//2 +1\n",
    "    pointer1 = 0\n",
    "    pointer2 = midIndex\n",
    "    while pointer1<midIndex and pointer2<length_of_str:\n",
    "        if (mystr[pointer1] == mystr[pointer2]):\n",
    "            pointer1 += 1\n",
    "            pointer2 += 1\n",
    "        else:\n",
    "            return False\n",
    "    return True    \n",
    "\n",
    "str1 = \"abab\"\n",
    "print(\"String 1:\", str1)\n",
    "if (isSymmetrical(str1)):\n",
    "    print(\"Yes, the given string is symmetrical\")\n",
    "else:\n",
    "    print(\"No, the given string is not symmetrical\")\n"
   ]
  },
  {
   "cell_type": "markdown",
   "metadata": {
    "id": "oqmG9jJ_NUgy"
   },
   "source": [
    "#### 25.How to remove i’th character from string in Python"
   ]
  },
  {
   "cell_type": "code",
   "execution_count": 1,
   "metadata": {
    "id": "GJyimW6TNUgy"
   },
   "outputs": [
    {
     "name": "stdout",
     "output_type": "stream",
     "text": [
      "The original string is :  Data is Vital\n",
      "The string after removal of i'th character :  Daa is Vital\n"
     ]
    }
   ],
   "source": [
    "# Initializing String \n",
    "test_str = \"Data is Vital\"\n",
    "  \n",
    "# Printing original string \n",
    "print (\"The original string is : \" , test_str)\n",
    "  \n",
    "# Removing char at pos 3\n",
    "# using loop\n",
    "new_str = \"\"\n",
    "  \n",
    "for i in range(len(test_str)):\n",
    "    if i != 2:\n",
    "        new_str = new_str + test_str[i]\n",
    "  \n",
    "# Printing string after removal  \n",
    "print (\"The string after removal of i'th character : \" , new_str)"
   ]
  },
  {
   "cell_type": "markdown",
   "metadata": {
    "id": "kcmMdBlGNUgz"
   },
   "source": [
    "#### 26.Write code to Check if a Substring is Present in a Given String"
   ]
  },
  {
   "cell_type": "code",
   "execution_count": 73,
   "metadata": {
    "id": "D3lD4z6DNUg0"
   },
   "outputs": [
    {
     "name": "stdout",
     "output_type": "stream",
     "text": [
      "YES\n"
     ]
    }
   ],
   "source": [
    "def check(string, sub_str):\n",
    "    if (string.find(sub_str) == -1):\n",
    "        print(\"NO\")\n",
    "    else:\n",
    "        print(\"YES\")\n",
    "            \n",
    "string = 'Data is Vital in Datascience'\n",
    "sub_str =\"Vital\"\n",
    "check(string, sub_str)"
   ]
  },
  {
   "cell_type": "markdown",
   "metadata": {
    "id": "yUqFOTBBNUg0"
   },
   "source": [
    "#### 27.Convert Snake case to Pascal case\n",
    "**example :** \n",
    "* Input--> data_is_vital\n",
    "* Output-> DataIsVital\n",
    "\n",
    "**title()**\n",
    "* : Used to convert the first character in each word to Uppercase and remaining characters to Lowercase in the string and returns a new string."
   ]
  },
  {
   "cell_type": "code",
   "execution_count": 3,
   "metadata": {
    "id": "dZK4Sb0VNUg1"
   },
   "outputs": [
    {
     "data": {
      "text/plain": [
       "'Convert_The_String'"
      ]
     },
     "execution_count": 3,
     "metadata": {},
     "output_type": "execute_result"
    }
   ],
   "source": [
    "# initializing string\n",
    "test_str = 'convert_the_string'\n",
    "test_str.title()  "
   ]
  },
  {
   "cell_type": "markdown",
   "metadata": {
    "id": "8kos1o5vNUg3"
   },
   "source": [
    "#### 28.Find length of a string "
   ]
  },
  {
   "cell_type": "code",
   "execution_count": 4,
   "metadata": {
    "id": "luXnGFJ6NUg4"
   },
   "outputs": [
    {
     "name": "stdout",
     "output_type": "stream",
     "text": [
      "11\n"
     ]
    }
   ],
   "source": [
    "str = \"Datascience\"\n",
    "print(len(str))"
   ]
  },
  {
   "cell_type": "markdown",
   "metadata": {
    "id": "adc1B_S2NUg4"
   },
   "source": [
    "#### 29.Python program to print even length words in a string\n",
    "* Input: s = \"This is a python language\"\n",
    "* Output: This\n",
    "          is\n",
    "          python\n",
    "          language "
   ]
  },
  {
   "cell_type": "code",
   "execution_count": 14,
   "metadata": {
    "id": "hSf4IjTpNUg5"
   },
   "outputs": [
    {
     "name": "stdout",
     "output_type": "stream",
     "text": [
      "This\n",
      "is\n",
      "python\n",
      "language\n"
     ]
    }
   ],
   "source": [
    "def printWords(s):\n",
    "       \n",
    "    s = s.split(' ') \n",
    "    for word in s: \n",
    "        if len(word)%2==0:\n",
    "            print(word)\n",
    "            \n",
    "s = \"This is a python language\" \n",
    "printWords(s) "
   ]
  },
  {
   "cell_type": "markdown",
   "metadata": {
    "id": "XwA_m-kRNUg5"
   },
   "source": [
    "### 30.Python code to remove all duplicates from a given string in Python"
   ]
  },
  {
   "cell_type": "code",
   "execution_count": null,
   "metadata": {
    "id": "w2_62QJONUg6"
   },
   "outputs": [],
   "source": [
    "def removeDuplicate(str):\n",
    "    s=set(str)\n",
    "    s=\"\".join(s)\n",
    "    print(\"Without Order:\",s)\n",
    "    t=\"\"\n",
    "    for i in str:\n",
    "        if(i in t):\n",
    "            pass\n",
    "        else:\n",
    "            t=t+i\n",
    "        print(\"With Order:\",t)\n",
    "      \n",
    "str=\"Dataisvital\"\n",
    "removeDuplicate(str)"
   ]
  },
  {
   "cell_type": "markdown",
   "metadata": {
    "id": "YPns1f5pNUg6"
   },
   "source": [
    "#### 31.Python program for removing i-th character from a string"
   ]
  },
  {
   "cell_type": "code",
   "execution_count": null,
   "metadata": {
    "id": "ZgzuH1dwNUg7"
   },
   "outputs": [],
   "source": [
    "def remove(string, i): \n",
    "  \n",
    "    for j in range(len(string)):\n",
    "        if j == i:\n",
    "            string = string.replace(string[i], \"\", 1)\n",
    "    return string\n",
    "      \n",
    "      \n",
    "string = \"Data is i vital\"\n",
    "      \n",
    "# Remove nth index eleme\n",
    "    \n",
    "    \n",
    "# Print the new string\n",
    "print(remove(string, 8))"
   ]
  },
  {
   "cell_type": "markdown",
   "metadata": {
    "id": "UPa3Y0sBNUg7"
   },
   "source": [
    "#### 32.Check if a given string is binary string or not"
   ]
  },
  {
   "cell_type": "code",
   "execution_count": null,
   "metadata": {
    "id": "LoB728DdNUg7"
   },
   "outputs": [],
   "source": [
    "# Python program to check\n",
    "# if a string is binary or not\n",
    " \n",
    "# function for checking the\n",
    "# string is accepted or not\n",
    "def check(string) :\n",
    " \n",
    "    # set function convert string\n",
    "    # into set of characters .\n",
    "    p = set(string)\n",
    " \n",
    "    # declare set of '0', '1' .\n",
    "    s = {'0', '1'}\n",
    " \n",
    "    # check set p is same as set s\n",
    "    # or set p contains only '0'\n",
    "    # or set p contains only '1'\n",
    "    # or not, if any one condition\n",
    "    # is true then string is accepted\n",
    "    # otherwise not .\n",
    "    if s == p or p == {'0'} or p == {'1'}:\n",
    "        print(\"Yes\")\n",
    "    else :\n",
    "        print(\"No\")\n",
    "\n",
    "string='0101010'\n",
    "check(string)"
   ]
  },
  {
   "cell_type": "markdown",
   "metadata": {
    "id": "ZDSIWDeyNUg8"
   },
   "source": [
    "#### 33.Python code to  Extract Unique values dictionary values"
   ]
  },
  {
   "cell_type": "code",
   "execution_count": null,
   "metadata": {
    "id": "h16w47FVNUg8"
   },
   "outputs": [],
   "source": [
    "test_dict = {'gfg' : [5, 6, 7, 8],\n",
    "             'is' : [10, 11, 7, 5],\n",
    "             'best' : [6, 12, 10, 8],\n",
    "             'for' : [1, 2, 5]}\n",
    "  \n",
    "# printing original dictionary\n",
    "print(\"The original dictionary is : \" + str(test_dict))\n",
    "  \n",
    "# Extract Unique values dictionary values\n",
    "# Using set comprehension + values() + sorted()\n",
    "res = list(sorted({ele for val in test_dict.values() for ele in val}))\n",
    "  \n",
    "# printing result \n",
    "print(\"The unique values list is : \" + str(res)) "
   ]
  },
  {
   "cell_type": "markdown",
   "metadata": {
    "id": "9hBClIeoNUg9"
   },
   "source": [
    "#### 34.Python code to Merge two Dictionaries"
   ]
  },
  {
   "cell_type": "code",
   "execution_count": null,
   "metadata": {
    "id": "urHoqDUENUg-"
   },
   "outputs": [],
   "source": [
    "def Merge(dict1, dict2):\n",
    "    return(dict2.update(dict1))\n",
    "     \n",
    "# Driver code\n",
    "dict1 = {'a': 10, 'b': 8}\n",
    "dict2 = {'d': 6, 'c': 4}\n",
    " \n",
    "# This return None\n",
    "print(Merge(dict1, dict2))\n",
    " \n",
    "# changes made in dict2\n",
    "print(dict2)"
   ]
  },
  {
   "cell_type": "markdown",
   "metadata": {
    "id": "Oa5Aja68NUg-"
   },
   "source": [
    "#### 35.Program to accept the strings which contains all vowels"
   ]
  },
  {
   "cell_type": "code",
   "execution_count": null,
   "metadata": {
    "id": "Cjiy0MB9NUg_"
   },
   "outputs": [],
   "source": [
    "def check(string):\n",
    "    if len(set(string.lower()).intersection(\"aeiou\")) >= 5:\n",
    "        return ('accepted')\n",
    "    else:\n",
    "        return (\"not accepted\")\n",
    " \n",
    " \n",
    "# Driver code\n",
    "\n",
    "string = \"DataisVital\"\n",
    "print(check(string))"
   ]
  },
  {
   "cell_type": "markdown",
   "metadata": {
    "id": "THbx-2C9NUhA"
   },
   "source": [
    "#### 36.Python Program to find sum of list"
   ]
  },
  {
   "cell_type": "code",
   "execution_count": null,
   "metadata": {
    "id": "U8VbidPENUhB"
   },
   "outputs": [],
   "source": [
    "l= []\n",
    "  \n",
    "# input values to list\n",
    "l = [12, 3, 4, 15]\n",
    "  \n",
    "# sum() is an inbuilt function in python that adds \n",
    "# all the elements in list,set and tuples and returns\n",
    "# the value \n",
    "ans = sum(l)\n",
    "  \n",
    "# display sum\n",
    "print ('Sum of the array is ',ans)\n",
    "  \n",
    "    "
   ]
  },
  {
   "cell_type": "markdown",
   "metadata": {
    "id": "YpkpbYInNUhB"
   },
   "source": [
    "\n",
    "#### 37.Print all  elements from the list using for loop "
   ]
  },
  {
   "cell_type": "code",
   "execution_count": null,
   "metadata": {
    "id": "RHAUSTg8NUhC"
   },
   "outputs": [],
   "source": [
    "l=[1,2,3,4,5,6,7,8,9,10]\n",
    "for i in l:\n",
    "    print(i)\n"
   ]
  },
  {
   "cell_type": "markdown",
   "metadata": {
    "id": "NTjRiedINUhD"
   },
   "source": [
    "#### 38.Adding multiple element at a time, in list "
   ]
  },
  {
   "cell_type": "code",
   "execution_count": null,
   "metadata": {
    "id": "pShHwv6vNUhD"
   },
   "outputs": [],
   "source": [
    "l=[]\n",
    "l.extend([1,2,3,5,6,7,8])\n",
    "l"
   ]
  },
  {
   "cell_type": "markdown",
   "metadata": {
    "id": "_AIAWfCRNUhE"
   },
   "source": [
    "#### 39.Program to print ASCII Value of a character\n",
    "**ord()** \n",
    " * It converts the given string of length one, returns an integer representing the Unicode code point of the character. For example, ord(‘a’) returns the integer 97. "
   ]
  },
  {
   "cell_type": "code",
   "execution_count": 3,
   "metadata": {
    "id": "YNmhZbLGNUhE"
   },
   "outputs": [
    {
     "name": "stdout",
     "output_type": "stream",
     "text": [
      "The ASCII value of 'g' is 103\n"
     ]
    }
   ],
   "source": [
    "c = 'g'\n",
    "print(\"The ASCII value of '\" + c + \"' is\", ord(c))\n"
   ]
  },
  {
   "cell_type": "markdown",
   "metadata": {
    "id": "i4dUok33NUhF"
   },
   "source": [
    "#### 40.Python code to  to clear a list "
   ]
  },
  {
   "cell_type": "code",
   "execution_count": 4,
   "metadata": {
    "id": "L_seal9XNUhF"
   },
   "outputs": [
    {
     "name": "stdout",
     "output_type": "stream",
     "text": [
      "list1 before clear: [6, 0, 4, 1]\n",
      "list1 after clear: []\n"
     ]
    }
   ],
   "source": [
    "list1 = [6, 0, 4, 1]\n",
    "print('list1 before clear:', list1) \n",
    "   \n",
    "list1.clear() \n",
    "print('list1 after clear:', list1) "
   ]
  },
  {
   "cell_type": "markdown",
   "metadata": {
    "id": "upp-IymzNUhG"
   },
   "source": [
    "#### 41.Python program to get Current Time"
   ]
  },
  {
   "cell_type": "code",
   "execution_count": 6,
   "metadata": {
    "id": "HOMYBY1dNUhG"
   },
   "outputs": [
    {
     "name": "stdout",
     "output_type": "stream",
     "text": [
      "Current Time = 10:44:31.116935\n"
     ]
    }
   ],
   "source": [
    "from datetime import datetime\n",
    "  \n",
    "current_time = datetime.now().time() \n",
    "  \n",
    "print(\"Current Time =\", current_time)"
   ]
  },
  {
   "cell_type": "markdown",
   "metadata": {
    "id": "fGLYZJiMNUhH"
   },
   "source": [
    "#### 42.Get Current Date and Time using Python"
   ]
  },
  {
   "cell_type": "code",
   "execution_count": 11,
   "metadata": {
    "id": "0GojIDspNUhI"
   },
   "outputs": [
    {
     "name": "stdout",
     "output_type": "stream",
     "text": [
      "Current date and time is : 2022-03-07 10:47:07.073427\n"
     ]
    }
   ],
   "source": [
    "from datetime import datetime \n",
    "    \n",
    "current_time = datetime.now() \n",
    "    \n",
    "# Printing value of now. \n",
    "print (\"Current date and time is :\",current_time)\n",
    "             "
   ]
  },
  {
   "cell_type": "markdown",
   "metadata": {
    "id": "JboXSnpbNUhI"
   },
   "source": [
    "#### 43.Python program to find yesterday’s, today’s and tomorrow’s date"
   ]
  },
  {
   "cell_type": "code",
   "execution_count": 17,
   "metadata": {
    "id": "P8fgBZvKNUhJ"
   },
   "outputs": [
    {
     "name": "stdout",
     "output_type": "stream",
     "text": [
      "Yesterday's date is : 2022-03-06\n",
      "Today's date is : 2022-03-07\n",
      "Tomorrow's date is : 2022-03-08\n"
     ]
    }
   ],
   "source": [
    "from datetime import *\n",
    "  \n",
    "\n",
    "today1 = date.today() \n",
    "yesterday = today1 - timedelta(days=1)\n",
    "tomorrow = today1 + timedelta(days=1)\n",
    "print(\"Yesterday's date is :\",yesterday)  \n",
    "print(\"Today's date is :\", today1)\n",
    "print(\"Tomorrow's date is :\",tomorrow)\n"
   ]
  },
  {
   "cell_type": "markdown",
   "metadata": {
    "id": "PzSY23wNNUhJ"
   },
   "source": [
    "#### 44.Python program to find difference between current time and given time"
   ]
  },
  {
   "cell_type": "code",
   "execution_count": 22,
   "metadata": {
    "id": "r42WPoCXNUhK"
   },
   "outputs": [
    {
     "name": "stdout",
     "output_type": "stream",
     "text": [
      "Hours and mins 2 : 25\n"
     ]
    }
   ],
   "source": [
    "def calc_diff_time(hr1, min1, hr2, min2):\n",
    "      \n",
    "    t1 = hr1 * 60 + min1\n",
    "    t2 = hr2 * 60 + min2\n",
    "      \n",
    "    if (t1 == t2): \n",
    "        print(\"Both are same\")\n",
    "    else:\n",
    "        diff = t2-t1\n",
    "        hours = (int(diff / 60)) % 24\n",
    "        mins = diff % 60\n",
    "        print(\"Hours and mins\",hours, \":\", mins)\n",
    "calc_diff_time(7, 20, 9, 45)\n",
    "\n",
    "  "
   ]
  },
  {
   "cell_type": "markdown",
   "metadata": {
    "id": "g-ZyrEOANUhK"
   },
   "source": [
    "#### 45.Python program to find the area of a triangle whose sides are given"
   ]
  },
  {
   "cell_type": "code",
   "execution_count": null,
   "metadata": {
    "id": "xf5HvUDHNUhL"
   },
   "outputs": [],
   "source": [
    "x = float(input(\"Enter the length of side x: \"))\n",
    "y= float(input(\"Enter the length of side y: \"))\n",
    "z = float(input(\"Enter the length of side z: \"))\n",
    "s = (a+b+c)/2      # finding semi_perimeter\n",
    "area =((s*(s-x)*(s-y)*(s-z)))**0.5   # Heron's Formula\n",
    "print(\" Area of the triangle is: \", area)"
   ]
  },
  {
   "cell_type": "markdown",
   "metadata": {
    "id": "M-JwZBHVNUhL"
   },
   "source": [
    "#### 46.Python program to find out the average of a set of integers"
   ]
  },
  {
   "cell_type": "code",
   "execution_count": null,
   "metadata": {
    "id": "7EkTcJePNUhM"
   },
   "outputs": [],
   "source": [
    "count = int(input(\"Enter the count of numbers: \"))\n",
    "i = 0\n",
    "sum = 0\n",
    "for i in range(count):\n",
    "    x = int(input(\"Enter an integer: \"))\n",
    "    sum+=x\n",
    "avg = sum/count\n",
    "print(\" The average is: \", avg)"
   ]
  },
  {
   "cell_type": "markdown",
   "metadata": {
    "id": "23idqiDLNUhM"
   },
   "source": [
    "#### 47. Python program to display the given integer in reverse manner"
   ]
  },
  {
   "cell_type": "code",
   "execution_count": null,
   "metadata": {
    "id": "wYbYvuoNNUhN"
   },
   "outputs": [],
   "source": [
    "number = int(input(\"Enter a positive integer: \"))\n",
    "rev = 0\n",
    "while(number!=0):\n",
    "    digit = number%10\n",
    "    rev = (rev*10)+digit\n",
    "    number = number//10\n",
    "print(rev)\n"
   ]
  },
  {
   "cell_type": "markdown",
   "metadata": {
    "id": "arMLe5jnNUhN"
   },
   "source": [
    "#### 48.Python program to find the sum of the digits of an integer using while loop"
   ]
  },
  {
   "cell_type": "code",
   "execution_count": null,
   "metadata": {
    "id": "xtXtMsFLNUhO"
   },
   "outputs": [],
   "source": [
    "sum = 0\n",
    "number = int(input(\"Enter an integer: \"))\n",
    "while(number!=0):\n",
    "    digit = number%10\n",
    "    sum = sum+digit\n",
    "    number = number//10\n",
    "print(\"Sum of digits is: \", sum)"
   ]
  },
  {
   "cell_type": "markdown",
   "metadata": {
    "id": "utIXL4mANUhO"
   },
   "source": [
    "#### 49.Python program to display all the multiples of 3 within the range 10 to 50"
   ]
  },
  {
   "cell_type": "code",
   "execution_count": null,
   "metadata": {
    "id": "tJgC8X5ONUhP"
   },
   "outputs": [],
   "source": [
    "for i in range(10,50):\n",
    "    if (i%3==0):\n",
    "        print(i)"
   ]
  },
  {
   "cell_type": "markdown",
   "metadata": {
    "id": "n8ysVlKmNUhP"
   },
   "source": [
    "#### 50.Python program to implement linear search"
   ]
  },
  {
   "cell_type": "code",
   "execution_count": null,
   "metadata": {
    "id": "yzaqSNylNUhP"
   },
   "outputs": [],
   "source": [
    "numbers = [4,2,7,1,8,3,6]\n",
    "f = 0 #flag\n",
    "x = int(input(\"Enter the number to be found out: \"))\n",
    "for i in range(len(numbers)):\n",
    "    if (x==numbers[i]):\n",
    "        print(\" Successful search, the element is found at position\", i)\n",
    "        f = 1\n",
    "        break\n",
    "if(f==0):\n",
    "    print(\"Oops! Search unsuccessful\")"
   ]
  },
  {
   "cell_type": "markdown",
   "metadata": {
    "id": "-0mi1HOi9QKm"
   },
   "source": [
    "# Python Practice Questions -3"
   ]
  },
  {
   "cell_type": "markdown",
   "metadata": {
    "id": "acb9a511"
   },
   "source": [
    "1. Python program to convert the temperature in degree centigrade to Fahrenheit"
   ]
  },
  {
   "cell_type": "code",
   "execution_count": null,
   "metadata": {
    "id": "dd6d182d",
    "outputId": "60431a3c-72d1-4dc3-cc90-021ef5e3ce8a"
   },
   "outputs": [
    {
     "name": "stdout",
     "output_type": "stream",
     "text": [
      " Enter temperature in Centigrade: 45\n",
      " Temperature in Fahrenheit is:  113.0\n"
     ]
    }
   ],
   "source": [
    "c = input(\" Enter temperature in Centigrade: \")\n",
    "f = (9*(int(c))/5)+32\n",
    "print(\" Temperature in Fahrenheit is: \", f)"
   ]
  },
  {
   "cell_type": "markdown",
   "metadata": {
    "id": "f3e4feea"
   },
   "source": [
    "2. Python program to find the area of a triangle whose sides are given"
   ]
  },
  {
   "cell_type": "code",
   "execution_count": null,
   "metadata": {
    "id": "6e03ec8c",
    "outputId": "0a619963-5362-45d5-d62c-e6db10848f7b"
   },
   "outputs": [
    {
     "name": "stdout",
     "output_type": "stream",
     "text": [
      "Enter the length of side a: 3\n",
      "Enter the length of side b: 4\n",
      "Enter the length of side c: 5\n",
      " Area of the triangle is:  6.0\n"
     ]
    }
   ],
   "source": [
    "from math import sqrt\n",
    "a = float(input(\"Enter the length of side a: \"))\n",
    "b = float(input(\"Enter the length of side b: \"))\n",
    "c = float(input(\"Enter the length of side c: \"))\n",
    "s = (a+b+c)/2\n",
    "area = sqrt(s*(s-a)*(s-b)*(s-c))\n",
    "print(\" Area of the triangle is: \", area)"
   ]
  },
  {
   "cell_type": "markdown",
   "metadata": {
    "id": "b049a9fa"
   },
   "source": [
    "3. Python program to find out the average of a set of integers"
   ]
  },
  {
   "cell_type": "code",
   "execution_count": null,
   "metadata": {
    "id": "59dc926c",
    "outputId": "cef31a05-ec04-430e-f17c-df23d1a780c8"
   },
   "outputs": [
    {
     "name": "stdout",
     "output_type": "stream",
     "text": [
      "Enter the count of numbers: 4\n",
      "Enter an integer: 2\n",
      "Enter an integer: 2\n",
      "Enter an integer: 3\n",
      "Enter an integer: 4\n",
      " The average is:  2.75\n"
     ]
    }
   ],
   "source": [
    "count = int(input(\"Enter the count of numbers: \"))\n",
    "i = 0\n",
    "sum = 0\n",
    "for i in range(count):\n",
    "    x = int(input(\"Enter an integer: \"))\n",
    "    sum = sum + x\n",
    "avg = sum/count\n",
    "print(\" The average is: \", avg)"
   ]
  },
  {
   "cell_type": "markdown",
   "metadata": {
    "id": "7dce8a33"
   },
   "source": [
    "4. Python program to find the product of a set of real numbers"
   ]
  },
  {
   "cell_type": "code",
   "execution_count": null,
   "metadata": {
    "id": "85ad479d",
    "outputId": "cbaff6c5-cdcd-40e0-b9d8-0cb5c1f8b977"
   },
   "outputs": [
    {
     "name": "stdout",
     "output_type": "stream",
     "text": [
      "Enter the number of real numbers: 2\n",
      "Enter a real number: 3\n",
      "Enter a real number: 4\n",
      "The product of the numbers is:  12.0\n"
     ]
    }
   ],
   "source": [
    "i = 0\n",
    "product = 1\n",
    "count = int(input(\"Enter the number of real numbers: \"))\n",
    "for i in range(count):\n",
    "    x = float(input(\"Enter a real number: \"))\n",
    "    product = product * x\n",
    "print(\"The product of the numbers is: \", product)"
   ]
  },
  {
   "cell_type": "markdown",
   "metadata": {
    "id": "0459d552"
   },
   "source": [
    "5. Python program to check whether the given integer is a multiple of 5"
   ]
  },
  {
   "cell_type": "code",
   "execution_count": null,
   "metadata": {
    "id": "d76c273b"
   },
   "outputs": [],
   "source": [
    "number = int(input(\"Enter an integer: \"))\n",
    "if(number%5==0):\n",
    "    print(number, \"is a multiple of 5\")\n",
    "else:\n",
    "    print(number, \"is not a multiple of 5\")"
   ]
  },
  {
   "cell_type": "markdown",
   "metadata": {
    "id": "0bcdbc4d"
   },
   "source": [
    "6. Python program to check whether the given integer is a multiple of both 5 and 7"
   ]
  },
  {
   "cell_type": "code",
   "execution_count": null,
   "metadata": {
    "id": "d7fbae81"
   },
   "outputs": [],
   "source": [
    "number = int(input(\"Enter an integer: \"))\n",
    "if((number%5==0)and(number%7==0)):\n",
    "    print(number, \"is a multiple of both 5 and 7\")\n",
    "else:\n",
    "    print(number, \"is not a multiple of both 5 and 7\")"
   ]
  },
  {
   "cell_type": "markdown",
   "metadata": {
    "id": "2d04eba2"
   },
   "source": [
    "7. Python program to display the given integer in reverse manner"
   ]
  },
  {
   "cell_type": "code",
   "execution_count": null,
   "metadata": {
    "id": "c4a4ef59"
   },
   "outputs": [],
   "source": [
    "number = int(input(\"Enter a positive integer: \"))\n",
    "rev = 0\n",
    "while(number!=0):\n",
    "    digit = number%10\n",
    "    rev = (rev*10)+digit\n",
    "    number = number//10\n",
    "print(rev)"
   ]
  },
  {
   "cell_type": "markdown",
   "metadata": {
    "id": "b1e89a54"
   },
   "source": [
    "8. Python program to find the sum of the digits of an integer using while loop"
   ]
  },
  {
   "cell_type": "code",
   "execution_count": null,
   "metadata": {
    "id": "5de03207"
   },
   "outputs": [],
   "source": [
    "sum = 0\n",
    "number = int(input(\"Enter an integer: \"))\n",
    "while(number!=0):\n",
    "    digit = number%10\n",
    "    sum = sum+digit\n",
    "    number = number//10\n",
    "print(\"Sum of digits is: \", sum)"
   ]
  },
  {
   "cell_type": "markdown",
   "metadata": {
    "id": "8c639c58"
   },
   "source": [
    "9. Python program to display all the multiples of 3 within the range 10 to 50"
   ]
  },
  {
   "cell_type": "code",
   "execution_count": null,
   "metadata": {
    "id": "352a3a6d"
   },
   "outputs": [],
   "source": [
    "for i in range(10,50):\n",
    "    if (i%3==0):\n",
    "        print(i)"
   ]
  },
  {
   "cell_type": "markdown",
   "metadata": {
    "id": "7d8f5b1f"
   },
   "source": [
    "10. Python program to display all integers within the range 100-200 whose sum of digits is an even number"
   ]
  },
  {
   "cell_type": "code",
   "execution_count": null,
   "metadata": {
    "id": "8f631cd7"
   },
   "outputs": [],
   "source": [
    "for i in range(100,200):\n",
    "    num = i\n",
    "    sum = 0\n",
    "    while(num!=0):\n",
    "        digit = num%10\n",
    "        sum = sum + digit\n",
    "        num = num//10\n",
    "    if(sum%2==0):\n",
    "        print(i)"
   ]
  },
  {
   "cell_type": "markdown",
   "metadata": {
    "id": "5d4ef2cd"
   },
   "source": [
    "11. Python program to generate the prime numbers from 1 to N"
   ]
  },
  {
   "cell_type": "code",
   "execution_count": null,
   "metadata": {
    "id": "7dfd50c7"
   },
   "outputs": [],
   "source": [
    "num =int(input(\"Enter the range: \"))\n",
    "for n in range(1,num):\n",
    "    for i in range(2,n):\n",
    "        if(n%i==0):\n",
    "            break\n",
    "    else:\n",
    "        print(n)  "
   ]
  },
  {
   "cell_type": "markdown",
   "metadata": {
    "id": "eb6148be"
   },
   "source": [
    "12. Python program to find the odd numbers in the list"
   ]
  },
  {
   "cell_type": "code",
   "execution_count": null,
   "metadata": {
    "id": "4276d655"
   },
   "outputs": [],
   "source": [
    "numbers = [8,3,1,6,2,4,5,9]\n",
    "count = 0\n",
    "for i in range(len(numbers)):\n",
    "    if(numbers[i]%2!=0):\n",
    "        count = count+1\n",
    "print(\"The number of odd numbers in the list are: \", count)"
   ]
  },
  {
   "cell_type": "markdown",
   "metadata": {
    "id": "f8c14f28"
   },
   "source": [
    "13. Python program to find the largest number in a list without using built-in functions"
   ]
  },
  {
   "cell_type": "code",
   "execution_count": null,
   "metadata": {
    "id": "1d6c5ba7"
   },
   "outputs": [],
   "source": [
    "numbers = [3,8,1,7,2,9,5,4]\n",
    "big = numbers[0]\n",
    "position = 0\n",
    "for i in range(len(numbers)):\n",
    "    if (numbers[i]>big):\n",
    "        big = numbers[i]\n",
    "        position = i\n",
    "print(\"The largest element is \",big,\" which is found at position \",position)"
   ]
  },
  {
   "cell_type": "markdown",
   "metadata": {
    "id": "ef848cdb"
   },
   "source": [
    "14. Python program to insert a number to any position in a list"
   ]
  },
  {
   "cell_type": "code",
   "execution_count": null,
   "metadata": {
    "id": "cd5ecfca"
   },
   "outputs": [],
   "source": [
    "numbers = [3,4,1,9,6,2,8]\n",
    "print(numbers)\n",
    "x = int(input(\"Enter the number to be inserted: \"))\n",
    "y = int(input(\"Enter the position: \"))\n",
    "numbers.insert(y,x)\n",
    "print(numbers)"
   ]
  },
  {
   "cell_type": "markdown",
   "metadata": {
    "id": "bdb210da"
   },
   "source": [
    "15. Python program to delete an element from a list by index"
   ]
  },
  {
   "cell_type": "code",
   "execution_count": null,
   "metadata": {
    "id": "8987e008"
   },
   "outputs": [],
   "source": [
    "numbers = [3,4,1,9,6,2,8]\n",
    "print(numbers)\n",
    "x = int(input(\"Enter the position of the element to be deleted: \"))\n",
    "numbers.pop(x)\n",
    "print(numbers)"
   ]
  },
  {
   "cell_type": "markdown",
   "metadata": {
    "id": "1f7cabde"
   },
   "source": [
    "16. Python program to check whether a string is palindrome or not"
   ]
  },
  {
   "cell_type": "code",
   "execution_count": null,
   "metadata": {
    "id": "7e8303aa"
   },
   "outputs": [],
   "source": [
    "def rev(inputString):\n",
    "    return inputString[::-1]\n",
    "def isPalindrome(inputString):\n",
    "    reverseString = rev(inputString)\n",
    "    if (inputString == reverseString):\n",
    "        return True\n",
    "    return False\n",
    "s = input(\"Enter a string: \")\n",
    "result = isPalindrome(s)\n",
    "if result == 1:\n",
    "    print(\"The string is palindrome\")\n",
    "else:\n",
    "    print(\"The string is not palindrome\")"
   ]
  },
  {
   "cell_type": "markdown",
   "metadata": {
    "id": "fa14eb8e"
   },
   "source": [
    "17. Write a Python program to extend a list without append()/extend()."
   ]
  },
  {
   "cell_type": "code",
   "execution_count": null,
   "metadata": {
    "id": "998baa0f"
   },
   "outputs": [],
   "source": [
    "x = [10, 20, 30]\n",
    "y = [40, 50, 60]\n",
    "x[:0] =y\n",
    "print(x)"
   ]
  },
  {
   "cell_type": "markdown",
   "metadata": {
    "id": "390911fa"
   },
   "source": [
    "18. Python program to printsquare pattern with * symbols"
   ]
  },
  {
   "cell_type": "code",
   "execution_count": null,
   "metadata": {
    "id": "72881e07"
   },
   "outputs": [],
   "source": [
    "n=int(input('Enter No Of Rows:'))\n",
    "for i in range(n):\n",
    "    print('* '*n) "
   ]
  },
  {
   "cell_type": "markdown",
   "metadata": {
    "id": "acf1f828"
   },
   "source": [
    "19. Python program to print square pattern with digit in every row"
   ]
  },
  {
   "cell_type": "code",
   "execution_count": null,
   "metadata": {
    "id": "abddb41a"
   },
   "outputs": [],
   "source": [
    "#n=int(input('Enter No Of Rows:'))\n",
    "#for i in range(n):\n",
    "#    print((str(i+1)+' ')*n)\n",
    "    \n",
    "rows = int(input('Enter No Of Rows:'))\n",
    "for i in range(1, rows + 1):\n",
    "    for j in range(1, rows + 1):\n",
    "        if j <= i:\n",
    "            print(i, end=' ')\n",
    "        else:\n",
    "            print(j, end=' ')\n",
    "    print()"
   ]
  },
  {
   "cell_type": "markdown",
   "metadata": {
    "id": "43f5089c"
   },
   "source": [
    "20. Python program to print Pyramid pattern with + symbols"
   ]
  },
  {
   "cell_type": "code",
   "execution_count": null,
   "metadata": {
    "id": "337239b3"
   },
   "outputs": [],
   "source": [
    "n=int(input('Enter Number of rows:'))\n",
    "for i in range(n):\n",
    " print((' '*(n-i-1))+ ('+ ')*(i+1)) "
   ]
  },
  {
   "cell_type": "markdown",
   "metadata": {
    "id": "d18e3e1f"
   },
   "source": [
    "21. Python program to compare two strings and find out which has more characters"
   ]
  },
  {
   "cell_type": "code",
   "execution_count": null,
   "metadata": {
    "id": "3b804870"
   },
   "outputs": [],
   "source": [
    "s1=input(\"Enter first string:\")\n",
    "s2=input(\"Enter Second string:\")\n",
    "if s1==s2:\n",
    " print(\"Both strings are equal\")\n",
    "elif s1<s2:\n",
    " print(\"First String is less than Second String\")\n",
    "else:\n",
    " print(\"First String is greater than Second String\") \n"
   ]
  },
  {
   "cell_type": "markdown",
   "metadata": {
    "id": "2315b49f"
   },
   "source": [
    "22, Python program to replace a part of string with another"
   ]
  },
  {
   "cell_type": "code",
   "execution_count": null,
   "metadata": {
    "id": "64a20380"
   },
   "outputs": [],
   "source": [
    "a = \"Hi my name is Balaji\"\n",
    "b = a.replace(\"Hi\",\"Hello,\")\n",
    "b\n"
   ]
  },
  {
   "cell_type": "markdown",
   "metadata": {
    "id": "97ccb04d"
   },
   "source": [
    "23. Python program to call the last element of the list by using the len() function."
   ]
  },
  {
   "cell_type": "code",
   "execution_count": null,
   "metadata": {
    "id": "ec27fa7c"
   },
   "outputs": [],
   "source": [
    "gift_list=['socks', '4K drone', 'wine', 'jam']\n",
    "# Type your code here.\n",
    "\n",
    "index_no = len(gift_list)-1\n",
    "\n",
    "ans_1 = gift_list[index_no]\n",
    "\n",
    "\n",
    "print(ans_1)"
   ]
  },
  {
   "cell_type": "markdown",
   "metadata": {
    "id": "8a88440b"
   },
   "source": [
    "24. Python program to return the count of a given substring from a string"
   ]
  },
  {
   "cell_type": "code",
   "execution_count": null,
   "metadata": {
    "id": "bfe19180"
   },
   "outputs": [],
   "source": [
    "str_1 = \"Emma is good developer. Emma is a writer\"\n",
    "# use count method of a str class\n",
    "cnt = str_1.count(\"Emma\")\n",
    "print(cnt)"
   ]
  },
  {
   "cell_type": "markdown",
   "metadata": {
    "id": "d9ec7112"
   },
   "source": [
    "25. Python program to arrange string characters such that lowercase letters should come first\n"
   ]
  },
  {
   "cell_type": "code",
   "execution_count": null,
   "metadata": {
    "id": "9a67d549"
   },
   "outputs": [],
   "source": [
    "str1 = \"PYnAtivE\"\n",
    "print('Original String:', str1)\n",
    "lower = []\n",
    "upper = []\n",
    "for char in str1:\n",
    "    if char.islower():\n",
    "        # add lowercase characters to lower list\n",
    "        lower.append(char)\n",
    "    else:\n",
    "        # add uppercase characters to lower list\n",
    "        upper.append(char)\n",
    "\n",
    "# Join both list\n",
    "sorted_str = ''.join(lower + upper)\n",
    "print('Result:', sorted_str)"
   ]
  },
  {
   "cell_type": "markdown",
   "metadata": {
    "id": "8a6e7179"
   },
   "source": [
    "26. Python program to split a given string on hyphens and display each substring"
   ]
  },
  {
   "cell_type": "code",
   "execution_count": null,
   "metadata": {
    "id": "8d7901e2"
   },
   "outputs": [],
   "source": [
    "str1 = \"Emma-is-a-data-scientist\"\n",
    "print(\"Original String is:\", str1)\n",
    "\n",
    "# split string\n",
    "sub_strings = str1.split(\"-\")\n",
    "\n",
    "print(\"Displaying each substring\")\n",
    "for sub in sub_strings:\n",
    "    print(sub)"
   ]
  },
  {
   "cell_type": "markdown",
   "metadata": {
    "id": "e5f2e8e4"
   },
   "source": [
    "27. Remove empty strings from a list of strings"
   ]
  },
  {
   "cell_type": "code",
   "execution_count": null,
   "metadata": {
    "id": "d0236558"
   },
   "outputs": [],
   "source": [
    "str_list = [\"Emma\", \"Jon\", \"\", \"Kelly\", None, \"Eric\", \"\"]\n",
    "res_list = []\n",
    "for s in str_list:\n",
    "    # check for non empty string\n",
    "    if s:\n",
    "        res_list.append(s)\n",
    "print(res_list)"
   ]
  },
  {
   "cell_type": "markdown",
   "metadata": {
    "id": "82fc9bb3"
   },
   "source": [
    "28. Remove special symbols / punctuation from a string"
   ]
  },
  {
   "cell_type": "code",
   "execution_count": null,
   "metadata": {
    "id": "22df9572"
   },
   "outputs": [],
   "source": [
    "str1 = 'I am 25 years and 10 months old'\n",
    "print(\"Original string is\", str1)\n",
    "\n",
    "# Retain Numbers in String\n",
    "# Using list comprehension + join() + isdigit()\n",
    "res = \"\".join([item for item in str1 if item.isdigit()])\n",
    "\n",
    "print(res)"
   ]
  },
  {
   "cell_type": "markdown",
   "metadata": {
    "id": "60719a1f"
   },
   "source": [
    "29. Find words with both alphabets and numbers"
   ]
  },
  {
   "cell_type": "code",
   "execution_count": null,
   "metadata": {
    "id": "9b4241e1"
   },
   "outputs": [],
   "source": [
    "str1 = \"Emma25 is Data scientist50 and AI Expert\"\n",
    "print(\"The original string is : \" + str1)\n",
    "\n",
    "res = []\n",
    "# split string on whitespace\n",
    "temp = str1.split()\n",
    "\n",
    "# Words with both alphabets and numbers\n",
    "# isdigit() for numbers + isalpha() for alphabets\n",
    "# use any() to check each character\n",
    "\n",
    "for item in temp:\n",
    "    if any(char.isalpha() for char in item) and any(char.isdigit() for char in item):\n",
    "        res.append(item)\n",
    "\n",
    "print(\"Displaying words with alphabets and numbers\")\n",
    "for i in res:\n",
    "    print(i)"
   ]
  },
  {
   "cell_type": "markdown",
   "metadata": {
    "id": "d7ee8a68"
   },
   "source": [
    "30. Python program to print a calendar for a given month (Jan 2008) \n"
   ]
  },
  {
   "cell_type": "code",
   "execution_count": null,
   "metadata": {
    "id": "ad022119"
   },
   "outputs": [],
   "source": [
    "import calendar\n",
    "\n",
    "cal = calendar.month(2008, 1)\n",
    "print(\"Here is the calendar:\")\n",
    "print(\"\\n\")\n",
    "print(cal)"
   ]
  },
  {
   "cell_type": "markdown",
   "metadata": {
    "id": "07fa2295"
   },
   "source": [
    "31. Python program to swap the case: upper to lower / lower to upper case"
   ]
  },
  {
   "cell_type": "code",
   "execution_count": null,
   "metadata": {
    "id": "4f7e0d60"
   },
   "outputs": [],
   "source": [
    "str = \"this is string example....wow!!!\";\n",
    "print(str.swapcase())\n",
    "\n",
    "str = \"THIS IS STRING EXAMPLE....WOW!!!\";\n",
    "print(str.swapcase())"
   ]
  },
  {
   "cell_type": "markdown",
   "metadata": {
    "id": "41f3da70"
   },
   "source": [
    "32. Create a tuple \"cardinal_numbers\" with \"first\", \"second\" and \"third\" and get the 2nd cardinal number."
   ]
  },
  {
   "cell_type": "code",
   "execution_count": null,
   "metadata": {
    "id": "41a8c5de",
    "outputId": "53f82de4-ec9e-4030-ab5b-5bf4a38db6a8"
   },
   "outputs": [
    {
     "name": "stdout",
     "output_type": "stream",
     "text": [
      "second\n"
     ]
    }
   ],
   "source": [
    "cardinal_numbers = (\"first\", \"second\", \"third\")\n",
    "print(cardinal_numbers[1])"
   ]
  },
  {
   "cell_type": "markdown",
   "metadata": {
    "id": "5e2224bf"
   },
   "source": [
    "33. Concatenate two strings together"
   ]
  },
  {
   "cell_type": "code",
   "execution_count": null,
   "metadata": {
    "id": "316496c9",
    "outputId": "17c7dab4-34a1-4d5e-fc58-be0c4bd24e49"
   },
   "outputs": [
    {
     "name": "stdout",
     "output_type": "stream",
     "text": [
      "Butterfly\n"
     ]
    }
   ],
   "source": [
    "\n",
    "string_left = \"Butter\"\n",
    "string_right = \"fly\"\n",
    "print(string_left + string_right)"
   ]
  },
  {
   "cell_type": "markdown",
   "metadata": {
    "id": "05f7c119"
   },
   "source": [
    "34. Display two strings together, with a space in between"
   ]
  },
  {
   "cell_type": "code",
   "execution_count": null,
   "metadata": {
    "id": "735a7d03",
    "outputId": "6f0eaeda-1f10-4ed2-eeef-65983708e688"
   },
   "outputs": [
    {
     "name": "stdout",
     "output_type": "stream",
     "text": [
      "Data Science\n"
     ]
    }
   ],
   "source": [
    "string_one = \"Data\"\n",
    "string_two = \"Science\"\n",
    "print(string_one + \" \" + string_two)"
   ]
  },
  {
   "cell_type": "code",
   "execution_count": null,
   "metadata": {
    "id": "29412843"
   },
   "outputs": [],
   "source": [
    "35. Python program to change the case of the strings"
   ]
  },
  {
   "cell_type": "code",
   "execution_count": null,
   "metadata": {
    "id": "5aafcb88",
    "outputId": "93f283a0-2ed0-4d30-f207-c159b6177620"
   },
   "outputs": [
    {
     "name": "stdout",
     "output_type": "stream",
     "text": [
      "data\n",
      "science\n",
      "\n",
      "\n",
      "PYTHON\n",
      "PROGRAM\n"
     ]
    }
   ],
   "source": [
    "string1 = \"DATA\"\n",
    "string2 = \"SCIENCE\"\n",
    "\n",
    "print(string1.lower())\n",
    "print(string2.lower())\n",
    "\n",
    "print(\"\\n\")\n",
    "\n",
    "string1 = \"python\"\n",
    "string2 = \"program\"\n",
    "print(string1.upper())\n",
    "print(string2.upper())"
   ]
  },
  {
   "cell_type": "markdown",
   "metadata": {
    "id": "446c8aec"
   },
   "source": [
    "36. Use of srtip() function."
   ]
  },
  {
   "cell_type": "code",
   "execution_count": null,
   "metadata": {
    "id": "ad11f555",
    "outputId": "e0e7b7d0-b017-4443-839e-07070448a46e"
   },
   "outputs": [
    {
     "name": "stdout",
     "output_type": "stream",
     "text": [
      "Filet Mignon\n",
      "Filet Mignon\n",
      "Cheeseburger\n"
     ]
    }
   ],
   "source": [
    "string1 = \"    Filet Mignon\"\n",
    "string2 = \"Brisket    \"\n",
    "string3 = \"  Cheeseburger   \"\n",
    "\n",
    "print(string1.strip())  # Could also use .lstrip()\n",
    "print(string1.strip())  # Could also use .rstrip()\n",
    "print(string3.strip())"
   ]
  },
  {
   "cell_type": "markdown",
   "metadata": {
    "id": "989969fa"
   },
   "source": [
    "37. Python program to check if the given string starts with the given letters."
   ]
  },
  {
   "cell_type": "code",
   "execution_count": null,
   "metadata": {
    "id": "905593db",
    "outputId": "b8aa4a26-39c4-47ec-9086-5f0b064ff186"
   },
   "outputs": [
    {
     "name": "stdout",
     "output_type": "stream",
     "text": [
      "False\n",
      "True\n",
      "False\n",
      "False\n"
     ]
    }
   ],
   "source": [
    "string1 = \"Data\"\n",
    "string2 = \"data\"\n",
    "string3 = \" dare\"\n",
    "string4 = \"dimond\"\n",
    "\n",
    "print(string1.startswith(\"da\")) # string1 starts with upper case.. \n",
    "print(string2.startswith(\"da\"))\n",
    "print(string3.startswith(\"da\")) # string3 starts with space\n",
    "print(string4.startswith(\"da\"))"
   ]
  },
  {
   "cell_type": "code",
   "execution_count": null,
   "metadata": {
    "id": "cce1dd19",
    "outputId": "8bce3bb1-ccec-4b40-80c5-51e02bd8ccd4"
   },
   "outputs": [
    {
     "name": "stdout",
     "output_type": "stream",
     "text": [
      "True\n",
      "True\n",
      "True\n",
      "True\n"
     ]
    }
   ],
   "source": [
    "string1 = \"Becomes\"\n",
    "string2 = \"becomes\"\n",
    "string3 = \"BEAR\"\n",
    "string4 = \"  bEautiful\"\n",
    "\n",
    "string1 = string1.lower()\n",
    "# (string2 will pass unmodified)\n",
    "string3 = string3.lower()\n",
    "string4 = string4.strip().lower()\n",
    "\n",
    "print(string1.startswith(\"be\"))\n",
    "print(string2.startswith(\"be\"))\n",
    "print(string3.startswith(\"be\"))\n",
    "print(string4.startswith(\"be\"))"
   ]
  },
  {
   "cell_type": "markdown",
   "metadata": {
    "id": "1500837c"
   },
   "source": [
    "38. Return the upper-case of first letter entered by the user"
   ]
  },
  {
   "cell_type": "code",
   "execution_count": null,
   "metadata": {
    "id": "4253e64a",
    "outputId": "5a6c8161-9a60-4861-edaa-51907deb9ef4"
   },
   "outputs": [
    {
     "name": "stdout",
     "output_type": "stream",
     "text": [
      "Tell me your password: dgfyd\n",
      "The first letter you entered was: D\n"
     ]
    }
   ],
   "source": [
    "user_input = input(\"Tell me your password: \")\n",
    "first_letter = user_input[0]\n",
    "print(\"The first letter you entered was: \" + first_letter.upper())"
   ]
  },
  {
   "cell_type": "markdown",
   "metadata": {
    "id": "06a39bf6"
   },
   "source": [
    "39. Get input from user, change it to upper case and get the length of the string"
   ]
  },
  {
   "cell_type": "code",
   "execution_count": null,
   "metadata": {
    "id": "1d52a0b2",
    "outputId": "46a9e85a-a11d-4c57-f180-2760ef69b0cc"
   },
   "outputs": [
    {
     "name": "stdout",
     "output_type": "stream",
     "text": [
      "Type something: jhdhsfgdgh\n",
      "jhdhsfgdgh\n",
      "JHDHSFGDGH\n",
      "10\n"
     ]
    }
   ],
   "source": [
    "my_input = input(\"Type something: \")\n",
    "print(my_input)\n",
    "print(my_input.upper())\n",
    "print(len(my_input))\n"
   ]
  },
  {
   "cell_type": "markdown",
   "metadata": {
    "id": "cab1b546"
   },
   "source": [
    "40. Get two numbers from the user, multiply them and display the result"
   ]
  },
  {
   "cell_type": "code",
   "execution_count": null,
   "metadata": {
    "id": "6913317f",
    "outputId": "d6d745d0-7488-4c38-fc92-8fbcc1a12b12"
   },
   "outputs": [
    {
     "name": "stdout",
     "output_type": "stream",
     "text": [
      "Enter a number: 4\n",
      "Enter another number: 5\n",
      "The product of 4 and 5 is 20.0.\n"
     ]
    }
   ],
   "source": [
    "a = input(\"Enter a number: \")\n",
    "b = input(\"Enter another number: \")\n",
    "\n",
    "# convert the input to float                       # or to integer using 'int()'\n",
    "product = float(a) * float(b)\n",
    "\n",
    "\n",
    "print(\"The product of \" + a + \" and \" + b + \" is \" + str(product) + \".\")"
   ]
  },
  {
   "cell_type": "markdown",
   "metadata": {
    "id": "401d6cf1"
   },
   "source": [
    "41. Display all the factors of a number chosen by the user"
   ]
  },
  {
   "cell_type": "code",
   "execution_count": null,
   "metadata": {
    "id": "be143674",
    "outputId": "2ae6ac68-24f6-4cec-f865-45edf7f3e173"
   },
   "outputs": [
    {
     "name": "stdout",
     "output_type": "stream",
     "text": [
      "Enter a positive integer: 45\n",
      "1 is a factor of 45\n",
      "3 is a factor of 45\n",
      "5 is a factor of 45\n",
      "9 is a factor of 45\n",
      "15 is a factor of 45\n",
      "45 is a factor of 45\n"
     ]
    }
   ],
   "source": [
    "num = int(input(\"Enter a positive integer: \"))\n",
    "for divisor in range(1, num + 1):\n",
    "    if num % divisor == 0:\n",
    "        print(f\"{divisor} is a factor of {num}\")"
   ]
  },
  {
   "cell_type": "markdown",
   "metadata": {
    "id": "df94ac18"
   },
   "source": [
    "42. Run in an infinite loop until the user types \"s\" or \"S\""
   ]
  },
  {
   "cell_type": "code",
   "execution_count": null,
   "metadata": {
    "id": "453ee12a",
    "outputId": "d0c5ffa2-941d-4341-c904-ab52ec80a2a7"
   },
   "outputs": [
    {
     "name": "stdout",
     "output_type": "stream",
     "text": [
      "Type \"s\" or \"S\" to stop: sds\n",
      "Type \"s\" or \"S\" to stop: sxas\n",
      "Type \"s\" or \"S\" to stop: axsx\n",
      "Type \"s\" or \"S\" to stop: axasx\n",
      "Type \"s\" or \"S\" to stop: s\n"
     ]
    }
   ],
   "source": [
    "while True:\n",
    "    user_input = input('Type \"s\" or \"S\" to stop: ')\n",
    "    if user_input.upper() == \"S\":\n",
    "        break"
   ]
  },
  {
   "cell_type": "markdown",
   "metadata": {
    "id": "5e8ebe3b"
   },
   "source": [
    "43. Display every number from 1 through 30 except multiples of 3"
   ]
  },
  {
   "cell_type": "code",
   "execution_count": null,
   "metadata": {
    "id": "201200f5",
    "outputId": "e7f5e607-e87e-4766-e53f-bb579844c056"
   },
   "outputs": [
    {
     "name": "stdout",
     "output_type": "stream",
     "text": [
      "1\n",
      "2\n",
      "4\n",
      "5\n",
      "7\n",
      "8\n",
      "10\n",
      "11\n",
      "13\n",
      "14\n",
      "16\n",
      "17\n",
      "19\n",
      "20\n",
      "22\n",
      "23\n",
      "25\n",
      "26\n",
      "28\n",
      "29\n"
     ]
    }
   ],
   "source": [
    "for i in range(1, 31):\n",
    "    if i % 3 == 0:\n",
    "        continue\n",
    "    print(i)"
   ]
  },
  {
   "cell_type": "markdown",
   "metadata": {
    "id": "a6ce03b3"
   },
   "source": [
    "44. Write a function to get the cube of a given number."
   ]
  },
  {
   "cell_type": "code",
   "execution_count": null,
   "metadata": {
    "id": "8b989e26"
   },
   "outputs": [],
   "source": [
    "def cube(num):\n",
    "    \"\"\"Returns the cube of the input number.\"\"\"\n",
    "    cube_num = num ** 3        # Could also use pow() by giving as pow(num, 3)\n",
    "    return cube_num"
   ]
  },
  {
   "cell_type": "code",
   "execution_count": null,
   "metadata": {
    "id": "d8320792",
    "outputId": "5b8ad18e-00e5-4cbe-a6d6-dca1e70df978"
   },
   "outputs": [
    {
     "data": {
      "text/plain": [
       "125"
      ]
     },
     "execution_count": 41,
     "metadata": {},
     "output_type": "execute_result"
    }
   ],
   "source": [
    "cube(5)"
   ]
  },
  {
   "cell_type": "markdown",
   "metadata": {
    "id": "540ba636"
   },
   "source": [
    "45. Write a function to print the given statement along with the input passed in the function"
   ]
  },
  {
   "cell_type": "code",
   "execution_count": null,
   "metadata": {
    "id": "1315e5ec"
   },
   "outputs": [],
   "source": [
    "def greet(name):\n",
    "      print(f\"Hello {name}!\")\n"
   ]
  },
  {
   "cell_type": "code",
   "execution_count": null,
   "metadata": {
    "id": "442ab7c1",
    "outputId": "abab227e-9a11-4273-b317-de174cdc31e4"
   },
   "outputs": [
    {
     "name": "stdout",
     "output_type": "stream",
     "text": [
      "Hello Guys!\n"
     ]
    }
   ],
   "source": [
    "greet(\"Guys\")"
   ]
  },
  {
   "cell_type": "markdown",
   "metadata": {
    "id": "a8f522ed"
   },
   "source": [
    "46. Create a dictionary and update it by adding elements in it and print the updated dictionary"
   ]
  },
  {
   "cell_type": "code",
   "execution_count": null,
   "metadata": {
    "id": "e35a8b9f",
    "outputId": "edda38fa-5740-4d84-a8b8-bc2fe918da4a"
   },
   "outputs": [
    {
     "name": "stdout",
     "output_type": "stream",
     "text": [
      "{'name': 'Jessa', 'country': 'USA', 'telephone': 1178, 'weight': 50, 'height': 6}\n"
     ]
    }
   ],
   "source": [
    "person = {\"name\": \"Jessa\", 'country': \"USA\", \"telephone\": 1178}\n",
    "\n",
    "# update dictionary by adding 2 new keys\n",
    "person[\"weight\"] = 50\n",
    "person.update({\"height\": 6})\n",
    "\n",
    "# print the updated dictionary\n",
    "print(person)"
   ]
  },
  {
   "cell_type": "markdown",
   "metadata": {
    "id": "8e959af5"
   },
   "source": [
    "47. Check whether the 'country' key exists and prints its value if found."
   ]
  },
  {
   "cell_type": "code",
   "execution_count": null,
   "metadata": {
    "id": "85156b37",
    "outputId": "cb72cf0a-927d-441e-f0ed-fc7209a193a2"
   },
   "outputs": [
    {
     "name": "stdout",
     "output_type": "stream",
     "text": [
      "country name is USA\n"
     ]
    }
   ],
   "source": [
    "person = {'name': 'Jessa', 'country': 'USA', 'telephone': 1178}\n",
    "\n",
    "# Get the list of keys and check if 'country' key is present\n",
    "key_name = 'country'\n",
    "if key_name in person.keys():\n",
    "    print(\"country name is\", person[key_name])\n",
    "else:\n",
    "    print(\"Key not found\")\n",
    "# Output country name is USA"
   ]
  },
  {
   "cell_type": "markdown",
   "metadata": {
    "id": "fb83f7a6"
   },
   "source": [
    "48. create more dictionaries and merge them into one."
   ]
  },
  {
   "cell_type": "code",
   "execution_count": null,
   "metadata": {
    "id": "17f0dc8e",
    "outputId": "5cf90e4c-e416-4bc6-c21a-0480d009b62c"
   },
   "outputs": [
    {
     "name": "stdout",
     "output_type": "stream",
     "text": [
      "{'Aadya': 1, 'Arul': 2, 'Harry': 5, 'Olivia': 6, 'Nancy': 7, 'Perry': 9}\n"
     ]
    }
   ],
   "source": [
    "student_dict1 = {'Aadya': 1, 'Arul': 2, }\n",
    "student_dict2 = {'Harry': 5, 'Olivia': 6}\n",
    "student_dict3 = {'Nancy': 7, 'Perry': 9}\n",
    "\n",
    "# join three dictionaries \n",
    "student_dict = {**student_dict1, **student_dict2, **student_dict3}\n",
    "# printing the final Merged dictionary\n",
    "print(student_dict)\n",
    "# Output {'Aadya': 1, 'Arul': 2, 'Harry': 5, 'Olivia': 6, 'Nancy': 7, 'Perry': 9}"
   ]
  },
  {
   "cell_type": "markdown",
   "metadata": {
    "id": "1caba658"
   },
   "source": [
    "49. Write a Python program to return a new set with unique items from both sets by removing duplicates."
   ]
  },
  {
   "cell_type": "code",
   "execution_count": null,
   "metadata": {
    "id": "74cb39cc",
    "outputId": "697a1b2e-4969-444d-8474-a3404d90b54e"
   },
   "outputs": [
    {
     "name": "stdout",
     "output_type": "stream",
     "text": [
      "{70, 40, 10, 50, 20, 60, 30}\n"
     ]
    }
   ],
   "source": [
    "set1 = {10, 20, 30, 40, 50}\n",
    "set2 = {30, 40, 50, 60, 70}\n",
    "print(set1.union(set2))"
   ]
  },
  {
   "cell_type": "markdown",
   "metadata": {
    "id": "f5cb6352"
   },
   "source": [
    "50. Write a Python program to remove items 10, 20, 30 from the following set at once."
   ]
  },
  {
   "cell_type": "code",
   "execution_count": null,
   "metadata": {
    "id": "31278803",
    "outputId": "eaa337fa-8ce3-42fc-906f-cf26f1d13181"
   },
   "outputs": [
    {
     "name": "stdout",
     "output_type": "stream",
     "text": [
      "{40, 50}\n"
     ]
    }
   ],
   "source": [
    "# difference_update() method removes the unwanted items from the original set\n",
    "set1 = {10, 20, 30, 40, 50}\n",
    "set1.difference_update({10, 20, 30})\n",
    "print(set1)"
   ]
  },
  {
   "cell_type": "code",
   "execution_count": null,
   "metadata": {
    "id": "ab92340c",
    "outputId": "b2cd2d04-7795-4188-e683-6bba6d278283"
   },
   "outputs": [
    {
     "name": "stdout",
     "output_type": "stream",
     "text": [
      "{'cherry', 'banana'}\n"
     ]
    }
   ],
   "source": [
    "# example:2\n",
    "\n",
    "# difference_update() method also used to removes the items that exist in both sets.\n",
    "\n",
    "\n",
    "x = {\"apple\", \"banana\", \"cherry\"}\n",
    "y = {\"google\", \"microsoft\", \"apple\"}\n",
    "\n",
    "x.difference_update(y)\n",
    "\n",
    "print(x)"
   ]
  },
  {
   "cell_type": "markdown",
   "metadata": {
    "id": "DMKm3n9w9YYe"
   },
   "source": [
    "# Python Practice Questions -4"
   ]
  },
  {
   "cell_type": "markdown",
   "metadata": {
    "id": "ee16877c"
   },
   "source": [
    "1. Write a Python program to print the following string in a specific format (see the output).\n",
    "Sample String : \"Twinkle, twinkle, little star, How I wonder what you are! Up above the world so high, Like a diamond in the sky. Twinkle, twinkle, little star, How I wonder what you are\" Output :\n",
    "\n",
    "Twinkle, twinkle, little star,\n",
    "\tHow I wonder what you are! \n",
    "\t\tUp above the world so high,   \t\t\n",
    "\t\tLike a diamond in the sky. \n",
    "Twinkle, twinkle, little star, \n",
    "\tHow I wonder what you are"
   ]
  },
  {
   "cell_type": "code",
   "execution_count": 26,
   "metadata": {
    "id": "beee5321",
    "scrolled": true
   },
   "outputs": [
    {
     "name": "stdout",
     "output_type": "stream",
     "text": [
      "Twinkle, twinkle, little star, \n",
      "        How I wonder what you are! \n",
      "                Up above the world so high, \n",
      "                Like a diamond in the sky. \n",
      "Twinkle, twinkle, little star, \n",
      "        How I wonder what you are!\n"
     ]
    }
   ],
   "source": [
    "print(\"\"\"Twinkle, twinkle, little star, \n",
    "        How I wonder what you are! \n",
    "                Up above the world so high, \n",
    "                Like a diamond in the sky. \n",
    "Twinkle, twinkle, little star, \n",
    "        How I wonder what you are!\"\"\")\n"
   ]
  },
  {
   "cell_type": "markdown",
   "metadata": {
    "id": "4503ddd1"
   },
   "source": [
    "2. Write a Python program to get the Python version you are using"
   ]
  },
  {
   "cell_type": "code",
   "execution_count": null,
   "metadata": {
    "id": "f1f07eef",
    "scrolled": true
   },
   "outputs": [],
   "source": [
    "import sys\n",
    "print(\"Python version\")\n",
    "print (sys.version)\n",
    "print(\"Version info.\")\n",
    "print (sys.version_info)"
   ]
  },
  {
   "cell_type": "markdown",
   "metadata": {
    "id": "1fcd00e8"
   },
   "source": [
    "3. Write a Python program to display the current date and time."
   ]
  },
  {
   "cell_type": "code",
   "execution_count": null,
   "metadata": {
    "id": "6a559392",
    "scrolled": true
   },
   "outputs": [],
   "source": [
    "import datetime\n",
    "now = datetime.datetime.now()\n",
    "print (\"Current date and time : \",now)"
   ]
  },
  {
   "cell_type": "markdown",
   "metadata": {
    "id": "013c969a"
   },
   "source": [
    "4. Write a Python program which accepts the radius of a circle from the user and compute the area"
   ]
  },
  {
   "cell_type": "code",
   "execution_count": null,
   "metadata": {
    "id": "7ec346b7"
   },
   "outputs": [],
   "source": [
    "import numpy as np\n",
    "def areaofcircle():\n",
    "    radius=float(input('Enter the radius of Circle:'))\n",
    "    area=np.pi *radius*radius\n",
    "    return area\n",
    "    "
   ]
  },
  {
   "cell_type": "code",
   "execution_count": null,
   "metadata": {
    "id": "c176d625",
    "scrolled": true
   },
   "outputs": [],
   "source": [
    "areaofcircle()"
   ]
  },
  {
   "cell_type": "markdown",
   "metadata": {
    "id": "83236de7"
   },
   "source": [
    "5. Write a Python program which accepts the user's first and last name and print them in reverse order with a space between them."
   ]
  },
  {
   "cell_type": "code",
   "execution_count": null,
   "metadata": {
    "id": "6a75763e"
   },
   "outputs": [],
   "source": [
    "def reversethestring():\n",
    "    first_name=input('Enter your first name')\n",
    "    last_name=input('Enter your last name')\n",
    "    return last_name[::-1],first_name[::-1]"
   ]
  },
  {
   "cell_type": "code",
   "execution_count": null,
   "metadata": {
    "id": "e64a224d",
    "scrolled": true
   },
   "outputs": [],
   "source": [
    "reversethestring()"
   ]
  },
  {
   "cell_type": "code",
   "execution_count": null,
   "metadata": {
    "id": "65438925",
    "scrolled": true
   },
   "outputs": [],
   "source": [
    "## Another way \n",
    "f_name = input(\"Input your First Name : \")\n",
    "l_name = input(\"Input your Last Name : \")\n",
    "print (\"Hello  \" + l_name + \" \" + f_name)"
   ]
  },
  {
   "cell_type": "markdown",
   "metadata": {
    "id": "9797d92e"
   },
   "source": [
    "6. Write a Python program which accepts a sequence of comma-separated numbers from user and generate a list  with those numbers"
   ]
  },
  {
   "cell_type": "code",
   "execution_count": null,
   "metadata": {
    "id": "41e8bc0a"
   },
   "outputs": [],
   "source": [
    "values = input(\"Input some comma seprated numbers : \")\n",
    "list1 = values.split(\",\")\n",
    "print(list1)\n",
    "\n"
   ]
  },
  {
   "cell_type": "markdown",
   "metadata": {
    "id": "1a81d4a3"
   },
   "source": [
    "7. Write a Python program to accept a filename from the user and print the extension of that"
   ]
  },
  {
   "cell_type": "code",
   "execution_count": null,
   "metadata": {
    "id": "2c9ceb75"
   },
   "outputs": [],
   "source": [
    "file_name=input('Enter the name of file')\n",
    "a=file_name.split('.')\n",
    "print(a[1])\n"
   ]
  },
  {
   "cell_type": "markdown",
   "metadata": {
    "id": "9a94ddfe"
   },
   "source": [
    "8. Write a Python program to display the first and last colors from the following list\n",
    "color_list = [\"yellow\",\"Green\",\"grey\" ,\"orange\"]"
   ]
  },
  {
   "cell_type": "code",
   "execution_count": null,
   "metadata": {
    "id": "dd389d3f",
    "scrolled": true
   },
   "outputs": [],
   "source": [
    "color_list = [\"yellow\",\"Green\",\"grey\" ,\"orange\"]\n",
    "print(color_list[0])\n",
    "print(color_list[-1])"
   ]
  },
  {
   "cell_type": "markdown",
   "metadata": {
    "id": "065f9a7d"
   },
   "source": [
    "9. Write a Python program that accepts an integer (n) and computes the value of n+nn+nnn"
   ]
  },
  {
   "cell_type": "code",
   "execution_count": null,
   "metadata": {
    "id": "c2a0fc7f",
    "outputId": "70531bdb-fdef-4ded-c677-2d6728427f50"
   },
   "outputs": [
    {
     "name": "stdout",
     "output_type": "stream",
     "text": [
      "Input an integer : 12\n",
      "122436\n"
     ]
    }
   ],
   "source": [
    "x = int(input(\"Input an integer : \"))\n",
    "n1 = int( \"%s\" % x )\n",
    "n2 = int( \"%s%s\" % (x,x) )\n",
    "n3 = int( \"%s%s%s\" % (x,x,x) )\n",
    "print (n1+n2+n3)"
   ]
  },
  {
   "cell_type": "markdown",
   "metadata": {
    "id": "d46166ba"
   },
   "source": [
    "10.Write a program to demonstrate different number data types in Python."
   ]
  },
  {
   "cell_type": "code",
   "execution_count": null,
   "metadata": {
    "id": "9bbf3b1f",
    "outputId": "1e35ca8f-80a8-4239-8904-22d7d3e67d37",
    "scrolled": true
   },
   "outputs": [
    {
     "name": "stdout",
     "output_type": "stream",
     "text": [
      "The datatype of a is  <class 'bool'>\n",
      "The datatype of b is  <class 'int'>\n",
      "The datatype of c is  <class 'float'>\n",
      "The datatype of d is  <class 'str'>\n"
     ]
    }
   ],
   "source": [
    "a=True\n",
    "b=12\n",
    "c=34.56\n",
    "d='Data sciience'\n",
    "print('The datatype of a is ',type(a))\n",
    "print('The datatype of b is ',type(b))\n",
    "print('The datatype of c is ',type(c))\n",
    "print('The datatype of d is ',type(d))\n"
   ]
  },
  {
   "cell_type": "markdown",
   "metadata": {
    "id": "93f3b3f9"
   },
   "source": [
    "11. Python Program to find sum of array"
   ]
  },
  {
   "cell_type": "code",
   "execution_count": null,
   "metadata": {
    "id": "46d738eb"
   },
   "outputs": [],
   "source": [
    "def sumofarray(b):\n",
    "    add=0\n",
    "    for i in b:\n",
    "        add=add+i\n",
    "    return add"
   ]
  },
  {
   "cell_type": "code",
   "execution_count": null,
   "metadata": {
    "id": "7cbf9757",
    "outputId": "db466d4e-9665-4933-8a92-0efecaa8da10"
   },
   "outputs": [
    {
     "data": {
      "text/plain": [
       "6"
      ]
     },
     "execution_count": 18,
     "metadata": {},
     "output_type": "execute_result"
    }
   ],
   "source": [
    "sumofarray(np.array([1,2,3]))"
   ]
  },
  {
   "cell_type": "markdown",
   "metadata": {
    "id": "5f6ae7db"
   },
   "source": [
    "12.Write a program to create, concatenate and print a string and\n",
    " accessing sub-string from a given string"
   ]
  },
  {
   "cell_type": "code",
   "execution_count": null,
   "metadata": {
    "id": "bc9c925b",
    "outputId": "9afbb79c-3f9f-4965-839f-a4b6564a4a5e",
    "scrolled": true
   },
   "outputs": [
    {
     "name": "stdout",
     "output_type": "stream",
     "text": [
      "Enter the first stringshubhangi\n",
      "Enter the second stringsakarkar\n",
      "The first string entered is shubhangi\n",
      "The second string entered is  sakarkar\n",
      "concatenation of two entered string shubhangisakarkar\n",
      "Substring of s1 hu\n",
      "substring of s2 k\n"
     ]
    }
   ],
   "source": [
    "s1=input('Enter the first string')\n",
    "s2=input('Enter the second string')\n",
    "print('The first string entered is',s1)\n",
    "print('The second string entered is ',s2)\n",
    "print('concatenation of two entered string',s1+s2)\n",
    "print('Substring of s1',s1[1:3])\n",
    "print('substring of s2',s2[2:3])"
   ]
  },
  {
   "cell_type": "markdown",
   "metadata": {
    "id": "aaa0e325"
   },
   "source": [
    "13.Create and explain the working of  tuple."
   ]
  },
  {
   "cell_type": "markdown",
   "metadata": {
    "id": "04688902"
   },
   "source": [
    "14.Write a python program to find largest of three numbers."
   ]
  },
  {
   "cell_type": "code",
   "execution_count": null,
   "metadata": {
    "collapsed": true,
    "id": "8b11ecf4",
    "outputId": "fdf18874-429f-4756-fd67-6a8132e9a6c6"
   },
   "outputs": [
    {
     "name": "stdout",
     "output_type": "stream",
     "text": [
      "Enter first number2\n",
      "Enter second number3\n",
      "Enter third number5\n",
      "The higest number is  5.0\n"
     ]
    }
   ],
   "source": [
    "num1=float(input('Enter first number'))\n",
    "num2=float(input('Enter second number'))\n",
    "num3=float(input('Enter third number'))\n",
    "\n",
    "if (num1>=num2) and (num1>=num3):\n",
    "    print('The highest number is',num1)\n",
    "elif (num2>=num1) and (num2>=num3):\n",
    "    print('The highest number is ',num2)\n",
    "else:\n",
    "    print('The higest number is ',num3)\n",
    "    "
   ]
  },
  {
   "cell_type": "markdown",
   "metadata": {
    "id": "7ba0036e"
   },
   "source": [
    "15.Write a Python program to convert temperatures to and from Celsius,\n",
    " Fahrenheit. [ Formula: c = (f-32)(5/9)]"
   ]
  },
  {
   "cell_type": "code",
   "execution_count": null,
   "metadata": {
    "id": "3d30fc52",
    "outputId": "3d06aef3-f2fe-4865-cf41-6b9ac657a83c",
    "scrolled": true
   },
   "outputs": [
    {
     "name": "stdout",
     "output_type": "stream",
     "text": [
      "Enter temprature38\n",
      "Enter unitc\n",
      "Temprature in ferenhite is 100.4\n"
     ]
    }
   ],
   "source": [
    "temp=float(input('Enter temprature'))\n",
    "unit=input('Enter unit')\n",
    "\n",
    "if unit=='C' or unit=='c':\n",
    "    newtemp=9/5*temp+32\n",
    "    print('Temprature in ferenhite is',fnewtemp)\n",
    "elif unit=='F' or unit=='f':\n",
    "    newtemp=5/9*(temp-32)\n",
    "    print('Temparture is celsius is',newtemp)\n",
    "else:\n",
    "    print('unknown unit passed')\n"
   ]
  },
  {
   "cell_type": "markdown",
   "metadata": {
    "id": "50956180"
   },
   "source": [
    "16. Write a Python program to construct the following pattern, using a\n",
    " nested for loop"
   ]
  },
  {
   "cell_type": "markdown",
   "metadata": {
    "id": "bde3ca51"
   },
   "source": [
    "*\n",
    "* *\n",
    "* * *\n",
    "* * * *\n",
    "* * * * *\n",
    "* * * *\n",
    "* * *\n",
    "* *\n",
    "*"
   ]
  },
  {
   "cell_type": "code",
   "execution_count": null,
   "metadata": {
    "id": "46d239b9",
    "outputId": "e56d66f5-a5ee-40eb-8f1c-945e5665f9c7"
   },
   "outputs": [
    {
     "name": "stdout",
     "output_type": "stream",
     "text": [
      "\n",
      "* \n",
      "* * \n",
      "* * * \n",
      "* * * * \n",
      "* * * * * \n",
      "* * * * * * \n",
      "* * * * * * * \n",
      "* * * * * * \n",
      "* * * * * \n",
      "* * * * \n",
      "* * * \n",
      "* * \n",
      "* \n"
     ]
    }
   ],
   "source": [
    "max = 6\n",
    "for i in range(0,max+1):\n",
    "    print(\"* \"*i)\n",
    "for i in range(max+1,0,-1):\n",
    "    print(\"* \"*i)"
   ]
  },
  {
   "cell_type": "markdown",
   "metadata": {
    "id": "5ec8bdf3"
   },
   "source": [
    "17.Write a program that accepts the lengths of three sides of a triangle\n",
    "as inputs. The program output should indicate whether or not the triangle\n",
    "is a right triangle (Recall from the Pythagorean Theorem that in a right\n",
    "triangle, the square of one side equals the sum of the squares of the\n",
    "other two sides)."
   ]
  },
  {
   "cell_type": "code",
   "execution_count": null,
   "metadata": {
    "id": "d8fc89ec",
    "outputId": "a9eb4138-f849-4dac-cc85-c485cc6a12b4",
    "scrolled": true
   },
   "outputs": [
    {
     "name": "stdout",
     "output_type": "stream",
     "text": [
      "Enter the base of triangle:3\n",
      "Enter the height of triangle:4\n",
      "Enter the hypo of triangle:5\n",
      "Entered dimensions of right angle triangle\n"
     ]
    }
   ],
   "source": [
    "base=float(input('Enter the base of triangle:'))\n",
    "height=float(input('Enter the height of triangle:'))\n",
    "hypo=float(input('Enter the hypo of triangle:'))\n",
    "if hypo**2==((base**2)+(height**2)):\n",
    "    print('Entered dimensions of right angle triangle')\n",
    "else:\n",
    "    print('The trianle is not right angled triganle')\n"
   ]
  },
  {
   "cell_type": "markdown",
   "metadata": {
    "id": "669a2189"
   },
   "source": [
    "18. Given a range of the first 10 numbers, Iterate from the start number to the end number, and In each iteration print the sum of the current number and previous number"
   ]
  },
  {
   "cell_type": "code",
   "execution_count": null,
   "metadata": {
    "id": "33618b16"
   },
   "outputs": [],
   "source": [
    "def sumofnum(num):\n",
    "    previousnum=0\n",
    "    for i in range(num):\n",
    "        sum=previousnum+i\n",
    "        print('The current number is:',i ,'Previous numbers:',previousnum,'Sum is:',sum)\n",
    "        previousnum=i"
   ]
  },
  {
   "cell_type": "code",
   "execution_count": null,
   "metadata": {
    "collapsed": true,
    "id": "fde4e846",
    "outputId": "5a644711-fc68-4850-cfd6-8e81becc3e44"
   },
   "outputs": [
    {
     "name": "stdout",
     "output_type": "stream",
     "text": [
      "The current number is: 0 Previous numbers: 0 Sum is: 0\n",
      "The current number is: 1 Previous numbers: 0 Sum is: 1\n",
      "The current number is: 2 Previous numbers: 1 Sum is: 3\n",
      "The current number is: 3 Previous numbers: 2 Sum is: 5\n",
      "The current number is: 4 Previous numbers: 3 Sum is: 7\n",
      "The current number is: 5 Previous numbers: 4 Sum is: 9\n",
      "The current number is: 6 Previous numbers: 5 Sum is: 11\n",
      "The current number is: 7 Previous numbers: 6 Sum is: 13\n",
      "The current number is: 8 Previous numbers: 7 Sum is: 15\n",
      "The current number is: 9 Previous numbers: 8 Sum is: 17\n",
      "The current number is: 10 Previous numbers: 9 Sum is: 19\n",
      "The current number is: 11 Previous numbers: 10 Sum is: 21\n",
      "The current number is: 12 Previous numbers: 11 Sum is: 23\n",
      "The current number is: 13 Previous numbers: 12 Sum is: 25\n",
      "The current number is: 14 Previous numbers: 13 Sum is: 27\n",
      "The current number is: 15 Previous numbers: 14 Sum is: 29\n",
      "The current number is: 16 Previous numbers: 15 Sum is: 31\n",
      "The current number is: 17 Previous numbers: 16 Sum is: 33\n",
      "The current number is: 18 Previous numbers: 17 Sum is: 35\n",
      "The current number is: 19 Previous numbers: 18 Sum is: 37\n"
     ]
    }
   ],
   "source": [
    "sumofnum(20)"
   ]
  },
  {
   "cell_type": "markdown",
   "metadata": {
    "id": "c6f22b10"
   },
   "source": [
    "19.Given a string, display only those characters which are present at an even index number."
   ]
  },
  {
   "cell_type": "code",
   "execution_count": null,
   "metadata": {
    "id": "d600ae28",
    "outputId": "6a70f9bd-126f-4e41-b2bd-a2fd2ab1c6e0",
    "scrolled": true
   },
   "outputs": [
    {
     "name": "stdout",
     "output_type": "stream",
     "text": [
      "Orginal String is  shubhangi\n",
      "Printing only even index chars\n",
      "index[ 0 ] s\n",
      "index[ 2 ] u\n",
      "index[ 4 ] h\n",
      "index[ 6 ] n\n"
     ]
    }
   ],
   "source": [
    "def printEveIndexChar(str):\n",
    "    for i in range(0, len(str)-1, 2):\n",
    "        print(\"index[\",i,\"]\", str[i] )\n",
    "\n",
    "inputStr = \"shubhangi\" \n",
    "print(\"Orginal String is \", inputStr)\n",
    "\n",
    "print(\"Printing only even index chars\")\n",
    "printEveIndexChar(inputStr)"
   ]
  },
  {
   "cell_type": "markdown",
   "metadata": {
    "id": "78774097"
   },
   "source": [
    "20.Return the count of sub-string “Shubhangi” appears in the given string"
   ]
  },
  {
   "cell_type": "code",
   "execution_count": null,
   "metadata": {
    "id": "c7e6c87e"
   },
   "outputs": [],
   "source": [
    "str = \"Shubhangi is good developer. Shubhangi is a Data Scientist\""
   ]
  },
  {
   "cell_type": "code",
   "execution_count": null,
   "metadata": {
    "id": "98225fb7",
    "outputId": "0e22d924-73a9-4b26-cdd9-2fb95dd8bc22"
   },
   "outputs": [
    {
     "name": "stdout",
     "output_type": "stream",
     "text": [
      "2\n"
     ]
    }
   ],
   "source": [
    "cnt = str.count(\"Shubhangi\")\n",
    "print(cnt)"
   ]
  },
  {
   "cell_type": "markdown",
   "metadata": {
    "id": "b5932365"
   },
   "source": [
    "21.Write a program (function!) that takes a list and returns a new list that contains all the elements of the first list minus all the duplicates."
   ]
  },
  {
   "cell_type": "code",
   "execution_count": null,
   "metadata": {
    "id": "53b95d6e"
   },
   "outputs": [],
   "source": [
    "## Function to remove duplicates from given list\n",
    "def listduplicate(x):\n",
    "    y = []\n",
    "    for i in x:\n",
    "        if i not in y:\n",
    "            y.append(i)\n",
    "    return y\n",
    "\n"
   ]
  },
  {
   "cell_type": "code",
   "execution_count": null,
   "metadata": {
    "id": "c22da75c",
    "outputId": "401dbd11-ef1b-40af-d0da-128e4207a2e9"
   },
   "outputs": [
    {
     "data": {
      "text/plain": [
       "[1, 2, 3, 4]"
      ]
     },
     "execution_count": 4,
     "metadata": {},
     "output_type": "execute_result"
    }
   ],
   "source": [
    "listduplicate([1,1,2,3,4,4])"
   ]
  },
  {
   "cell_type": "code",
   "execution_count": null,
   "metadata": {
    "id": "bd4d0f76"
   },
   "outputs": [],
   "source": [
    "#this one uses sets\n",
    "def v2(x):\n",
    "    return list(set(x))\n",
    "\n"
   ]
  },
  {
   "cell_type": "code",
   "execution_count": null,
   "metadata": {
    "id": "2d32fb20",
    "outputId": "dd334812-fe99-4a0d-b525-b6cccae67417",
    "scrolled": true
   },
   "outputs": [
    {
     "data": {
      "text/plain": [
       "[1, 2]"
      ]
     },
     "execution_count": 6,
     "metadata": {},
     "output_type": "execute_result"
    }
   ],
   "source": [
    "v2([1,1,2])"
   ]
  },
  {
   "cell_type": "markdown",
   "metadata": {
    "id": "ff7036db"
   },
   "source": [
    "22.Print multiplication table of 12 using recursion"
   ]
  },
  {
   "cell_type": "code",
   "execution_count": null,
   "metadata": {
    "id": "6bcbb2b4"
   },
   "outputs": [],
   "source": [
    "def table(n,i):\n",
    "    print(n*i)\n",
    "    i=i+1\n",
    "    if i<=10:\n",
    "        table(n,i)\n",
    "    "
   ]
  },
  {
   "cell_type": "code",
   "execution_count": null,
   "metadata": {
    "id": "6714ec54",
    "outputId": "13de497e-d758-42dc-d2de-9c2a9012a3f8"
   },
   "outputs": [
    {
     "name": "stdout",
     "output_type": "stream",
     "text": [
      "20\n",
      "40\n",
      "60\n",
      "80\n",
      "100\n",
      "120\n",
      "140\n",
      "160\n",
      "180\n",
      "200\n"
     ]
    }
   ],
   "source": [
    "table(20,1)"
   ]
  },
  {
   "cell_type": "markdown",
   "metadata": {
    "id": "b60b7ab6"
   },
   "source": [
    "23. Write a function to calculate area and perimeter of a rectangle."
   ]
  },
  {
   "cell_type": "code",
   "execution_count": null,
   "metadata": {
    "id": "b135fa3a"
   },
   "outputs": [],
   "source": [
    "def rectangle(a,b):\n",
    "    print('The area of given rectangle is:' ,a*b)\n",
    "    print('The perimeter of given rectangle is:',2*(a+b))"
   ]
  },
  {
   "cell_type": "code",
   "execution_count": null,
   "metadata": {
    "id": "f70af80f",
    "outputId": "c6e4897d-8277-4241-e45f-3a2e39219d1e",
    "scrolled": true
   },
   "outputs": [
    {
     "name": "stdout",
     "output_type": "stream",
     "text": [
      "The area of given rectangle is: 24\n",
      "The perimeter of given rectangle is: 28\n"
     ]
    }
   ],
   "source": [
    "rectangle(12,2)"
   ]
  },
  {
   "cell_type": "markdown",
   "metadata": {
    "id": "d6aae8e2"
   },
   "source": [
    "24.Write a function to calculate area and circumference of a circle"
   ]
  },
  {
   "cell_type": "code",
   "execution_count": null,
   "metadata": {
    "id": "0d8b0777"
   },
   "outputs": [],
   "source": [
    "def circle():\n",
    "    import numpy as np\n",
    "    radius=float(input('Enter the radius of circle'))\n",
    "    area=np.pi*radius*radius\n",
    "    return area\n",
    "    "
   ]
  },
  {
   "cell_type": "code",
   "execution_count": null,
   "metadata": {
    "collapsed": true,
    "id": "aae0e7a5",
    "outputId": "d4527e0e-fd21-4206-e50e-1e8d0aea4b3c"
   },
   "outputs": [
    {
     "name": "stdout",
     "output_type": "stream",
     "text": [
      "Enter the radius of circle4\n"
     ]
    },
    {
     "data": {
      "text/plain": [
       "50.26548245743669"
      ]
     },
     "execution_count": 16,
     "metadata": {},
     "output_type": "execute_result"
    }
   ],
   "source": [
    "circle()"
   ]
  },
  {
   "cell_type": "markdown",
   "metadata": {
    "id": "5b5eeed9"
   },
   "source": [
    "25.Write a function to calculate power of a number raised to other"
   ]
  },
  {
   "cell_type": "code",
   "execution_count": null,
   "metadata": {
    "id": "408cf437"
   },
   "outputs": [],
   "source": [
    "def powerof(n,p):\n",
    "    power=n**p\n",
    "    return power"
   ]
  },
  {
   "cell_type": "code",
   "execution_count": null,
   "metadata": {
    "id": "d686b969",
    "outputId": "115184fe-1d72-4647-f3be-58882255c300"
   },
   "outputs": [
    {
     "data": {
      "text/plain": [
       "8"
      ]
     },
     "execution_count": 18,
     "metadata": {},
     "output_type": "execute_result"
    }
   ],
   "source": [
    "powerof(2,3)"
   ]
  },
  {
   "cell_type": "markdown",
   "metadata": {
    "id": "daa9d8c8"
   },
   "source": [
    "26.Write a function to tell user if he/she is able to vote or not."
   ]
  },
  {
   "cell_type": "code",
   "execution_count": null,
   "metadata": {
    "id": "cdd10782",
    "outputId": "b63b34f5-d2ff-44a3-f617-505adca8b5aa",
    "scrolled": true
   },
   "outputs": [
    {
     "name": "stdout",
     "output_type": "stream",
     "text": [
      "Enter your age21\n",
      "You are eligible to vote\n"
     ]
    }
   ],
   "source": [
    "age=float(input('Enter your age'))\n",
    "if age >=18:\n",
    "    print('You are eligible to vote')\n",
    "else:\n",
    "    print('Not eligible to vote')\n"
   ]
  },
  {
   "cell_type": "markdown",
   "metadata": {
    "id": "6700bf06"
   },
   "source": [
    "27.Write a function “perfect()” that determines if parameter number is a perfect number. Use this function in a program that determines and prints all the perfect numbers between 1 and 1000.\n",
    "[An integer number is said to be “perfect number” if its factors, including 1(but not the number itself), sum to the number. E.g., 6 is a perfect number because 6=1+2+3]."
   ]
  },
  {
   "cell_type": "markdown",
   "metadata": {
    "id": "3274aba6"
   },
   "source": [
    "#### "
   ]
  },
  {
   "cell_type": "code",
   "execution_count": null,
   "metadata": {
    "id": "299985fc",
    "outputId": "ec6043e5-0a37-4aac-f71b-f3dc5fbec0a8"
   },
   "outputs": [
    {
     "data": {
      "text/plain": [
       "2"
      ]
     },
     "execution_count": 37,
     "metadata": {},
     "output_type": "execute_result"
    }
   ],
   "source": [
    "4 //2"
   ]
  },
  {
   "cell_type": "code",
   "execution_count": null,
   "metadata": {
    "id": "2a686b99"
   },
   "outputs": [],
   "source": [
    "\n",
    "def find_factors(num):\n",
    "    if num//2 > 2:\n",
    "        added = False\n",
    "        for i in range(2,num//2,1):\n",
    "            if num % i != 0:\n",
    "                continue\n",
    "            factors.append(i)\n",
    "            added = True\n",
    "            break\n",
    "        if(added):\n",
    "            find_factors(int(num//i))\n",
    "        else:\n",
    "            factors.append(num)\n",
    "    else:\n",
    "        factors.append(num)\n",
    "    "
   ]
  },
  {
   "cell_type": "code",
   "execution_count": null,
   "metadata": {
    "id": "b4f9f91a"
   },
   "outputs": [],
   "source": [
    "def find_perfect(num):\n",
    "    factorials = []\n",
    "    for i in range(1,num//2+1):\n",
    "        if num%i == 0:\n",
    "            factorials.append(i)\n",
    "    if sum(factorials) == num:\n",
    "        return(True)\n",
    "    else:\n",
    "        return(False)"
   ]
  },
  {
   "cell_type": "code",
   "execution_count": null,
   "metadata": {
    "id": "a27170d7",
    "outputId": "d215aef6-e990-4b76-b299-2ae296bd0ee4"
   },
   "outputs": [
    {
     "name": "stdout",
     "output_type": "stream",
     "text": [
      "6\n",
      "28\n",
      "496\n",
      "8128\n"
     ]
    }
   ],
   "source": [
    "for i in range(1,10000):\n",
    "    if find_perfect(i):\n",
    "        print(i)"
   ]
  },
  {
   "cell_type": "code",
   "execution_count": null,
   "metadata": {
    "id": "2a8ab830",
    "outputId": "7277178a-a537-4b8e-f7ea-dba8d34f0630"
   },
   "outputs": [
    {
     "name": "stdout",
     "output_type": "stream",
     "text": [
      "6\n"
     ]
    }
   ],
   "source": [
    "for i in range(1000):\n",
    "    factors = [1]\n",
    "    find_factors(i)\n",
    "    if sum(factors) == i:\n",
    "        print(i)\n",
    "    \n",
    "    "
   ]
  },
  {
   "cell_type": "code",
   "execution_count": null,
   "metadata": {
    "id": "502a3693",
    "outputId": "ba5782fa-1dc1-4dd3-d5c2-db1796a7ec01"
   },
   "outputs": [
    {
     "data": {
      "text/plain": [
       "[1, 2, 4, 7, 14]"
      ]
     },
     "execution_count": 140,
     "metadata": {},
     "output_type": "execute_result"
    }
   ],
   "source": [
    "\n",
    "fi(28)\n"
   ]
  },
  {
   "cell_type": "code",
   "execution_count": null,
   "metadata": {
    "id": "61c2f30d"
   },
   "outputs": [],
   "source": [
    "num = mainNum\n",
    "factors = []\n",
    "\n",
    "    \n",
    "    "
   ]
  },
  {
   "cell_type": "code",
   "execution_count": null,
   "metadata": {
    "id": "29d715d3"
   },
   "outputs": [],
   "source": [
    "def perfect(n):\n",
    "    sum=0\n",
    "    for i in range(n,1):\n",
    "        if n%i == 0:\n",
    "            sum=sum+i\n",
    "    if sum==n:\n",
    "        return True\n",
    "    else:\n",
    "        return False"
   ]
  },
  {
   "cell_type": "code",
   "execution_count": null,
   "metadata": {
    "id": "3b2cf129"
   },
   "outputs": [],
   "source": [
    "for i in range(1,1001):\n",
    "    if perfect(i):\n",
    "        print(i)"
   ]
  },
  {
   "cell_type": "markdown",
   "metadata": {
    "id": "aa791f42"
   },
   "source": [
    "28.Write a function to check if a number is even or not."
   ]
  },
  {
   "cell_type": "code",
   "execution_count": null,
   "metadata": {
    "id": "7e879e2c"
   },
   "outputs": [],
   "source": [
    "def even():\n",
    "    n=int(input('Enter the number'))\n",
    "    if n%2 == 0:\n",
    "        print('The given number is even')\n",
    "    else:\n",
    "        print('Odd number')"
   ]
  },
  {
   "cell_type": "code",
   "execution_count": null,
   "metadata": {
    "id": "cbea8379",
    "outputId": "db0e2600-26fb-46a5-fb08-352c3b4210a5",
    "scrolled": true
   },
   "outputs": [
    {
     "name": "stdout",
     "output_type": "stream",
     "text": [
      "Enter the number3\n",
      "Odd number\n"
     ]
    }
   ],
   "source": [
    "even()"
   ]
  },
  {
   "cell_type": "markdown",
   "metadata": {
    "id": "c2ba6b6a"
   },
   "source": [
    "29.Write a function to check if a number is prime or not"
   ]
  },
  {
   "cell_type": "code",
   "execution_count": 4,
   "metadata": {
    "id": "994d415c"
   },
   "outputs": [],
   "source": [
    "# the number which has no other factors except 1 and the number itself is called a prime number.\n",
    "def check_prime(num):\n",
    "    if num == 1:\n",
    "        print(\"Prime number\")\n",
    "    elif num>1:\n",
    "        for i in range(2,num):\n",
    "            if num % i == 0:           # checking the factors \n",
    "                print(\"not a prime number\")\n",
    "    else:\n",
    "        print(\"prime number\")\n",
    "\n",
    "check_prime(3)\n",
    "    \n",
    "    "
   ]
  },
  {
   "cell_type": "markdown",
   "metadata": {
    "id": "769d4dbe"
   },
   "source": [
    "30.Given a list of numbers, return True if first and last number of a list is same"
   ]
  },
  {
   "cell_type": "code",
   "execution_count": 57,
   "metadata": {
    "id": "f9375a2d",
    "outputId": "931b3b0a-45f5-48de-ea03-efe08d95e791"
   },
   "outputs": [
    {
     "name": "stdout",
     "output_type": "stream",
     "text": [
      "result is False\n"
     ]
    }
   ],
   "source": [
    "def isFirst_And_Last_Same(List):\n",
    "    if numlist[0]==numlist[-1]:\n",
    "        return True\n",
    "    else:\n",
    "        return False\n",
    "\n",
    "numlist = [10, 20, 30, 40, 90]\n",
    "print(\"result is\", isFirst_And_Last_Same(numlist))"
   ]
  },
  {
   "cell_type": "markdown",
   "metadata": {
    "id": "69e644f0"
   },
   "source": [
    "31. Write a program to check if each word in a string begins with a capital letter?\n"
   ]
  },
  {
   "cell_type": "code",
   "execution_count": null,
   "metadata": {
    "id": "00962ef7",
    "outputId": "2ece3506-3682-407a-f590-b8f94180cb97"
   },
   "outputs": [
    {
     "name": "stdout",
     "output_type": "stream",
     "text": [
      "True\n",
      "False\n",
      "False\n"
     ]
    }
   ],
   "source": [
    "print( 'The Hilton'.istitle() ) \n",
    "print( 'The dog'.istitle() ) \n",
    "print( 'sticky rice'.istitle() ) "
   ]
  },
  {
   "cell_type": "markdown",
   "metadata": {
    "id": "e4e32aad"
   },
   "source": [
    "32. Write a program to Check if a string contains a specific substring"
   ]
  },
  {
   "cell_type": "code",
   "execution_count": null,
   "metadata": {
    "id": "4158c02f",
    "outputId": "c661cac5-99d2-4131-a658-864236c4425d"
   },
   "outputs": [
    {
     "name": "stdout",
     "output_type": "stream",
     "text": [
      "True\n",
      "False\n"
     ]
    }
   ],
   "source": [
    "print( 'plane' in 'The worlds fastest plane' ) #=> True\n",
    "print( 'car' in 'The worlds fastest plane' ) #=> False"
   ]
  },
  {
   "cell_type": "markdown",
   "metadata": {
    "id": "4945cf2d"
   },
   "source": [
    "33. Capitalize the first character of a string"
   ]
  },
  {
   "cell_type": "code",
   "execution_count": 54,
   "metadata": {
    "id": "c7fcb60e",
    "outputId": "a23b3a9f-d34b-405e-b780-6db17668da7f"
   },
   "outputs": [
    {
     "data": {
      "text/plain": [
       "'Fatima'"
      ]
     },
     "execution_count": 54,
     "metadata": {},
     "output_type": "execute_result"
    }
   ],
   "source": [
    "\"fatima\".capitalize()"
   ]
  },
  {
   "cell_type": "markdown",
   "metadata": {
    "id": "483909e5"
   },
   "source": [
    "34. Reverse the string “hello world”"
   ]
  },
  {
   "cell_type": "code",
   "execution_count": 53,
   "metadata": {
    "id": "8a0828ee",
    "outputId": "678d5c64-1437-40fb-add9-29268fbcfca7",
    "scrolled": true
   },
   "outputs": [
    {
     "data": {
      "text/plain": [
       "'dlroW olleH'"
      ]
     },
     "execution_count": 53,
     "metadata": {},
     "output_type": "execute_result"
    }
   ],
   "source": [
    "s=\"Hello World\"\n",
    "s[::-1]"
   ]
  },
  {
   "cell_type": "markdown",
   "metadata": {
    "id": "13a1242b"
   },
   "source": [
    "35. Remove vowels from a string"
   ]
  },
  {
   "cell_type": "code",
   "execution_count": 49,
   "metadata": {
    "id": "096a384e",
    "outputId": "645a02b5-0276-4ec5-867b-b75ade86e7b2"
   },
   "outputs": [
    {
     "data": {
      "text/plain": [
       "'Hll 1 Wrld 2'"
      ]
     },
     "execution_count": 49,
     "metadata": {},
     "output_type": "execute_result"
    }
   ],
   "source": [
    "string = 'Hello 1 World 2'\n",
    "vowels = ('a','e','i','o','u')\n",
    "\"\".join([i for i in string if i not in vowels])\n"
   ]
  },
  {
   "cell_type": "markdown",
   "metadata": {
    "id": "76de8495"
   },
   "source": [
    "36. Iterate through a string Using for Loop."
   ]
  },
  {
   "cell_type": "code",
   "execution_count": 47,
   "metadata": {
    "id": "2e8fe647",
    "outputId": "01ffcc8b-107a-4a98-d478-bed8adcff97a"
   },
   "outputs": [
    {
     "name": "stdout",
     "output_type": "stream",
     "text": [
      "['n', 'a', 'm', 'e']\n"
     ]
    }
   ],
   "source": [
    "characters = []\n",
    "for i in 'name':\n",
    "    characters.append(i)\n",
    "print(characters)"
   ]
  },
  {
   "cell_type": "markdown",
   "metadata": {
    "id": "79e554dd"
   },
   "source": [
    "37. Iterate through a string Using List Comprehension"
   ]
  },
  {
   "cell_type": "code",
   "execution_count": 34,
   "metadata": {
    "id": "41513cfc",
    "outputId": "314370e7-1b38-479b-a507-9da7d01710f8",
    "scrolled": true
   },
   "outputs": [
    {
     "data": {
      "text/plain": [
       "['a', 's', 'g', 'd', 'f', 'd', 'g', 'f']"
      ]
     },
     "execution_count": 34,
     "metadata": {},
     "output_type": "execute_result"
    }
   ],
   "source": [
    "[i for i in 'asgdfdgf']\n"
   ]
  },
  {
   "cell_type": "markdown",
   "metadata": {
    "id": "27a39258"
   },
   "source": [
    "38. Transpose of Matrix using Nested Loops"
   ]
  },
  {
   "cell_type": "code",
   "execution_count": null,
   "metadata": {
    "id": "97cbe30b",
    "outputId": "258f78a2-fbb9-4a8d-ae14-ddefdb04fc60"
   },
   "outputs": [
    {
     "name": "stdout",
     "output_type": "stream",
     "text": [
      "[[1, 4], [2, 5], [3, 6], [4, 8]]\n"
     ]
    }
   ],
   "source": [
    "transposed = []\n",
    "matrix = [[1, 2, 3, 4], [4, 5, 6, 8]]\n",
    "\n",
    "for i in range(len(matrix[0])):\n",
    "    transposed_row = []\n",
    "\n",
    "    for row in matrix:\n",
    "        transposed_row.append(row[i])\n",
    "    transposed.append(transposed_row)\n",
    "\n",
    "print(transposed)"
   ]
  },
  {
   "cell_type": "markdown",
   "metadata": {
    "id": "2cb307e5"
   },
   "source": [
    "39. Write a program to check whether a number is divisible by 7 or not."
   ]
  },
  {
   "cell_type": "code",
   "execution_count": null,
   "metadata": {
    "id": "c3416092",
    "outputId": "c8d10697-ea94-482e-ba80-bef211c9a5f5"
   },
   "outputs": [],
   "source": [
    "num=int(input(\"Enter any number:\"))\n",
    "if num%7==0:\n",
    "   print(\"Number is divisible\")\n",
    "else:\n",
    "   print(\"Number is not divisible\")"
   ]
  },
  {
   "cell_type": "markdown",
   "metadata": {
    "id": "78e82d60"
   },
   "source": [
    "40. Write a program to calculate the electricity bill (accept number of unit from user) according to the following criteria :\n",
    "             Unit                                                     Price  \n",
    "First 100 units                                               no charge\n",
    "Next 100 units                                              Rs 5 per unit\n",
    "After 200 units                                             Rs 10 per unit\n",
    "(For example if input unit is 350 than total bill amount is Rs2000)"
   ]
  },
  {
   "cell_type": "code",
   "execution_count": null,
   "metadata": {
    "id": "5b48be81",
    "outputId": "575d2dfb-852c-458a-9197-d3eb141afea7"
   },
   "outputs": [],
   "source": [
    "units=int(input(\"Enter number of electric unit:\"))\n",
    "if units<=100:\n",
    "     price=0\n",
    "if units>100 and units<=200:\n",
    "    price=(units-100)*5\n",
    "    print(price)\n",
    "if units>200:\n",
    "     price=500+(units-200)*10\n",
    "print(\"Amount to pay :\",price)"
   ]
  },
  {
   "cell_type": "markdown",
   "metadata": {
    "id": "12423f16"
   },
   "source": [
    "41. Write a program to display the last digit of a number.\n",
    "(hint : any number % 10 will return the last digit)"
   ]
  },
  {
   "cell_type": "code",
   "execution_count": 30,
   "metadata": {
    "id": "a727b9a1",
    "outputId": "28785b95-37a8-4e18-d18d-0943a8fec663"
   },
   "outputs": [
    {
     "name": "stdout",
     "output_type": "stream",
     "text": [
      "Enter any number:12345\n",
      "Last digit of this number is:  5\n"
     ]
    }
   ],
   "source": [
    "num=int(input(\"Enter any number:\"))\n",
    "print(\"Last digit of this number is: \",num%10)"
   ]
  },
  {
   "cell_type": "markdown",
   "metadata": {
    "id": "9536a531"
   },
   "source": [
    "42. Write a program to check whether an years is leap year or not."
   ]
  },
  {
   "cell_type": "code",
   "execution_count": 29,
   "metadata": {
    "id": "36d9a3a4",
    "outputId": "b11aae8a-b0f6-4040-a7d1-a5bff0922234"
   },
   "outputs": [
    {
     "name": "stdout",
     "output_type": "stream",
     "text": [
      "Enter the year:6789\n",
      "Entered year is not a leap year\n"
     ]
    }
   ],
   "source": [
    "year=int(input(\"Enter the year:\"))\n",
    "if year%100==0:\n",
    "    if year%400==0:\n",
    "          print(\"Entered year is leap year\")\n",
    "    else:\n",
    "          print(\"Entered year is not a leap year\")\n",
    "else:\n",
    "    if year%4==0:\n",
    "         print(\"Entered year is leap year\")  \n",
    "    else:\n",
    "        print(\"Entered year is not a leap year\")"
   ]
  },
  {
   "cell_type": "markdown",
   "metadata": {
    "id": "e4947bb5"
   },
   "source": [
    "43. Write a program to accept a number from 1 to 7 and display the name of the day like 1 for Sunday , 2 for Monday and so on."
   ]
  },
  {
   "cell_type": "code",
   "execution_count": 28,
   "metadata": {
    "id": "9fe99bc5",
    "outputId": "62b011dc-3a7d-4ad2-e715-ba7765711202"
   },
   "outputs": [
    {
     "name": "stdout",
     "output_type": "stream",
     "text": [
      "Enter any number between 1 to 7 : 6\n",
      "Saturday\n"
     ]
    }
   ],
   "source": [
    "num=int(input(\"Enter any number between 1 to 7 : \"))\n",
    "if num==1:\n",
    "    print(\"Monday\")\n",
    "elif num==2:\n",
    "    print(\"Tuesday\")\n",
    "elif num==3:\n",
    "    print(\"Wednesday\")\n",
    "elif num==4:\n",
    "   print(\"Thursday\")\n",
    "elif num==5:\n",
    "   print(\"Friday\")\n",
    "elif num==6:\n",
    "   print(\"Saturday\")\n",
    "elif num==2:\n",
    "   print(\"Sunday\")\n",
    "else:\n",
    "   print(\"Invalid Entry\")"
   ]
  },
  {
   "cell_type": "markdown",
   "metadata": {
    "id": "bd7b9f98"
   },
   "source": [
    "44. Write a program to check whether a number entered is three digit number or not."
   ]
  },
  {
   "cell_type": "code",
   "execution_count": 25,
   "metadata": {
    "id": "58fbcee3",
    "outputId": "ddf2cc38-82a3-4d36-bf81-43d95dd19590"
   },
   "outputs": [
    {
     "name": "stdout",
     "output_type": "stream",
     "text": [
      "Enter any number:12345\n",
      "Entered number is not 3 digit number\n"
     ]
    }
   ],
   "source": [
    "num1 = (input(\"Enter any number:\"))\n",
    "if len(num1) != 3:\n",
    "     print(\"Entered number is not 3 digit number\")\n",
    "else:\n",
    "    print(\"YES\")"
   ]
  },
  {
   "cell_type": "markdown",
   "metadata": {
    "id": "b5b995b9"
   },
   "source": [
    "45. Write a program to check whether a number (accepted from user) is positive or negative.."
   ]
  },
  {
   "cell_type": "code",
   "execution_count": 8,
   "metadata": {
    "id": "0bce38a3",
    "outputId": "9fc3b45e-818a-401a-f47f-f8c938834a88"
   },
   "outputs": [
    {
     "name": "stdout",
     "output_type": "stream",
     "text": [
      "Enter first number:1234\n",
      "Number is positive\n"
     ]
    }
   ],
   "source": [
    "num = eval(input(\"Enter first number:\"))\n",
    "if num > 0 :\n",
    "    print(\"Number is positive\")\n",
    "else:\n",
    "    print(\"Number is negative\")"
   ]
  },
  {
   "cell_type": "markdown",
   "metadata": {
    "id": "82a2ee28"
   },
   "source": [
    "46. Write a program to whether a number (accepted from user) is divisible by 2 and 3 both."
   ]
  },
  {
   "cell_type": "code",
   "execution_count": 7,
   "metadata": {
    "id": "f2500a95",
    "outputId": "ccceb2a6-94b7-4ef8-b8ee-7c4be94ecd24",
    "scrolled": true
   },
   "outputs": [
    {
     "name": "stdout",
     "output_type": "stream",
     "text": [
      "Enter first number:123\n",
      "Number is not divisible by both 2 and 3\n"
     ]
    }
   ],
   "source": [
    "num1 = int(input(\"Enter first number:\"))\n",
    "if num1%2==0 and num1%3==0:\n",
    "      print(\"Number is divisible by 2 and 3 both\")\n",
    "else:\n",
    "      print(\"Number is not divisible by both 2 and 3\")"
   ]
  },
  {
   "cell_type": "markdown",
   "metadata": {
    "id": "1205f36e"
   },
   "source": [
    "47. Write a Python program to check the validity of a password (input from users).\n",
    "\n",
    "Validation :\n",
    "\n",
    "At least 1 letter between [a-z] and 1 letter between [A-Z].\n",
    "At least 1 number between [0-9].\n",
    "At least 1 character from [$#@].\n",
    "Minimum length 6 characters.\n",
    "Maximum length 16 characters."
   ]
  },
  {
   "cell_type": "code",
   "execution_count": 4,
   "metadata": {
    "id": "317bb1ed"
   },
   "outputs": [
    {
     "name": "stdout",
     "output_type": "stream",
     "text": [
      "Input your password:dwr@_W9\n",
      "Valid Password\n"
     ]
    }
   ],
   "source": [
    "import re\n",
    "password= input(\"Input your password:\")\n",
    "x = True\n",
    "while x:  \n",
    "    if (len(password)<6 or len(password)>16):\n",
    "        break\n",
    "    elif not re.search(\"[a-z]\",password):\n",
    "        break\n",
    "    elif not re.search(\"[0-9]\",password):\n",
    "        break\n",
    "    elif not re.search(\"[A-Z]\",password):\n",
    "        break\n",
    "    elif not re.search(\"[$#@]\",password):\n",
    "        break\n",
    "    elif re.search(\"\\s\",password):\n",
    "        break\n",
    "    else:\n",
    "        print(\"Valid Password\")\n",
    "        x=False\n",
    "        break\n",
    "\n",
    "if x:\n",
    "    print(\"Not a Valid Password\")\n"
   ]
  },
  {
   "cell_type": "markdown",
   "metadata": {
    "id": "5ef025dc"
   },
   "source": [
    "48. Write a Python program to print alphabet pattern 'A'. "
   ]
  },
  {
   "cell_type": "markdown",
   "metadata": {
    "id": "7c3a4306"
   },
   "source": [
    "  ***                                                                   \n",
    " *   *                                                                  \n",
    " *   *                                                                  \n",
    " *****                                                                  \n",
    " *   *                                                                  \n",
    " *   *                                                                  \n",
    " *   *\n"
   ]
  },
  {
   "cell_type": "code",
   "execution_count": 7,
   "metadata": {
    "id": "6058af9a",
    "outputId": "7638de96-32e6-4fff-ad27-7f75634088e2",
    "scrolled": true
   },
   "outputs": [
    {
     "name": "stdout",
     "output_type": "stream",
     "text": [
      "  * * *   \n",
      "*       * \n",
      "*       * \n",
      "* * * * * \n",
      "*       * \n",
      "*       * \n",
      "*       * \n"
     ]
    }
   ],
   "source": [
    "for row in range(7):\n",
    "    for col in range(5):\n",
    "        if (row == 0) and (col in {1,2,3}):\n",
    "            print(\"*\",end=\" \")\n",
    "        elif (row in {1,2,4,5,6}) and (col in {0,4}):\n",
    "            print(\"*\",end=\" \")\n",
    "        elif row == 3:\n",
    "            print(\"*\",end=\" \")\n",
    "        else:\n",
    "            print(\" \",end=\" \")\n",
    "    print()"
   ]
  },
  {
   "cell_type": "markdown",
   "metadata": {
    "id": "f2c4a877"
   },
   "source": [
    "49. Write a Python program to print alphabet pattern 'G'."
   ]
  },
  {
   "cell_type": "code",
   "execution_count": 6,
   "metadata": {
    "id": "f0037066",
    "outputId": "617c015d-4e44-4cec-c257-382f349890b2",
    "scrolled": true
   },
   "outputs": [
    {
     "name": "stdout",
     "output_type": "stream",
     "text": [
      "  * * *   \n",
      "*       * \n",
      "*         \n",
      "*   * * * \n",
      "*       * \n",
      "*       * \n",
      "  * * *   \n"
     ]
    }
   ],
   "source": [
    "for row in range(7):\n",
    "    for col in range(5):\n",
    "        if (row in {0,6}) and (col in {1,2,3}):\n",
    "            print(\"*\",end=\" \")\n",
    "        elif (row in {1,4,5}) and (col in {0,4}):\n",
    "            print(\"*\",end=\" \")\n",
    "        elif (row==2) and (col == 0):\n",
    "            print(\"*\",end=\" \")\n",
    "        elif (row == 3) and (col!=1):\n",
    "            print(\"*\",end=\" \")\n",
    "        else:\n",
    "            print(\" \",end=\" \")\n",
    "    print()"
   ]
  },
  {
   "cell_type": "markdown",
   "metadata": {
    "id": "151b54d1"
   },
   "source": [
    "50. Write a Python program to calculate a dog's age in dog's years. Go to the editor\n",
    "Note: For the first two years, a dog year is equal to 10.5 human years. After that, each dog year equals 4 human years.\n",
    "Expected Output:\n",
    "\n",
    "Input a dog's age in human years: 15                                    \n",
    "The dog's age in dog's years is 73"
   ]
  },
  {
   "cell_type": "code",
   "execution_count": 18,
   "metadata": {},
   "outputs": [
    {
     "name": "stdout",
     "output_type": "stream",
     "text": [
      "Enter the age of dog in human years:15\n",
      "The dog's age in dog's years is: 73\n"
     ]
    }
   ],
   "source": [
    "h_age=int(input(\"Enter the age of dog in human years:\"))\n",
    "if h_age<=0:\n",
    "    print(\"Age must be natural number.\")\n",
    "elif h_age<=2:\n",
    "    d_age = h_age * 10.5\n",
    "    \n",
    "else:\n",
    "    d_age = 21 + (h_age - 2)*4\n",
    "print(\"The dog's age in dog's years is:\",d_age)\n",
    "   \n"
   ]
  },
  {
   "cell_type": "code",
   "execution_count": null,
   "metadata": {},
   "outputs": [],
   "source": []
  }
 ],
 "metadata": {
  "colab": {
   "collapsed_sections": [
    "5SxETtM0NUgO",
    "MrC5f4tRNUgQ",
    "Wlg1fCCHNUgS",
    "S7A0ssZvNUgT",
    "kJb7S9l9NUgV",
    "ObUEGlUYNUgX",
    "Yuya_bO9NUgZ",
    "OulggPgnNUgb",
    "FK0KmdNkNUge",
    "QIb7XmrqNUgi",
    "u7VIZKNBNUgo",
    "F_JA8_WzNUgq",
    "8iW7ts--NUgs",
    "j78QG-5hNUgt",
    "wzd9GI0oNUgv",
    "ZvepirNhNUgw",
    "oqmG9jJ_NUgy",
    "kcmMdBlGNUgz",
    "yUqFOTBBNUg0",
    "8kos1o5vNUg3",
    "adc1B_S2NUg4",
    "YPns1f5pNUg6",
    "UPa3Y0sBNUg7",
    "ZDSIWDeyNUg8",
    "9hBClIeoNUg9",
    "Oa5Aja68NUg-",
    "THbx-2C9NUhA",
    "YpkpbYInNUhB",
    "NTjRiedINUhD",
    "_AIAWfCRNUhE",
    "i4dUok33NUhF",
    "upp-IymzNUhG",
    "fGLYZJiMNUhH",
    "JboXSnpbNUhI",
    "PzSY23wNNUhJ",
    "g-ZyrEOANUhK",
    "M-JwZBHVNUhL",
    "23idqiDLNUhM",
    "arMLe5jnNUhN",
    "utIXL4mANUhO"
   ],
   "name": "Python_Practice_Questions.ipynb",
   "provenance": []
  },
  "kernelspec": {
   "display_name": "Python 3",
   "language": "python",
   "name": "python3"
  },
  "language_info": {
   "codemirror_mode": {
    "name": "ipython",
    "version": 3
   },
   "file_extension": ".py",
   "mimetype": "text/x-python",
   "name": "python",
   "nbconvert_exporter": "python",
   "pygments_lexer": "ipython3",
   "version": "3.8.8"
  }
 },
 "nbformat": 4,
 "nbformat_minor": 1
}
