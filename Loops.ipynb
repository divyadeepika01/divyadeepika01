{
 "cells": [
  {
   "cell_type": "markdown",
   "id": "11ab3b89",
   "metadata": {},
   "source": [
    "# While Loop :- "
   ]
  },
  {
   "cell_type": "markdown",
   "id": "5855b2c8",
   "metadata": {},
   "source": [
    " In python, whileloop is used to execute a block of statements repeatedly until a given condition is satisfied.And when the condition\n",
    "becomes false,the line immediately after the loop in program is executed."
   ]
  },
  {
   "cell_type": "code",
   "execution_count": 4,
   "id": "288756ca",
   "metadata": {},
   "outputs": [
    {
     "name": "stdout",
     "output_type": "stream",
     "text": [
      "1\n",
      "2\n",
      "3\n",
      "4\n",
      "5\n"
     ]
    }
   ],
   "source": [
    "# Simple while loop causing infinite loop -->\n",
    "\n",
    "i = 1\n",
    "while i<6:\n",
    "    print(i)\n",
    "    i+=1\n",
    "# Counter increment is important as it will cause infinite loop"
   ]
  },
  {
   "cell_type": "markdown",
   "id": "e6b075a6",
   "metadata": {},
   "source": [
    "### While loop with break. It is used to stop loop even if while condition is true :-"
   ]
  },
  {
   "cell_type": "code",
   "execution_count": 7,
   "id": "631ed76c",
   "metadata": {},
   "outputs": [
    {
     "name": "stdout",
     "output_type": "stream",
     "text": [
      "1\n",
      "2\n",
      "3\n"
     ]
    }
   ],
   "source": [
    "#  In between break the loop -->\n",
    "\n",
    "i = 1\n",
    "while i < 6:\n",
    "    print(i)\n",
    "    if i == 3:\n",
    "        break       # the execution of the program stops here only when \"\"if\"\" condition beacomes true.....\n",
    "    i+=1"
   ]
  },
  {
   "cell_type": "markdown",
   "id": "800ffdc6",
   "metadata": {},
   "source": [
    "### While loop with continue statement :-"
   ]
  },
  {
   "cell_type": "code",
   "execution_count": 18,
   "id": "40eff7e5",
   "metadata": {},
   "outputs": [
    {
     "name": "stdout",
     "output_type": "stream",
     "text": [
      "1\n",
      "2\n",
      "3\n",
      "5\n",
      "6\n"
     ]
    }
   ],
   "source": [
    "# skipping certain condition -->\n",
    "\n",
    "i=0\n",
    "while i<6:\n",
    "    i+=1\n",
    "    if i == 4:\n",
    "        continue\n",
    "    \n",
    "    print(i)"
   ]
  },
  {
   "cell_type": "markdown",
   "id": "77477098",
   "metadata": {},
   "source": [
    "### While with else :-"
   ]
  },
  {
   "cell_type": "code",
   "execution_count": 14,
   "id": "690de4ac",
   "metadata": {},
   "outputs": [
    {
     "name": "stdout",
     "output_type": "stream",
     "text": [
      "1\n",
      "2\n",
      "3\n",
      "4\n",
      "5\n",
      "While loop condition is false\n"
     ]
    }
   ],
   "source": [
    "i=1\n",
    "while i<6:\n",
    "    print(i)\n",
    "    i+=1\n",
    "else:\n",
    "    print(\"While loop condition is false\")"
   ]
  },
  {
   "cell_type": "code",
   "execution_count": 23,
   "id": "0a5ab5b7",
   "metadata": {},
   "outputs": [
    {
     "name": "stdout",
     "output_type": "stream",
     "text": [
      "0 data science\n",
      "1 data science\n",
      "2 data science\n"
     ]
    }
   ],
   "source": [
    "count=0\n",
    "while count<3:\n",
    "    print(count,\"data science\")\n",
    "    count=count+1"
   ]
  },
  {
   "cell_type": "code",
   "execution_count": 28,
   "id": "7dfb0145",
   "metadata": {},
   "outputs": [
    {
     "name": "stdout",
     "output_type": "stream",
     "text": [
      "1 Hi\n",
      "2 Hi\n",
      "3 Hi\n",
      "4 Hi\n"
     ]
    }
   ],
   "source": [
    "count=1\n",
    "while count<5:\n",
    "    print(count,\"Hi\")\n",
    "    count=count+1"
   ]
  },
  {
   "cell_type": "markdown",
   "id": "27eb8422",
   "metadata": {},
   "source": [
    "# For Loop :-"
   ]
  },
  {
   "cell_type": "markdown",
   "id": "7b2389b5",
   "metadata": {},
   "source": [
    " Python for loops are used to loop through an iterable object(sequence types)and perform the same acion for each entry."
   ]
  },
  {
   "cell_type": "code",
   "execution_count": 29,
   "id": "2537ac1c",
   "metadata": {},
   "outputs": [
    {
     "name": "stdout",
     "output_type": "stream",
     "text": [
      "1\n",
      "2\n",
      "3\n",
      "4\n",
      "5\n",
      "6\n",
      "7\n",
      "8\n"
     ]
    }
   ],
   "source": [
    "l=[1,2,3,4,5,6,7,8]\n",
    "for i in l:\n",
    "    print(i)"
   ]
  },
  {
   "cell_type": "code",
   "execution_count": 35,
   "id": "b9f1b3d7",
   "metadata": {},
   "outputs": [
    {
     "name": "stdout",
     "output_type": "stream",
     "text": [
      "apple\n",
      "banana\n",
      "pomegranate\n",
      "orange\n"
     ]
    }
   ],
   "source": [
    "fruits=[\"apple\",\"banana\",\"pomegranate\",\"orange\"]\n",
    "for i in fruits:\n",
    "    print(i)"
   ]
  },
  {
   "cell_type": "code",
   "execution_count": 36,
   "id": "c9e67aee",
   "metadata": {},
   "outputs": [
    {
     "name": "stdout",
     "output_type": "stream",
     "text": [
      "T\n",
      "h\n",
      "i\n",
      "s\n",
      " \n",
      "i\n",
      "s\n",
      " \n",
      "d\n",
      "a\n",
      "t\n",
      "a\n",
      " \n",
      "s\n",
      "c\n",
      "i\n",
      "e\n",
      "n\n",
      "c\n",
      "e\n",
      " \n",
      "s\n",
      "e\n",
      "s\n",
      "s\n",
      "i\n",
      "o\n",
      "n\n"
     ]
    }
   ],
   "source": [
    "s=\"This is data science session\"\n",
    "for i in s:\n",
    "    print(i)"
   ]
  },
  {
   "cell_type": "code",
   "execution_count": 42,
   "id": "1268bcd7",
   "metadata": {},
   "outputs": [
    {
     "name": "stdout",
     "output_type": "stream",
     "text": [
      "apple\n",
      "banana\n"
     ]
    }
   ],
   "source": [
    "# using break -->\n",
    "\n",
    "for i in fruits:\n",
    "    print(i)\n",
    "    if i == \"banana\":\n",
    "        break       "
   ]
  },
  {
   "cell_type": "code",
   "execution_count": 43,
   "id": "d15eb1ee",
   "metadata": {},
   "outputs": [
    {
     "name": "stdout",
     "output_type": "stream",
     "text": [
      "apple\n",
      "pomegranate\n",
      "orange\n"
     ]
    }
   ],
   "source": [
    "# using continue ->\n",
    "\n",
    "for i in fruits:\n",
    "    if i == \"banana\":\n",
    "        continue\n",
    "    print(i)"
   ]
  },
  {
   "cell_type": "code",
   "execution_count": 49,
   "id": "afa55272",
   "metadata": {},
   "outputs": [
    {
     "name": "stdout",
     "output_type": "stream",
     "text": [
      "0\n",
      "1\n",
      "2\n",
      "3\n",
      "4\n",
      "5\n",
      "6\n",
      "7\n",
      "8\n",
      "9\n"
     ]
    }
   ],
   "source": [
    "#  Range function --> range is a generator function which yields numbers with in a given range.\n",
    "\n",
    "for i in range(0,10):\n",
    "    print(i)"
   ]
  },
  {
   "cell_type": "code",
   "execution_count": 50,
   "id": "175926d9",
   "metadata": {},
   "outputs": [
    {
     "name": "stdout",
     "output_type": "stream",
     "text": [
      "0\n",
      "3\n",
      "6\n",
      "9\n"
     ]
    }
   ],
   "source": [
    "for i in range(0,10,3):\n",
    "    print(i)"
   ]
  },
  {
   "cell_type": "markdown",
   "id": "6b5aa147",
   "metadata": {},
   "source": [
    "# Nested loops :- "
   ]
  },
  {
   "cell_type": "code",
   "execution_count": 52,
   "id": "8c734af4",
   "metadata": {},
   "outputs": [],
   "source": [
    "seq1=['Maths',\"Science\",\"Geo\",\"English\",\"Stats\"]\n",
    "seq2=[98,67,87,98,89]"
   ]
  },
  {
   "cell_type": "code",
   "execution_count": 63,
   "id": "6cf913e1",
   "metadata": {},
   "outputs": [
    {
     "name": "stdout",
     "output_type": "stream",
     "text": [
      "Maths 98\n",
      "Maths 67\n",
      "Maths 87\n",
      "Maths 98\n",
      "Maths 89\n",
      "Science 98\n",
      "Science 67\n",
      "Science 87\n",
      "Science 98\n",
      "Science 89\n",
      "Geo 98\n",
      "Geo 67\n",
      "Geo 87\n",
      "Geo 98\n",
      "Geo 89\n",
      "English 98\n",
      "English 67\n",
      "English 87\n",
      "English 98\n",
      "English 89\n",
      "Stats 98\n",
      "Stats 67\n",
      "Stats 87\n",
      "Stats 98\n",
      "Stats 89\n"
     ]
    }
   ],
   "source": [
    "for i in seq1:       # outer loop\n",
    "    for j in seq2:   # inner loop\n",
    "        print(i,j)"
   ]
  },
  {
   "cell_type": "code",
   "execution_count": 65,
   "id": "122dfefd",
   "metadata": {},
   "outputs": [
    {
     "name": "stdout",
     "output_type": "stream",
     "text": [
      "Apple Red\n",
      "Apple Yellow\n",
      "Apple Greenn\n",
      "Banana Red\n",
      "Banana Yellow\n",
      "Banana Greenn\n",
      "Orange Red\n",
      "Orange Yellow\n",
      "Orange Greenn\n"
     ]
    }
   ],
   "source": [
    "a=[\"Apple\",\"Banana\",\"Orange\"]\n",
    "b=[\"Red\",\"Yellow\",\"Greenn\"]\n",
    "for i in a:\n",
    "    for c in b:\n",
    "        print(i,c)"
   ]
  },
  {
   "cell_type": "code",
   "execution_count": 68,
   "id": "4df583b8",
   "metadata": {},
   "outputs": [
    {
     "name": "stdout",
     "output_type": "stream",
     "text": [
      "1 Odd\n",
      "2 Even\n",
      "3 Odd\n",
      "4 Even\n",
      "5 Odd\n",
      "6 Even\n",
      "7 Odd\n",
      "8 Even\n",
      "9 Odd\n"
     ]
    }
   ],
   "source": [
    "l=[1,2,3,4,5,6,7,8,9]\n",
    "for c in l:\n",
    "    if c%2 == 0:\n",
    "        print(c,\"Even\")\n",
    "    else:\n",
    "        print(c,\"Odd\")"
   ]
  },
  {
   "cell_type": "code",
   "execution_count": 69,
   "id": "f16d2cd6",
   "metadata": {},
   "outputs": [
    {
     "name": "stdout",
     "output_type": "stream",
     "text": [
      "12\n",
      "24\n",
      "36\n",
      "48\n",
      "60\n",
      "72\n",
      "84\n",
      "96\n",
      "108\n",
      "120\n"
     ]
    }
   ],
   "source": [
    "# Table of 12 -->\n",
    "for i in range(1,11):\n",
    "    print(i*12)\n",
    "    "
   ]
  },
  {
   "cell_type": "code",
   "execution_count": 74,
   "id": "59498848",
   "metadata": {},
   "outputs": [
    {
     "name": "stdout",
     "output_type": "stream",
     "text": [
      "current city: banagalore\n",
      "current city: mumbai\n",
      "current city: punjab\n"
     ]
    }
   ],
   "source": [
    "city=[\"banagalore\",\"mumbai\",\"punjab\"]\n",
    "for i in range(len(city)):\n",
    "    print(\"current city:\",city[i])"
   ]
  },
  {
   "cell_type": "code",
   "execution_count": null,
   "id": "70eea575",
   "metadata": {},
   "outputs": [],
   "source": []
  }
 ],
 "metadata": {
  "kernelspec": {
   "display_name": "Python 3",
   "language": "python",
   "name": "python3"
  },
  "language_info": {
   "codemirror_mode": {
    "name": "ipython",
    "version": 3
   },
   "file_extension": ".py",
   "mimetype": "text/x-python",
   "name": "python",
   "nbconvert_exporter": "python",
   "pygments_lexer": "ipython3",
   "version": "3.8.8"
  }
 },
 "nbformat": 4,
 "nbformat_minor": 5
}
