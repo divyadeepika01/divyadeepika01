{
 "cells": [
  {
   "cell_type": "code",
   "execution_count": 12,
   "id": "d51820af",
   "metadata": {},
   "outputs": [
    {
     "name": "stdout",
     "output_type": "stream",
     "text": [
      "[4, 2, 99, 7, 30, 12, 15]\n",
      "[2, 4, 7, 12, 15, 30, 99]\n"
     ]
    }
   ],
   "source": [
    "import random \n",
    "def selection_sort(some_list):\n",
    "\n",
    "    for current_index in range(len(some_list) - 1):\n",
    "        smallest_item_index = current_index\n",
    "        for index in range(current_index, len(some_list)):\n",
    "            if some_list[index] < some_list[smallest_item_index]:\n",
    "                smallest_item_index = index\n",
    "        temp = some_list[current_index]\n",
    "        some_list[current_index] = some_list[smallest_item_index]\n",
    "        some_list[smallest_item_index] = temp\n",
    "\n",
    "        \n",
    "# insertion sort\n",
    "# best case - already sorted O(n)\n",
    "# worst case - O(n^2)\n",
    "# average - O(n^2)\n",
    "def insertion_sort(some_list):\n",
    "    for index_to_sort in range(1, len(some_list)):\n",
    "        current_index = index_to_sort\n",
    "        while current_index > 0 and some_list[current_index] < some_list[current_index - 1]:\n",
    "            temp = some_list[current_index]\n",
    "            some_list[current_index] = some_list[current_index -1]\n",
    "            some_list[current_index - 1] = temp\n",
    "            current_index -= 1\n",
    "\n",
    "# priority queue ( heap sort ) O ( n log n )\n",
    "# binary search tree O ( n log n )\n",
    "\n",
    "\n",
    "values = [ 4, 2, 99, 7, 30, 12, 15]\n",
    "print(values)\n",
    "insertion_sort(values)\n",
    "print(values)"
   ]
  },
  {
   "cell_type": "code",
   "execution_count": 13,
   "id": "aaf0d306",
   "metadata": {},
   "outputs": [
    {
     "name": "stdout",
     "output_type": "stream",
     "text": [
      "9215\n",
      "8765\n",
      "8570\n",
      "8108\n",
      "7773\n",
      "6956\n",
      "3836\n",
      "1718\n",
      "1438\n",
      "6912\n"
     ]
    }
   ],
   "source": [
    "class MaxPriorityQueue:\n",
    "\n",
    "    def __init__(self):\n",
    "        self._data = []\n",
    "\n",
    "    def __len__(self):\n",
    "        return len(self._data)\n",
    "\n",
    "    def is_empty(self):\n",
    "        return len(self) == 0\n",
    "\n",
    "    # O(log(n))\n",
    "    def enqueue(self, data):\n",
    "        self._data.append(data)\n",
    "        self._upheap(len(self._data) - 1)\n",
    "\n",
    "    # O(1)\n",
    "    def front(self):\n",
    "        return self._data[0]\n",
    "\n",
    "    # O(log(n))\n",
    "    def dequeue(self):\n",
    "        data = self._data[0]\n",
    "        value = self._data.pop()\n",
    "        if len(self._data) > 0:\n",
    "            self._data[0] = value\n",
    "            self._downheap(0)\n",
    "        return data\n",
    "\n",
    "    def _downheap(self, index):\n",
    "\n",
    "        if index < len(self._data):\n",
    "            right_index = self._right(index)\n",
    "            left_index = self._left(index)\n",
    "            smallest_child_index = None\n",
    "\n",
    "            if left_index < len(self._data):\n",
    "                smallest_child_index = left_index\n",
    "\n",
    "            if right_index < len(self._data):\n",
    "                if self._data[right_index] > self._data[smallest_child_index]:\n",
    "                    smallest_child_index = right_index\n",
    "\n",
    "            if smallest_child_index is not None:\n",
    "                temp = self._data[index]\n",
    "                self._data[index] = self._data[smallest_child_index]\n",
    "                self._data[smallest_child_index] = temp\n",
    "                self._downheap(smallest_child_index)\n",
    "\n",
    "    def _upheap(self, index):\n",
    "        if index != 0:\n",
    "            parent_index = self._parent(index)\n",
    "            if self._data[index] > self._data[parent_index]:\n",
    "                temp = self._data[index]\n",
    "                self._data[index] = self._data[parent_index]\n",
    "                self._data[parent_index] = temp\n",
    "                self._upheap(parent_index)\n",
    "\n",
    "\n",
    "\n",
    "    def _parent(self, index):\n",
    "        return ( index + 1 ) // 2 - 1\n",
    "\n",
    "    def _left(self, index):\n",
    "        return index * 2 + 1\n",
    "\n",
    "    def _right(self, index):\n",
    "        return index * 2 + 2\n",
    "\n",
    "\n",
    "\n",
    "priority_queue = MaxPriorityQueue()\n",
    "for number in range(10):\n",
    "    priority_queue.enqueue(random.randint(1000, 10000))\n",
    "\n",
    "while not priority_queue.is_empty():\n",
    "    print(priority_queue.dequeue())"
   ]
  },
  {
   "cell_type": "code",
   "execution_count": 14,
   "id": "e24a82d5",
   "metadata": {},
   "outputs": [
    {
     "name": "stdout",
     "output_type": "stream",
     "text": [
      "2\n",
      "4\n",
      "7\n",
      "9\n",
      "10\n",
      "11\n",
      "12\n",
      "2\n",
      "4\n",
      "9\n",
      "10\n",
      "12\n"
     ]
    }
   ],
   "source": [
    "class BinarySearchTree:\n",
    "\n",
    "    class Node:\n",
    "\n",
    "        def __init__(self, data, parent=None, left=None, right=None):\n",
    "            self.data = data\n",
    "            self.parent = parent\n",
    "            self.left = left\n",
    "            self.right = right\n",
    "\n",
    "    class Position:\n",
    "\n",
    "        def __init__(self, container, node):\n",
    "            self.container = container\n",
    "            self.node = node\n",
    "\n",
    "        def data(self):\n",
    "            return self.node.data\n",
    "\n",
    "        def __eq__(self, other):\n",
    "            return type(other) is type(self) and other.node is self.node\n",
    "\n",
    "    def _validate(self, position):\n",
    "        if not isinstance(position, self.Position):\n",
    "            raise TypeError()\n",
    "        if position.container is not self:\n",
    "            raise ValueError()\n",
    "        if position.node.parent is position.node:  # convention for deprecated node\n",
    "            raise ValueError()\n",
    "        return position.node # ERROR WAS HERE - missed a return\n",
    "\n",
    "    def _make_position(self, node):\n",
    "        return self.Position(self, node) if node is not None else None\n",
    "\n",
    "    def __init__(self):\n",
    "        self._root = None\n",
    "        self._size = 0\n",
    "\n",
    "    def __len__(self):\n",
    "        return self._size\n",
    "\n",
    "    def root(self):\n",
    "        return self._make_position(self._root)\n",
    "\n",
    "    def parent(self, position):\n",
    "        node = self._validate(position)\n",
    "        return self._make_position(node.parent)\n",
    "\n",
    "    def left(self, position):\n",
    "        node = self._validate(position)\n",
    "        return self._make_position(node.left)\n",
    "\n",
    "    def right(self, position):\n",
    "        node = self._validate(position)\n",
    "        return self._make_position(node.right)\n",
    "\n",
    "    def num_children(self, position):\n",
    "        children = 0\n",
    "        if self.left(position) is not None:\n",
    "            children += 1\n",
    "        if self.right(position) is not None:\n",
    "            children += 1\n",
    "        return children\n",
    "\n",
    "    # average ( if we can be somewhat balanced ) O( log(n) )\n",
    "    def add(self, data):\n",
    "        if self._root is None:\n",
    "            self._root = self.Node(data)\n",
    "            self._size += 1\n",
    "        else:\n",
    "            self._add(data, self.root())\n",
    "\n",
    "    def _add(self, data, position):\n",
    "        node = self._validate(position)\n",
    "\n",
    "        # less than to the left\n",
    "        if data < node.data:\n",
    "            if node.left is None:\n",
    "                node.left = self.Node(data, node)\n",
    "                self._size += 1\n",
    "            else:\n",
    "                self._add(data, self._make_position(node.left))\n",
    "        elif data > node.data:\n",
    "            if node.right is None:\n",
    "                node.right = self.Node(data, node)\n",
    "                self._size += 1\n",
    "            else:\n",
    "                self._add(data, self._make_position(node.right))\n",
    "        else:\n",
    "            raise ValueError(\"data already in tree\")\n",
    "\n",
    "    # worst case - chain - O(n)\n",
    "    # best case - O(1)\n",
    "    # average ( if we can be somewhat balanced ) O( log(n) )\n",
    "    def contains(self, data):\n",
    "        if self._root is None:\n",
    "            raise ValueError(\"empty\")\n",
    "        return self._contains(data, self.root())\n",
    "\n",
    "    # average ( if we can be somewhat balanced ) O( log(n) )\n",
    "    def remove(self, data):\n",
    "        position = self._get_position(data, self.root())\n",
    "        if position is None:\n",
    "            raise ValueError(\"data not in tree\")\n",
    "\n",
    "        self._size -= 1\n",
    "\n",
    "        if self.num_children(position) == 0:\n",
    "            node = self._validate(position)\n",
    "            if node == node.parent.left:\n",
    "                node.parent.left = None\n",
    "            elif node == node.parent.right:\n",
    "                node.parent.right = None\n",
    "            node.parent = node # invalidate\n",
    "\n",
    "        elif self.num_children(position) == 1:\n",
    "            node = self._validate(position)\n",
    "\n",
    "            child = node.left\n",
    "            if child is None:\n",
    "                child = node.right\n",
    "\n",
    "            if node == node.parent.left:\n",
    "                node.parent.left = child\n",
    "            elif node == node.parent.right:\n",
    "                node.parent.right = child\n",
    "\n",
    "            node.parent = node  # invalidate\n",
    "\n",
    "        # two children\n",
    "        else:\n",
    "            next_descendant = self.right(position)\n",
    "            while self.left(next_descendant) is not None:\n",
    "                next_descendant = self.left(next_descendant)\n",
    "\n",
    "            node_to_remove = self._validate(position)\n",
    "\n",
    "            next_descendant_node = self._validate(next_descendant)\n",
    "\n",
    "            node_to_remove.data = next_descendant_node.data\n",
    "\n",
    "            if next_descendant_node.parent.right == next_descendant_node:\n",
    "                next_descendant_node.parent.right = next_descendant_node.right\n",
    "\n",
    "            else:\n",
    "                next_descendant_node.parent.left = next_descendant_node.right\n",
    "\n",
    "            if next_descendant_node.right is not None:\n",
    "                next_descendant_node.right.parent = next_descendant_node.parent\n",
    "\n",
    "    def _get_position(self, data, current_position):\n",
    "        node = self._validate(current_position)\n",
    "        if node is None:\n",
    "            return None\n",
    "        if data == node.data:\n",
    "            return current_position\n",
    "        if data < node.data:\n",
    "            return self._get_position(data, self.left(current_position))\n",
    "        return self._get_position(data, self.right(current_position))\n",
    "\n",
    "    def _contains(self, data, position):\n",
    "        node = self._validate(position)\n",
    "        if node is None:\n",
    "            return False\n",
    "        if data == node.data:\n",
    "            return True\n",
    "        if data < node.data:\n",
    "            return self._contains(data, self._make_position(node.left))\n",
    "        # if data > node.data\n",
    "        return self._contains(data, self._make_position(node.right))\n",
    "\n",
    "    def _in_order_traversal(self, position):\n",
    "        if self.left(position) is not None:\n",
    "            for value in self._in_order_traversal(self.left(position)):\n",
    "                yield value\n",
    "        yield position.data()\n",
    "        if self.right(position) is not None:\n",
    "            for value in self._in_order_traversal(self.right(position)):\n",
    "                yield value\n",
    "\n",
    "    def __iter__(self):\n",
    "        for value in self._in_order_traversal(self.root()):\n",
    "            yield value\n",
    "\n",
    "tree = BinarySearchTree()\n",
    "tree.add(7)\n",
    "tree.add(4)\n",
    "tree.add(11)\n",
    "tree.add(2)\n",
    "tree.add(10)\n",
    "tree.add(9)\n",
    "tree.add(12)\n",
    "\n",
    "for value in tree:\n",
    "    print(value)\n",
    "\n",
    "tree.remove(11)\n",
    "tree.remove(7)\n",
    "\n",
    "for value in tree:\n",
    "    print(value)"
   ]
  },
  {
   "cell_type": "markdown",
   "id": "8db9912b",
   "metadata": {},
   "source": [
    "# Comparing the performance of different sorting algorithms:\n",
    "\n",
    "### 1.) Insertion Sort "
   ]
  },
  {
   "cell_type": "code",
   "execution_count": 15,
   "id": "b8578dfe",
   "metadata": {},
   "outputs": [],
   "source": [
    "from random import randint\n",
    "from timeit import repeat\n",
    "\n",
    "def run_sorting_algorithm(algorithm, array):\n",
    "    # Set up the context and prepare the call to the specified\n",
    "    # algorithm using the supplied array. import the\n",
    "    # algorithm function \n",
    "    setup_code = f\"from __main__ import {algorithm}\" \n",
    "    if algorithm != \"sorted\" :\n",
    "        stmt = f\"({array})\"\n",
    "\n",
    "    # Execute the code ten different times and return the time\n",
    "    # in seconds that each execution took\n",
    "    times = repeat(setup=setup_code, stmt=stmt, repeat=3, number=10)\n",
    "\n",
    "    # Finally, display the name of the algorithm and the\n",
    "    # minimum time it took to run\n",
    "    print(f\"Algorithm: {algorithm}. Minimum execution time: {min(times)}\")"
   ]
  },
  {
   "cell_type": "code",
   "execution_count": 16,
   "id": "59cd2be3",
   "metadata": {},
   "outputs": [
    {
     "name": "stdout",
     "output_type": "stream",
     "text": [
      "Algorithm: insertion_sort. Minimum execution time: 0.0017141000000009399\n"
     ]
    }
   ],
   "source": [
    "ARRAY_LENGTH = range(1000,10000)\n",
    "if __name__ == \"__main__\":\n",
    "    # Generate an array of `ARRAY_LENGTH` items consisting\n",
    "    # of random integer values between 1000 and 10000\n",
    "    array = [randint(1000, 10000) for i in ARRAY_LENGTH]\n",
    "\n",
    "    # Call the function using the name of the sorting algorithm\n",
    "    # and the array you just created\n",
    "    run_sorting_algorithm(algorithm=\"insertion_sort\", array=array)\n"
   ]
  },
  {
   "cell_type": "markdown",
   "id": "74ca45b9",
   "metadata": {},
   "source": [
    "### 2.) Selection_sort :"
   ]
  },
  {
   "cell_type": "code",
   "execution_count": 17,
   "id": "499402a5",
   "metadata": {},
   "outputs": [
    {
     "name": "stdout",
     "output_type": "stream",
     "text": [
      "Algorithm: selection_sort. Minimum execution time: 0.0017588999999986754\n"
     ]
    }
   ],
   "source": [
    "ARRAY_LENGTH = range(1000,10000)\n",
    "\n",
    "if __name__ == \"__main__\":\n",
    "    \n",
    "    array = [randint(1000, 10000) for i in ARRAY_LENGTH]\n",
    "\n",
    "    run_sorting_algorithm(algorithm=\"selection_sort\", array=array)\n"
   ]
  },
  {
   "cell_type": "markdown",
   "id": "958d46eb",
   "metadata": {},
   "source": [
    "### 3.) BinarySearchTree:"
   ]
  },
  {
   "cell_type": "code",
   "execution_count": 18,
   "id": "bd34db69",
   "metadata": {},
   "outputs": [
    {
     "name": "stdout",
     "output_type": "stream",
     "text": [
      "Algorithm: BinarySearchTree. Minimum execution time: 0.0017222999999972899\n"
     ]
    }
   ],
   "source": [
    "if __name__ == \"__main__\":\n",
    "\n",
    "    array = [randint(1000, 10000) for i in ARRAY_LENGTH]\n",
    "\n",
    "    run_sorting_algorithm(algorithm=\"BinarySearchTree\", array=array)\n"
   ]
  },
  {
   "cell_type": "markdown",
   "id": "acec0e65",
   "metadata": {},
   "source": [
    "### 4.) Heap_sort () :"
   ]
  },
  {
   "cell_type": "code",
   "execution_count": 19,
   "id": "16383cac",
   "metadata": {},
   "outputs": [
    {
     "name": "stdout",
     "output_type": "stream",
     "text": [
      "Algorithm: MaxPriorityQueue. Minimum execution time: 0.0017782000000039488\n"
     ]
    }
   ],
   "source": [
    "if __name__ == \"__main__\":\n",
    "    \n",
    "    array = [randint(1000, 10000) for i in ARRAY_LENGTH]\n",
    "\n",
    "    run_sorting_algorithm(algorithm=\"MaxPriorityQueue\", array=array)\n"
   ]
  },
  {
   "cell_type": "markdown",
   "id": "17184546",
   "metadata": {},
   "source": [
    "### Built - in sort():"
   ]
  },
  {
   "cell_type": "code",
   "execution_count": 20,
   "id": "8dd21017",
   "metadata": {},
   "outputs": [],
   "source": [
    "def run_sorting_algorithm(algorithm, array):\n",
    "    \n",
    "    setup_code = f\"{algorithm}\" \n",
    "    if algorithm != \"sorted\" :\n",
    "        stmt = f\"({array})\"\n",
    "    else:\n",
    "        stmt = f\"({array})\"\n",
    "    \n",
    "    times = repeat(setup=setup_code, stmt=stmt, repeat=3, number=10)\n",
    "    print(f\"Algorithm: {algorithm}. Minimum execution time: {min(times)}\")"
   ]
  },
  {
   "cell_type": "code",
   "execution_count": 21,
   "id": "d09354e5",
   "metadata": {},
   "outputs": [
    {
     "name": "stdout",
     "output_type": "stream",
     "text": [
      "Algorithm: sorted. Minimum execution time: 0.0017021000000028152\n"
     ]
    }
   ],
   "source": [
    "array = [randint(1000, 10000) for i in ARRAY_LENGTH]\n",
    "run_sorting_algorithm(algorithm=\"sorted\", array=array)\n"
   ]
  },
  {
   "cell_type": "code",
   "execution_count": null,
   "id": "0541cb6c",
   "metadata": {},
   "outputs": [],
   "source": []
  },
  {
   "cell_type": "code",
   "execution_count": null,
   "id": "8eabef9b",
   "metadata": {},
   "outputs": [],
   "source": []
  }
 ],
 "metadata": {
  "kernelspec": {
   "display_name": "Python 3",
   "language": "python",
   "name": "python3"
  },
  "language_info": {
   "codemirror_mode": {
    "name": "ipython",
    "version": 3
   },
   "file_extension": ".py",
   "mimetype": "text/x-python",
   "name": "python",
   "nbconvert_exporter": "python",
   "pygments_lexer": "ipython3",
   "version": "3.8.8"
  }
 },
 "nbformat": 4,
 "nbformat_minor": 5
}
